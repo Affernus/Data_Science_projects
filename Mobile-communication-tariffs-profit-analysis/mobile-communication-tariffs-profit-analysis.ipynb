{
 "cells": [
  {
   "cell_type": "raw",
   "metadata": {},
   "source": [
    "<!кнопка скрытия кода при экспорте в html>\n",
    "<script>\n",
    "  function code_toggle() {\n",
    "    if (code_shown){\n",
    "      $('div.input').hide('500');\n",
    "      $('#toggleButton').val('Show Code')\n",
    "    } else {\n",
    "      $('div.input').show('500');\n",
    "      $('#toggleButton').val('Hide Code')\n",
    "    }\n",
    "    code_shown = !code_shown\n",
    "  }\n",
    "\n",
    "  $( document ).ready(function(){\n",
    "    code_shown=false;\n",
    "    $('div.input').hide()\n",
    "  });\n",
    "</script>\n",
    "<form action=\"javascript:code_toggle()\">\n",
    "  <input type=\"submit\" id=\"toggleButton\" value=\"Show Code\">\n",
    "</form>"
   ]
  },
  {
   "cell_type": "markdown",
   "metadata": {},
   "source": [
    "<h1 style=\"color:SteelBlue; font-size:200%\">Сравнительный анализ доходности тарифов сотовой связи </h1>"
   ]
  },
  {
   "cell_type": "markdown",
   "metadata": {},
   "source": [
    "Задача: на небольшой выборке клиентов сравнить доходность двух тарифов сотовой связи. Нужно проанализировать поведение клиентов и определить, какой тариф приносит компании больший доход. В распоряжении - данные о действиях 500 пользователей."
   ]
  },
  {
   "cell_type": "markdown",
   "metadata": {},
   "source": [
    "Данные разделены на несколько наборов:\n",
    "- *users* - информация о пользователях\n",
    "- *calls* - информация о звонках\n",
    "- *messages* - информация о сообщениях\n",
    "- *internet* - информация об интернет-сессиях\n",
    "- *tariffs* - информация о тарифах"
   ]
  },
  {
   "cell_type": "markdown",
   "metadata": {},
   "source": [
    "План:\n",
    "- разведочный анализ данных\n",
    "    - просмотр датасетов и общей информации, выявление проблем\n",
    "    - анализ: какие города, возрасты, тарифные планы представлены, есть ли выбросы/аномалии в данных\n",
    "\n",
    "\n",
    "- очистка и дополнение данных, исправление ошибок\n",
    "    - очистка дублей\n",
    "    - замена типов\n",
    "    - анализ/заполнение пропусков\n",
    "    - исправление ошибок\n",
    "\n",
    "\n",
    "- подготовка данных для анализа\n",
    "    - расчёт недостающих значений\n",
    "    - группировка по месяцам и пользователям: суммарное время звонков, число сообщений, объём интернет траффика для каждого пользователя по месяцам\n",
    "    - объединение данных в общую таблицу\n",
    "    - расчёт превышения лимитов по тарифу для каждого месяца и клиента\n",
    "    - расчёт доплат и общей суммы прибыли, полученный в каждом месяце с каждого клиента \n",
    "\n",
    "\n",
    "- анализ данных\n",
    "    - построение и анализ графиков\n",
    "    - сравнение тарифов\n",
    "\n",
    "\n",
    "- общий вывод"
   ]
  },
  {
   "cell_type": "markdown",
   "metadata": {},
   "source": [
    "Анализ будет основан на сравнении двух выборок (одна - для тарифа смарт, другая - для тарифа ультра). Значение каждого элемента выборки - месячные затраты клиента на услуги сотовой связи, а также - число минут разговора, объём траффика и число смс. Статистический метод сравнения среднегодовых выручек по разным тарифам будет зависет от характера распределия, которое покажут данные. Если будет близкое к нормальному закону, можно использовать t-тест. Если нет - можно воспользоваться перестановочным тестом, либо непараметрическим критерием (например, критерием Манна-Уитни)"
   ]
  },
  {
   "cell_type": "code",
   "execution_count": 1,
   "metadata": {},
   "outputs": [],
   "source": [
    "import pandas as pd\n",
    "import numpy as np\n",
    "\n",
    "from scipy import stats\n",
    "import statsmodels.api\n",
    "\n",
    "import matplotlib.pyplot as plt\n",
    "import seaborn as sns\n",
    "\n",
    "sns.set(style=\"whitegrid\")\n",
    "palette = {'smart':'c', 'ultra':'r'}\n",
    "#pd.options.mode.chained_assignment = None  # default='warn'"
   ]
  },
  {
   "cell_type": "markdown",
   "metadata": {},
   "source": [
    "<h1 style=\"color:SteelBlue\"> 1. Разведочный анализ данных</h1>"
   ]
  },
  {
   "cell_type": "code",
   "execution_count": 4,
   "metadata": {},
   "outputs": [],
   "source": [
    "link='C:/Users/Affernus/JupiterNotebooks/datasets/megaline/'\n",
    "users_df = pd.read_csv(link+'users.csv')\n",
    "calls_df = pd.read_csv(link+'calls.csv')\n",
    "sms_df = pd.read_csv(link+'messages.csv')\n",
    "inet_df = pd.read_csv(link+'internet.csv')\n",
    "tariffs_df = pd.read_csv(link+'tariffs.csv')"
   ]
  },
  {
   "cell_type": "markdown",
   "metadata": {},
   "source": [
    "<h2 style=\"color:DodgerBlue\">1.1 Общая информация</h2>"
   ]
  },
  {
   "cell_type": "code",
   "execution_count": 5,
   "metadata": {},
   "outputs": [
    {
     "data": {
      "text/plain": [
       "'Тарифы:'"
      ]
     },
     "metadata": {},
     "output_type": "display_data"
    },
    {
     "data": {
      "text/html": [
       "<div>\n",
       "<style scoped>\n",
       "    .dataframe tbody tr th:only-of-type {\n",
       "        vertical-align: middle;\n",
       "    }\n",
       "\n",
       "    .dataframe tbody tr th {\n",
       "        vertical-align: top;\n",
       "    }\n",
       "\n",
       "    .dataframe thead th {\n",
       "        text-align: right;\n",
       "    }\n",
       "</style>\n",
       "<table border=\"1\" class=\"dataframe\">\n",
       "  <thead>\n",
       "    <tr style=\"text-align: right;\">\n",
       "      <th></th>\n",
       "      <th>messages_included</th>\n",
       "      <th>mb_per_month_included</th>\n",
       "      <th>minutes_included</th>\n",
       "      <th>rub_monthly_fee</th>\n",
       "      <th>rub_per_gb</th>\n",
       "      <th>rub_per_message</th>\n",
       "      <th>rub_per_minute</th>\n",
       "      <th>tariff_name</th>\n",
       "    </tr>\n",
       "  </thead>\n",
       "  <tbody>\n",
       "    <tr>\n",
       "      <th>0</th>\n",
       "      <td>50</td>\n",
       "      <td>15360</td>\n",
       "      <td>500</td>\n",
       "      <td>550</td>\n",
       "      <td>200</td>\n",
       "      <td>3</td>\n",
       "      <td>3</td>\n",
       "      <td>smart</td>\n",
       "    </tr>\n",
       "    <tr>\n",
       "      <th>1</th>\n",
       "      <td>1000</td>\n",
       "      <td>30720</td>\n",
       "      <td>3000</td>\n",
       "      <td>1950</td>\n",
       "      <td>150</td>\n",
       "      <td>1</td>\n",
       "      <td>1</td>\n",
       "      <td>ultra</td>\n",
       "    </tr>\n",
       "  </tbody>\n",
       "</table>\n",
       "</div>"
      ],
      "text/plain": [
       "   messages_included  mb_per_month_included  minutes_included  \\\n",
       "0                 50                  15360               500   \n",
       "1               1000                  30720              3000   \n",
       "\n",
       "   rub_monthly_fee  rub_per_gb  rub_per_message  rub_per_minute tariff_name  \n",
       "0              550         200                3               3       smart  \n",
       "1             1950         150                1               1       ultra  "
      ]
     },
     "metadata": {},
     "output_type": "display_data"
    }
   ],
   "source": [
    "display('Тарифы:', tariffs_df)"
   ]
  },
  {
   "cell_type": "code",
   "execution_count": 6,
   "metadata": {},
   "outputs": [
    {
     "data": {
      "text/plain": [
       "'Пользователи:'"
      ]
     },
     "metadata": {},
     "output_type": "display_data"
    },
    {
     "data": {
      "text/html": [
       "<div>\n",
       "<style scoped>\n",
       "    .dataframe tbody tr th:only-of-type {\n",
       "        vertical-align: middle;\n",
       "    }\n",
       "\n",
       "    .dataframe tbody tr th {\n",
       "        vertical-align: top;\n",
       "    }\n",
       "\n",
       "    .dataframe thead th {\n",
       "        text-align: right;\n",
       "    }\n",
       "</style>\n",
       "<table border=\"1\" class=\"dataframe\">\n",
       "  <thead>\n",
       "    <tr style=\"text-align: right;\">\n",
       "      <th></th>\n",
       "      <th>user_id</th>\n",
       "      <th>age</th>\n",
       "      <th>churn_date</th>\n",
       "      <th>city</th>\n",
       "      <th>first_name</th>\n",
       "      <th>last_name</th>\n",
       "      <th>reg_date</th>\n",
       "      <th>tariff</th>\n",
       "    </tr>\n",
       "  </thead>\n",
       "  <tbody>\n",
       "    <tr>\n",
       "      <th>0</th>\n",
       "      <td>1000</td>\n",
       "      <td>52</td>\n",
       "      <td>NaN</td>\n",
       "      <td>Краснодар</td>\n",
       "      <td>Рафаил</td>\n",
       "      <td>Верещагин</td>\n",
       "      <td>2018-05-25</td>\n",
       "      <td>ultra</td>\n",
       "    </tr>\n",
       "    <tr>\n",
       "      <th>1</th>\n",
       "      <td>1001</td>\n",
       "      <td>41</td>\n",
       "      <td>NaN</td>\n",
       "      <td>Москва</td>\n",
       "      <td>Иван</td>\n",
       "      <td>Ежов</td>\n",
       "      <td>2018-11-01</td>\n",
       "      <td>smart</td>\n",
       "    </tr>\n",
       "    <tr>\n",
       "      <th>2</th>\n",
       "      <td>1002</td>\n",
       "      <td>59</td>\n",
       "      <td>NaN</td>\n",
       "      <td>Стерлитамак</td>\n",
       "      <td>Евгений</td>\n",
       "      <td>Абрамович</td>\n",
       "      <td>2018-06-17</td>\n",
       "      <td>smart</td>\n",
       "    </tr>\n",
       "    <tr>\n",
       "      <th>3</th>\n",
       "      <td>1003</td>\n",
       "      <td>23</td>\n",
       "      <td>NaN</td>\n",
       "      <td>Москва</td>\n",
       "      <td>Белла</td>\n",
       "      <td>Белякова</td>\n",
       "      <td>2018-08-17</td>\n",
       "      <td>ultra</td>\n",
       "    </tr>\n",
       "    <tr>\n",
       "      <th>4</th>\n",
       "      <td>1004</td>\n",
       "      <td>68</td>\n",
       "      <td>NaN</td>\n",
       "      <td>Новокузнецк</td>\n",
       "      <td>Татьяна</td>\n",
       "      <td>Авдеенко</td>\n",
       "      <td>2018-05-14</td>\n",
       "      <td>ultra</td>\n",
       "    </tr>\n",
       "  </tbody>\n",
       "</table>\n",
       "</div>"
      ],
      "text/plain": [
       "   user_id  age churn_date         city first_name  last_name    reg_date  \\\n",
       "0     1000   52        NaN    Краснодар     Рафаил  Верещагин  2018-05-25   \n",
       "1     1001   41        NaN       Москва       Иван       Ежов  2018-11-01   \n",
       "2     1002   59        NaN  Стерлитамак    Евгений  Абрамович  2018-06-17   \n",
       "3     1003   23        NaN       Москва      Белла   Белякова  2018-08-17   \n",
       "4     1004   68        NaN  Новокузнецк    Татьяна   Авдеенко  2018-05-14   \n",
       "\n",
       "  tariff  \n",
       "0  ultra  \n",
       "1  smart  \n",
       "2  smart  \n",
       "3  ultra  \n",
       "4  ultra  "
      ]
     },
     "metadata": {},
     "output_type": "display_data"
    },
    {
     "data": {
      "text/plain": [
       "'Звонки:'"
      ]
     },
     "metadata": {},
     "output_type": "display_data"
    },
    {
     "data": {
      "text/html": [
       "<div>\n",
       "<style scoped>\n",
       "    .dataframe tbody tr th:only-of-type {\n",
       "        vertical-align: middle;\n",
       "    }\n",
       "\n",
       "    .dataframe tbody tr th {\n",
       "        vertical-align: top;\n",
       "    }\n",
       "\n",
       "    .dataframe thead th {\n",
       "        text-align: right;\n",
       "    }\n",
       "</style>\n",
       "<table border=\"1\" class=\"dataframe\">\n",
       "  <thead>\n",
       "    <tr style=\"text-align: right;\">\n",
       "      <th></th>\n",
       "      <th>id</th>\n",
       "      <th>call_date</th>\n",
       "      <th>duration</th>\n",
       "      <th>user_id</th>\n",
       "    </tr>\n",
       "  </thead>\n",
       "  <tbody>\n",
       "    <tr>\n",
       "      <th>0</th>\n",
       "      <td>1000_0</td>\n",
       "      <td>2018-07-25</td>\n",
       "      <td>0.00</td>\n",
       "      <td>1000</td>\n",
       "    </tr>\n",
       "    <tr>\n",
       "      <th>1</th>\n",
       "      <td>1000_1</td>\n",
       "      <td>2018-08-17</td>\n",
       "      <td>0.00</td>\n",
       "      <td>1000</td>\n",
       "    </tr>\n",
       "    <tr>\n",
       "      <th>2</th>\n",
       "      <td>1000_2</td>\n",
       "      <td>2018-06-11</td>\n",
       "      <td>2.85</td>\n",
       "      <td>1000</td>\n",
       "    </tr>\n",
       "    <tr>\n",
       "      <th>3</th>\n",
       "      <td>1000_3</td>\n",
       "      <td>2018-09-21</td>\n",
       "      <td>13.80</td>\n",
       "      <td>1000</td>\n",
       "    </tr>\n",
       "    <tr>\n",
       "      <th>4</th>\n",
       "      <td>1000_4</td>\n",
       "      <td>2018-12-15</td>\n",
       "      <td>5.18</td>\n",
       "      <td>1000</td>\n",
       "    </tr>\n",
       "  </tbody>\n",
       "</table>\n",
       "</div>"
      ],
      "text/plain": [
       "       id   call_date  duration  user_id\n",
       "0  1000_0  2018-07-25      0.00     1000\n",
       "1  1000_1  2018-08-17      0.00     1000\n",
       "2  1000_2  2018-06-11      2.85     1000\n",
       "3  1000_3  2018-09-21     13.80     1000\n",
       "4  1000_4  2018-12-15      5.18     1000"
      ]
     },
     "metadata": {},
     "output_type": "display_data"
    },
    {
     "data": {
      "text/plain": [
       "'СМС:'"
      ]
     },
     "metadata": {},
     "output_type": "display_data"
    },
    {
     "data": {
      "text/html": [
       "<div>\n",
       "<style scoped>\n",
       "    .dataframe tbody tr th:only-of-type {\n",
       "        vertical-align: middle;\n",
       "    }\n",
       "\n",
       "    .dataframe tbody tr th {\n",
       "        vertical-align: top;\n",
       "    }\n",
       "\n",
       "    .dataframe thead th {\n",
       "        text-align: right;\n",
       "    }\n",
       "</style>\n",
       "<table border=\"1\" class=\"dataframe\">\n",
       "  <thead>\n",
       "    <tr style=\"text-align: right;\">\n",
       "      <th></th>\n",
       "      <th>id</th>\n",
       "      <th>message_date</th>\n",
       "      <th>user_id</th>\n",
       "    </tr>\n",
       "  </thead>\n",
       "  <tbody>\n",
       "    <tr>\n",
       "      <th>0</th>\n",
       "      <td>1000_0</td>\n",
       "      <td>2018-06-27</td>\n",
       "      <td>1000</td>\n",
       "    </tr>\n",
       "    <tr>\n",
       "      <th>1</th>\n",
       "      <td>1000_1</td>\n",
       "      <td>2018-10-08</td>\n",
       "      <td>1000</td>\n",
       "    </tr>\n",
       "    <tr>\n",
       "      <th>2</th>\n",
       "      <td>1000_2</td>\n",
       "      <td>2018-08-04</td>\n",
       "      <td>1000</td>\n",
       "    </tr>\n",
       "    <tr>\n",
       "      <th>3</th>\n",
       "      <td>1000_3</td>\n",
       "      <td>2018-06-16</td>\n",
       "      <td>1000</td>\n",
       "    </tr>\n",
       "    <tr>\n",
       "      <th>4</th>\n",
       "      <td>1000_4</td>\n",
       "      <td>2018-12-05</td>\n",
       "      <td>1000</td>\n",
       "    </tr>\n",
       "  </tbody>\n",
       "</table>\n",
       "</div>"
      ],
      "text/plain": [
       "       id message_date  user_id\n",
       "0  1000_0   2018-06-27     1000\n",
       "1  1000_1   2018-10-08     1000\n",
       "2  1000_2   2018-08-04     1000\n",
       "3  1000_3   2018-06-16     1000\n",
       "4  1000_4   2018-12-05     1000"
      ]
     },
     "metadata": {},
     "output_type": "display_data"
    },
    {
     "data": {
      "text/plain": [
       "'Траффик:'"
      ]
     },
     "metadata": {},
     "output_type": "display_data"
    },
    {
     "data": {
      "text/html": [
       "<div>\n",
       "<style scoped>\n",
       "    .dataframe tbody tr th:only-of-type {\n",
       "        vertical-align: middle;\n",
       "    }\n",
       "\n",
       "    .dataframe tbody tr th {\n",
       "        vertical-align: top;\n",
       "    }\n",
       "\n",
       "    .dataframe thead th {\n",
       "        text-align: right;\n",
       "    }\n",
       "</style>\n",
       "<table border=\"1\" class=\"dataframe\">\n",
       "  <thead>\n",
       "    <tr style=\"text-align: right;\">\n",
       "      <th></th>\n",
       "      <th>Unnamed: 0</th>\n",
       "      <th>id</th>\n",
       "      <th>mb_used</th>\n",
       "      <th>session_date</th>\n",
       "      <th>user_id</th>\n",
       "    </tr>\n",
       "  </thead>\n",
       "  <tbody>\n",
       "    <tr>\n",
       "      <th>0</th>\n",
       "      <td>0</td>\n",
       "      <td>1000_0</td>\n",
       "      <td>112.95</td>\n",
       "      <td>2018-11-25</td>\n",
       "      <td>1000</td>\n",
       "    </tr>\n",
       "    <tr>\n",
       "      <th>1</th>\n",
       "      <td>1</td>\n",
       "      <td>1000_1</td>\n",
       "      <td>1052.81</td>\n",
       "      <td>2018-09-07</td>\n",
       "      <td>1000</td>\n",
       "    </tr>\n",
       "    <tr>\n",
       "      <th>2</th>\n",
       "      <td>2</td>\n",
       "      <td>1000_2</td>\n",
       "      <td>1197.26</td>\n",
       "      <td>2018-06-25</td>\n",
       "      <td>1000</td>\n",
       "    </tr>\n",
       "    <tr>\n",
       "      <th>3</th>\n",
       "      <td>3</td>\n",
       "      <td>1000_3</td>\n",
       "      <td>550.27</td>\n",
       "      <td>2018-08-22</td>\n",
       "      <td>1000</td>\n",
       "    </tr>\n",
       "    <tr>\n",
       "      <th>4</th>\n",
       "      <td>4</td>\n",
       "      <td>1000_4</td>\n",
       "      <td>302.56</td>\n",
       "      <td>2018-09-24</td>\n",
       "      <td>1000</td>\n",
       "    </tr>\n",
       "  </tbody>\n",
       "</table>\n",
       "</div>"
      ],
      "text/plain": [
       "   Unnamed: 0      id  mb_used session_date  user_id\n",
       "0           0  1000_0   112.95   2018-11-25     1000\n",
       "1           1  1000_1  1052.81   2018-09-07     1000\n",
       "2           2  1000_2  1197.26   2018-06-25     1000\n",
       "3           3  1000_3   550.27   2018-08-22     1000\n",
       "4           4  1000_4   302.56   2018-09-24     1000"
      ]
     },
     "metadata": {},
     "output_type": "display_data"
    }
   ],
   "source": [
    "display('Пользователи:', users_df.head())\n",
    "display('Звонки:', calls_df.head())\n",
    "display('СМС:', sms_df.head())\n",
    "display('Траффик:', inet_df.head())"
   ]
  },
  {
   "cell_type": "code",
   "execution_count": 7,
   "metadata": {
    "scrolled": false
   },
   "outputs": [
    {
     "name": "stdout",
     "output_type": "stream",
     "text": [
      "\n",
      "Пользователи:\n",
      "\n",
      "<class 'pandas.core.frame.DataFrame'>\n",
      "RangeIndex: 500 entries, 0 to 499\n",
      "Data columns (total 8 columns):\n",
      " #   Column      Non-Null Count  Dtype \n",
      "---  ------      --------------  ----- \n",
      " 0   user_id     500 non-null    int64 \n",
      " 1   age         500 non-null    int64 \n",
      " 2   churn_date  38 non-null     object\n",
      " 3   city        500 non-null    object\n",
      " 4   first_name  500 non-null    object\n",
      " 5   last_name   500 non-null    object\n",
      " 6   reg_date    500 non-null    object\n",
      " 7   tariff      500 non-null    object\n",
      "dtypes: int64(2), object(6)\n",
      "memory usage: 31.4+ KB\n",
      "\n",
      "Звонки:\n",
      "\n",
      "<class 'pandas.core.frame.DataFrame'>\n",
      "RangeIndex: 202607 entries, 0 to 202606\n",
      "Data columns (total 4 columns):\n",
      " #   Column     Non-Null Count   Dtype  \n",
      "---  ------     --------------   -----  \n",
      " 0   id         202607 non-null  object \n",
      " 1   call_date  202607 non-null  object \n",
      " 2   duration   202607 non-null  float64\n",
      " 3   user_id    202607 non-null  int64  \n",
      "dtypes: float64(1), int64(1), object(2)\n",
      "memory usage: 6.2+ MB\n",
      "\n",
      "СМС:\n",
      "\n",
      "<class 'pandas.core.frame.DataFrame'>\n",
      "RangeIndex: 123036 entries, 0 to 123035\n",
      "Data columns (total 3 columns):\n",
      " #   Column        Non-Null Count   Dtype \n",
      "---  ------        --------------   ----- \n",
      " 0   id            123036 non-null  object\n",
      " 1   message_date  123036 non-null  object\n",
      " 2   user_id       123036 non-null  int64 \n",
      "dtypes: int64(1), object(2)\n",
      "memory usage: 2.8+ MB\n",
      "\n",
      "Траффик:\n",
      "\n",
      "<class 'pandas.core.frame.DataFrame'>\n",
      "RangeIndex: 149396 entries, 0 to 149395\n",
      "Data columns (total 5 columns):\n",
      " #   Column        Non-Null Count   Dtype  \n",
      "---  ------        --------------   -----  \n",
      " 0   Unnamed: 0    149396 non-null  int64  \n",
      " 1   id            149396 non-null  object \n",
      " 2   mb_used       149396 non-null  float64\n",
      " 3   session_date  149396 non-null  object \n",
      " 4   user_id       149396 non-null  int64  \n",
      "dtypes: float64(1), int64(2), object(2)\n",
      "memory usage: 5.7+ MB\n"
     ]
    }
   ],
   "source": [
    "print('\\nПользователи:\\n')\n",
    "users_df.info()\n",
    "print('\\nЗвонки:\\n')\n",
    "calls_df.info()\n",
    "print('\\nСМС:\\n')\n",
    "sms_df.info()\n",
    "print('\\nТраффик:\\n')\n",
    "inet_df.info()"
   ]
  },
  {
   "cell_type": "code",
   "execution_count": 8,
   "metadata": {
    "scrolled": false
   },
   "outputs": [
    {
     "data": {
      "text/html": [
       "<div>\n",
       "<style scoped>\n",
       "    .dataframe tbody tr th:only-of-type {\n",
       "        vertical-align: middle;\n",
       "    }\n",
       "\n",
       "    .dataframe tbody tr th {\n",
       "        vertical-align: top;\n",
       "    }\n",
       "\n",
       "    .dataframe thead th {\n",
       "        text-align: right;\n",
       "    }\n",
       "</style>\n",
       "<table border=\"1\" class=\"dataframe\">\n",
       "  <thead>\n",
       "    <tr style=\"text-align: right;\">\n",
       "      <th></th>\n",
       "      <th>user_id</th>\n",
       "      <th>age</th>\n",
       "      <th>churn_date</th>\n",
       "      <th>city</th>\n",
       "      <th>first_name</th>\n",
       "      <th>last_name</th>\n",
       "      <th>reg_date</th>\n",
       "      <th>tariff</th>\n",
       "    </tr>\n",
       "  </thead>\n",
       "  <tbody>\n",
       "    <tr>\n",
       "      <th>19</th>\n",
       "      <td>1019</td>\n",
       "      <td>63</td>\n",
       "      <td>2018-10-05</td>\n",
       "      <td>Томск</td>\n",
       "      <td>Игнатий</td>\n",
       "      <td>Круглов</td>\n",
       "      <td>2018-05-16</td>\n",
       "      <td>ultra</td>\n",
       "    </tr>\n",
       "    <tr>\n",
       "      <th>20</th>\n",
       "      <td>1020</td>\n",
       "      <td>59</td>\n",
       "      <td>2018-12-18</td>\n",
       "      <td>Чита</td>\n",
       "      <td>Тала</td>\n",
       "      <td>Костина</td>\n",
       "      <td>2018-10-22</td>\n",
       "      <td>smart</td>\n",
       "    </tr>\n",
       "    <tr>\n",
       "      <th>34</th>\n",
       "      <td>1034</td>\n",
       "      <td>66</td>\n",
       "      <td>2018-11-21</td>\n",
       "      <td>Вологда</td>\n",
       "      <td>Святослав</td>\n",
       "      <td>Бондарев</td>\n",
       "      <td>2018-08-26</td>\n",
       "      <td>smart</td>\n",
       "    </tr>\n",
       "    <tr>\n",
       "      <th>50</th>\n",
       "      <td>1050</td>\n",
       "      <td>44</td>\n",
       "      <td>2018-10-03</td>\n",
       "      <td>Тюмень</td>\n",
       "      <td>Рузана</td>\n",
       "      <td>Аничкина</td>\n",
       "      <td>2018-06-16</td>\n",
       "      <td>ultra</td>\n",
       "    </tr>\n",
       "    <tr>\n",
       "      <th>51</th>\n",
       "      <td>1051</td>\n",
       "      <td>37</td>\n",
       "      <td>2018-10-14</td>\n",
       "      <td>Москва</td>\n",
       "      <td>Кристина</td>\n",
       "      <td>Сомова</td>\n",
       "      <td>2018-05-28</td>\n",
       "      <td>smart</td>\n",
       "    </tr>\n",
       "  </tbody>\n",
       "</table>\n",
       "</div>"
      ],
      "text/plain": [
       "    user_id  age  churn_date     city first_name last_name    reg_date tariff\n",
       "19     1019   63  2018-10-05    Томск    Игнатий   Круглов  2018-05-16  ultra\n",
       "20     1020   59  2018-12-18     Чита       Тала   Костина  2018-10-22  smart\n",
       "34     1034   66  2018-11-21  Вологда  Святослав  Бондарев  2018-08-26  smart\n",
       "50     1050   44  2018-10-03   Тюмень     Рузана  Аничкина  2018-06-16  ultra\n",
       "51     1051   37  2018-10-14   Москва   Кристина    Сомова  2018-05-28  smart"
      ]
     },
     "execution_count": 8,
     "metadata": {},
     "output_type": "execute_result"
    }
   ],
   "source": [
    "users_df.loc[~users_df.loc[:,'churn_date'].isna(), :].head()"
   ]
  },
  {
   "cell_type": "code",
   "execution_count": 9,
   "metadata": {},
   "outputs": [
    {
     "data": {
      "image/png": "[encoded data removed]",
      "text/plain": [
       "<Figure size 864x432 with 3 Axes>"
      ]
     },
     "metadata": {},
     "output_type": "display_data"
    }
   ],
   "source": [
    "fig, ax = plt.subplots(nrows=1, ncols=3, figsize=(12,6))\n",
    "ax1, ax2, ax3 = ax.flatten()\n",
    "ax1.set_title('Возраст пользователей выборки')\n",
    "ax2.set_title('ТОП-10 городов проживания пользователей')\n",
    "ax3.set_title('Представленность тарифов')\n",
    "for tariff in palette.keys():\n",
    "    users_df.loc[users_df.loc[:, 'tariff'] == tariff, 'age'].hist(ax=ax1, \n",
    "                                                                  color=palette[tariff], \n",
    "                                                                  label=tariff, \n",
    "                                                                  alpha=0.7)\n",
    "    users_df.loc[users_df.loc[:, 'tariff'] == tariff, 'city'].value_counts().head(10).plot(ax=ax2, \n",
    "                                                                                           kind='bar', \n",
    "                                                                                           alpha=0.7,\n",
    "                                                                                           label=tariff,\n",
    "                                                                                           color=palette[tariff])\n",
    "\n",
    "users_df['tariff'].value_counts().plot(ax=ax3,kind='bar', alpha=0.7, color='c')\n",
    "ax1.legend()\n",
    "ax2.legend()\n",
    "plt.suptitle('Анализ выборки пользователей')\n",
    "plt.tight_layout(rect=(0, 0, 0.95, 0.95))\n",
    "plt.show()"
   ]
  },
  {
   "cell_type": "code",
   "execution_count": 10,
   "metadata": {},
   "outputs": [
    {
     "data": {
      "image/png": "[encoded data removed]",
      "text/plain": [
       "<Figure size 864x360 with 2 Axes>"
      ]
     },
     "metadata": {},
     "output_type": "display_data"
    }
   ],
   "source": [
    "fig, ax = plt.subplots(nrows=1, ncols=2, figsize=(12, 5))\n",
    "ax[0].set_title('Продолжительность звонков')\n",
    "ax[1].set_title('Объём траффика за сессию')\n",
    "calls_df['duration'].hist(ax=ax[0], bins=50, alpha=0.8)\n",
    "inet_df['mb_used'].hist(ax=ax[1], bins=50, alpha=0.8)\n",
    "plt.suptitle('Анализ звонков и траффика по всей выборке за год')\n",
    "plt.tight_layout(rect=(0, 0, 0.95, 0.95))\n",
    "plt.show()"
   ]
  },
  {
   "cell_type": "code",
   "execution_count": 11,
   "metadata": {},
   "outputs": [
    {
     "name": "stdout",
     "output_type": "stream",
     "text": [
      "Число пользователей в выборке: 500\n"
     ]
    }
   ],
   "source": [
    "print('Число пользователей в выборке:', users_df['user_id'].unique().size)"
   ]
  },
  {
   "cell_type": "markdown",
   "metadata": {},
   "source": [
    "<h1 style=\"color:SteelBlue\"> Результаты разведочного анализа</h1>"
   ]
  },
  {
   "cell_type": "markdown",
   "metadata": {},
   "source": [
    "Выборка равномерно представлена клиентами всех возрастов. В тарифе ultra Москва представлена в 4 раза лучше городов-соседей по топ 10 (более 30 пользователей и более 20% выборки), в тарифе smart - более чем в 2 раза лучше Петербурга и в несколько раз лучше прочих. Заметно, что в СПб тариф ultra в процентном отношении к smart представлен хуже, чем у соседей по топ-10.\n",
    "\n",
    "Тариф смарт представлен 350 пользователями, ультра - 150. В выборке 500 уникальных значений пользователей, значит, никто из них не пользовался обоими тарифами.\n",
    "\n",
    "В объёме траффика и продолжительности звонков много нулевых значений. Видимо, пропущенные/сброшенные звонки и технические сессии. \n",
    "\n",
    "Пропуски только для признака *churn_date*. Пропуски в *churn_date* означают, что большинство клиентов пользовались тарифом на момент выгрузки базы. Поскольку плата за тариф берётся помесячно, то нужно получить для каждого клиента сатистику выручки по месяцам. Затем можно рассчитать суммарную и среднюю выручку для каждого клиента, а также её вариабельность. Нужно рассчитать, сколько месяцев каждый клиент пользовался тарифом. Для этого пропуски в churn_date надо заполнить датой выгрузки базы."
   ]
  },
  {
   "cell_type": "markdown",
   "metadata": {},
   "source": [
    "<h1 style=\"color:SteelBlue\">2. Очистка и дополнение данных, исправление ошибок</h1>"
   ]
  },
  {
   "cell_type": "markdown",
   "metadata": {},
   "source": [
    "<h2 style=\"color:DodgerBlue\">2.1 Изменение типов данных и поиск полных дублей</h2>"
   ]
  },
  {
   "cell_type": "markdown",
   "metadata": {},
   "source": [
    "Во всех датасетах нужно привести дату и время к формату datetime. Сделаю это и проверю число дублей в наборах данных."
   ]
  },
  {
   "cell_type": "code",
   "execution_count": 12,
   "metadata": {},
   "outputs": [],
   "source": [
    "users_df.loc[:, 'churn_date'] = pd.to_datetime(users_df['churn_date'], format='%Y-%m-%d')\n",
    "users_df.loc[:, 'reg_date'] = pd.to_datetime(users_df['reg_date'], format='%Y-%m-%d')\n",
    "calls_df.loc[:, 'call_date'] = pd.to_datetime(calls_df['call_date'], format='%Y-%m-%d')\n",
    "sms_df.loc[:, 'message_date'] = pd.to_datetime(sms_df['message_date'], format='%Y-%m-%d')\n",
    "inet_df.loc[:, 'session_date'] = pd.to_datetime(inet_df['session_date'], format='%Y-%m-%d')"
   ]
  },
  {
   "cell_type": "code",
   "execution_count": 13,
   "metadata": {},
   "outputs": [
    {
     "name": "stdout",
     "output_type": "stream",
     "text": [
      "Число полных дублей в датасетах\n"
     ]
    },
    {
     "data": {
      "text/plain": [
       "0"
      ]
     },
     "metadata": {},
     "output_type": "display_data"
    },
    {
     "data": {
      "text/plain": [
       "0"
      ]
     },
     "metadata": {},
     "output_type": "display_data"
    },
    {
     "data": {
      "text/plain": [
       "0"
      ]
     },
     "metadata": {},
     "output_type": "display_data"
    },
    {
     "data": {
      "text/plain": [
       "0"
      ]
     },
     "metadata": {},
     "output_type": "display_data"
    }
   ],
   "source": [
    "print('Число полных дублей в датасетах')\n",
    "display(\n",
    "    users_df.duplicated().sum(),\n",
    "    calls_df.duplicated().sum(),\n",
    "    sms_df.duplicated().sum(),\n",
    "    inet_df.duplicated().sum()\n",
    ")"
   ]
  },
  {
   "cell_type": "markdown",
   "metadata": {},
   "source": [
    "<h2 style=\"color:DodgerBlue\">2.2 Заполнение пропусков, расчёт дополнительных и удаление ненужных признаков</h2>"
   ]
  },
  {
   "cell_type": "markdown",
   "metadata": {},
   "source": [
    "Нужно выяснить дату выгрузки базы. Определю по датам последних звонков"
   ]
  },
  {
   "cell_type": "code",
   "execution_count": 14,
   "metadata": {},
   "outputs": [
    {
     "data": {
      "text/plain": [
       "count                  202607\n",
       "unique                    365\n",
       "top       2018-12-31 00:00:00\n",
       "freq                     1435\n",
       "first     2018-01-01 00:00:00\n",
       "last      2018-12-31 00:00:00\n",
       "Name: call_date, dtype: object"
      ]
     },
     "execution_count": 14,
     "metadata": {},
     "output_type": "execute_result"
    }
   ],
   "source": [
    "calls_df['call_date'].describe()"
   ]
  },
  {
   "cell_type": "markdown",
   "metadata": {},
   "source": [
    "В базе данные за полный 2018 год, c 2018-01-01 по 2018-12-31. Большинство клиентов пользовались тарифом на момент выгрузки базы. Чтобы в дальнейшем рассчитать число полных месяцев, в течение которых клиент пользовался тарифом, заполню пропуски в *churn_date* датой 2018-12-31"
   ]
  },
  {
   "cell_type": "code",
   "execution_count": 15,
   "metadata": {},
   "outputs": [],
   "source": [
    "users_df.loc[:, 'churn_date'].fillna(np.datetime64('2018-12-31'), inplace=True)"
   ]
  },
  {
   "cell_type": "code",
   "execution_count": 16,
   "metadata": {},
   "outputs": [
    {
     "data": {
      "text/html": [
       "<div>\n",
       "<style scoped>\n",
       "    .dataframe tbody tr th:only-of-type {\n",
       "        vertical-align: middle;\n",
       "    }\n",
       "\n",
       "    .dataframe tbody tr th {\n",
       "        vertical-align: top;\n",
       "    }\n",
       "\n",
       "    .dataframe thead th {\n",
       "        text-align: right;\n",
       "    }\n",
       "</style>\n",
       "<table border=\"1\" class=\"dataframe\">\n",
       "  <thead>\n",
       "    <tr style=\"text-align: right;\">\n",
       "      <th></th>\n",
       "      <th>user_id</th>\n",
       "      <th>age</th>\n",
       "      <th>churn_date</th>\n",
       "      <th>city</th>\n",
       "      <th>first_name</th>\n",
       "      <th>last_name</th>\n",
       "      <th>reg_date</th>\n",
       "      <th>tariff</th>\n",
       "    </tr>\n",
       "  </thead>\n",
       "  <tbody>\n",
       "    <tr>\n",
       "      <th>0</th>\n",
       "      <td>1000</td>\n",
       "      <td>52</td>\n",
       "      <td>2018-12-31</td>\n",
       "      <td>Краснодар</td>\n",
       "      <td>Рафаил</td>\n",
       "      <td>Верещагин</td>\n",
       "      <td>2018-05-25</td>\n",
       "      <td>ultra</td>\n",
       "    </tr>\n",
       "    <tr>\n",
       "      <th>1</th>\n",
       "      <td>1001</td>\n",
       "      <td>41</td>\n",
       "      <td>2018-12-31</td>\n",
       "      <td>Москва</td>\n",
       "      <td>Иван</td>\n",
       "      <td>Ежов</td>\n",
       "      <td>2018-11-01</td>\n",
       "      <td>smart</td>\n",
       "    </tr>\n",
       "    <tr>\n",
       "      <th>2</th>\n",
       "      <td>1002</td>\n",
       "      <td>59</td>\n",
       "      <td>2018-12-31</td>\n",
       "      <td>Стерлитамак</td>\n",
       "      <td>Евгений</td>\n",
       "      <td>Абрамович</td>\n",
       "      <td>2018-06-17</td>\n",
       "      <td>smart</td>\n",
       "    </tr>\n",
       "    <tr>\n",
       "      <th>3</th>\n",
       "      <td>1003</td>\n",
       "      <td>23</td>\n",
       "      <td>2018-12-31</td>\n",
       "      <td>Москва</td>\n",
       "      <td>Белла</td>\n",
       "      <td>Белякова</td>\n",
       "      <td>2018-08-17</td>\n",
       "      <td>ultra</td>\n",
       "    </tr>\n",
       "    <tr>\n",
       "      <th>4</th>\n",
       "      <td>1004</td>\n",
       "      <td>68</td>\n",
       "      <td>2018-12-31</td>\n",
       "      <td>Новокузнецк</td>\n",
       "      <td>Татьяна</td>\n",
       "      <td>Авдеенко</td>\n",
       "      <td>2018-05-14</td>\n",
       "      <td>ultra</td>\n",
       "    </tr>\n",
       "  </tbody>\n",
       "</table>\n",
       "</div>"
      ],
      "text/plain": [
       "   user_id  age churn_date         city first_name  last_name   reg_date  \\\n",
       "0     1000   52 2018-12-31    Краснодар     Рафаил  Верещагин 2018-05-25   \n",
       "1     1001   41 2018-12-31       Москва       Иван       Ежов 2018-11-01   \n",
       "2     1002   59 2018-12-31  Стерлитамак    Евгений  Абрамович 2018-06-17   \n",
       "3     1003   23 2018-12-31       Москва      Белла   Белякова 2018-08-17   \n",
       "4     1004   68 2018-12-31  Новокузнецк    Татьяна   Авдеенко 2018-05-14   \n",
       "\n",
       "  tariff  \n",
       "0  ultra  \n",
       "1  smart  \n",
       "2  smart  \n",
       "3  ultra  \n",
       "4  ultra  "
      ]
     },
     "execution_count": 16,
     "metadata": {},
     "output_type": "execute_result"
    }
   ],
   "source": [
    "users_df.head()"
   ]
  },
  {
   "cell_type": "markdown",
   "metadata": {},
   "source": [
    "Кроме этого, для анализа понадобятся: \n",
    "- число полных дней и месяцев пользования тарифом (N_days_usage, N_months_usage)\n",
    "- месяц и день начала пользования тарифом (reg_month, reg_day)\n",
    "- месяц прекращения пользования (churn_month, churn_day)\n",
    "- месяц совершения действия (звонок, смс, интернет-сессия: call_month, message_month, session_month)\n",
    "- округлённое в большую сторону время разговора и число мегабайт траффика (duration_ceil, mb_used_ceil)\n",
    "\n",
    "\n",
    "Досчитаю эти признаки в датасет пользователей."
   ]
  },
  {
   "cell_type": "code",
   "execution_count": 17,
   "metadata": {},
   "outputs": [],
   "source": [
    "users_df.loc[:, 'N_months_usage'] = (\n",
    "    (users_df['churn_date'] - users_df['reg_date']) \n",
    "    / np.timedelta64(1, 'M')).astype('int')\n",
    "users_df.loc[:, 'N_days_usage'] = (\n",
    "    (users_df['churn_date'] - users_df['reg_date']) \n",
    "    / np.timedelta64(1, 'D')).astype('int')\n",
    "users_df.loc[:, 'reg_month'] = pd.DatetimeIndex(users_df['reg_date']).month\n",
    "users_df.loc[:, 'reg_day'] = pd.DatetimeIndex(users_df['reg_date']).day\n",
    "users_df.loc[:, 'churn_month'] = pd.DatetimeIndex(users_df['churn_date']).month\n",
    "users_df.loc[:, 'churn_day'] = pd.DatetimeIndex(users_df['churn_date']).day\n",
    "\n",
    "calls_df.loc[:, 'calendar_month'] = pd.DatetimeIndex(calls_df['call_date']).month\n",
    "calls_df.loc[:, 'duration_ceil'] = calls_df['duration'].apply(np.ceil).astype(int)\n",
    "\n",
    "inet_df.loc[:, 'calendar_month'] = pd.DatetimeIndex(inet_df.loc[:, 'session_date']).month\n",
    "inet_df.loc[:, 'mb_used_ceil'] = inet_df['mb_used'].apply(np.ceil).astype(int)\n",
    "\n",
    "sms_df.loc[:, 'calendar_month'] = pd.DatetimeIndex(sms_df.loc[:, 'message_date']).month"
   ]
  },
  {
   "cell_type": "markdown",
   "metadata": {},
   "source": [
    "Столбцы с именем и фамилией, идентификаторами события (id: 1000_0, 1000_1 и т.д.) и стобец \"Unnamed: 0\" удалю. Они не нужны для решения задачи."
   ]
  },
  {
   "cell_type": "code",
   "execution_count": 18,
   "metadata": {},
   "outputs": [],
   "source": [
    "users_df.drop(columns=['first_name', 'last_name'], inplace=True)\n",
    "inet_df.drop(columns=['Unnamed: 0', 'id'], inplace=True)\n",
    "calls_df.drop('id', axis=1, inplace=True)\n",
    "sms_df.drop('id', axis=1, inplace=True)"
   ]
  },
  {
   "cell_type": "code",
   "execution_count": 19,
   "metadata": {},
   "outputs": [
    {
     "data": {
      "text/plain": [
       "'Пользователи:'"
      ]
     },
     "metadata": {},
     "output_type": "display_data"
    },
    {
     "data": {
      "text/html": [
       "<div>\n",
       "<style scoped>\n",
       "    .dataframe tbody tr th:only-of-type {\n",
       "        vertical-align: middle;\n",
       "    }\n",
       "\n",
       "    .dataframe tbody tr th {\n",
       "        vertical-align: top;\n",
       "    }\n",
       "\n",
       "    .dataframe thead th {\n",
       "        text-align: right;\n",
       "    }\n",
       "</style>\n",
       "<table border=\"1\" class=\"dataframe\">\n",
       "  <thead>\n",
       "    <tr style=\"text-align: right;\">\n",
       "      <th></th>\n",
       "      <th>user_id</th>\n",
       "      <th>age</th>\n",
       "      <th>churn_date</th>\n",
       "      <th>city</th>\n",
       "      <th>reg_date</th>\n",
       "      <th>tariff</th>\n",
       "      <th>N_months_usage</th>\n",
       "      <th>N_days_usage</th>\n",
       "      <th>reg_month</th>\n",
       "      <th>reg_day</th>\n",
       "      <th>churn_month</th>\n",
       "      <th>churn_day</th>\n",
       "    </tr>\n",
       "  </thead>\n",
       "  <tbody>\n",
       "    <tr>\n",
       "      <th>0</th>\n",
       "      <td>1000</td>\n",
       "      <td>52</td>\n",
       "      <td>2018-12-31</td>\n",
       "      <td>Краснодар</td>\n",
       "      <td>2018-05-25</td>\n",
       "      <td>ultra</td>\n",
       "      <td>7</td>\n",
       "      <td>220</td>\n",
       "      <td>5</td>\n",
       "      <td>25</td>\n",
       "      <td>12</td>\n",
       "      <td>31</td>\n",
       "    </tr>\n",
       "    <tr>\n",
       "      <th>1</th>\n",
       "      <td>1001</td>\n",
       "      <td>41</td>\n",
       "      <td>2018-12-31</td>\n",
       "      <td>Москва</td>\n",
       "      <td>2018-11-01</td>\n",
       "      <td>smart</td>\n",
       "      <td>1</td>\n",
       "      <td>60</td>\n",
       "      <td>11</td>\n",
       "      <td>1</td>\n",
       "      <td>12</td>\n",
       "      <td>31</td>\n",
       "    </tr>\n",
       "    <tr>\n",
       "      <th>2</th>\n",
       "      <td>1002</td>\n",
       "      <td>59</td>\n",
       "      <td>2018-12-31</td>\n",
       "      <td>Стерлитамак</td>\n",
       "      <td>2018-06-17</td>\n",
       "      <td>smart</td>\n",
       "      <td>6</td>\n",
       "      <td>197</td>\n",
       "      <td>6</td>\n",
       "      <td>17</td>\n",
       "      <td>12</td>\n",
       "      <td>31</td>\n",
       "    </tr>\n",
       "    <tr>\n",
       "      <th>3</th>\n",
       "      <td>1003</td>\n",
       "      <td>23</td>\n",
       "      <td>2018-12-31</td>\n",
       "      <td>Москва</td>\n",
       "      <td>2018-08-17</td>\n",
       "      <td>ultra</td>\n",
       "      <td>4</td>\n",
       "      <td>136</td>\n",
       "      <td>8</td>\n",
       "      <td>17</td>\n",
       "      <td>12</td>\n",
       "      <td>31</td>\n",
       "    </tr>\n",
       "    <tr>\n",
       "      <th>4</th>\n",
       "      <td>1004</td>\n",
       "      <td>68</td>\n",
       "      <td>2018-12-31</td>\n",
       "      <td>Новокузнецк</td>\n",
       "      <td>2018-05-14</td>\n",
       "      <td>ultra</td>\n",
       "      <td>7</td>\n",
       "      <td>231</td>\n",
       "      <td>5</td>\n",
       "      <td>14</td>\n",
       "      <td>12</td>\n",
       "      <td>31</td>\n",
       "    </tr>\n",
       "  </tbody>\n",
       "</table>\n",
       "</div>"
      ],
      "text/plain": [
       "   user_id  age churn_date         city   reg_date tariff  N_months_usage  \\\n",
       "0     1000   52 2018-12-31    Краснодар 2018-05-25  ultra               7   \n",
       "1     1001   41 2018-12-31       Москва 2018-11-01  smart               1   \n",
       "2     1002   59 2018-12-31  Стерлитамак 2018-06-17  smart               6   \n",
       "3     1003   23 2018-12-31       Москва 2018-08-17  ultra               4   \n",
       "4     1004   68 2018-12-31  Новокузнецк 2018-05-14  ultra               7   \n",
       "\n",
       "   N_days_usage  reg_month  reg_day  churn_month  churn_day  \n",
       "0           220          5       25           12         31  \n",
       "1            60         11        1           12         31  \n",
       "2           197          6       17           12         31  \n",
       "3           136          8       17           12         31  \n",
       "4           231          5       14           12         31  "
      ]
     },
     "metadata": {},
     "output_type": "display_data"
    },
    {
     "data": {
      "text/plain": [
       "'Звонки:'"
      ]
     },
     "metadata": {},
     "output_type": "display_data"
    },
    {
     "data": {
      "text/html": [
       "<div>\n",
       "<style scoped>\n",
       "    .dataframe tbody tr th:only-of-type {\n",
       "        vertical-align: middle;\n",
       "    }\n",
       "\n",
       "    .dataframe tbody tr th {\n",
       "        vertical-align: top;\n",
       "    }\n",
       "\n",
       "    .dataframe thead th {\n",
       "        text-align: right;\n",
       "    }\n",
       "</style>\n",
       "<table border=\"1\" class=\"dataframe\">\n",
       "  <thead>\n",
       "    <tr style=\"text-align: right;\">\n",
       "      <th></th>\n",
       "      <th>call_date</th>\n",
       "      <th>duration</th>\n",
       "      <th>user_id</th>\n",
       "      <th>calendar_month</th>\n",
       "      <th>duration_ceil</th>\n",
       "    </tr>\n",
       "  </thead>\n",
       "  <tbody>\n",
       "    <tr>\n",
       "      <th>0</th>\n",
       "      <td>2018-07-25</td>\n",
       "      <td>0.00</td>\n",
       "      <td>1000</td>\n",
       "      <td>7</td>\n",
       "      <td>0</td>\n",
       "    </tr>\n",
       "    <tr>\n",
       "      <th>1</th>\n",
       "      <td>2018-08-17</td>\n",
       "      <td>0.00</td>\n",
       "      <td>1000</td>\n",
       "      <td>8</td>\n",
       "      <td>0</td>\n",
       "    </tr>\n",
       "    <tr>\n",
       "      <th>2</th>\n",
       "      <td>2018-06-11</td>\n",
       "      <td>2.85</td>\n",
       "      <td>1000</td>\n",
       "      <td>6</td>\n",
       "      <td>3</td>\n",
       "    </tr>\n",
       "    <tr>\n",
       "      <th>3</th>\n",
       "      <td>2018-09-21</td>\n",
       "      <td>13.80</td>\n",
       "      <td>1000</td>\n",
       "      <td>9</td>\n",
       "      <td>14</td>\n",
       "    </tr>\n",
       "    <tr>\n",
       "      <th>4</th>\n",
       "      <td>2018-12-15</td>\n",
       "      <td>5.18</td>\n",
       "      <td>1000</td>\n",
       "      <td>12</td>\n",
       "      <td>6</td>\n",
       "    </tr>\n",
       "  </tbody>\n",
       "</table>\n",
       "</div>"
      ],
      "text/plain": [
       "   call_date  duration  user_id  calendar_month  duration_ceil\n",
       "0 2018-07-25      0.00     1000               7              0\n",
       "1 2018-08-17      0.00     1000               8              0\n",
       "2 2018-06-11      2.85     1000               6              3\n",
       "3 2018-09-21     13.80     1000               9             14\n",
       "4 2018-12-15      5.18     1000              12              6"
      ]
     },
     "metadata": {},
     "output_type": "display_data"
    },
    {
     "data": {
      "text/plain": [
       "'СМС:'"
      ]
     },
     "metadata": {},
     "output_type": "display_data"
    },
    {
     "data": {
      "text/html": [
       "<div>\n",
       "<style scoped>\n",
       "    .dataframe tbody tr th:only-of-type {\n",
       "        vertical-align: middle;\n",
       "    }\n",
       "\n",
       "    .dataframe tbody tr th {\n",
       "        vertical-align: top;\n",
       "    }\n",
       "\n",
       "    .dataframe thead th {\n",
       "        text-align: right;\n",
       "    }\n",
       "</style>\n",
       "<table border=\"1\" class=\"dataframe\">\n",
       "  <thead>\n",
       "    <tr style=\"text-align: right;\">\n",
       "      <th></th>\n",
       "      <th>message_date</th>\n",
       "      <th>user_id</th>\n",
       "      <th>calendar_month</th>\n",
       "    </tr>\n",
       "  </thead>\n",
       "  <tbody>\n",
       "    <tr>\n",
       "      <th>0</th>\n",
       "      <td>2018-06-27</td>\n",
       "      <td>1000</td>\n",
       "      <td>6</td>\n",
       "    </tr>\n",
       "    <tr>\n",
       "      <th>1</th>\n",
       "      <td>2018-10-08</td>\n",
       "      <td>1000</td>\n",
       "      <td>10</td>\n",
       "    </tr>\n",
       "    <tr>\n",
       "      <th>2</th>\n",
       "      <td>2018-08-04</td>\n",
       "      <td>1000</td>\n",
       "      <td>8</td>\n",
       "    </tr>\n",
       "    <tr>\n",
       "      <th>3</th>\n",
       "      <td>2018-06-16</td>\n",
       "      <td>1000</td>\n",
       "      <td>6</td>\n",
       "    </tr>\n",
       "    <tr>\n",
       "      <th>4</th>\n",
       "      <td>2018-12-05</td>\n",
       "      <td>1000</td>\n",
       "      <td>12</td>\n",
       "    </tr>\n",
       "  </tbody>\n",
       "</table>\n",
       "</div>"
      ],
      "text/plain": [
       "  message_date  user_id  calendar_month\n",
       "0   2018-06-27     1000               6\n",
       "1   2018-10-08     1000              10\n",
       "2   2018-08-04     1000               8\n",
       "3   2018-06-16     1000               6\n",
       "4   2018-12-05     1000              12"
      ]
     },
     "metadata": {},
     "output_type": "display_data"
    },
    {
     "data": {
      "text/plain": [
       "'Траффик:'"
      ]
     },
     "metadata": {},
     "output_type": "display_data"
    },
    {
     "data": {
      "text/html": [
       "<div>\n",
       "<style scoped>\n",
       "    .dataframe tbody tr th:only-of-type {\n",
       "        vertical-align: middle;\n",
       "    }\n",
       "\n",
       "    .dataframe tbody tr th {\n",
       "        vertical-align: top;\n",
       "    }\n",
       "\n",
       "    .dataframe thead th {\n",
       "        text-align: right;\n",
       "    }\n",
       "</style>\n",
       "<table border=\"1\" class=\"dataframe\">\n",
       "  <thead>\n",
       "    <tr style=\"text-align: right;\">\n",
       "      <th></th>\n",
       "      <th>mb_used</th>\n",
       "      <th>session_date</th>\n",
       "      <th>user_id</th>\n",
       "      <th>calendar_month</th>\n",
       "      <th>mb_used_ceil</th>\n",
       "    </tr>\n",
       "  </thead>\n",
       "  <tbody>\n",
       "    <tr>\n",
       "      <th>0</th>\n",
       "      <td>112.95</td>\n",
       "      <td>2018-11-25</td>\n",
       "      <td>1000</td>\n",
       "      <td>11</td>\n",
       "      <td>113</td>\n",
       "    </tr>\n",
       "    <tr>\n",
       "      <th>1</th>\n",
       "      <td>1052.81</td>\n",
       "      <td>2018-09-07</td>\n",
       "      <td>1000</td>\n",
       "      <td>9</td>\n",
       "      <td>1053</td>\n",
       "    </tr>\n",
       "    <tr>\n",
       "      <th>2</th>\n",
       "      <td>1197.26</td>\n",
       "      <td>2018-06-25</td>\n",
       "      <td>1000</td>\n",
       "      <td>6</td>\n",
       "      <td>1198</td>\n",
       "    </tr>\n",
       "    <tr>\n",
       "      <th>3</th>\n",
       "      <td>550.27</td>\n",
       "      <td>2018-08-22</td>\n",
       "      <td>1000</td>\n",
       "      <td>8</td>\n",
       "      <td>551</td>\n",
       "    </tr>\n",
       "    <tr>\n",
       "      <th>4</th>\n",
       "      <td>302.56</td>\n",
       "      <td>2018-09-24</td>\n",
       "      <td>1000</td>\n",
       "      <td>9</td>\n",
       "      <td>303</td>\n",
       "    </tr>\n",
       "  </tbody>\n",
       "</table>\n",
       "</div>"
      ],
      "text/plain": [
       "   mb_used session_date  user_id  calendar_month  mb_used_ceil\n",
       "0   112.95   2018-11-25     1000              11           113\n",
       "1  1052.81   2018-09-07     1000               9          1053\n",
       "2  1197.26   2018-06-25     1000               6          1198\n",
       "3   550.27   2018-08-22     1000               8           551\n",
       "4   302.56   2018-09-24     1000               9           303"
      ]
     },
     "metadata": {},
     "output_type": "display_data"
    }
   ],
   "source": [
    "display('Пользователи:', users_df.head())\n",
    "display('Звонки:', calls_df.head())\n",
    "display('СМС:', sms_df.head())\n",
    "display('Траффик:', inet_df.head())"
   ]
  },
  {
   "cell_type": "markdown",
   "metadata": {},
   "source": [
    "<h2 style=\"color:DodgerBlue\">2.3 Анализ выборки, исправление ошибок и очистка данных</h2>"
   ]
  },
  {
   "cell_type": "markdown",
   "metadata": {},
   "source": [
    "На основании рассчитанных признаков оценим выборку клиентов."
   ]
  },
  {
   "cell_type": "code",
   "execution_count": 20,
   "metadata": {},
   "outputs": [
    {
     "data": {
      "image/png": "[encoded data removed]",
      "text/plain": [
       "<Figure size 864x360 with 2 Axes>"
      ]
     },
     "metadata": {},
     "output_type": "display_data"
    }
   ],
   "source": [
    "plt.figure(figsize=(12,5))\n",
    "plt.suptitle('Распределение клиентов по моменту регистрации в тарифном плане')\n",
    "gridsize = (1, 3)\n",
    "#оси; 1 - начинать с 0-0, занять 1 строку и 1 столбец; 2-начинать с 0-1, занять 1 строку и 2 столбца\n",
    "ax1 = plt.subplot2grid(gridsize, (0, 0), colspan=1, rowspan=1)\n",
    "ax2 = plt.subplot2grid(gridsize, (0, 1), colspan=2, rowspan=1)\n",
    "\n",
    "ax1.set_title('число регистраций в тарифном плане по месяцам')\n",
    "ax2.set_title('число регистраций в тарифном плане по дням месяца')\n",
    "sns.countplot(ax=ax1, x='reg_month', hue='tariff', data=users_df, palette=palette, alpha=0.7)\n",
    "sns.countplot(ax=ax2, x='reg_day', hue='tariff', data=users_df, palette=palette, alpha=0.7)\n",
    "plt.tight_layout(rect=(0, 0, 0.95, 0.95))\n",
    "plt.show()"
   ]
  },
  {
   "cell_type": "code",
   "execution_count": 21,
   "metadata": {
    "scrolled": false
   },
   "outputs": [
    {
     "data": {
      "image/png": "[encoded data removed]",
      "text/plain": [
       "<Figure size 720x576 with 4 Axes>"
      ]
     },
     "metadata": {},
     "output_type": "display_data"
    }
   ],
   "source": [
    "plt.figure(figsize=(10,8))\n",
    "plt.suptitle('Распределение клиентов по продолжительности использования тарифа')\n",
    "\n",
    "plt.subplot(221)\n",
    "plt.title('По числу месяцев')\n",
    "sns.countplot(x='N_months_usage', hue='tariff', data=users_df, palette=palette, alpha=0.7)\n",
    "\n",
    "plt.subplot(222)\n",
    "plt.title('По числу месяцев, кумулятивное, плотностное')\n",
    "for tariff in palette.keys():\n",
    "    users_df.loc[users_df.loc[:, 'tariff'] == tariff, 'N_months_usage'].hist(bins=12, label=tariff, cumulative=1, \n",
    "                                                                             density=True, color=palette[tariff],\n",
    "                                                                             alpha=0.7)\n",
    "    \n",
    "\n",
    "plt.subplot(223)\n",
    "plt.title('По числу дней')\n",
    "for tariff in palette.keys():\n",
    "    users_df.loc[users_df.loc[:, 'tariff'] == tariff, 'N_days_usage'].hist(bins=50, label=tariff, color=palette[tariff],\n",
    "                                                                           alpha=0.7)\n",
    "plt.legend()\n",
    "\n",
    "plt.subplot(224)\n",
    "plt.title('По числу дней, кумулятивное, плотностное')\n",
    "for tariff in palette.keys():\n",
    "    users_df.loc[users_df.loc[:, 'tariff'] == tariff, 'N_days_usage'].hist(bins=50, label=tariff, cumulative=1,\n",
    "                                                                           density=True, color=palette[tariff],\n",
    "                                                                           alpha=0.7)\n",
    "\n",
    "plt.tight_layout(rect=(0, 0, 0.95, 0.95))\n",
    "plt.show()"
   ]
  },
  {
   "cell_type": "markdown",
   "metadata": {},
   "source": [
    "Сильных смещений не видно, есть варибельность от месяца к месяцу и от недели к неделе, но в целом, похоже, выборка сделана действительно случайно."
   ]
  },
  {
   "cell_type": "code",
   "execution_count": 22,
   "metadata": {},
   "outputs": [
    {
     "name": "stdout",
     "output_type": "stream",
     "text": [
      "Пользовались тарифом меньше полного месяца: 37 клиентов\n",
      "Пользовались тарифом меньше 28 дней: 32 клиента\n"
     ]
    }
   ],
   "source": [
    "print('Пользовались тарифом меньше полного месяца:',\n",
    "     users_df[users_df['N_months_usage'] == 0]['N_months_usage'].count(), 'клиентов')\n",
    "print('Пользовались тарифом меньше 28 дней:',\n",
    "     users_df[users_df['N_days_usage'] < 28]['N_days_usage'].count(), 'клиента')"
   ]
  },
  {
   "cell_type": "code",
   "execution_count": 23,
   "metadata": {},
   "outputs": [
    {
     "data": {
      "image/png": "[encoded data removed]",
      "text/plain": [
       "<Figure size 720x360 with 2 Axes>"
      ]
     },
     "metadata": {},
     "output_type": "display_data"
    }
   ],
   "source": [
    "fig, ax = plt.subplots(nrows=1, ncols=2, figsize=(10,5))\n",
    "plt.suptitle('Распределение числа пользователей по данным за 2018 год')\n",
    "ax[0].set_title('по числу нулевых звонков')\n",
    "ax[0].set_xlabel('нулевых звонков, шт.')\n",
    "ax[0].set_ylabel('клиентов, чел.')\n",
    "\n",
    "ax[1].set_title('по числу нулевых интеренет-сессий')\n",
    "ax[1].set_xlabel('нулевых интеренет-сессий, шт.')\n",
    "\n",
    "calls_df.loc[calls_df.loc[:, 'duration'] == 0, :].groupby('user_id')['user_id'].count().hist(ax=ax[0], bins=50, alpha=0.8)\n",
    "inet_df.loc[inet_df.loc[:, 'mb_used'] == 0, :].groupby('user_id')['user_id'].count().hist(ax=ax[1], bins=50, alpha=0.8)\n",
    "\n",
    "plt.tight_layout(rect=(0, 0, 0.95, 0.95))\n",
    "plt.show()"
   ]
  },
  {
   "cell_type": "markdown",
   "metadata": {},
   "source": [
    "В данных есть много звонков нулевой продолжительности и интернет сессий с траффиком 0 мегабайт. Они не вносят никакого вклада в прибыль и, скорее всего, являются пропущенными/сброшенными звонками и техническими пакетами данных. На гистограммах сильных аномалий не наблюдается: у большинства пользователей немного и того и другого. Выбросов нет. Исключу нулевые звонки и интеренет сессии из исследования, чтобы не занимать память."
   ]
  },
  {
   "cell_type": "code",
   "execution_count": 24,
   "metadata": {},
   "outputs": [],
   "source": [
    "calls_df.drop(calls_df.loc[calls_df.loc[:, 'duration'] == 0, :].index, inplace=True)\n",
    "inet_df.drop(inet_df.loc[inet_df.loc[:, 'mb_used'] == 0, :].index, inplace=True)"
   ]
  },
  {
   "cell_type": "code",
   "execution_count": 25,
   "metadata": {},
   "outputs": [
    {
     "data": {
      "image/png": "[encoded data removed]",
      "text/plain": [
       "<Figure size 720x360 with 2 Axes>"
      ]
     },
     "metadata": {},
     "output_type": "display_data"
    }
   ],
   "source": [
    "fig, ax = plt.subplots(nrows=1, ncols=2, figsize=(10, 5))\n",
    "ax[0].set_title('Продолжительность звонков')\n",
    "ax[0].set_xlabel('продолжительность, минут')\n",
    "ax[0].set_ylabel('число звонков, шт.')\n",
    "\n",
    "ax[1].set_title('Объём траффика за сессию')\n",
    "ax[1].set_xlabel('объём, МБ')\n",
    "ax[1].set_ylabel('число сессий, шт.')\n",
    "calls_df['duration'].hist(ax=ax[0], bins=50)\n",
    "inet_df['mb_used'].hist(ax=ax[1], bins=50)\n",
    "plt.suptitle('Анализ звонков и траффика по всей выборке за 2018 год. После очистки')\n",
    "plt.tight_layout(rect=(0, 0, 0.95, 0.95))\n",
    "plt.show()"
   ]
  },
  {
   "cell_type": "markdown",
   "metadata": {},
   "source": [
    "<h1 style=\"color:SteelBlue\">Итоги очистки данных</h1>"
   ]
  },
  {
   "cell_type": "markdown",
   "metadata": {},
   "source": [
    "Во всех датасетах дату и время перевёл в формат datetime. Проверил на полные дубли, их нет. Для того, чтобы рассчитать, сколько полных месяцев клиент пользовался тарифом, заполнил пропуски в *churn_date* датой 2018-12-31 (пропущены значения для клиентов, которые на момент 31-12-2018 пользовались тарифом). Других пропусков в данных нет. \n",
    "\n",
    "Добавил в данные о пользователях некоторую техническую информацию\n",
    "\n",
    "- число полных дней и месяцев пользования тарифом (N_days_usage, N_months_usage)\n",
    "- месяц и день начала пользования тарифом (reg_month, reg_day)\n",
    "- месяц и день прекращения пользования (churn_month, churn_day)\n",
    "- месяц совершения действия (звонок, смс, интернет-сессия: call_month, message_month, session_month)\n",
    "- округлённое в большую сторону время разговора и число мегабайт траффика (duration_ceil, mb_used_ceil)\n",
    "\n",
    "На основе этой информации проанализировал выборку клиентов. Целью был поиск признаков неслучайности её формирования: перекос в сторону каких-либо возрастов, месяцев, чисел и т.д. Оказалось, что явных перекосов нет. Есть определённая вариабельность, но в целом выборка действительно похожа на случайную: представлены все возрасты, месяцы и дни регистрации, продолжительности пользования тарифом.  \n",
    "\n",
    "\n",
    "Проанализировал на выбросы продолжительность разговоров, объём интернет траффика. Выбросов не обнаружил, но выявил множество \"нулевых\" звонков и сессий. Счёл их пропущенными звонками и техническими пакетами. Проверил их распределение по пользователям, аномалий не обнаружил. Из анализа исключил нулевые звонки и интеренет сессии. Вид распределений улучшился после очистки."
   ]
  },
  {
   "cell_type": "markdown",
   "metadata": {},
   "source": [
    "<h1 style=\"color:SteelBlue\">3. Подготовка таблиц для анализа данных</h1>"
   ]
  },
  {
   "cell_type": "markdown",
   "metadata": {},
   "source": [
    "<h2 style=\"color:DodgerBlue\">3.1 Выбор методики анализа</h2>"
   ]
  },
  {
   "cell_type": "markdown",
   "metadata": {},
   "source": [
    "Поскольку непонятно, как считать выручку с неполного месяца пользования тарифом, в расчёт возьму только полные и почти полные месяцы. За почти полные приму те, в которых тарифом пользовались не менее 90% дней (это примерно число дней в месяце минус 3 дня).\n",
    "\n",
    "\n",
    "Большинство пользователей пользовались тарифами на момент выгрузки базы (31 декабря 2018). Если считать статистику по месяцам, начиная с даты их регистрации, то для большинства декабрь будет потерян, т.к. не будет являться полным месяцем. Удобнее считать статистику по календарным месяцам и отбросить (если там мало дней пользования) только месяц регистрации. Поскольку месяцы регистрации разные, представительность данных по месяцам останется в норме."
   ]
  },
  {
   "cell_type": "code",
   "execution_count": 26,
   "metadata": {},
   "outputs": [
    {
     "name": "stdout",
     "output_type": "stream",
     "text": [
      "Отказались от услуг до 31 декабря: 38 клиентов\n",
      "Среди них меньше месяца тарифом пользовались 3 клиента\n"
     ]
    }
   ],
   "source": [
    "print('Отказались от услуг до 31 декабря:',\n",
    "    users_df[users_df['churn_date'] != '2018-12-31']['churn_date'].count(), 'клиентов')\n",
    "print('Среди них меньше месяца тарифом пользовались',\n",
    "    users_df[(users_df['churn_date'] != '2018-12-31') & \n",
    "             (users_df['N_months_usage'] < 1)\n",
    "            ]['churn_date'].count(), 'клиента')"
   ]
  },
  {
   "cell_type": "markdown",
   "metadata": {},
   "source": [
    "Для пользователей, которые отказались от использования тарифа до 31 декабря, потеряются дополнительно к месяцам регистрации месяцы отказа, если из них прошло менее 90% дней. Например, если клиент зарегистрировался 15 марта и отказался 15 мая, то он пользовался тарифом 2 полных месяца. Но методика анализа по календарным месяцам учтёт только апрель. Будет потерян 1 полный месяц. С учётом клиентов, которые и так пользовались тарифом меньше месяца, максимум будет потеряно 35 месяцев (по месяцу на каждого клиента)."
   ]
  },
  {
   "cell_type": "code",
   "execution_count": 27,
   "metadata": {},
   "outputs": [
    {
     "name": "stdout",
     "output_type": "stream",
     "text": [
      "Всего полных месяцев пользования тарифом для всей выборки клиентов: 2707\n",
      "Доля полных месяцев, которые могут быть потеряны из-за методики анализа \n",
      "по календарным месяцам: 1.29% max\n"
     ]
    }
   ],
   "source": [
    "print('Всего полных месяцев пользования тарифом для всей выборки клиентов:', users_df['N_months_usage'].sum())\n",
    "print(f\"\"\"Доля полных месяцев, которые могут быть потеряны из-за методики анализа \n",
    "по календарным месяцам: {(35 / 2707):.2%} max\"\"\")"
   ]
  },
  {
   "cell_type": "markdown",
   "metadata": {},
   "source": [
    "Максимально возможные потери невелики. При этом у анализа по календарным месяцам, в отличие от анализа по фактически прошедшим с регистрации, больше перспектив. Можно оценить изменения от месяца к месяцу, сравнить предновогодний декабрь и другие месяцы, кварталы и т.д. С учётом этого далее данные буду готовить для анализа по календарным месяцам."
   ]
  },
  {
   "cell_type": "markdown",
   "metadata": {},
   "source": [
    "<h2 style=\"color:DodgerBlue\">Результаты выбора методики</h2>"
   ]
  },
  {
   "cell_type": "markdown",
   "metadata": {},
   "source": [
    "Анализ по календарным месяцам, в отличие от анализа по фактически прошедшим с регистрации, перспективнее. Можно оценить изменения от месяца к месяцу, сравнить предновогодний декабрь и другие месяцы и т.д. Потери данных при этом минимальны. Поэтому данные буду готовить для анализа по календарным месяцам."
   ]
  },
  {
   "cell_type": "markdown",
   "metadata": {},
   "source": [
    "<h2 style=\"color:DodgerBlue\">3.2 Подготовка сводной таблицы с данными об услугах по клиентам и месяцам</h2>"
   ]
  },
  {
   "cell_type": "markdown",
   "metadata": {},
   "source": [
    "На основе датасетов по звонкам, интернет-сессиям и смс составлю сводные таблицы. Сгруппирую и просуммирую по месяцам и id клиентов минуты звонков, мегабайты и число смс. Затем выполню объединение по столбцам месяца и id."
   ]
  },
  {
   "cell_type": "markdown",
   "metadata": {},
   "source": [
    "Датасеты с продолжительностью звонков, числом смс и объёмом интеренет траффика:"
   ]
  },
  {
   "cell_type": "code",
   "execution_count": 28,
   "metadata": {},
   "outputs": [],
   "source": [
    "calls_by_calendar_month = calls_df.pivot_table(index=['user_id', 'calendar_month'], values='duration_ceil', aggfunc='sum')\n",
    "inet_by_calendar_month = inet_df.pivot_table(index=['user_id', 'calendar_month'], values='mb_used_ceil', aggfunc='sum')\n",
    "sms_by_calendar_month = sms_df.pivot_table(index=['user_id', 'calendar_month'], values='message_date', aggfunc='count')"
   ]
  },
  {
   "cell_type": "code",
   "execution_count": 29,
   "metadata": {},
   "outputs": [
    {
     "data": {
      "text/html": [
       "<div>\n",
       "<style scoped>\n",
       "    .dataframe tbody tr th:only-of-type {\n",
       "        vertical-align: middle;\n",
       "    }\n",
       "\n",
       "    .dataframe tbody tr th {\n",
       "        vertical-align: top;\n",
       "    }\n",
       "\n",
       "    .dataframe thead th {\n",
       "        text-align: right;\n",
       "    }\n",
       "</style>\n",
       "<table border=\"1\" class=\"dataframe\">\n",
       "  <thead>\n",
       "    <tr style=\"text-align: right;\">\n",
       "      <th></th>\n",
       "      <th></th>\n",
       "      <th>duration_ceil</th>\n",
       "    </tr>\n",
       "    <tr>\n",
       "      <th>user_id</th>\n",
       "      <th>calendar_month</th>\n",
       "      <th></th>\n",
       "    </tr>\n",
       "  </thead>\n",
       "  <tbody>\n",
       "    <tr>\n",
       "      <th rowspan=\"5\" valign=\"top\">1000</th>\n",
       "      <th>5</th>\n",
       "      <td>159</td>\n",
       "    </tr>\n",
       "    <tr>\n",
       "      <th>6</th>\n",
       "      <td>172</td>\n",
       "    </tr>\n",
       "    <tr>\n",
       "      <th>7</th>\n",
       "      <td>340</td>\n",
       "    </tr>\n",
       "    <tr>\n",
       "      <th>8</th>\n",
       "      <td>408</td>\n",
       "    </tr>\n",
       "    <tr>\n",
       "      <th>9</th>\n",
       "      <td>466</td>\n",
       "    </tr>\n",
       "  </tbody>\n",
       "</table>\n",
       "</div>"
      ],
      "text/plain": [
       "                        duration_ceil\n",
       "user_id calendar_month               \n",
       "1000    5                         159\n",
       "        6                         172\n",
       "        7                         340\n",
       "        8                         408\n",
       "        9                         466"
      ]
     },
     "metadata": {},
     "output_type": "display_data"
    },
    {
     "data": {
      "text/html": [
       "<div>\n",
       "<style scoped>\n",
       "    .dataframe tbody tr th:only-of-type {\n",
       "        vertical-align: middle;\n",
       "    }\n",
       "\n",
       "    .dataframe tbody tr th {\n",
       "        vertical-align: top;\n",
       "    }\n",
       "\n",
       "    .dataframe thead th {\n",
       "        text-align: right;\n",
       "    }\n",
       "</style>\n",
       "<table border=\"1\" class=\"dataframe\">\n",
       "  <thead>\n",
       "    <tr style=\"text-align: right;\">\n",
       "      <th></th>\n",
       "      <th></th>\n",
       "      <th>mb_used_ceil</th>\n",
       "    </tr>\n",
       "    <tr>\n",
       "      <th>user_id</th>\n",
       "      <th>calendar_month</th>\n",
       "      <th></th>\n",
       "    </tr>\n",
       "  </thead>\n",
       "  <tbody>\n",
       "    <tr>\n",
       "      <th rowspan=\"5\" valign=\"top\">1000</th>\n",
       "      <th>5</th>\n",
       "      <td>2256</td>\n",
       "    </tr>\n",
       "    <tr>\n",
       "      <th>6</th>\n",
       "      <td>23257</td>\n",
       "    </tr>\n",
       "    <tr>\n",
       "      <th>7</th>\n",
       "      <td>14016</td>\n",
       "    </tr>\n",
       "    <tr>\n",
       "      <th>8</th>\n",
       "      <td>14070</td>\n",
       "    </tr>\n",
       "    <tr>\n",
       "      <th>9</th>\n",
       "      <td>14581</td>\n",
       "    </tr>\n",
       "  </tbody>\n",
       "</table>\n",
       "</div>"
      ],
      "text/plain": [
       "                        mb_used_ceil\n",
       "user_id calendar_month              \n",
       "1000    5                       2256\n",
       "        6                      23257\n",
       "        7                      14016\n",
       "        8                      14070\n",
       "        9                      14581"
      ]
     },
     "metadata": {},
     "output_type": "display_data"
    },
    {
     "data": {
      "text/html": [
       "<div>\n",
       "<style scoped>\n",
       "    .dataframe tbody tr th:only-of-type {\n",
       "        vertical-align: middle;\n",
       "    }\n",
       "\n",
       "    .dataframe tbody tr th {\n",
       "        vertical-align: top;\n",
       "    }\n",
       "\n",
       "    .dataframe thead th {\n",
       "        text-align: right;\n",
       "    }\n",
       "</style>\n",
       "<table border=\"1\" class=\"dataframe\">\n",
       "  <thead>\n",
       "    <tr style=\"text-align: right;\">\n",
       "      <th></th>\n",
       "      <th></th>\n",
       "      <th>message_date</th>\n",
       "    </tr>\n",
       "    <tr>\n",
       "      <th>user_id</th>\n",
       "      <th>calendar_month</th>\n",
       "      <th></th>\n",
       "    </tr>\n",
       "  </thead>\n",
       "  <tbody>\n",
       "    <tr>\n",
       "      <th rowspan=\"5\" valign=\"top\">1000</th>\n",
       "      <th>5</th>\n",
       "      <td>22</td>\n",
       "    </tr>\n",
       "    <tr>\n",
       "      <th>6</th>\n",
       "      <td>60</td>\n",
       "    </tr>\n",
       "    <tr>\n",
       "      <th>7</th>\n",
       "      <td>75</td>\n",
       "    </tr>\n",
       "    <tr>\n",
       "      <th>8</th>\n",
       "      <td>81</td>\n",
       "    </tr>\n",
       "    <tr>\n",
       "      <th>9</th>\n",
       "      <td>57</td>\n",
       "    </tr>\n",
       "  </tbody>\n",
       "</table>\n",
       "</div>"
      ],
      "text/plain": [
       "                        message_date\n",
       "user_id calendar_month              \n",
       "1000    5                         22\n",
       "        6                         60\n",
       "        7                         75\n",
       "        8                         81\n",
       "        9                         57"
      ]
     },
     "metadata": {},
     "output_type": "display_data"
    }
   ],
   "source": [
    "display(calls_by_calendar_month.head(), inet_by_calendar_month.head(), sms_by_calendar_month.head())"
   ]
  },
  {
   "cell_type": "code",
   "execution_count": 30,
   "metadata": {},
   "outputs": [
    {
     "name": "stdout",
     "output_type": "stream",
     "text": [
      "<class 'pandas.core.frame.DataFrame'>\n",
      "MultiIndex: 3168 entries, (1000, 5) to (1499, 12)\n",
      "Data columns (total 1 columns):\n",
      " #   Column         Non-Null Count  Dtype\n",
      "---  ------         --------------  -----\n",
      " 0   duration_ceil  3168 non-null   int32\n",
      "dtypes: int32(1)\n",
      "memory usage: 25.8 KB\n"
     ]
    }
   ],
   "source": [
    "calls_by_calendar_month.info()"
   ]
  },
  {
   "cell_type": "code",
   "execution_count": 31,
   "metadata": {},
   "outputs": [
    {
     "name": "stdout",
     "output_type": "stream",
     "text": [
      "<class 'pandas.core.frame.DataFrame'>\n",
      "MultiIndex: 3201 entries, (1000, 5) to (1499, 12)\n",
      "Data columns (total 1 columns):\n",
      " #   Column        Non-Null Count  Dtype\n",
      "---  ------        --------------  -----\n",
      " 0   mb_used_ceil  3201 non-null   int32\n",
      "dtypes: int32(1)\n",
      "memory usage: 26.0 KB\n"
     ]
    }
   ],
   "source": [
    "inet_by_calendar_month.info()"
   ]
  },
  {
   "cell_type": "code",
   "execution_count": 32,
   "metadata": {},
   "outputs": [
    {
     "name": "stdout",
     "output_type": "stream",
     "text": [
      "<class 'pandas.core.frame.DataFrame'>\n",
      "MultiIndex: 2717 entries, (1000, 5) to (1499, 12)\n",
      "Data columns (total 1 columns):\n",
      " #   Column        Non-Null Count  Dtype\n",
      "---  ------        --------------  -----\n",
      " 0   message_date  2717 non-null   int64\n",
      "dtypes: int64(1)\n",
      "memory usage: 32.8 KB\n"
     ]
    }
   ],
   "source": [
    "sms_by_calendar_month.info()"
   ]
  },
  {
   "cell_type": "markdown",
   "metadata": {},
   "source": [
    "Объединяю, переименовываю столбцы. У некоторых пользователей в месяце не всегда есть смс, звонки или интернет-сессии, поэтому при слиянии возникнут NaN. Их заполню нулями."
   ]
  },
  {
   "cell_type": "code",
   "execution_count": 33,
   "metadata": {},
   "outputs": [],
   "source": [
    "calls_mrg_inet = calls_by_calendar_month.merge(inet_by_calendar_month, on=['calendar_month', 'user_id'], how='outer')\n",
    "stat_by_calendar_month = calls_mrg_inet.merge(sms_by_calendar_month, \n",
    "                                               on=['calendar_month', 'user_id'], \n",
    "                                               how='outer').reset_index()\n",
    "stat_by_calendar_month.fillna(0, inplace=True)"
   ]
  },
  {
   "cell_type": "code",
   "execution_count": 34,
   "metadata": {},
   "outputs": [
    {
     "name": "stdout",
     "output_type": "stream",
     "text": [
      "<class 'pandas.core.frame.DataFrame'>\n",
      "RangeIndex: 3214 entries, 0 to 3213\n",
      "Data columns (total 5 columns):\n",
      " #   Column          Non-Null Count  Dtype  \n",
      "---  ------          --------------  -----  \n",
      " 0   calendar_month  3214 non-null   int64  \n",
      " 1   user_id         3214 non-null   int64  \n",
      " 2   duration_ceil   3214 non-null   float64\n",
      " 3   mb_used_ceil    3214 non-null   float64\n",
      " 4   message_date    3214 non-null   float64\n",
      "dtypes: float64(3), int64(2)\n",
      "memory usage: 125.7 KB\n"
     ]
    }
   ],
   "source": [
    "stat_by_calendar_month.info()"
   ]
  },
  {
   "cell_type": "markdown",
   "metadata": {},
   "source": [
    "Переименую столбцы согласно смыслу содержимого."
   ]
  },
  {
   "cell_type": "markdown",
   "metadata": {},
   "source": [
    "<h2 style=\"color:DodgerBlue\">Создана сводная таблица с минутами разговоров, количеством смс и интернет-траффиком по календарным месяцам и клиентам:</h2>"
   ]
  },
  {
   "cell_type": "code",
   "execution_count": 35,
   "metadata": {},
   "outputs": [
    {
     "data": {
      "text/html": [
       "<div>\n",
       "<style scoped>\n",
       "    .dataframe tbody tr th:only-of-type {\n",
       "        vertical-align: middle;\n",
       "    }\n",
       "\n",
       "    .dataframe tbody tr th {\n",
       "        vertical-align: top;\n",
       "    }\n",
       "\n",
       "    .dataframe thead th {\n",
       "        text-align: right;\n",
       "    }\n",
       "</style>\n",
       "<table border=\"1\" class=\"dataframe\">\n",
       "  <thead>\n",
       "    <tr style=\"text-align: right;\">\n",
       "      <th></th>\n",
       "      <th>calendar_month</th>\n",
       "      <th>user_id</th>\n",
       "      <th>minutes_used</th>\n",
       "      <th>mb_used</th>\n",
       "      <th>messages</th>\n",
       "    </tr>\n",
       "  </thead>\n",
       "  <tbody>\n",
       "    <tr>\n",
       "      <th>0</th>\n",
       "      <td>5</td>\n",
       "      <td>1000</td>\n",
       "      <td>159.0</td>\n",
       "      <td>2256.0</td>\n",
       "      <td>22.0</td>\n",
       "    </tr>\n",
       "    <tr>\n",
       "      <th>1</th>\n",
       "      <td>6</td>\n",
       "      <td>1000</td>\n",
       "      <td>172.0</td>\n",
       "      <td>23257.0</td>\n",
       "      <td>60.0</td>\n",
       "    </tr>\n",
       "    <tr>\n",
       "      <th>2</th>\n",
       "      <td>7</td>\n",
       "      <td>1000</td>\n",
       "      <td>340.0</td>\n",
       "      <td>14016.0</td>\n",
       "      <td>75.0</td>\n",
       "    </tr>\n",
       "    <tr>\n",
       "      <th>3</th>\n",
       "      <td>8</td>\n",
       "      <td>1000</td>\n",
       "      <td>408.0</td>\n",
       "      <td>14070.0</td>\n",
       "      <td>81.0</td>\n",
       "    </tr>\n",
       "    <tr>\n",
       "      <th>4</th>\n",
       "      <td>9</td>\n",
       "      <td>1000</td>\n",
       "      <td>466.0</td>\n",
       "      <td>14581.0</td>\n",
       "      <td>57.0</td>\n",
       "    </tr>\n",
       "  </tbody>\n",
       "</table>\n",
       "</div>"
      ],
      "text/plain": [
       "   calendar_month  user_id  minutes_used  mb_used  messages\n",
       "0               5     1000         159.0   2256.0      22.0\n",
       "1               6     1000         172.0  23257.0      60.0\n",
       "2               7     1000         340.0  14016.0      75.0\n",
       "3               8     1000         408.0  14070.0      81.0\n",
       "4               9     1000         466.0  14581.0      57.0"
      ]
     },
     "execution_count": 35,
     "metadata": {},
     "output_type": "execute_result"
    }
   ],
   "source": [
    "stats_rename_list = {'message_date': 'messages',\n",
    "                     'duration_ceil':'minutes_used',\n",
    "                     'mb_used_ceil': 'mb_used'}\n",
    "\n",
    "stat_by_calendar_month.rename(columns=stats_rename_list, inplace=True)\n",
    "stat_by_calendar_month.head()"
   ]
  },
  {
   "cell_type": "code",
   "execution_count": 36,
   "metadata": {},
   "outputs": [
    {
     "name": "stdout",
     "output_type": "stream",
     "text": [
      "<class 'pandas.core.frame.DataFrame'>\n",
      "RangeIndex: 3214 entries, 0 to 3213\n",
      "Data columns (total 5 columns):\n",
      " #   Column          Non-Null Count  Dtype  \n",
      "---  ------          --------------  -----  \n",
      " 0   calendar_month  3214 non-null   int64  \n",
      " 1   user_id         3214 non-null   int64  \n",
      " 2   minutes_used    3214 non-null   float64\n",
      " 3   mb_used         3214 non-null   float64\n",
      " 4   messages        3214 non-null   float64\n",
      "dtypes: float64(3), int64(2)\n",
      "memory usage: 125.7 KB\n"
     ]
    }
   ],
   "source": [
    "stat_by_calendar_month.info()"
   ]
  },
  {
   "cell_type": "markdown",
   "metadata": {},
   "source": [
    "<h2 style=\"color:DodgerBlue\">3.3 Добавление информации о пользователях, отделение полных месяцев от неполных</h2>"
   ]
  },
  {
   "cell_type": "markdown",
   "metadata": {},
   "source": [
    "Добавляю информацию о пользователях, сливая с таблицей users_df:"
   ]
  },
  {
   "cell_type": "code",
   "execution_count": 37,
   "metadata": {},
   "outputs": [
    {
     "data": {
      "text/html": [
       "<div>\n",
       "<style scoped>\n",
       "    .dataframe tbody tr th:only-of-type {\n",
       "        vertical-align: middle;\n",
       "    }\n",
       "\n",
       "    .dataframe tbody tr th {\n",
       "        vertical-align: top;\n",
       "    }\n",
       "\n",
       "    .dataframe thead th {\n",
       "        text-align: right;\n",
       "    }\n",
       "</style>\n",
       "<table border=\"1\" class=\"dataframe\">\n",
       "  <thead>\n",
       "    <tr style=\"text-align: right;\">\n",
       "      <th></th>\n",
       "      <th>calendar_month</th>\n",
       "      <th>user_id</th>\n",
       "      <th>minutes_used</th>\n",
       "      <th>mb_used</th>\n",
       "      <th>messages</th>\n",
       "      <th>age</th>\n",
       "      <th>churn_date</th>\n",
       "      <th>city</th>\n",
       "      <th>reg_date</th>\n",
       "      <th>tariff</th>\n",
       "      <th>N_months_usage</th>\n",
       "      <th>N_days_usage</th>\n",
       "      <th>reg_month</th>\n",
       "      <th>reg_day</th>\n",
       "      <th>churn_month</th>\n",
       "      <th>churn_day</th>\n",
       "    </tr>\n",
       "  </thead>\n",
       "  <tbody>\n",
       "    <tr>\n",
       "      <th>0</th>\n",
       "      <td>5</td>\n",
       "      <td>1000</td>\n",
       "      <td>159.0</td>\n",
       "      <td>2256.0</td>\n",
       "      <td>22.0</td>\n",
       "      <td>52</td>\n",
       "      <td>2018-12-31</td>\n",
       "      <td>Краснодар</td>\n",
       "      <td>2018-05-25</td>\n",
       "      <td>ultra</td>\n",
       "      <td>7</td>\n",
       "      <td>220</td>\n",
       "      <td>5</td>\n",
       "      <td>25</td>\n",
       "      <td>12</td>\n",
       "      <td>31</td>\n",
       "    </tr>\n",
       "    <tr>\n",
       "      <th>1</th>\n",
       "      <td>6</td>\n",
       "      <td>1000</td>\n",
       "      <td>172.0</td>\n",
       "      <td>23257.0</td>\n",
       "      <td>60.0</td>\n",
       "      <td>52</td>\n",
       "      <td>2018-12-31</td>\n",
       "      <td>Краснодар</td>\n",
       "      <td>2018-05-25</td>\n",
       "      <td>ultra</td>\n",
       "      <td>7</td>\n",
       "      <td>220</td>\n",
       "      <td>5</td>\n",
       "      <td>25</td>\n",
       "      <td>12</td>\n",
       "      <td>31</td>\n",
       "    </tr>\n",
       "    <tr>\n",
       "      <th>2</th>\n",
       "      <td>7</td>\n",
       "      <td>1000</td>\n",
       "      <td>340.0</td>\n",
       "      <td>14016.0</td>\n",
       "      <td>75.0</td>\n",
       "      <td>52</td>\n",
       "      <td>2018-12-31</td>\n",
       "      <td>Краснодар</td>\n",
       "      <td>2018-05-25</td>\n",
       "      <td>ultra</td>\n",
       "      <td>7</td>\n",
       "      <td>220</td>\n",
       "      <td>5</td>\n",
       "      <td>25</td>\n",
       "      <td>12</td>\n",
       "      <td>31</td>\n",
       "    </tr>\n",
       "    <tr>\n",
       "      <th>3</th>\n",
       "      <td>8</td>\n",
       "      <td>1000</td>\n",
       "      <td>408.0</td>\n",
       "      <td>14070.0</td>\n",
       "      <td>81.0</td>\n",
       "      <td>52</td>\n",
       "      <td>2018-12-31</td>\n",
       "      <td>Краснодар</td>\n",
       "      <td>2018-05-25</td>\n",
       "      <td>ultra</td>\n",
       "      <td>7</td>\n",
       "      <td>220</td>\n",
       "      <td>5</td>\n",
       "      <td>25</td>\n",
       "      <td>12</td>\n",
       "      <td>31</td>\n",
       "    </tr>\n",
       "    <tr>\n",
       "      <th>4</th>\n",
       "      <td>9</td>\n",
       "      <td>1000</td>\n",
       "      <td>466.0</td>\n",
       "      <td>14581.0</td>\n",
       "      <td>57.0</td>\n",
       "      <td>52</td>\n",
       "      <td>2018-12-31</td>\n",
       "      <td>Краснодар</td>\n",
       "      <td>2018-05-25</td>\n",
       "      <td>ultra</td>\n",
       "      <td>7</td>\n",
       "      <td>220</td>\n",
       "      <td>5</td>\n",
       "      <td>25</td>\n",
       "      <td>12</td>\n",
       "      <td>31</td>\n",
       "    </tr>\n",
       "  </tbody>\n",
       "</table>\n",
       "</div>"
      ],
      "text/plain": [
       "   calendar_month  user_id  minutes_used  mb_used  messages  age churn_date  \\\n",
       "0               5     1000         159.0   2256.0      22.0   52 2018-12-31   \n",
       "1               6     1000         172.0  23257.0      60.0   52 2018-12-31   \n",
       "2               7     1000         340.0  14016.0      75.0   52 2018-12-31   \n",
       "3               8     1000         408.0  14070.0      81.0   52 2018-12-31   \n",
       "4               9     1000         466.0  14581.0      57.0   52 2018-12-31   \n",
       "\n",
       "        city   reg_date tariff  N_months_usage  N_days_usage  reg_month  \\\n",
       "0  Краснодар 2018-05-25  ultra               7           220          5   \n",
       "1  Краснодар 2018-05-25  ultra               7           220          5   \n",
       "2  Краснодар 2018-05-25  ultra               7           220          5   \n",
       "3  Краснодар 2018-05-25  ultra               7           220          5   \n",
       "4  Краснодар 2018-05-25  ultra               7           220          5   \n",
       "\n",
       "   reg_day  churn_month  churn_day  \n",
       "0       25           12         31  \n",
       "1       25           12         31  \n",
       "2       25           12         31  \n",
       "3       25           12         31  \n",
       "4       25           12         31  "
      ]
     },
     "execution_count": 37,
     "metadata": {},
     "output_type": "execute_result"
    }
   ],
   "source": [
    "stat_by_calendar_month = stat_by_calendar_month.merge(users_df, on='user_id', how='left')\n",
    "stat_by_calendar_month.head()"
   ]
  },
  {
   "cell_type": "markdown",
   "metadata": {},
   "source": [
    "Создаю флаг-столбец для маркировки полных и неполных месяцев:"
   ]
  },
  {
   "cell_type": "code",
   "execution_count": 38,
   "metadata": {},
   "outputs": [],
   "source": [
    "def full_month(df, column='calendar_month'):\n",
    "    k=3\n",
    "    not_reg_month = ( df['calendar_month'] != df['reg_month'] )\n",
    "    not_churn_month = ( df['calendar_month'] != df['churn_month'] )\n",
    "    reg_day_ok = ( df['reg_day'] <= k )\n",
    "    churn_day_ok = ( df['churn_day'] >= (pd.DatetimeIndex(df.loc[:, 'churn_date']).days_in_month - k) )\n",
    "    only1_and_days_ok = ( \n",
    "        (df['churn_day'] - df['reg_day']) >= (pd.DatetimeIndex(df.loc[:, 'churn_date']).days_in_month - k)\n",
    "    )\n",
    "    #полный календарный месяц, если\n",
    "    #это не месяц регистрации и не месяц ухода или    \n",
    "    #это месяц регистрации и не месяц ухода и день регистрации - не позднее k-го дня месяца или\n",
    "    #это месяц ухода и не месяц регистрации и день ухода не ранее, чем за k-дней до конца месяца или   \n",
    "    #это месяц регистрации и ухода и число дней не менее чем дней в месяце минус k\n",
    "    \n",
    "    its_full_calendar_month = ( \n",
    "        ( not_reg_month & not_churn_month ) | \n",
    "        ( (~not_reg_month) & not_churn_month & reg_day_ok) |\n",
    "        ( (~not_churn_month) & not_reg_month & churn_day_ok) |\n",
    "        ( ~not_reg_month & ~not_churn_month & only1_and_days_ok)\n",
    "    )\n",
    "    df.loc[:, 'its_full_calendar_month'] = its_full_calendar_month "
   ]
  },
  {
   "cell_type": "code",
   "execution_count": 39,
   "metadata": {},
   "outputs": [],
   "source": [
    "full_month(stat_by_calendar_month)"
   ]
  },
  {
   "cell_type": "markdown",
   "metadata": {},
   "source": [
    "Проверяю работу метода оценки полноты месяца. Всё корректно: для индекса 154 полных месяцев 0, но 30 дней в декабре. Считаю за полный месяц. Для индексов 98 и 99: 11й месяц неполный (регистрация 14 ноября), 12й - полный. Алгоритм помог избежать ненужных потерь."
   ]
  },
  {
   "cell_type": "code",
   "execution_count": 40,
   "metadata": {},
   "outputs": [
    {
     "data": {
      "text/html": [
       "<div>\n",
       "<style scoped>\n",
       "    .dataframe tbody tr th:only-of-type {\n",
       "        vertical-align: middle;\n",
       "    }\n",
       "\n",
       "    .dataframe tbody tr th {\n",
       "        vertical-align: top;\n",
       "    }\n",
       "\n",
       "    .dataframe thead th {\n",
       "        text-align: right;\n",
       "    }\n",
       "</style>\n",
       "<table border=\"1\" class=\"dataframe\">\n",
       "  <thead>\n",
       "    <tr style=\"text-align: right;\">\n",
       "      <th></th>\n",
       "      <th>calendar_month</th>\n",
       "      <th>user_id</th>\n",
       "      <th>minutes_used</th>\n",
       "      <th>mb_used</th>\n",
       "      <th>messages</th>\n",
       "      <th>age</th>\n",
       "      <th>churn_date</th>\n",
       "      <th>city</th>\n",
       "      <th>reg_date</th>\n",
       "      <th>tariff</th>\n",
       "      <th>N_months_usage</th>\n",
       "      <th>N_days_usage</th>\n",
       "      <th>reg_month</th>\n",
       "      <th>reg_day</th>\n",
       "      <th>churn_month</th>\n",
       "      <th>churn_day</th>\n",
       "      <th>its_full_calendar_month</th>\n",
       "    </tr>\n",
       "  </thead>\n",
       "  <tbody>\n",
       "    <tr>\n",
       "      <th>62</th>\n",
       "      <td>12</td>\n",
       "      <td>1008</td>\n",
       "      <td>339.0</td>\n",
       "      <td>13236.0</td>\n",
       "      <td>56.0</td>\n",
       "      <td>63</td>\n",
       "      <td>2018-12-31</td>\n",
       "      <td>Челябинск</td>\n",
       "      <td>2018-12-19</td>\n",
       "      <td>smart</td>\n",
       "      <td>0</td>\n",
       "      <td>12</td>\n",
       "      <td>12</td>\n",
       "      <td>19</td>\n",
       "      <td>12</td>\n",
       "      <td>31</td>\n",
       "      <td>False</td>\n",
       "    </tr>\n",
       "    <tr>\n",
       "      <th>154</th>\n",
       "      <td>12</td>\n",
       "      <td>1022</td>\n",
       "      <td>267.0</td>\n",
       "      <td>15456.0</td>\n",
       "      <td>10.0</td>\n",
       "      <td>72</td>\n",
       "      <td>2018-12-31</td>\n",
       "      <td>Санкт-Петербург</td>\n",
       "      <td>2018-12-01</td>\n",
       "      <td>smart</td>\n",
       "      <td>0</td>\n",
       "      <td>30</td>\n",
       "      <td>12</td>\n",
       "      <td>1</td>\n",
       "      <td>12</td>\n",
       "      <td>31</td>\n",
       "      <td>True</td>\n",
       "    </tr>\n",
       "    <tr>\n",
       "      <th>390</th>\n",
       "      <td>11</td>\n",
       "      <td>1062</td>\n",
       "      <td>405.0</td>\n",
       "      <td>6570.0</td>\n",
       "      <td>14.0</td>\n",
       "      <td>24</td>\n",
       "      <td>2018-12-09</td>\n",
       "      <td>Москва</td>\n",
       "      <td>2018-11-16</td>\n",
       "      <td>smart</td>\n",
       "      <td>0</td>\n",
       "      <td>23</td>\n",
       "      <td>11</td>\n",
       "      <td>16</td>\n",
       "      <td>12</td>\n",
       "      <td>9</td>\n",
       "      <td>False</td>\n",
       "    </tr>\n",
       "    <tr>\n",
       "      <th>391</th>\n",
       "      <td>12</td>\n",
       "      <td>1062</td>\n",
       "      <td>290.0</td>\n",
       "      <td>4520.0</td>\n",
       "      <td>12.0</td>\n",
       "      <td>24</td>\n",
       "      <td>2018-12-09</td>\n",
       "      <td>Москва</td>\n",
       "      <td>2018-11-16</td>\n",
       "      <td>smart</td>\n",
       "      <td>0</td>\n",
       "      <td>23</td>\n",
       "      <td>11</td>\n",
       "      <td>16</td>\n",
       "      <td>12</td>\n",
       "      <td>9</td>\n",
       "      <td>False</td>\n",
       "    </tr>\n",
       "    <tr>\n",
       "      <th>443</th>\n",
       "      <td>12</td>\n",
       "      <td>1069</td>\n",
       "      <td>349.0</td>\n",
       "      <td>11367.0</td>\n",
       "      <td>56.0</td>\n",
       "      <td>36</td>\n",
       "      <td>2018-12-31</td>\n",
       "      <td>Екатеринбург</td>\n",
       "      <td>2018-12-10</td>\n",
       "      <td>smart</td>\n",
       "      <td>0</td>\n",
       "      <td>21</td>\n",
       "      <td>12</td>\n",
       "      <td>10</td>\n",
       "      <td>12</td>\n",
       "      <td>31</td>\n",
       "      <td>False</td>\n",
       "    </tr>\n",
       "  </tbody>\n",
       "</table>\n",
       "</div>"
      ],
      "text/plain": [
       "     calendar_month  user_id  minutes_used  mb_used  messages  age churn_date  \\\n",
       "62               12     1008         339.0  13236.0      56.0   63 2018-12-31   \n",
       "154              12     1022         267.0  15456.0      10.0   72 2018-12-31   \n",
       "390              11     1062         405.0   6570.0      14.0   24 2018-12-09   \n",
       "391              12     1062         290.0   4520.0      12.0   24 2018-12-09   \n",
       "443              12     1069         349.0  11367.0      56.0   36 2018-12-31   \n",
       "\n",
       "                city   reg_date tariff  N_months_usage  N_days_usage  \\\n",
       "62         Челябинск 2018-12-19  smart               0            12   \n",
       "154  Санкт-Петербург 2018-12-01  smart               0            30   \n",
       "390           Москва 2018-11-16  smart               0            23   \n",
       "391           Москва 2018-11-16  smart               0            23   \n",
       "443     Екатеринбург 2018-12-10  smart               0            21   \n",
       "\n",
       "     reg_month  reg_day  churn_month  churn_day  its_full_calendar_month  \n",
       "62          12       19           12         31                    False  \n",
       "154         12        1           12         31                     True  \n",
       "390         11       16           12          9                    False  \n",
       "391         11       16           12          9                    False  \n",
       "443         12       10           12         31                    False  "
      ]
     },
     "execution_count": 40,
     "metadata": {},
     "output_type": "execute_result"
    }
   ],
   "source": [
    "stat_by_calendar_month[stat_by_calendar_month['N_months_usage'] == 0].head()"
   ]
  },
  {
   "cell_type": "code",
   "execution_count": 41,
   "metadata": {},
   "outputs": [
    {
     "data": {
      "text/html": [
       "<div>\n",
       "<style scoped>\n",
       "    .dataframe tbody tr th:only-of-type {\n",
       "        vertical-align: middle;\n",
       "    }\n",
       "\n",
       "    .dataframe tbody tr th {\n",
       "        vertical-align: top;\n",
       "    }\n",
       "\n",
       "    .dataframe thead th {\n",
       "        text-align: right;\n",
       "    }\n",
       "</style>\n",
       "<table border=\"1\" class=\"dataframe\">\n",
       "  <thead>\n",
       "    <tr style=\"text-align: right;\">\n",
       "      <th></th>\n",
       "      <th>calendar_month</th>\n",
       "      <th>user_id</th>\n",
       "      <th>minutes_used</th>\n",
       "      <th>mb_used</th>\n",
       "      <th>messages</th>\n",
       "      <th>age</th>\n",
       "      <th>churn_date</th>\n",
       "      <th>city</th>\n",
       "      <th>reg_date</th>\n",
       "      <th>tariff</th>\n",
       "      <th>N_months_usage</th>\n",
       "      <th>N_days_usage</th>\n",
       "      <th>reg_month</th>\n",
       "      <th>reg_day</th>\n",
       "      <th>churn_month</th>\n",
       "      <th>churn_day</th>\n",
       "      <th>its_full_calendar_month</th>\n",
       "    </tr>\n",
       "  </thead>\n",
       "  <tbody>\n",
       "    <tr>\n",
       "      <th>8</th>\n",
       "      <td>11</td>\n",
       "      <td>1001</td>\n",
       "      <td>430.0</td>\n",
       "      <td>18452.0</td>\n",
       "      <td>0.0</td>\n",
       "      <td>41</td>\n",
       "      <td>2018-12-31</td>\n",
       "      <td>Москва</td>\n",
       "      <td>2018-11-01</td>\n",
       "      <td>smart</td>\n",
       "      <td>1</td>\n",
       "      <td>60</td>\n",
       "      <td>11</td>\n",
       "      <td>1</td>\n",
       "      <td>12</td>\n",
       "      <td>31</td>\n",
       "      <td>True</td>\n",
       "    </tr>\n",
       "    <tr>\n",
       "      <th>9</th>\n",
       "      <td>12</td>\n",
       "      <td>1001</td>\n",
       "      <td>414.0</td>\n",
       "      <td>14053.0</td>\n",
       "      <td>0.0</td>\n",
       "      <td>41</td>\n",
       "      <td>2018-12-31</td>\n",
       "      <td>Москва</td>\n",
       "      <td>2018-11-01</td>\n",
       "      <td>smart</td>\n",
       "      <td>1</td>\n",
       "      <td>60</td>\n",
       "      <td>11</td>\n",
       "      <td>1</td>\n",
       "      <td>12</td>\n",
       "      <td>31</td>\n",
       "      <td>True</td>\n",
       "    </tr>\n",
       "    <tr>\n",
       "      <th>98</th>\n",
       "      <td>11</td>\n",
       "      <td>1013</td>\n",
       "      <td>369.0</td>\n",
       "      <td>9790.0</td>\n",
       "      <td>17.0</td>\n",
       "      <td>36</td>\n",
       "      <td>2018-12-31</td>\n",
       "      <td>Иваново</td>\n",
       "      <td>2018-11-14</td>\n",
       "      <td>ultra</td>\n",
       "      <td>1</td>\n",
       "      <td>47</td>\n",
       "      <td>11</td>\n",
       "      <td>14</td>\n",
       "      <td>12</td>\n",
       "      <td>31</td>\n",
       "      <td>False</td>\n",
       "    </tr>\n",
       "    <tr>\n",
       "      <th>99</th>\n",
       "      <td>12</td>\n",
       "      <td>1013</td>\n",
       "      <td>567.0</td>\n",
       "      <td>20755.0</td>\n",
       "      <td>25.0</td>\n",
       "      <td>36</td>\n",
       "      <td>2018-12-31</td>\n",
       "      <td>Иваново</td>\n",
       "      <td>2018-11-14</td>\n",
       "      <td>ultra</td>\n",
       "      <td>1</td>\n",
       "      <td>47</td>\n",
       "      <td>11</td>\n",
       "      <td>14</td>\n",
       "      <td>12</td>\n",
       "      <td>31</td>\n",
       "      <td>True</td>\n",
       "    </tr>\n",
       "    <tr>\n",
       "      <th>117</th>\n",
       "      <td>11</td>\n",
       "      <td>1016</td>\n",
       "      <td>28.0</td>\n",
       "      <td>7388.0</td>\n",
       "      <td>39.0</td>\n",
       "      <td>58</td>\n",
       "      <td>2018-12-31</td>\n",
       "      <td>Омск</td>\n",
       "      <td>2018-11-21</td>\n",
       "      <td>ultra</td>\n",
       "      <td>1</td>\n",
       "      <td>40</td>\n",
       "      <td>11</td>\n",
       "      <td>21</td>\n",
       "      <td>12</td>\n",
       "      <td>31</td>\n",
       "      <td>False</td>\n",
       "    </tr>\n",
       "  </tbody>\n",
       "</table>\n",
       "</div>"
      ],
      "text/plain": [
       "     calendar_month  user_id  minutes_used  mb_used  messages  age churn_date  \\\n",
       "8                11     1001         430.0  18452.0       0.0   41 2018-12-31   \n",
       "9                12     1001         414.0  14053.0       0.0   41 2018-12-31   \n",
       "98               11     1013         369.0   9790.0      17.0   36 2018-12-31   \n",
       "99               12     1013         567.0  20755.0      25.0   36 2018-12-31   \n",
       "117              11     1016          28.0   7388.0      39.0   58 2018-12-31   \n",
       "\n",
       "        city   reg_date tariff  N_months_usage  N_days_usage  reg_month  \\\n",
       "8     Москва 2018-11-01  smart               1            60         11   \n",
       "9     Москва 2018-11-01  smart               1            60         11   \n",
       "98   Иваново 2018-11-14  ultra               1            47         11   \n",
       "99   Иваново 2018-11-14  ultra               1            47         11   \n",
       "117     Омск 2018-11-21  ultra               1            40         11   \n",
       "\n",
       "     reg_day  churn_month  churn_day  its_full_calendar_month  \n",
       "8          1           12         31                     True  \n",
       "9          1           12         31                     True  \n",
       "98        14           12         31                    False  \n",
       "99        14           12         31                     True  \n",
       "117       21           12         31                    False  "
      ]
     },
     "execution_count": 41,
     "metadata": {},
     "output_type": "execute_result"
    }
   ],
   "source": [
    "stat_by_calendar_month[stat_by_calendar_month['N_months_usage'] == 1].head()"
   ]
  },
  {
   "cell_type": "markdown",
   "metadata": {},
   "source": [
    "Теперь, когда есть флаг-столбец с оценкой полноты месяца (пользовался ли клиент тарифом весь месяц), часть вспомогательных столбцов можно исключить. Для дальнейшего анализа понадобятся столбцы: \n",
    "\n",
    "\n",
    "<code>user_id, calendar_month, messages, mb_used, minutes_used, city, tariff</code>\n",
    "\n",
    "\n",
    "Столбец <code>its_full_calendar_month</code> использую, чтобы удалить записи с неполными месяцами."
   ]
  },
  {
   "cell_type": "code",
   "execution_count": 42,
   "metadata": {},
   "outputs": [],
   "source": [
    "def stats_info(df):\n",
    "    print('Записей с полными месяцами:', df['its_full_calendar_month'].sum())\n",
    "    print('Всего записей:', len(df))\n",
    "    print('Всего клиентов:', len(df['user_id'].unique()))\n",
    "    print('Клиентов smart:', len( df.loc[df.loc[:, 'tariff'] == 'smart', 'user_id'].unique() ) )\n",
    "    print('Клиентов ultra:', len( df.loc[df.loc[:, 'tariff'] == 'ultra', 'user_id'].unique() ) )"
   ]
  },
  {
   "cell_type": "code",
   "execution_count": 43,
   "metadata": {},
   "outputs": [
    {
     "name": "stdout",
     "output_type": "stream",
     "text": [
      "Статистика до очистки\n",
      "\n",
      "Записей с полными месяцами: 2739\n",
      "Всего записей: 3214\n",
      "Всего клиентов: 498\n",
      "Клиентов smart: 350\n",
      "Клиентов ultra: 148\n"
     ]
    }
   ],
   "source": [
    "print('Статистика до очистки\\n')\n",
    "stats_info(stat_by_calendar_month)"
   ]
  },
  {
   "cell_type": "code",
   "execution_count": 44,
   "metadata": {},
   "outputs": [],
   "source": [
    "indexes_to_drop = stat_by_calendar_month[~stat_by_calendar_month['its_full_calendar_month']].index\n",
    "stat_by_calendar_month.drop(indexes_to_drop, inplace=True)\n",
    "stat_by_calendar_month.reset_index(drop=True, inplace=True)"
   ]
  },
  {
   "cell_type": "code",
   "execution_count": 45,
   "metadata": {},
   "outputs": [
    {
     "name": "stdout",
     "output_type": "stream",
     "text": [
      "Статистика после очистки\n",
      "\n",
      "Записей с полными месяцами: 2739\n",
      "Всего записей: 2739\n",
      "Всего клиентов: 466\n",
      "Клиентов smart: 326\n",
      "Клиентов ultra: 140\n"
     ]
    }
   ],
   "source": [
    "print('Статистика после очистки\\n')\n",
    "stats_info(stat_by_calendar_month)"
   ]
  },
  {
   "cell_type": "markdown",
   "metadata": {},
   "source": [
    "Потери по записям - около 15%. При этом представление тарифов в выборке по прежнему хорошее: потери по клиентам около 6%."
   ]
  },
  {
   "cell_type": "code",
   "execution_count": 46,
   "metadata": {},
   "outputs": [],
   "source": [
    "col_for_analisys_list = ['user_id', 'calendar_month', 'messages', 'mb_used', 'minutes_used', 'city', 'tariff']"
   ]
  },
  {
   "cell_type": "code",
   "execution_count": 47,
   "metadata": {},
   "outputs": [],
   "source": [
    "stat_by_calendar_month = stat_by_calendar_month[col_for_analisys_list]"
   ]
  },
  {
   "cell_type": "markdown",
   "metadata": {},
   "source": [
    "<h2 style=\"color:DodgerBlue\">Информация о пользователях добавлена, исключены неполные месяцы использования тарифа. Таблица обновлена:</h2>"
   ]
  },
  {
   "cell_type": "code",
   "execution_count": 48,
   "metadata": {},
   "outputs": [
    {
     "data": {
      "text/html": [
       "<div>\n",
       "<style scoped>\n",
       "    .dataframe tbody tr th:only-of-type {\n",
       "        vertical-align: middle;\n",
       "    }\n",
       "\n",
       "    .dataframe tbody tr th {\n",
       "        vertical-align: top;\n",
       "    }\n",
       "\n",
       "    .dataframe thead th {\n",
       "        text-align: right;\n",
       "    }\n",
       "</style>\n",
       "<table border=\"1\" class=\"dataframe\">\n",
       "  <thead>\n",
       "    <tr style=\"text-align: right;\">\n",
       "      <th></th>\n",
       "      <th>user_id</th>\n",
       "      <th>calendar_month</th>\n",
       "      <th>messages</th>\n",
       "      <th>mb_used</th>\n",
       "      <th>minutes_used</th>\n",
       "      <th>city</th>\n",
       "      <th>tariff</th>\n",
       "    </tr>\n",
       "  </thead>\n",
       "  <tbody>\n",
       "    <tr>\n",
       "      <th>0</th>\n",
       "      <td>1000</td>\n",
       "      <td>6</td>\n",
       "      <td>60.0</td>\n",
       "      <td>23257.0</td>\n",
       "      <td>172.0</td>\n",
       "      <td>Краснодар</td>\n",
       "      <td>ultra</td>\n",
       "    </tr>\n",
       "    <tr>\n",
       "      <th>1</th>\n",
       "      <td>1000</td>\n",
       "      <td>7</td>\n",
       "      <td>75.0</td>\n",
       "      <td>14016.0</td>\n",
       "      <td>340.0</td>\n",
       "      <td>Краснодар</td>\n",
       "      <td>ultra</td>\n",
       "    </tr>\n",
       "    <tr>\n",
       "      <th>2</th>\n",
       "      <td>1000</td>\n",
       "      <td>8</td>\n",
       "      <td>81.0</td>\n",
       "      <td>14070.0</td>\n",
       "      <td>408.0</td>\n",
       "      <td>Краснодар</td>\n",
       "      <td>ultra</td>\n",
       "    </tr>\n",
       "    <tr>\n",
       "      <th>3</th>\n",
       "      <td>1000</td>\n",
       "      <td>9</td>\n",
       "      <td>57.0</td>\n",
       "      <td>14581.0</td>\n",
       "      <td>466.0</td>\n",
       "      <td>Краснодар</td>\n",
       "      <td>ultra</td>\n",
       "    </tr>\n",
       "    <tr>\n",
       "      <th>4</th>\n",
       "      <td>1000</td>\n",
       "      <td>10</td>\n",
       "      <td>73.0</td>\n",
       "      <td>14717.0</td>\n",
       "      <td>350.0</td>\n",
       "      <td>Краснодар</td>\n",
       "      <td>ultra</td>\n",
       "    </tr>\n",
       "  </tbody>\n",
       "</table>\n",
       "</div>"
      ],
      "text/plain": [
       "   user_id  calendar_month  messages  mb_used  minutes_used       city tariff\n",
       "0     1000               6      60.0  23257.0         172.0  Краснодар  ultra\n",
       "1     1000               7      75.0  14016.0         340.0  Краснодар  ultra\n",
       "2     1000               8      81.0  14070.0         408.0  Краснодар  ultra\n",
       "3     1000               9      57.0  14581.0         466.0  Краснодар  ultra\n",
       "4     1000              10      73.0  14717.0         350.0  Краснодар  ultra"
      ]
     },
     "metadata": {},
     "output_type": "display_data"
    },
    {
     "data": {
      "text/html": [
       "<div>\n",
       "<style scoped>\n",
       "    .dataframe tbody tr th:only-of-type {\n",
       "        vertical-align: middle;\n",
       "    }\n",
       "\n",
       "    .dataframe tbody tr th {\n",
       "        vertical-align: top;\n",
       "    }\n",
       "\n",
       "    .dataframe thead th {\n",
       "        text-align: right;\n",
       "    }\n",
       "</style>\n",
       "<table border=\"1\" class=\"dataframe\">\n",
       "  <thead>\n",
       "    <tr style=\"text-align: right;\">\n",
       "      <th></th>\n",
       "      <th>user_id</th>\n",
       "      <th>calendar_month</th>\n",
       "      <th>messages</th>\n",
       "      <th>mb_used</th>\n",
       "      <th>minutes_used</th>\n",
       "      <th>city</th>\n",
       "      <th>tariff</th>\n",
       "    </tr>\n",
       "  </thead>\n",
       "  <tbody>\n",
       "    <tr>\n",
       "      <th>2734</th>\n",
       "      <td>1473</td>\n",
       "      <td>12</td>\n",
       "      <td>20.0</td>\n",
       "      <td>18432.0</td>\n",
       "      <td>0.0</td>\n",
       "      <td>Красноярск</td>\n",
       "      <td>ultra</td>\n",
       "    </tr>\n",
       "    <tr>\n",
       "      <th>2735</th>\n",
       "      <td>1489</td>\n",
       "      <td>9</td>\n",
       "      <td>32.0</td>\n",
       "      <td>17232.0</td>\n",
       "      <td>0.0</td>\n",
       "      <td>Санкт-Петербург</td>\n",
       "      <td>smart</td>\n",
       "    </tr>\n",
       "    <tr>\n",
       "      <th>2736</th>\n",
       "      <td>1489</td>\n",
       "      <td>10</td>\n",
       "      <td>21.0</td>\n",
       "      <td>19588.0</td>\n",
       "      <td>0.0</td>\n",
       "      <td>Санкт-Петербург</td>\n",
       "      <td>smart</td>\n",
       "    </tr>\n",
       "    <tr>\n",
       "      <th>2737</th>\n",
       "      <td>1489</td>\n",
       "      <td>11</td>\n",
       "      <td>20.0</td>\n",
       "      <td>17516.0</td>\n",
       "      <td>0.0</td>\n",
       "      <td>Санкт-Петербург</td>\n",
       "      <td>smart</td>\n",
       "    </tr>\n",
       "    <tr>\n",
       "      <th>2738</th>\n",
       "      <td>1489</td>\n",
       "      <td>12</td>\n",
       "      <td>35.0</td>\n",
       "      <td>17341.0</td>\n",
       "      <td>0.0</td>\n",
       "      <td>Санкт-Петербург</td>\n",
       "      <td>smart</td>\n",
       "    </tr>\n",
       "  </tbody>\n",
       "</table>\n",
       "</div>"
      ],
      "text/plain": [
       "      user_id  calendar_month  messages  mb_used  minutes_used  \\\n",
       "2734     1473              12      20.0  18432.0           0.0   \n",
       "2735     1489               9      32.0  17232.0           0.0   \n",
       "2736     1489              10      21.0  19588.0           0.0   \n",
       "2737     1489              11      20.0  17516.0           0.0   \n",
       "2738     1489              12      35.0  17341.0           0.0   \n",
       "\n",
       "                 city tariff  \n",
       "2734       Красноярск  ultra  \n",
       "2735  Санкт-Петербург  smart  \n",
       "2736  Санкт-Петербург  smart  \n",
       "2737  Санкт-Петербург  smart  \n",
       "2738  Санкт-Петербург  smart  "
      ]
     },
     "metadata": {},
     "output_type": "display_data"
    }
   ],
   "source": [
    "display(stat_by_calendar_month.head())\n",
    "display(stat_by_calendar_month.tail())"
   ]
  },
  {
   "cell_type": "markdown",
   "metadata": {},
   "source": [
    "Результат объединения данных из таблиц по продолжительности звонков, числу смс, объёму траффика и информации о клиентах - таблица с 2739 записями. Таблица сгруппирована по id клиентов и **полным** календарным месяцам пользования тарифом. Алгоритм выделения полных месяцев позволил избежать лишних потерь. На базе данной таблицы можно получить ежемесячную статистику по каждому клиенту, среднемесячную статистику по каждому клиенту и по всей выборке, среднемесячную годовую статистику."
   ]
  },
  {
   "cell_type": "markdown",
   "metadata": {},
   "source": [
    "<h2 style=\"color:DodgerBlue\">3.4 Расчёт перерасходов и прибыли, подготовка итоговой таблицы для анализа</h2>"
   ]
  },
  {
   "cell_type": "markdown",
   "metadata": {},
   "source": [
    "Для расчёта прибыли в таблицу добавлю столбцы с данными тарифа и столбцы перерасхода: <code>'extra_gb', 'extra_sms', 'extra_minutes'</code>"
   ]
  },
  {
   "cell_type": "code",
   "execution_count": 49,
   "metadata": {},
   "outputs": [
    {
     "name": "stdout",
     "output_type": "stream",
     "text": [
      "Данные тарифов\n"
     ]
    },
    {
     "data": {
      "text/html": [
       "<div>\n",
       "<style scoped>\n",
       "    .dataframe tbody tr th:only-of-type {\n",
       "        vertical-align: middle;\n",
       "    }\n",
       "\n",
       "    .dataframe tbody tr th {\n",
       "        vertical-align: top;\n",
       "    }\n",
       "\n",
       "    .dataframe thead th {\n",
       "        text-align: right;\n",
       "    }\n",
       "</style>\n",
       "<table border=\"1\" class=\"dataframe\">\n",
       "  <thead>\n",
       "    <tr style=\"text-align: right;\">\n",
       "      <th></th>\n",
       "      <th>messages_included</th>\n",
       "      <th>mb_per_month_included</th>\n",
       "      <th>minutes_included</th>\n",
       "      <th>rub_monthly_fee</th>\n",
       "      <th>rub_per_gb</th>\n",
       "      <th>rub_per_message</th>\n",
       "      <th>rub_per_minute</th>\n",
       "      <th>tariff</th>\n",
       "    </tr>\n",
       "  </thead>\n",
       "  <tbody>\n",
       "    <tr>\n",
       "      <th>0</th>\n",
       "      <td>50</td>\n",
       "      <td>15360</td>\n",
       "      <td>500</td>\n",
       "      <td>550</td>\n",
       "      <td>200</td>\n",
       "      <td>3</td>\n",
       "      <td>3</td>\n",
       "      <td>smart</td>\n",
       "    </tr>\n",
       "    <tr>\n",
       "      <th>1</th>\n",
       "      <td>1000</td>\n",
       "      <td>30720</td>\n",
       "      <td>3000</td>\n",
       "      <td>1950</td>\n",
       "      <td>150</td>\n",
       "      <td>1</td>\n",
       "      <td>1</td>\n",
       "      <td>ultra</td>\n",
       "    </tr>\n",
       "  </tbody>\n",
       "</table>\n",
       "</div>"
      ],
      "text/plain": [
       "   messages_included  mb_per_month_included  minutes_included  \\\n",
       "0                 50                  15360               500   \n",
       "1               1000                  30720              3000   \n",
       "\n",
       "   rub_monthly_fee  rub_per_gb  rub_per_message  rub_per_minute tariff  \n",
       "0              550         200                3               3  smart  \n",
       "1             1950         150                1               1  ultra  "
      ]
     },
     "execution_count": 49,
     "metadata": {},
     "output_type": "execute_result"
    }
   ],
   "source": [
    "tariffs_df.rename(columns={'tariff_name':'tariff'}, inplace=True)\n",
    "print('Данные тарифов')\n",
    "tariffs_df"
   ]
  },
  {
   "cell_type": "code",
   "execution_count": 50,
   "metadata": {},
   "outputs": [
    {
     "name": "stdout",
     "output_type": "stream",
     "text": [
      "Объединённая таблица информации о действиях клиентов и информации по тарифам\n"
     ]
    },
    {
     "data": {
      "text/html": [
       "<div>\n",
       "<style scoped>\n",
       "    .dataframe tbody tr th:only-of-type {\n",
       "        vertical-align: middle;\n",
       "    }\n",
       "\n",
       "    .dataframe tbody tr th {\n",
       "        vertical-align: top;\n",
       "    }\n",
       "\n",
       "    .dataframe thead th {\n",
       "        text-align: right;\n",
       "    }\n",
       "</style>\n",
       "<table border=\"1\" class=\"dataframe\">\n",
       "  <thead>\n",
       "    <tr style=\"text-align: right;\">\n",
       "      <th></th>\n",
       "      <th>user_id</th>\n",
       "      <th>calendar_month</th>\n",
       "      <th>messages</th>\n",
       "      <th>mb_used</th>\n",
       "      <th>minutes_used</th>\n",
       "      <th>city</th>\n",
       "      <th>tariff</th>\n",
       "      <th>messages_included</th>\n",
       "      <th>mb_per_month_included</th>\n",
       "      <th>minutes_included</th>\n",
       "      <th>rub_monthly_fee</th>\n",
       "      <th>rub_per_gb</th>\n",
       "      <th>rub_per_message</th>\n",
       "      <th>rub_per_minute</th>\n",
       "    </tr>\n",
       "  </thead>\n",
       "  <tbody>\n",
       "    <tr>\n",
       "      <th>0</th>\n",
       "      <td>1000</td>\n",
       "      <td>6</td>\n",
       "      <td>60.0</td>\n",
       "      <td>23257.0</td>\n",
       "      <td>172.0</td>\n",
       "      <td>Краснодар</td>\n",
       "      <td>ultra</td>\n",
       "      <td>1000</td>\n",
       "      <td>30720</td>\n",
       "      <td>3000</td>\n",
       "      <td>1950</td>\n",
       "      <td>150</td>\n",
       "      <td>1</td>\n",
       "      <td>1</td>\n",
       "    </tr>\n",
       "    <tr>\n",
       "      <th>1</th>\n",
       "      <td>1000</td>\n",
       "      <td>7</td>\n",
       "      <td>75.0</td>\n",
       "      <td>14016.0</td>\n",
       "      <td>340.0</td>\n",
       "      <td>Краснодар</td>\n",
       "      <td>ultra</td>\n",
       "      <td>1000</td>\n",
       "      <td>30720</td>\n",
       "      <td>3000</td>\n",
       "      <td>1950</td>\n",
       "      <td>150</td>\n",
       "      <td>1</td>\n",
       "      <td>1</td>\n",
       "    </tr>\n",
       "    <tr>\n",
       "      <th>2</th>\n",
       "      <td>1000</td>\n",
       "      <td>8</td>\n",
       "      <td>81.0</td>\n",
       "      <td>14070.0</td>\n",
       "      <td>408.0</td>\n",
       "      <td>Краснодар</td>\n",
       "      <td>ultra</td>\n",
       "      <td>1000</td>\n",
       "      <td>30720</td>\n",
       "      <td>3000</td>\n",
       "      <td>1950</td>\n",
       "      <td>150</td>\n",
       "      <td>1</td>\n",
       "      <td>1</td>\n",
       "    </tr>\n",
       "    <tr>\n",
       "      <th>3</th>\n",
       "      <td>1000</td>\n",
       "      <td>9</td>\n",
       "      <td>57.0</td>\n",
       "      <td>14581.0</td>\n",
       "      <td>466.0</td>\n",
       "      <td>Краснодар</td>\n",
       "      <td>ultra</td>\n",
       "      <td>1000</td>\n",
       "      <td>30720</td>\n",
       "      <td>3000</td>\n",
       "      <td>1950</td>\n",
       "      <td>150</td>\n",
       "      <td>1</td>\n",
       "      <td>1</td>\n",
       "    </tr>\n",
       "    <tr>\n",
       "      <th>4</th>\n",
       "      <td>1000</td>\n",
       "      <td>10</td>\n",
       "      <td>73.0</td>\n",
       "      <td>14717.0</td>\n",
       "      <td>350.0</td>\n",
       "      <td>Краснодар</td>\n",
       "      <td>ultra</td>\n",
       "      <td>1000</td>\n",
       "      <td>30720</td>\n",
       "      <td>3000</td>\n",
       "      <td>1950</td>\n",
       "      <td>150</td>\n",
       "      <td>1</td>\n",
       "      <td>1</td>\n",
       "    </tr>\n",
       "  </tbody>\n",
       "</table>\n",
       "</div>"
      ],
      "text/plain": [
       "   user_id  calendar_month  messages  mb_used  minutes_used       city tariff  \\\n",
       "0     1000               6      60.0  23257.0         172.0  Краснодар  ultra   \n",
       "1     1000               7      75.0  14016.0         340.0  Краснодар  ultra   \n",
       "2     1000               8      81.0  14070.0         408.0  Краснодар  ultra   \n",
       "3     1000               9      57.0  14581.0         466.0  Краснодар  ultra   \n",
       "4     1000              10      73.0  14717.0         350.0  Краснодар  ultra   \n",
       "\n",
       "   messages_included  mb_per_month_included  minutes_included  \\\n",
       "0               1000                  30720              3000   \n",
       "1               1000                  30720              3000   \n",
       "2               1000                  30720              3000   \n",
       "3               1000                  30720              3000   \n",
       "4               1000                  30720              3000   \n",
       "\n",
       "   rub_monthly_fee  rub_per_gb  rub_per_message  rub_per_minute  \n",
       "0             1950         150                1               1  \n",
       "1             1950         150                1               1  \n",
       "2             1950         150                1               1  \n",
       "3             1950         150                1               1  \n",
       "4             1950         150                1               1  "
      ]
     },
     "execution_count": 50,
     "metadata": {},
     "output_type": "execute_result"
    }
   ],
   "source": [
    "stat_by_calendar_month = stat_by_calendar_month.merge(tariffs_df)\n",
    "print('Объединённая таблица информации о действиях клиентов и информации по тарифам')\n",
    "stat_by_calendar_month.head()"
   ]
  },
  {
   "cell_type": "code",
   "execution_count": 51,
   "metadata": {},
   "outputs": [],
   "source": [
    "#расчёт перерасхода и его стоимости\n",
    "def add_extra_columns(df):\n",
    "    used_list = ['messages', 'mb_used', 'minutes_used']\n",
    "    included_list = ['messages_included', 'mb_per_month_included', 'minutes_included']\n",
    "    extra_list = ['extra_sms', 'extra_gb', 'extra_minutes']\n",
    "    extra_cost_list = ['rub_per_message', 'rub_per_gb', 'rub_per_minute']\n",
    "    \n",
    "    for i in range (0,3):\n",
    "        df.loc[:, extra_list[i]] = (df.loc[:, used_list[i]] - df.loc[:, included_list[i]])\n",
    "        df.loc[df.loc[:, extra_list[i]] < 0, extra_list[i]] = 0 #0 если нет перерасхода\n",
    "    \n",
    "    #сначала в столбце гигабайтов оказываются мегабайты; их перевожу в гигабайты и округляю вверх. переприсваиваю\n",
    "    df.loc[:, 'extra_gb'] = (df.loc[:, 'extra_gb'] / 1000).apply(np.ceil)\n",
    "    df.loc[:, 'extra_charge'] = 0\n",
    "    \n",
    "    for i in range (0,3):\n",
    "        df.loc[:, 'extra_charge'] +=  df[extra_list[i]]*df[extra_cost_list[i]]\n",
    "    df.loc[:, 'profit'] = df.loc[:, 'extra_charge'] + df.loc[:, 'rub_monthly_fee']"
   ]
  },
  {
   "cell_type": "code",
   "execution_count": 52,
   "metadata": {},
   "outputs": [
    {
     "name": "stdout",
     "output_type": "stream",
     "text": [
      "Объединённая таблица с информацией об оказанных услугах, тарифе, \n",
      "перерасходах, доплате и месячной выручке\n"
     ]
    },
    {
     "data": {
      "text/html": [
       "<div>\n",
       "<style scoped>\n",
       "    .dataframe tbody tr th:only-of-type {\n",
       "        vertical-align: middle;\n",
       "    }\n",
       "\n",
       "    .dataframe tbody tr th {\n",
       "        vertical-align: top;\n",
       "    }\n",
       "\n",
       "    .dataframe thead th {\n",
       "        text-align: right;\n",
       "    }\n",
       "</style>\n",
       "<table border=\"1\" class=\"dataframe\">\n",
       "  <thead>\n",
       "    <tr style=\"text-align: right;\">\n",
       "      <th></th>\n",
       "      <th>user_id</th>\n",
       "      <th>calendar_month</th>\n",
       "      <th>messages</th>\n",
       "      <th>mb_used</th>\n",
       "      <th>minutes_used</th>\n",
       "      <th>city</th>\n",
       "      <th>tariff</th>\n",
       "      <th>messages_included</th>\n",
       "      <th>mb_per_month_included</th>\n",
       "      <th>minutes_included</th>\n",
       "      <th>rub_monthly_fee</th>\n",
       "      <th>rub_per_gb</th>\n",
       "      <th>rub_per_message</th>\n",
       "      <th>rub_per_minute</th>\n",
       "      <th>extra_sms</th>\n",
       "      <th>extra_gb</th>\n",
       "      <th>extra_minutes</th>\n",
       "      <th>extra_charge</th>\n",
       "      <th>profit</th>\n",
       "    </tr>\n",
       "  </thead>\n",
       "  <tbody>\n",
       "    <tr>\n",
       "      <th>0</th>\n",
       "      <td>1000</td>\n",
       "      <td>6</td>\n",
       "      <td>60.0</td>\n",
       "      <td>23257.0</td>\n",
       "      <td>172.0</td>\n",
       "      <td>Краснодар</td>\n",
       "      <td>ultra</td>\n",
       "      <td>1000</td>\n",
       "      <td>30720</td>\n",
       "      <td>3000</td>\n",
       "      <td>1950</td>\n",
       "      <td>150</td>\n",
       "      <td>1</td>\n",
       "      <td>1</td>\n",
       "      <td>0.0</td>\n",
       "      <td>0.0</td>\n",
       "      <td>0.0</td>\n",
       "      <td>0.0</td>\n",
       "      <td>1950.0</td>\n",
       "    </tr>\n",
       "    <tr>\n",
       "      <th>1</th>\n",
       "      <td>1000</td>\n",
       "      <td>7</td>\n",
       "      <td>75.0</td>\n",
       "      <td>14016.0</td>\n",
       "      <td>340.0</td>\n",
       "      <td>Краснодар</td>\n",
       "      <td>ultra</td>\n",
       "      <td>1000</td>\n",
       "      <td>30720</td>\n",
       "      <td>3000</td>\n",
       "      <td>1950</td>\n",
       "      <td>150</td>\n",
       "      <td>1</td>\n",
       "      <td>1</td>\n",
       "      <td>0.0</td>\n",
       "      <td>0.0</td>\n",
       "      <td>0.0</td>\n",
       "      <td>0.0</td>\n",
       "      <td>1950.0</td>\n",
       "    </tr>\n",
       "    <tr>\n",
       "      <th>2</th>\n",
       "      <td>1000</td>\n",
       "      <td>8</td>\n",
       "      <td>81.0</td>\n",
       "      <td>14070.0</td>\n",
       "      <td>408.0</td>\n",
       "      <td>Краснодар</td>\n",
       "      <td>ultra</td>\n",
       "      <td>1000</td>\n",
       "      <td>30720</td>\n",
       "      <td>3000</td>\n",
       "      <td>1950</td>\n",
       "      <td>150</td>\n",
       "      <td>1</td>\n",
       "      <td>1</td>\n",
       "      <td>0.0</td>\n",
       "      <td>0.0</td>\n",
       "      <td>0.0</td>\n",
       "      <td>0.0</td>\n",
       "      <td>1950.0</td>\n",
       "    </tr>\n",
       "    <tr>\n",
       "      <th>3</th>\n",
       "      <td>1000</td>\n",
       "      <td>9</td>\n",
       "      <td>57.0</td>\n",
       "      <td>14581.0</td>\n",
       "      <td>466.0</td>\n",
       "      <td>Краснодар</td>\n",
       "      <td>ultra</td>\n",
       "      <td>1000</td>\n",
       "      <td>30720</td>\n",
       "      <td>3000</td>\n",
       "      <td>1950</td>\n",
       "      <td>150</td>\n",
       "      <td>1</td>\n",
       "      <td>1</td>\n",
       "      <td>0.0</td>\n",
       "      <td>0.0</td>\n",
       "      <td>0.0</td>\n",
       "      <td>0.0</td>\n",
       "      <td>1950.0</td>\n",
       "    </tr>\n",
       "    <tr>\n",
       "      <th>4</th>\n",
       "      <td>1000</td>\n",
       "      <td>10</td>\n",
       "      <td>73.0</td>\n",
       "      <td>14717.0</td>\n",
       "      <td>350.0</td>\n",
       "      <td>Краснодар</td>\n",
       "      <td>ultra</td>\n",
       "      <td>1000</td>\n",
       "      <td>30720</td>\n",
       "      <td>3000</td>\n",
       "      <td>1950</td>\n",
       "      <td>150</td>\n",
       "      <td>1</td>\n",
       "      <td>1</td>\n",
       "      <td>0.0</td>\n",
       "      <td>0.0</td>\n",
       "      <td>0.0</td>\n",
       "      <td>0.0</td>\n",
       "      <td>1950.0</td>\n",
       "    </tr>\n",
       "  </tbody>\n",
       "</table>\n",
       "</div>"
      ],
      "text/plain": [
       "   user_id  calendar_month  messages  mb_used  minutes_used       city tariff  \\\n",
       "0     1000               6      60.0  23257.0         172.0  Краснодар  ultra   \n",
       "1     1000               7      75.0  14016.0         340.0  Краснодар  ultra   \n",
       "2     1000               8      81.0  14070.0         408.0  Краснодар  ultra   \n",
       "3     1000               9      57.0  14581.0         466.0  Краснодар  ultra   \n",
       "4     1000              10      73.0  14717.0         350.0  Краснодар  ultra   \n",
       "\n",
       "   messages_included  mb_per_month_included  minutes_included  \\\n",
       "0               1000                  30720              3000   \n",
       "1               1000                  30720              3000   \n",
       "2               1000                  30720              3000   \n",
       "3               1000                  30720              3000   \n",
       "4               1000                  30720              3000   \n",
       "\n",
       "   rub_monthly_fee  rub_per_gb  rub_per_message  rub_per_minute  extra_sms  \\\n",
       "0             1950         150                1               1        0.0   \n",
       "1             1950         150                1               1        0.0   \n",
       "2             1950         150                1               1        0.0   \n",
       "3             1950         150                1               1        0.0   \n",
       "4             1950         150                1               1        0.0   \n",
       "\n",
       "   extra_gb  extra_minutes  extra_charge  profit  \n",
       "0       0.0            0.0           0.0  1950.0  \n",
       "1       0.0            0.0           0.0  1950.0  \n",
       "2       0.0            0.0           0.0  1950.0  \n",
       "3       0.0            0.0           0.0  1950.0  \n",
       "4       0.0            0.0           0.0  1950.0  "
      ]
     },
     "execution_count": 52,
     "metadata": {},
     "output_type": "execute_result"
    }
   ],
   "source": [
    "add_extra_columns(stat_by_calendar_month)\n",
    "print(\"\"\"Объединённая таблица с информацией об оказанных услугах, тарифе, \n",
    "перерасходах, доплате и месячной выручке\"\"\")\n",
    "stat_by_calendar_month.head()"
   ]
  },
  {
   "cell_type": "code",
   "execution_count": 53,
   "metadata": {},
   "outputs": [
    {
     "name": "stdout",
     "output_type": "stream",
     "text": [
      "<class 'pandas.core.frame.DataFrame'>\n",
      "Int64Index: 2739 entries, 0 to 2738\n",
      "Data columns (total 19 columns):\n",
      " #   Column                 Non-Null Count  Dtype  \n",
      "---  ------                 --------------  -----  \n",
      " 0   user_id                2739 non-null   int64  \n",
      " 1   calendar_month         2739 non-null   int64  \n",
      " 2   messages               2739 non-null   float64\n",
      " 3   mb_used                2739 non-null   float64\n",
      " 4   minutes_used           2739 non-null   float64\n",
      " 5   city                   2739 non-null   object \n",
      " 6   tariff                 2739 non-null   object \n",
      " 7   messages_included      2739 non-null   int64  \n",
      " 8   mb_per_month_included  2739 non-null   int64  \n",
      " 9   minutes_included       2739 non-null   int64  \n",
      " 10  rub_monthly_fee        2739 non-null   int64  \n",
      " 11  rub_per_gb             2739 non-null   int64  \n",
      " 12  rub_per_message        2739 non-null   int64  \n",
      " 13  rub_per_minute         2739 non-null   int64  \n",
      " 14  extra_sms              2739 non-null   float64\n",
      " 15  extra_gb               2739 non-null   float64\n",
      " 16  extra_minutes          2739 non-null   float64\n",
      " 17  extra_charge           2739 non-null   float64\n",
      " 18  profit                 2739 non-null   float64\n",
      "dtypes: float64(8), int64(9), object(2)\n",
      "memory usage: 428.0+ KB\n"
     ]
    }
   ],
   "source": [
    "stat_by_calendar_month.info()"
   ]
  },
  {
   "cell_type": "markdown",
   "metadata": {},
   "source": [
    "Для анализа не нужны данные тарифа, достаточно оставить его название. Уберу их, приведу данные к целым числам, где нужно, и сформирую итоговую таблицу для анализа."
   ]
  },
  {
   "cell_type": "code",
   "execution_count": 54,
   "metadata": {},
   "outputs": [],
   "source": [
    "to_drop_list = ['messages_included', 'mb_per_month_included', 'minutes_included', 'rub_per_gb', 'rub_per_message',\n",
    "               'rub_per_minute']\n",
    "stat_by_calendar_month.drop(columns=to_drop_list, inplace=True)"
   ]
  },
  {
   "cell_type": "markdown",
   "metadata": {},
   "source": [
    "<h1 style=\"color:SteelBlue\">Итог подготовки таблиц для анализа данных - сводная таблица</h1>"
   ]
  },
  {
   "cell_type": "code",
   "execution_count": 55,
   "metadata": {
    "scrolled": true
   },
   "outputs": [
    {
     "data": {
      "text/html": [
       "<div>\n",
       "<style scoped>\n",
       "    .dataframe tbody tr th:only-of-type {\n",
       "        vertical-align: middle;\n",
       "    }\n",
       "\n",
       "    .dataframe tbody tr th {\n",
       "        vertical-align: top;\n",
       "    }\n",
       "\n",
       "    .dataframe thead th {\n",
       "        text-align: right;\n",
       "    }\n",
       "</style>\n",
       "<table border=\"1\" class=\"dataframe\">\n",
       "  <thead>\n",
       "    <tr style=\"text-align: right;\">\n",
       "      <th></th>\n",
       "      <th>user_id</th>\n",
       "      <th>calendar_month</th>\n",
       "      <th>messages</th>\n",
       "      <th>mb_used</th>\n",
       "      <th>minutes_used</th>\n",
       "      <th>city</th>\n",
       "      <th>tariff</th>\n",
       "      <th>rub_monthly_fee</th>\n",
       "      <th>extra_sms</th>\n",
       "      <th>extra_gb</th>\n",
       "      <th>extra_minutes</th>\n",
       "      <th>extra_charge</th>\n",
       "      <th>profit</th>\n",
       "    </tr>\n",
       "  </thead>\n",
       "  <tbody>\n",
       "    <tr>\n",
       "      <th>0</th>\n",
       "      <td>1000</td>\n",
       "      <td>6</td>\n",
       "      <td>60</td>\n",
       "      <td>23257</td>\n",
       "      <td>172</td>\n",
       "      <td>Краснодар</td>\n",
       "      <td>ultra</td>\n",
       "      <td>1950</td>\n",
       "      <td>0</td>\n",
       "      <td>0</td>\n",
       "      <td>0</td>\n",
       "      <td>0</td>\n",
       "      <td>1950</td>\n",
       "    </tr>\n",
       "    <tr>\n",
       "      <th>1</th>\n",
       "      <td>1000</td>\n",
       "      <td>7</td>\n",
       "      <td>75</td>\n",
       "      <td>14016</td>\n",
       "      <td>340</td>\n",
       "      <td>Краснодар</td>\n",
       "      <td>ultra</td>\n",
       "      <td>1950</td>\n",
       "      <td>0</td>\n",
       "      <td>0</td>\n",
       "      <td>0</td>\n",
       "      <td>0</td>\n",
       "      <td>1950</td>\n",
       "    </tr>\n",
       "    <tr>\n",
       "      <th>2</th>\n",
       "      <td>1000</td>\n",
       "      <td>8</td>\n",
       "      <td>81</td>\n",
       "      <td>14070</td>\n",
       "      <td>408</td>\n",
       "      <td>Краснодар</td>\n",
       "      <td>ultra</td>\n",
       "      <td>1950</td>\n",
       "      <td>0</td>\n",
       "      <td>0</td>\n",
       "      <td>0</td>\n",
       "      <td>0</td>\n",
       "      <td>1950</td>\n",
       "    </tr>\n",
       "    <tr>\n",
       "      <th>3</th>\n",
       "      <td>1000</td>\n",
       "      <td>9</td>\n",
       "      <td>57</td>\n",
       "      <td>14581</td>\n",
       "      <td>466</td>\n",
       "      <td>Краснодар</td>\n",
       "      <td>ultra</td>\n",
       "      <td>1950</td>\n",
       "      <td>0</td>\n",
       "      <td>0</td>\n",
       "      <td>0</td>\n",
       "      <td>0</td>\n",
       "      <td>1950</td>\n",
       "    </tr>\n",
       "    <tr>\n",
       "      <th>4</th>\n",
       "      <td>1000</td>\n",
       "      <td>10</td>\n",
       "      <td>73</td>\n",
       "      <td>14717</td>\n",
       "      <td>350</td>\n",
       "      <td>Краснодар</td>\n",
       "      <td>ultra</td>\n",
       "      <td>1950</td>\n",
       "      <td>0</td>\n",
       "      <td>0</td>\n",
       "      <td>0</td>\n",
       "      <td>0</td>\n",
       "      <td>1950</td>\n",
       "    </tr>\n",
       "  </tbody>\n",
       "</table>\n",
       "</div>"
      ],
      "text/plain": [
       "   user_id  calendar_month  messages  mb_used  minutes_used       city tariff  \\\n",
       "0     1000               6        60    23257           172  Краснодар  ultra   \n",
       "1     1000               7        75    14016           340  Краснодар  ultra   \n",
       "2     1000               8        81    14070           408  Краснодар  ultra   \n",
       "3     1000               9        57    14581           466  Краснодар  ultra   \n",
       "4     1000              10        73    14717           350  Краснодар  ultra   \n",
       "\n",
       "   rub_monthly_fee  extra_sms  extra_gb  extra_minutes  extra_charge  profit  \n",
       "0             1950          0         0              0             0    1950  \n",
       "1             1950          0         0              0             0    1950  \n",
       "2             1950          0         0              0             0    1950  \n",
       "3             1950          0         0              0             0    1950  \n",
       "4             1950          0         0              0             0    1950  "
      ]
     },
     "execution_count": 55,
     "metadata": {},
     "output_type": "execute_result"
    }
   ],
   "source": [
    "to_integer_list = ['messages', 'mb_used', 'minutes_used', 'extra_sms', 'extra_gb', 'extra_minutes', 'extra_charge', 'profit']\n",
    "for int_element in to_integer_list:\n",
    "    stat_by_calendar_month.loc[:, int_element] = pd.to_numeric(stat_by_calendar_month.loc[:, int_element], \n",
    "                                                               downcast=\"integer\")\n",
    "stat_by_calendar_month.head()"
   ]
  },
  {
   "cell_type": "markdown",
   "metadata": {},
   "source": [
    "Получил датасет. В нём:\n",
    "- user_id - идентификатор пользователя\n",
    "- calendar_month - календарный месяц, для которого получены данные (только полные месяцы пользования)\n",
    "- messages - отправленные сообщения\n",
    "- mb_used - использованный сетевой траффик, округлённый в большую сторону\n",
    "- minutes_used - минуты разговора, округлённые в большую сторону\n",
    "- city - город пользователя\n",
    "- tariff - тариф пользователя\n",
    "- rub_monthly_fee - абонентская плата\n",
    "- extra_sms - превышение лимита смс за месяц\n",
    "- extra_gb - превышение лимита траффика за месяц\n",
    "- extra_minutes - превышение минут разговора за месяц\n",
    "- extra_charge - оплата превышений лимита\n",
    "- profit - суммарная прибыль с абонента за данный месяц"
   ]
  },
  {
   "cell_type": "markdown",
   "metadata": {},
   "source": [
    "<h1 style=\"color:SteelBlue\">4. Анализ данных</h1>"
   ]
  },
  {
   "cell_type": "markdown",
   "metadata": {},
   "source": [
    "<h2 style=\"color:DodgerBlue\">4.1 Анализ продолжительности звонков, числа sms, объёма интернет-траффика. Отличия пользователей тарифов</h2>"
   ]
  },
  {
   "cell_type": "code",
   "execution_count": 56,
   "metadata": {},
   "outputs": [
    {
     "data": {
      "image/png": "[encoded data removed]",
      "text/plain": [
       "<Figure size 720x576 with 3 Axes>"
      ]
     },
     "metadata": {},
     "output_type": "display_data"
    }
   ],
   "source": [
    "plt.figure(figsize=(10,8))\n",
    "plt.suptitle('Распределение клиентов по продолжительности звонков, объёму интернет-траффика, числу сообщений')\n",
    "ax1 = plt.subplot(221)\n",
    "ax2 = plt.subplot(222)\n",
    "ax3 = plt.subplot(223)\n",
    "ax1.set_title('По продолжительности звонков, плотностное')\n",
    "ax2.set_title('По объёму траффика, плотностное')\n",
    "ax3.set_title('По числу смс, плотностное')\n",
    "\n",
    "for tariff in palette.keys():\n",
    "    stat_by_calendar_month.query(\"tariff == @tariff\")['minutes_used'].hist(ax=ax1, bins=50, label=tariff, density=True,\n",
    "                                                                           color=palette[tariff], alpha=0.5)\n",
    "    \n",
    "    stat_by_calendar_month.query(\"tariff == @tariff\")['mb_used'].hist(ax=ax2, bins=50, label=tariff, density=True,\n",
    "                                                                           color=palette[tariff], alpha=0.5)\n",
    "    \n",
    "    stat_by_calendar_month.query(\"tariff == @tariff\")['messages'].hist(ax=ax3, bins=50, label=tariff, density=True,\n",
    "                                                                           color=palette[tariff], alpha=0.5)\n",
    "\n",
    "for ax in [ax1, ax2, ax3]:\n",
    "    ax.legend()\n",
    "\n",
    "plt.tight_layout(rect=(0, 0, 0.95, 0.95))\n",
    "plt.show()"
   ]
  },
  {
   "cell_type": "markdown",
   "metadata": {},
   "source": [
    "На гистограммах хорошо видно \"расползание\" и смещение гистограммы в сторону больших значений у пользователей тарифа ultra. Вариабельность среди пользователей ultra выше. Интересна доля коротких звонков, которая заметно выше, чем у пользователей smart, также как и доля сессий с небольшим объёмом интеренет траффика. "
   ]
  },
  {
   "cell_type": "markdown",
   "metadata": {},
   "source": [
    "Вообще, на гистограммах хорошо заметны отличия. Чтобы подтвердить это, воспользуюсь статистическим анализом. На гистограммах видно, что распределение данных не является нормальным. Поэтому использую **U-критерий Манна-Уитни** и **перестановочный тест**, сравнивающий \"оригинальную\" разность средних с набором полученных случайно. Уровень значимости приму 5%.\n",
    "\n",
    "**H0: между выборками нет различий**\n",
    "\n",
    "**H1: в среднем пользователи тарифа ultra дольше разговаривают, тратят больше интернет-траффика и посылают больше смс.**\n",
    "\n",
    "$\\alpha = 5 \\% $ "
   ]
  },
  {
   "cell_type": "code",
   "execution_count": 57,
   "metadata": {},
   "outputs": [],
   "source": [
    "minutes_used_smart = stat_by_calendar_month.query(\"tariff == 'smart'\")['minutes_used']\n",
    "minutes_used_ultra = stat_by_calendar_month.query(\"tariff == 'ultra'\")['minutes_used']\n",
    "mb_used_smart = stat_by_calendar_month.query(\"tariff == 'smart'\")['mb_used']\n",
    "mb_used_ultra = stat_by_calendar_month.query(\"tariff == 'ultra'\")['mb_used']\n",
    "messages_smart = stat_by_calendar_month.query(\"tariff == 'smart'\")['messages']\n",
    "messages_ultra = stat_by_calendar_month.query(\"tariff == 'ultra'\")['messages']"
   ]
  },
  {
   "cell_type": "markdown",
   "metadata": {},
   "source": [
    "**Статистика по тарифам:**"
   ]
  },
  {
   "cell_type": "code",
   "execution_count": 58,
   "metadata": {},
   "outputs": [
    {
     "name": "stdout",
     "output_type": "stream",
     "text": [
      "Тариф smart\n",
      "\n",
      "Минуты разговора. Среднее: 451.7, СКО: 175.6\n",
      "Итернет-траффик. Среднее: 17519.2, СКО: 4891.9\n",
      "Число сообщений. Среднее: 36.1, СКО: 28.6\n",
      "\n",
      "Тариф ultra\n",
      "\n",
      "Минуты разговора. Среднее: 573.5, СКО: 308.0\n",
      "Итернет-траффик. Среднее: 21128.7, СКО: 9482.5\n",
      "Число сообщений. Среднее: 53.4, СКО: 49.1\n"
     ]
    }
   ],
   "source": [
    "print('Тариф smart\\n')\n",
    "print(f'Минуты разговора. Среднее: {minutes_used_smart.mean():.1f}, СКО: {minutes_used_smart.std():.1f}')\n",
    "print(f'Итернет-траффик. Среднее: {mb_used_smart.mean():.1f}, СКО: {mb_used_smart.std():.1f}')\n",
    "print(f'Число сообщений. Среднее: {messages_smart.mean():.1f}, СКО: {messages_smart.std():.1f}')\n",
    "\n",
    "print('\\nТариф ultra\\n')\n",
    "print(f'Минуты разговора. Среднее: {minutes_used_ultra.mean():.1f}, СКО: {minutes_used_ultra.std():.1f}')\n",
    "print(f'Итернет-траффик. Среднее: {mb_used_ultra.mean():.1f}, СКО: {mb_used_ultra.std():.1f}')\n",
    "print(f'Число сообщений. Среднее: {messages_ultra.mean():.1f}, СКО: {messages_ultra.std():.1f}')"
   ]
  },
  {
   "cell_type": "code",
   "execution_count": 59,
   "metadata": {},
   "outputs": [
    {
     "data": {
      "image/png": "[encoded data removed]",
      "text/plain": [
       "<Figure size 720x360 with 3 Axes>"
      ]
     },
     "metadata": {},
     "output_type": "display_data"
    }
   ],
   "source": [
    "fig, ax = plt.subplots(ncols=3, nrows=1, figsize=(10,5))\n",
    "\n",
    "plt.suptitle('Сравнение среднемесячных минут разговора, траффика и числа сообщений для smart и ultra')\n",
    "ax[0].set_title('Минуты разговора')\n",
    "ax[1].set_title('Интернет-траффик')\n",
    "ax[2].set_title('Число сообщений')\n",
    "\n",
    "sns.barplot(y='minutes_used', data=stat_by_calendar_month, x='tariff', palette=palette, ax=ax[0], alpha=0.5)\n",
    "sns.barplot(y='mb_used', data=stat_by_calendar_month, x='tariff', palette=palette, ax=ax[1], alpha=0.5)\n",
    "sns.barplot(y='messages', data=stat_by_calendar_month, x='tariff', palette=palette, ax=ax[2], alpha=0.5)\n",
    "\n",
    "for axs in ax.flatten():\n",
    "    axs.set_xlabel('')\n",
    "    axs.set_ylabel('')\n",
    "\n",
    "plt.tight_layout(rect=(0, 0, 0.95, 0.95))    \n",
    "plt.show()"
   ]
  },
  {
   "cell_type": "markdown",
   "metadata": {},
   "source": [
    "Уже по столбчатым диаграммам с бутстрап-разбросом видно, что различия есть."
   ]
  },
  {
   "cell_type": "markdown",
   "metadata": {},
   "source": [
    "**Статистический анализ**"
   ]
  },
  {
   "cell_type": "code",
   "execution_count": 60,
   "metadata": {
    "scrolled": true
   },
   "outputs": [
    {
     "name": "stdout",
     "output_type": "stream",
     "text": [
      "U-критерий Манна-Уитни, smart vs ultra\n",
      "Минуты разговора: MannwhitneyuResult(statistic=595950.5, pvalue=3.63150442326733e-26)\n",
      "Итернет-траффик: MannwhitneyuResult(statistic=603628.0, pvalue=2.4000101355356553e-24)\n",
      "Число сообщений: MannwhitneyuResult(statistic=674876.0, pvalue=8.365410066333979e-11)\n"
     ]
    }
   ],
   "source": [
    "print('U-критерий Манна-Уитни, smart vs ultra')\n",
    "print('Минуты разговора:', stats.mannwhitneyu(minutes_used_smart, minutes_used_ultra))\n",
    "print('Итернет-траффик:', stats.mannwhitneyu(mb_used_smart, mb_used_ultra))\n",
    "print('Число сообщений:', stats.mannwhitneyu(messages_smart, messages_ultra))"
   ]
  },
  {
   "cell_type": "code",
   "execution_count": 61,
   "metadata": {},
   "outputs": [],
   "source": [
    "def permutation_test_mean(x, y, cycles=10000):\n",
    "    #объём выборки и счётчик\n",
    "    n, k = len(x), 0\n",
    "    #преобразую series в numpy для увеличения скорости расчёта\n",
    "    a=np.array(x)\n",
    "    b=np.array(y)\n",
    "    #объединяю выборки\n",
    "    union = np.hstack((a, b))\n",
    "    #оригинальная разность средних (обычная и модуль)\n",
    "    diff = np.mean(a) - np.mean(b)\n",
    "    abs_diff = abs(np.mean(a) - np.mean(b))\n",
    "    #массив (для гистограмм), в который буду класть случайные разности средних для двустороннего теста\n",
    "    abs_random_arr = np.array([])\n",
    "    #цикл перемешивания и сравнения (двусторонний тест)\n",
    "    for i in range (cycles):\n",
    "        np.random.shuffle(union)\n",
    "        abs_random_diff = abs( np.mean(union[:n])-np.mean(union[n:]) )\n",
    "        k += abs_diff < abs_random_diff\n",
    "        abs_random_arr = np.append(abs_random_arr, abs_random_diff)\n",
    "    pvalue = k / cycles\n",
    "    print(f'PermutationResult: original x_mean-y_mean = {diff:.2f}, iterations = {cycles}, pvalue = {pvalue}')"
   ]
  },
  {
   "cell_type": "code",
   "execution_count": 62,
   "metadata": {},
   "outputs": [
    {
     "name": "stdout",
     "output_type": "stream",
     "text": [
      "Перестановочный тест, различие средних, smart vs ultra\n",
      "Минуты разговора:\n",
      "PermutationResult: original x_mean-y_mean = -121.84, iterations = 10000, pvalue = 0.0\n",
      "Итернет-траффик:\n",
      "PermutationResult: original x_mean-y_mean = -3609.45, iterations = 10000, pvalue = 0.0\n",
      "Число сообщений:\n",
      "PermutationResult: original x_mean-y_mean = -17.36, iterations = 10000, pvalue = 0.0\n"
     ]
    }
   ],
   "source": [
    "print('Перестановочный тест, различие средних, smart vs ultra')\n",
    "print('Минуты разговора:')\n",
    "permutation_test_mean(minutes_used_smart, minutes_used_ultra)\n",
    "print('Итернет-траффик:')\n",
    "permutation_test_mean(mb_used_smart, mb_used_ultra)\n",
    "print('Число сообщений:')\n",
    "permutation_test_mean(messages_smart, messages_ultra)"
   ]
  },
  {
   "cell_type": "markdown",
   "metadata": {},
   "source": [
    "<h2 style=\"color:DodgerBlue\">Результаты анализа различий между между тарифами smart и ultra по: продолжительности звонков, числу sms и объёму интернет-траффика</h2>"
   ]
  },
  {
   "cell_type": "markdown",
   "metadata": {},
   "source": [
    "Тесты показывают, что получить текущие различия в данных случайно, по сути, нельзя (p-значения критерия Манна-Уитни - это нули до 11 знака; в перестановочном тесте результат ни одной из 10000 перестановок не превысил имеющийся). На этом основании принимаю альтернативную гипотезу (со степенью уверенности, близкой к 100%, т.к. p-значения нулевые): \n",
    "\n",
    "**В среднем пользователи тарифа ultra дольше разговаривают, тратят больше интернет-траффика и посылают больше смс. Среднестатистический клиент ultra 2018 года в среднем говорил в месяц по телефону на 122 минуты дольше, расходовал на 3600 МБайт больше траффика и отправлял на 17 sms больше, чем пользователь тарифа smart. Среди клиентов ultra выше вариабельность всех указанных параметров. Среднеквадратичные отклонения больше, чем у пользователей smart, в 1.7 - 2 раза.**"
   ]
  },
  {
   "cell_type": "markdown",
   "metadata": {},
   "source": [
    "<h2 style=\"color:DodgerBlue\">4.2 Анализ прибыли. Отличия тарифов</h2>"
   ]
  },
  {
   "cell_type": "code",
   "execution_count": 63,
   "metadata": {},
   "outputs": [
    {
     "data": {
      "image/png": "[encoded data removed]",
      "text/plain": [
       "<Figure size 720x360 with 2 Axes>"
      ]
     },
     "metadata": {},
     "output_type": "display_data"
    }
   ],
   "source": [
    "fig, ax = plt.subplots(nrows=1, ncols=2, figsize=(10,5))\n",
    "plt.suptitle('Распределение объёма ежемесячной прибыли от клиентов')\n",
    "ax[0].set_title('Абонентская плата + доплаты')\n",
    "ax[1].set_title('Только доплаты за превышение тарифного лимита')\n",
    "\n",
    "\n",
    "for tariff in palette.keys():\n",
    "    stat_by_calendar_month.query(\"tariff == @tariff\")['profit'].hist(ax=ax[0], bins=20, label=tariff,\n",
    "                                                                           color=palette[tariff], alpha=0.5)\n",
    "    stat_by_calendar_month.query(\"tariff == @tariff\")['extra_charge'].hist(ax=ax[1], bins=20, label=tariff,\n",
    "                                                                           color=palette[tariff], alpha=0.5)\n",
    "for ax in ax.flatten():\n",
    "    ax.set_xlabel('сумма, руб.')\n",
    "    ax.set_ylabel('клиенты, чел.')\n",
    "    ax.legend()\n",
    "    \n",
    "plt.tight_layout(rect=(0, 0, 0.95, 0.95))\n",
    "plt.show()"
   ]
  },
  {
   "cell_type": "markdown",
   "metadata": {},
   "source": [
    "И снова видны сильные отличия распределений. Большинство пользователей ultra не доплачивают за превышение лимита, и это понятно: лимит гораздо выше, чем для тарифа smart. В smart довольно много доплат и превышений. Пока непонятно, от каких пользователей больше выручки, поэтому в статистических проверках буду использовать двусторонние критерии. Распределения совсем не близки к нормальным, поэтому снова применю **U-критерий Манна-Уитни** и **перестановочный тест**. Следует сделать оговорку, что в данных много повторяющихся значений (абонентская плата), поэтому, строго говоря, использование критерия Манна-Уитни здесь несколько спорно. В любом случае, результат будет проверен в перестановочном тесте."
   ]
  },
  {
   "cell_type": "markdown",
   "metadata": {},
   "source": [
    "**H0: Между выборками ежемесячной прибыли от клиентов smart и ultra нет различий**\n",
    "\n",
    "**H1: Выборки различаются. Клиенты одного из тарифов в среднем приносят компании больше прибыли**\n",
    "\n",
    "$\\alpha = 5 \\% $ "
   ]
  },
  {
   "cell_type": "code",
   "execution_count": 64,
   "metadata": {},
   "outputs": [],
   "source": [
    "profit_smart = stat_by_calendar_month.query(\"tariff == 'smart'\")['profit']\n",
    "profit_ultra = stat_by_calendar_month.query(\"tariff == 'ultra'\")['profit']\n",
    "extra_smart = stat_by_calendar_month.query(\"tariff == 'smart'\")['extra_charge']\n",
    "extra_ultra = stat_by_calendar_month.query(\"tariff == 'ultra'\")['extra_charge']"
   ]
  },
  {
   "cell_type": "markdown",
   "metadata": {},
   "source": [
    "**Статистика по тарифам:**"
   ]
  },
  {
   "cell_type": "code",
   "execution_count": 65,
   "metadata": {},
   "outputs": [
    {
     "name": "stdout",
     "output_type": "stream",
     "text": [
      "Тариф smart\n",
      "\n",
      "Абонентская плата + доплаты. Среднее: 1414.3, СКО: 842.4\n",
      "Только доплаты за превышение тарифного лимита. Среднее: 864.3, СКО: 842.4\n",
      "\n",
      "Тариф ultra\n",
      "\n",
      "Абонентская плата + доплаты. Среднее: 2093.2, СКО: 413.6\n",
      "Только доплаты за превышение тарифного лимита. Среднее: 143.2, СКО: 413.6\n"
     ]
    }
   ],
   "source": [
    "print('Тариф smart\\n')\n",
    "print(f'Абонентская плата + доплаты. Среднее: {profit_smart.mean():.1f}, СКО: {profit_smart.std():.1f}')\n",
    "print(f'Только доплаты за превышение тарифного лимита. Среднее: {extra_smart.mean():.1f}, СКО: {extra_smart.std():.1f}')\n",
    "\n",
    "print('\\nТариф ultra\\n')\n",
    "print(f'Абонентская плата + доплаты. Среднее: {profit_ultra.mean():.1f}, СКО: {profit_ultra.std():.1f}')\n",
    "print(f'Только доплаты за превышение тарифного лимита. Среднее: {extra_ultra.mean():.1f}, СКО: {extra_ultra.std():.1f}')"
   ]
  },
  {
   "cell_type": "code",
   "execution_count": 66,
   "metadata": {},
   "outputs": [
    {
     "data": {
      "image/png": "[encoded data removed]",
      "text/plain": [
       "<Figure size 720x360 with 2 Axes>"
      ]
     },
     "metadata": {},
     "output_type": "display_data"
    }
   ],
   "source": [
    "fig, ax = plt.subplots(ncols=2, nrows=1, figsize=(10,5))\n",
    "\n",
    "plt.suptitle('Сравнение прибыли от клиентов smart и ultra')\n",
    "ax[0].set_title('Средняя ежемесячная прибыль')\n",
    "ax[1].set_title('Общегодовая прибыль')\n",
    "\n",
    "sns.barplot(y='profit', data=stat_by_calendar_month, x='tariff', palette=palette, ax=ax[0], alpha=0.5)\n",
    "sns.barplot(y='profit', data=stat_by_calendar_month, x='tariff', palette=palette, ax=ax[1], alpha=0.5, estimator=np.sum)\n",
    "\n",
    "for axs in ax.flatten():\n",
    "    axs.set_xlabel('')\n",
    "    axs.set_ylabel('')\n",
    "\n",
    "plt.tight_layout(rect=(0, 0, 0.95, 0.95))\n",
    "plt.show()"
   ]
  },
  {
   "cell_type": "markdown",
   "metadata": {},
   "source": [
    "А вот из диаграмм и цифр видно преимущество ultra в среднемесячной прибыли и smart - в общегодовой. И видны значимые различия по бутстрап-разбросу."
   ]
  },
  {
   "cell_type": "markdown",
   "metadata": {},
   "source": [
    "**Статистический анализ**"
   ]
  },
  {
   "cell_type": "code",
   "execution_count": 67,
   "metadata": {},
   "outputs": [
    {
     "name": "stdout",
     "output_type": "stream",
     "text": [
      "U-критерий Манна-Уитни, smart vs ultra\n",
      "Абонентская плата + доплаты: MannwhitneyuResult(statistic=340114.0, pvalue=9.631137956061817e-130)\n",
      "Только доплаты за превышение тарифного лимита: MannwhitneyuResult(statistic=247052.5, pvalue=2.7804044369982433e-192)\n"
     ]
    }
   ],
   "source": [
    "print('U-критерий Манна-Уитни, smart vs ultra')\n",
    "print('Абонентская плата + доплаты:', stats.mannwhitneyu(profit_smart, profit_ultra))\n",
    "print('Только доплаты за превышение тарифного лимита:', stats.mannwhitneyu(extra_smart, extra_ultra))"
   ]
  },
  {
   "cell_type": "code",
   "execution_count": 68,
   "metadata": {},
   "outputs": [
    {
     "name": "stdout",
     "output_type": "stream",
     "text": [
      "Перестановочный тест, различие средних, smart vs ultra\n",
      "\n",
      "Абонентская плата + доплаты:\n",
      "PermutationResult: original x_mean-y_mean = -678.94, iterations = 10000, pvalue = 0.0\n",
      "\n",
      "Только доплаты за превышение тарифного лимита:\n",
      "PermutationResult: original x_mean-y_mean = 721.06, iterations = 10000, pvalue = 0.0\n"
     ]
    }
   ],
   "source": [
    "print('Перестановочный тест, различие средних, smart vs ultra')\n",
    "print('\\nАбонентская плата + доплаты:')\n",
    "permutation_test_mean(profit_smart, profit_ultra)\n",
    "print('\\nТолько доплаты за превышение тарифного лимита:')\n",
    "permutation_test_mean(extra_smart, extra_ultra)"
   ]
  },
  {
   "cell_type": "markdown",
   "metadata": {},
   "source": [
    "Тесты вновь ожидаемо показывают, что получить существующие различия в данных случайно, по сути, нельзя (p-значения критерия Манна-Уитни - это нули до 130 знака; в перестановочном тесте результат ни одной из 10000 перестановок не превысил имеющийся). На этом основании отбрасываю нулевую и принимаю альтернативную гипотезу: \n",
    "\n",
    "\n",
    "**H1: Выборки различаются. Клиенты одного из тарифов в среднем приносят компании больше прибыли**"
   ]
  },
  {
   "cell_type": "markdown",
   "metadata": {},
   "source": [
    "<h2 style=\"color:DodgerBlue\">Результаты сравнения среднемесячной прибыли по тарифам smart и ultra</h2>"
   ]
  },
  {
   "cell_type": "markdown",
   "metadata": {},
   "source": [
    "**Выборки статистически значимо различаются, p-значения нулевые. Клиенты одного из тарифов в среднем приносят компании больше прибыли. Из анализа средних хорошо видно, что в среднем больше прибыли в месяц приносит клиент тарифа ultra**: 2093.2 против 1414.3 руб. (почти в полтора раза). При этом клиенты ultra доплачивают сверх лимита в среднем в 6 раз меньше клиентов smart (143.2 против 864.3 руб.). Это видно и из показателей вариабельности прибыли: для ultra 413.6 руб, для smart 842.4 руб.\n",
    "\n",
    "Получается, клиенты ultra в среднем более предсказуемы и более прибыльны, чем smart. Однако, часть клиентов smart платит больше, чем ultra, из-за превышений лимита. И их больше в 2.3 раза, чем клиентов ultra. Поэтому имеет место следующая статистика общегодовой прибыли:"
   ]
  },
  {
   "cell_type": "code",
   "execution_count": 69,
   "metadata": {},
   "outputs": [
    {
     "name": "stdout",
     "output_type": "stream",
     "text": [
      "Общегодовая прибыль с тарифа smart: 2688498\n",
      "Общегодовая прибыль с тарифа ultra: 1754100\n",
      "Smart принёс за год в 1.53 раза больше прибыли, чем ultra\n",
      "Но клиент ultra за месяц в среднем приносит в 1.48 раз больше прибыли, \n",
      "чем клиент smart\n",
      "В выборке клиентов smart в 2.33 раза больше, чем клиентов ultra\n"
     ]
    }
   ],
   "source": [
    "print('Общегодовая прибыль с тарифа smart:', profit_smart.sum())\n",
    "print('Общегодовая прибыль с тарифа ultra:', profit_ultra.sum())\n",
    "print(f'Smart принёс за год в {profit_smart.sum()/profit_ultra.sum():.2f} раза больше прибыли, чем ultra')\n",
    "print(f\"\"\"Но клиент ultra за месяц в среднем приносит в {profit_ultra.mean()/profit_smart.mean():.2f} раз больше прибыли, \n",
    "чем клиент smart\"\"\")\n",
    "smart_clients_count = len(stat_by_calendar_month.query(\"tariff == 'smart'\").groupby('user_id'))\n",
    "ultra_clients_count = len(stat_by_calendar_month.query(\"tariff == 'ultra'\").groupby('user_id'))\n",
    "print(f'В выборке клиентов smart в {smart_clients_count/ultra_clients_count:.2f} раза больше, чем клиентов ultra')"
   ]
  },
  {
   "cell_type": "markdown",
   "metadata": {},
   "source": [
    "<h2 style=\"color:DodgerBlue\">4.3 Отличия Москвы от других городов по среднемесячной прибыли с клиентов</h2>"
   ]
  },
  {
   "cell_type": "markdown",
   "metadata": {},
   "source": [
    "Интересно оценить, отличается ли клиент из Москвы от клиентов из других городов. Изучу отличия по прибыли."
   ]
  },
  {
   "cell_type": "code",
   "execution_count": 70,
   "metadata": {},
   "outputs": [
    {
     "name": "stdout",
     "output_type": "stream",
     "text": [
      "Записей по месяцам для Москвы: 517\n",
      "Записей по месяцам для других городов: 2222\n",
      "Клиентов из Москвы: 94, из них 62 - smart, 32 - ultra\n",
      "Клиентов из других городов: 372\n",
      "Записей для ultra по Москве: 194\n",
      "Записей для smart по Москве: 323\n"
     ]
    }
   ],
   "source": [
    "moscow_clients_count = len(stat_by_calendar_month.query(\"city == 'Москва'\").groupby('user_id'))\n",
    "moscow_smart_clients_count = len(stat_by_calendar_month.query(\"city == 'Москва' and tariff == 'smart'\").groupby('user_id'))\n",
    "moscow_ultra_clients_count = len(stat_by_calendar_month.query(\"city == 'Москва' and tariff == 'ultra'\").groupby('user_id'))\n",
    "\n",
    "other_clients_count = len(stat_by_calendar_month.query(\"city != 'Москва'\").groupby('user_id'))\n",
    "\n",
    "\n",
    "profit_moscow = stat_by_calendar_month.query(\"city == 'Москва'\")['profit']\n",
    "profit_moscow_smart = stat_by_calendar_month.query(\"city == 'Москва' and tariff == 'smart'\")['profit']\n",
    "profit_moscow_ultra = stat_by_calendar_month.query(\"city == 'Москва' and tariff == 'ultra'\")['profit']\n",
    "\n",
    "profit_other = stat_by_calendar_month.query(\"city != 'Москва'\")['profit']\n",
    "profit_other_smart = stat_by_calendar_month.query(\"city != 'Москва' and tariff == 'smart'\")['profit']\n",
    "profit_other_ultra = stat_by_calendar_month.query(\"city != 'Москва' and tariff == 'ultra'\")['profit']\n",
    "\n",
    "print('Записей по месяцам для Москвы:', profit_moscow.count())\n",
    "print('Записей по месяцам для других городов:', profit_other.count())\n",
    "print(f'Клиентов из Москвы: {moscow_clients_count}, из них {moscow_smart_clients_count} - smart, {moscow_ultra_clients_count} - ultra')\n",
    "print('Клиентов из других городов:', other_clients_count)\n",
    "print(f'Записей для ultra по Москве:', profit_moscow_ultra.count())\n",
    "print(f'Записей для smart по Москве:', profit_moscow_smart.count())"
   ]
  },
  {
   "cell_type": "markdown",
   "metadata": {},
   "source": [
    "Клиентов ultra из Москвы немного, 32. Но записей, в принципе, почти 200. Критерий Манна-Уитни подходит для анализа небольших выборок. В любом случае, работаю с имеющимся материалом. Посмотрим, какие отличия по цифрам. "
   ]
  },
  {
   "cell_type": "markdown",
   "metadata": {},
   "source": [
    "**Статистика по городам и тарифам:**"
   ]
  },
  {
   "cell_type": "code",
   "execution_count": 71,
   "metadata": {},
   "outputs": [
    {
     "name": "stdout",
     "output_type": "stream",
     "text": [
      "Среднемесячная прибыль. Отличия Москвы от других городов\n",
      "\n",
      "smart+ultra, разница средних: 25.033341632035672\n",
      "ultra, разница средних: 2.8142408913363397\n",
      "smart, разница средних: -53.119110682095425\n",
      "\n",
      "СКО среднемесячной прибыли. Отличия Москвы от других городов\n",
      "\n",
      "smart+ultra, разница средних: -75.65846566332812\n",
      "ultra, разница средних: -44.7503491004299\n",
      "smart, разница средних: -86.32520541796839\n"
     ]
    }
   ],
   "source": [
    "print('Среднемесячная прибыль. Отличия Москвы от других городов\\n')\n",
    "print('smart+ultra, разница средних:', profit_moscow.mean() - profit_other.mean())\n",
    "print('ultra, разница средних:', profit_moscow_ultra.mean() - profit_other_ultra.mean())\n",
    "print('smart, разница средних:', profit_moscow_smart.mean() - profit_other_smart.mean())\n",
    "\n",
    "print('\\nСКО среднемесячной прибыли. Отличия Москвы от других городов\\n')\n",
    "print('smart+ultra, разница средних:', profit_moscow.std() - profit_other.std())\n",
    "print('ultra, разница средних:', profit_moscow_ultra.std() - profit_other_ultra.std())\n",
    "print('smart, разница средних:', profit_moscow_smart.std() - profit_other_smart.std())"
   ]
  },
  {
   "cell_type": "markdown",
   "metadata": {},
   "source": [
    "Вариабельность в других городах выше, чем в Москве. Это понятно, там больше клиентов и они из разных городов. Можно оценить статистическую значимость в ANOVA, но, на мой взгляд, это находится за рамками задачи. Думаю, достаточно отметить, что наблюдается логичная картина."
   ]
  },
  {
   "cell_type": "markdown",
   "metadata": {},
   "source": [
    "Разница средних для ultra практически нулевая. Думаю, нет смысла искать там статистическую разницу: среднестатистический клиент ultra в Москве приносит столько же прибыли, как в других городах. \n",
    "\n",
    "Можно оценить, какой размер эффекта удастся обнаружить для тарифа smart с объёмом записей по Москве 323, воспользовавшись оценкой мощности t-теста. В данном случае размер эффекта будет показывать отношение разности средних к СКО. Посокольку t-тест - аналог перестановочного для сравнения средних, можно примерно понять возможности перестановочного теста. Примем alpha = 0.05 (уровень значимости), power = 0.95 (95% вероятность обнаружить данный размер эффекта, если он неслучаен)"
   ]
  },
  {
   "cell_type": "markdown",
   "metadata": {},
   "source": [
    "**Оценка эффективности предстоящего статистического анализа**"
   ]
  },
  {
   "cell_type": "code",
   "execution_count": 72,
   "metadata": {},
   "outputs": [
    {
     "name": "stdout",
     "output_type": "stream",
     "text": [
      "Размер эффекта при alpha 0.05, мощности 0.95 и размере выборки 323: 0.28\n"
     ]
    }
   ],
   "source": [
    "effect_size = None #(его определим)\n",
    "alpha = 0.05 # significance level\n",
    "power = 0.95\n",
    "nobs1 = profit_moscow_smart.count()\n",
    "\n",
    "power_analysis = statsmodels.stats.power.TTestIndPower()\n",
    "x_powertest = power_analysis.solve_power(effect_size = effect_size, \n",
    "                                         power = power, \n",
    "                                         alpha = alpha,\n",
    "                                        nobs1 = nobs1)\n",
    "\n",
    "print(f'Размер эффекта при alpha {alpha}, мощности {power} и размере выборки {nobs1}: {x_powertest:.2f}')"
   ]
  },
  {
   "cell_type": "markdown",
   "metadata": {},
   "source": [
    "Согласно Sawilowsky, S (2009). \"New effect size rules of thumb\" этот размер эффекта чуть более, чем малый, что вполне неплохо. Т.е. можно найти различия в пределах 0.28 от СКО в выборке smart."
   ]
  },
  {
   "cell_type": "code",
   "execution_count": 73,
   "metadata": {},
   "outputs": [
    {
     "name": "stdout",
     "output_type": "stream",
     "text": [
      "СКО среднемесячной прибыли по тарифу smart в Москве: 770.1\n",
      "\n",
      "В 95% случаев для такого СКО при объёме выборки 323 и alpha=0.05 \n",
      "перестановочный тест может выявить неслучайность различий средних 218.8 и более\n",
      "\n",
      "Smart, текущая разница средних: -53.1\n"
     ]
    }
   ],
   "source": [
    "print(f'СКО среднемесячной прибыли по тарифу smart в Москве: {profit_moscow_smart.std():.1f}')\n",
    "print(f\"\"\"\n",
    "В 95% случаев для такого СКО при объёме выборки {nobs1} и alpha={alpha} \n",
    "перестановочный тест может выявить неслучайность различий средних {x_powertest*profit_moscow_smart.std():.1f} и более\"\"\")\n",
    "print(f'\\nSmart, текущая разница средних: {profit_moscow_smart.mean() - profit_other_smart.mean():.1f}')"
   ]
  },
  {
   "cell_type": "markdown",
   "metadata": {},
   "source": [
    "То есть, на самом деле, статистически значимого эффекта, скорее всего, найдено не будет при таких отличиях и таких объёмах выборок, как заданная. В любом случае, несложно провести указанные тесты. Сначала изучу гистограммы для Москвы и прочих городов:"
   ]
  },
  {
   "cell_type": "markdown",
   "metadata": {},
   "source": [
    "**Анализ распределений**"
   ]
  },
  {
   "cell_type": "code",
   "execution_count": 74,
   "metadata": {},
   "outputs": [],
   "source": [
    "msc_other_list=[(profit_moscow, profit_other), \n",
    "                (profit_moscow_smart, profit_other_smart), \n",
    "                (profit_moscow_ultra, profit_other_ultra)]\n",
    "titles_list = ['оба тарифа', 'smart', 'ultra']"
   ]
  },
  {
   "cell_type": "code",
   "execution_count": 75,
   "metadata": {
    "scrolled": false
   },
   "outputs": [
    {
     "data": {
      "image/png": "[encoded data removed]",
      "text/plain": [
       "<Figure size 720x576 with 3 Axes>"
      ]
     },
     "metadata": {},
     "output_type": "display_data"
    }
   ],
   "source": [
    "plt.figure(figsize=(10,8))\n",
    "\n",
    "ax1=plt.subplot(211)\n",
    "ax2=plt.subplot(223)\n",
    "ax3=plt.subplot(224)\n",
    "ax = [ax1, ax2, ax3]\n",
    "\n",
    "i = 0\n",
    "\n",
    "plt.suptitle('Сравнение ежемесячной прибыли в Москве и других городах. Плотностные гистограммы')\n",
    "for msc, othr in msc_other_list:\n",
    "    ax[i].set_title(titles_list[i])\n",
    "    ax[i].hist(msc, bins=30, density=True, label='Москва')\n",
    "    ax[i].hist(othr, bins=30, density=True, alpha=0.5, label='Другие города')\n",
    "    ax[i].legend()\n",
    "    ax[i].set_xlabel('прибыль, руб.')\n",
    "    i += 1\n",
    "\n",
    "plt.tight_layout(rect=(0, 0, 0.95, 0.95))\n",
    "plt.show()"
   ]
  },
  {
   "cell_type": "code",
   "execution_count": 76,
   "metadata": {},
   "outputs": [
    {
     "data": {
      "image/png": "[encoded data removed]",
      "text/plain": [
       "<Figure size 720x360 with 3 Axes>"
      ]
     },
     "metadata": {},
     "output_type": "display_data"
    }
   ],
   "source": [
    "fig, ax = plt.subplots(ncols=3, nrows=1, figsize=(10,5))\n",
    "i = 0\n",
    "plt.suptitle('Сравнение средней ежемесячной прибыли в Москве и других городах. Barplot')\n",
    "for msc, othr in msc_other_list:\n",
    "    ax[i].set_title(titles_list[i])\n",
    "    ax[i].bar('Москва', msc.mean(), width = 0.8, alpha=0.7,\n",
    "              yerr=2*msc.std()/np.sqrt(len(msc)), capsize=5)\n",
    "    ax[i].bar('другие города', othr.mean(), width = 0.8, alpha=0.7, \n",
    "              yerr=2*othr.std()/np.sqrt(len(othr)), capsize=5)\n",
    "    ax[i].set_xlabel('')\n",
    "    i += 1\n",
    "    \n",
    "plt.tight_layout(rect=(0, 0, 0.95, 0.95))\n",
    "plt.show()"
   ]
  },
  {
   "cell_type": "markdown",
   "metadata": {},
   "source": [
    "Гистограммы и barplot показывают картину, аналогичную числам. Картины очень похожи. Похоже, значимых различий при имеющихся объёмах выборок найти не получится.\n",
    "\n",
    "Тем не менее, покажу это, выполнив статистический тест."
   ]
  },
  {
   "cell_type": "markdown",
   "metadata": {},
   "source": [
    "**Статистический анализ**"
   ]
  },
  {
   "cell_type": "markdown",
   "metadata": {},
   "source": [
    "**H0: Между выборками с данными о ежемесячной прибыли от клиентов Москвы и других городов нет различий. Средняя прибыль от клиентов из Москвы и других городов не отличается.**\n",
    "\n",
    "**H1: Выборки различаются. Клиенты из Москвы в среднем приносят иную прибыль, чем клиенты из других городов.**\n",
    "\n",
    "$\\alpha = 5 \\% $ "
   ]
  },
  {
   "cell_type": "code",
   "execution_count": 77,
   "metadata": {},
   "outputs": [
    {
     "name": "stdout",
     "output_type": "stream",
     "text": [
      "Перестановочный тест, различие средних, Москва vs другие города\n",
      "smart+ultra:\n",
      "PermutationResult: original x_mean-y_mean = 25.03, iterations = 10000, pvalue = 0.5213\n",
      "smart:\n",
      "PermutationResult: original x_mean-y_mean = -53.12, iterations = 10000, pvalue = 0.3031\n",
      "ultra:\n",
      "PermutationResult: original x_mean-y_mean = 2.81, iterations = 10000, pvalue = 0.9276\n"
     ]
    }
   ],
   "source": [
    "print('Перестановочный тест, различие средних, Москва vs другие города')\n",
    "print('smart+ultra:')\n",
    "permutation_test_mean(profit_moscow, profit_other)\n",
    "print('smart:')\n",
    "permutation_test_mean(profit_moscow_smart, profit_other_smart)\n",
    "print('ultra:')\n",
    "permutation_test_mean(profit_moscow_ultra, profit_other_ultra)"
   ]
  },
  {
   "cell_type": "code",
   "execution_count": 78,
   "metadata": {},
   "outputs": [
    {
     "name": "stdout",
     "output_type": "stream",
     "text": [
      "Критерий Манна-Уитни, Москва vs другие города\n",
      "smart+ultra: MannwhitneyuResult(statistic=557260.5, pvalue=0.14239837080130424)\n",
      "smart: MannwhitneyuResult(statistic=249168.0, pvalue=0.2633215999814378)\n",
      "ultra: MannwhitneyuResult(statistic=60410.0, pvalue=0.13610510207465132)\n"
     ]
    }
   ],
   "source": [
    "print('Критерий Манна-Уитни, Москва vs другие города')\n",
    "print('smart+ultra:', stats.mannwhitneyu(profit_moscow, profit_other))\n",
    "print('smart:', stats.mannwhitneyu(profit_moscow_smart, profit_other_smart))\n",
    "print('ultra:', stats.mannwhitneyu(profit_moscow_ultra, profit_other_ultra))"
   ]
  },
  {
   "cell_type": "markdown",
   "metadata": {},
   "source": [
    "Интересно сравнить результат перестановочного теста с t-тестом. Хотя формально t-тест для таких распределений не используется:"
   ]
  },
  {
   "cell_type": "code",
   "execution_count": 79,
   "metadata": {},
   "outputs": [
    {
     "name": "stdout",
     "output_type": "stream",
     "text": [
      "t-тест, различие средних, Москва vs другие города\n",
      "smart+ultra: Ttest_indResult(statistic=0.6394320054930425, pvalue=0.5225954464506865)\n",
      "smart: Ttest_indResult(statistic=-1.032492619612985, pvalue=0.30197287575731224)\n",
      "ultra: Ttest_indResult(statistic=0.08304059410852824, pvalue=0.9338391402404161)\n"
     ]
    }
   ],
   "source": [
    "\n",
    "print('t-тест, различие средних, Москва vs другие города')\n",
    "print('smart+ultra:', stats.ttest_ind(profit_moscow, profit_other))\n",
    "print('smart:', stats.ttest_ind(profit_moscow_smart, profit_other_smart))\n",
    "print('ultra:', stats.ttest_ind(profit_moscow_ultra, profit_other_ultra))\n"
   ]
  },
  {
   "cell_type": "markdown",
   "metadata": {},
   "source": [
    "И результат почти полностью аналогичен перестановочному тесту по pvalue."
   ]
  },
  {
   "cell_type": "markdown",
   "metadata": {},
   "source": [
    "<h2 style=\"color:DodgerBlue\">Результаты сравнительного анализа Москвы с другими городами по среднемесячной прибыли с клиентов</h2>"
   ]
  },
  {
   "cell_type": "markdown",
   "metadata": {},
   "source": [
    "По полученным результатам для принятого уровнем значимости (не хуже 5%) нет оснований отвергнуть нулевую гипотезу. Т.е. **среднемесячная прибыль от клиентов из Москвы и из других городов не различается**. Между выборками статистически значимых отличий нет. Результат справедлив как для тарифов по отдельности, так и для объединённой выборки.\n",
    "\n",
    "Критерий Манна-Уитни показал самые низкие значения p, хотя все они превышают 5%. Это можно объяснить разницей статистик критерия для перестановочного теста и рангового теста. Вообще, есть сомнения в том, что Манн-Уитни подходит для тарифов, т.к. много совпадающих значений из-за наличия абонентской платы. Однако результат подкреплён перестановочным тестом.\n",
    "\n",
    "В цифрах некоторые отличия есть. Чтобы оценить, случайны они или нет, нужно увеличить объём выборки. Стоит предупредить, что есть опасность получить \"эффект прочёсывания данных\", т.е. найти отличия там, где их в действительности нет. \n",
    "\n",
    "Максимальная разница среднемесячной прибыли между Москвой и другими городами - по тарифу смарт (в Москве на 53 руб меньше). Чтобы статистический тест был чувствителен к такой разнице (мог выявить, что она неслучайна), нужен объём выборки не менее:"
   ]
  },
  {
   "cell_type": "code",
   "execution_count": 80,
   "metadata": {},
   "outputs": [
    {
     "name": "stdout",
     "output_type": "stream",
     "text": [
      "Размер выборки, необходимой для выявления отличия средних -53.1 \n",
      "при СКО 770.1 \n",
      "alpha 0.05 \n",
      "мощности 0.95: \n",
      "5463.5\n"
     ]
    }
   ],
   "source": [
    "effect_size = abs((profit_moscow_smart.mean() - profit_other_smart.mean()) / profit_moscow_smart.std())\n",
    "alpha = 0.05 # significance level\n",
    "power = 0.95\n",
    "nobs1 = None #(его определим)\n",
    "power_analysis = statsmodels.stats.power.TTestIndPower()\n",
    "x_powertest = power_analysis.solve_power(effect_size = effect_size, \n",
    "                                         power = power, \n",
    "                                         alpha = alpha,\n",
    "                                        nobs1 = nobs1)\n",
    "print(f\"\"\"Размер выборки, необходимой для выявления отличия средних {(profit_moscow_smart.mean() - profit_other_smart.mean()):.1f} \n",
    "при СКО {profit_moscow_smart.std():.1f} \n",
    "alpha {alpha} \n",
    "мощности {power}: \n",
    "{x_powertest:.1f}\"\"\")"
   ]
  },
  {
   "cell_type": "markdown",
   "metadata": {},
   "source": [
    "Опираясь на имеющуюся выборку, это около 1000 клиентов только по Москве"
   ]
  },
  {
   "cell_type": "markdown",
   "metadata": {},
   "source": [
    "<h1 style=\"color:SteelBlue; font-size:200%\">Результаты сравнительного анализа доходности тарифов сотовой связи </h1>"
   ]
  },
  {
   "cell_type": "markdown",
   "metadata": {},
   "source": [
    "С высокой степенью уверенности (p-значения тестов практически нулевые, десятки нулей после запятой; т.е. получить такие же результаты случайно почти невозможно) можно утверждать:\n",
    "\n",
    "- **В среднем пользователи тарифа ultra дольше разговаривают, тратят больше интернет-траффика и посылают больше SMS.** Среднестатистический клиент ultra 2018 года в среднем говорил в месяц по телефону на 122 минуты дольше, расходовал на 3600 МБайт больше траффика и отправлял на 17 sms больше, чем пользователь тарифа smart. Среди клиентов ultra выше вариабельность всех указанных параметров. Среднеквадратичные отклонения больше, чем у пользователей smart, в 1.7 - 2 раза.\n",
    "\n",
    "\n",
    "- **Клиенты ultra в среднем более прибыльны** (2093.2 руб. в месяц с клиента ultra, против 1414.3 руб. со smart) **и более предсказуемы** (СКО прибыли 143.2 руб у ультра и 864.3 руб. у смарт). Клиент ultra за месяц в среднем приносит в 1.48 раз больше прибыли, чем клиент smart. Однако, часть клиентов smart платит больше, чем ultra, из-за превышений лимита. И в выборке клиентов smart больше в 2.3 раза, чем клиентов ultra. Поэтому **по выборке в целом smart принёс за год в 1.53 раза больше прибыли, чем ultra.**\n",
    "\n",
    "Важно отметить в этой связи, что относительно smart *в Петербурге, по сравнению с другими городами из ТОПа пользователей, слабо представлен тариф ultra.* Это видно на гистограммах (более чем в 3 раза меньше пользователей ultra по отношению к смарт; в других городах примерно в 2 раза). *Возможно, было бы полезно продвигать ultra в Петербурге более активно.* Очевидно, что при равном числе пользователей тариф ultra в среднем приносит прибыль выше.\n",
    "\n",
    "Ни статистический, ни исследовательский (по графикам) анализ **не выявили отличий прибыли от московских и не-московских клиентов.** По цифрам некоторые отличия есть, но аналогичные получались в перестановочном тесте в 30 и более процентах случаев."
   ]
  }
 ],
 "metadata": {
  "kernelspec": {
   "display_name": "Python 3",
   "language": "python",
   "name": "python3"
  },
  "language_info": {
   "codemirror_mode": {
    "name": "ipython",
    "version": 3
   },
   "file_extension": ".py",
   "mimetype": "text/x-python",
   "name": "python",
   "nbconvert_exporter": "python",
   "pygments_lexer": "ipython3",
   "version": "3.7.7"
  }
 },
 "nbformat": 4,
 "nbformat_minor": 4
}
