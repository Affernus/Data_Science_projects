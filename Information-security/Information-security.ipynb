{
 "cells": [
  {
   "cell_type": "raw",
   "metadata": {},
   "source": [
    "<!кнопка скрытия кода при экспорте в html>\n",
    "<script>\n",
    "  function code_toggle() {\n",
    "    if (code_shown){\n",
    "      $('div.input').hide('500');\n",
    "      $('#toggleButton').val('Show Code')\n",
    "    } else {\n",
    "      $('div.input').show('500');\n",
    "      $('#toggleButton').val('Hide Code')\n",
    "    }\n",
    "    code_shown = !code_shown\n",
    "  }\n",
    "\n",
    "  $( document ).ready(function(){\n",
    "    code_shown=false;\n",
    "    $('div.input').hide()\n",
    "  });\n",
    "</script>\n",
    "<form action=\"javascript:code_toggle()\">\n",
    "  <input type=\"submit\" id=\"toggleButton\" value=\"Show Code\">\n",
    "</form>"
   ]
  },
  {
   "cell_type": "code",
   "execution_count": 1,
   "metadata": {},
   "outputs": [],
   "source": [
    "import pandas as pd\n",
    "import numpy as np\n",
    "\n",
    "from sklearn.metrics import r2_score\n",
    "from sklearn.linear_model import LinearRegression\n",
    "from sklearn.model_selection import train_test_split\n",
    "\n",
    "from matplotlib import pyplot as plt\n",
    "import seaborn as sns\n",
    "sns.set_style('whitegrid')\n",
    "#pd.options.mode.chained_assignment = None  # default='warn'"
   ]
  },
  {
   "cell_type": "code",
   "execution_count": 2,
   "metadata": {},
   "outputs": [],
   "source": [
    "line_kws={'color':'r', 'linewidth': 2}\n",
    "scatter_kws=dict(s=20, marker='o', edgecolors='white', alpha=0.5)"
   ]
  },
  {
   "cell_type": "markdown",
   "metadata": {},
   "source": [
    "<h1 style=\"color:SteelBlue; font-size:200%; line-height:1.5\">Защита данных клиентов с сохранением качества работы моделей машинного обучения</h1>"
   ]
  },
  {
   "cell_type": "markdown",
   "metadata": {},
   "source": [
    "Задача: разработать метод шифрования персональных данных клиентов страховой компании. Обосновать корректность работы метода.\n",
    "\n",
    "После шифрования данных качество прогноза модели машинного обучения не должно ухудшиться. Модель машинного обучения - линейная регрессия."
   ]
  },
  {
   "cell_type": "markdown",
   "metadata": {},
   "source": [
    "<h2 style=\"color:DodgerBlue\">Введение</h2>"
   ]
  },
  {
   "cell_type": "markdown",
   "metadata": {},
   "source": [
    "В работе нужно применить модель линейной регрессии. Качество её прогноза на зашифрованных данных не должно быть хуже, чем на оригинальных. В этой ситуации логично использовать шифрование, при котором каждый зашифрованный признак является линейной комбинацией исходных признаков. Это [шифрование с помощью аналитических преобразований](https://protect.htmlweb.ru/p11.htm), а именно - с помощью линейных преобразований исходной матрицы признаков (умножения на шифрующую матрицу)."
   ]
  },
  {
   "cell_type": "markdown",
   "metadata": {},
   "source": [
    "Перед тем, как заниматься шифрованием данных, нужно загрузить их и выполнить предобработку."
   ]
  },
  {
   "cell_type": "markdown",
   "metadata": {},
   "source": [
    "<h1 style=\"color:SteelBlue\"> 1. Осмотр данных</h1>"
   ]
  },
  {
   "cell_type": "markdown",
   "metadata": {},
   "source": [
    "<h2 style=\"color:DodgerBlue\">1.1 Загрузка, общая информация о данных</h2>"
   ]
  },
  {
   "cell_type": "code",
   "execution_count": 3,
   "metadata": {},
   "outputs": [],
   "source": [
    "link = 'C:/Users/Affernus/JupiterNotebooks/datasets/ML/'\n",
    "clients_data = pd.read_csv(link+'insurance.csv')"
   ]
  },
  {
   "cell_type": "code",
   "execution_count": 4,
   "metadata": {},
   "outputs": [
    {
     "data": {
      "text/html": [
       "<div>\n",
       "<style scoped>\n",
       "    .dataframe tbody tr th:only-of-type {\n",
       "        vertical-align: middle;\n",
       "    }\n",
       "\n",
       "    .dataframe tbody tr th {\n",
       "        vertical-align: top;\n",
       "    }\n",
       "\n",
       "    .dataframe thead th {\n",
       "        text-align: right;\n",
       "    }\n",
       "</style>\n",
       "<table border=\"1\" class=\"dataframe\">\n",
       "  <thead>\n",
       "    <tr style=\"text-align: right;\">\n",
       "      <th></th>\n",
       "      <th>Пол</th>\n",
       "      <th>Возраст</th>\n",
       "      <th>Зарплата</th>\n",
       "      <th>Члены семьи</th>\n",
       "      <th>Страховые выплаты</th>\n",
       "    </tr>\n",
       "  </thead>\n",
       "  <tbody>\n",
       "    <tr>\n",
       "      <th>0</th>\n",
       "      <td>1</td>\n",
       "      <td>41.0</td>\n",
       "      <td>49600.0</td>\n",
       "      <td>1</td>\n",
       "      <td>0</td>\n",
       "    </tr>\n",
       "    <tr>\n",
       "      <th>1</th>\n",
       "      <td>0</td>\n",
       "      <td>46.0</td>\n",
       "      <td>38000.0</td>\n",
       "      <td>1</td>\n",
       "      <td>1</td>\n",
       "    </tr>\n",
       "    <tr>\n",
       "      <th>2</th>\n",
       "      <td>0</td>\n",
       "      <td>29.0</td>\n",
       "      <td>21000.0</td>\n",
       "      <td>0</td>\n",
       "      <td>0</td>\n",
       "    </tr>\n",
       "    <tr>\n",
       "      <th>3</th>\n",
       "      <td>0</td>\n",
       "      <td>21.0</td>\n",
       "      <td>41700.0</td>\n",
       "      <td>2</td>\n",
       "      <td>0</td>\n",
       "    </tr>\n",
       "    <tr>\n",
       "      <th>4</th>\n",
       "      <td>1</td>\n",
       "      <td>28.0</td>\n",
       "      <td>26100.0</td>\n",
       "      <td>0</td>\n",
       "      <td>0</td>\n",
       "    </tr>\n",
       "  </tbody>\n",
       "</table>\n",
       "</div>"
      ],
      "text/plain": [
       "   Пол  Возраст  Зарплата  Члены семьи  Страховые выплаты\n",
       "0    1     41.0   49600.0            1                  0\n",
       "1    0     46.0   38000.0            1                  1\n",
       "2    0     29.0   21000.0            0                  0\n",
       "3    0     21.0   41700.0            2                  0\n",
       "4    1     28.0   26100.0            0                  0"
      ]
     },
     "execution_count": 4,
     "metadata": {},
     "output_type": "execute_result"
    }
   ],
   "source": [
    "clients_data.head()"
   ]
  },
  {
   "cell_type": "code",
   "execution_count": 5,
   "metadata": {},
   "outputs": [
    {
     "name": "stdout",
     "output_type": "stream",
     "text": [
      "<class 'pandas.core.frame.DataFrame'>\n",
      "RangeIndex: 5000 entries, 0 to 4999\n",
      "Data columns (total 5 columns):\n",
      " #   Column             Non-Null Count  Dtype  \n",
      "---  ------             --------------  -----  \n",
      " 0   Пол                5000 non-null   int64  \n",
      " 1   Возраст            5000 non-null   float64\n",
      " 2   Зарплата           5000 non-null   float64\n",
      " 3   Члены семьи        5000 non-null   int64  \n",
      " 4   Страховые выплаты  5000 non-null   int64  \n",
      "dtypes: float64(2), int64(3)\n",
      "memory usage: 195.4 KB\n"
     ]
    }
   ],
   "source": [
    "clients_data.info()"
   ]
  },
  {
   "cell_type": "code",
   "execution_count": 6,
   "metadata": {},
   "outputs": [
    {
     "name": "stdout",
     "output_type": "stream",
     "text": [
      "Полных дублей: 153\n"
     ]
    }
   ],
   "source": [
    "print('Полных дублей:', clients_data.duplicated().sum())"
   ]
  },
  {
   "cell_type": "markdown",
   "metadata": {},
   "source": [
    "В наборе данных есть 153 дубликата, удалю их. Также переименую столбцы для удобства обращения к ним."
   ]
  },
  {
   "cell_type": "code",
   "execution_count": 7,
   "metadata": {},
   "outputs": [],
   "source": [
    "duplicated_indexes = clients_data[clients_data.duplicated()].index\n",
    "clients_data.drop(index=duplicated_indexes, inplace=True)\n",
    "clients_data.reset_index(drop=True, inplace=True)\n",
    "columns_names = ['gender', 'age', 'salary', 'family_members', 'insurance_payments']\n",
    "clients_data.columns = columns_names"
   ]
  },
  {
   "cell_type": "code",
   "execution_count": 8,
   "metadata": {},
   "outputs": [
    {
     "data": {
      "text/html": [
       "<div>\n",
       "<style scoped>\n",
       "    .dataframe tbody tr th:only-of-type {\n",
       "        vertical-align: middle;\n",
       "    }\n",
       "\n",
       "    .dataframe tbody tr th {\n",
       "        vertical-align: top;\n",
       "    }\n",
       "\n",
       "    .dataframe thead th {\n",
       "        text-align: right;\n",
       "    }\n",
       "</style>\n",
       "<table border=\"1\" class=\"dataframe\">\n",
       "  <thead>\n",
       "    <tr style=\"text-align: right;\">\n",
       "      <th></th>\n",
       "      <th>gender</th>\n",
       "      <th>age</th>\n",
       "      <th>salary</th>\n",
       "      <th>family_members</th>\n",
       "      <th>insurance_payments</th>\n",
       "    </tr>\n",
       "  </thead>\n",
       "  <tbody>\n",
       "    <tr>\n",
       "      <th>0</th>\n",
       "      <td>1</td>\n",
       "      <td>41.0</td>\n",
       "      <td>49600.0</td>\n",
       "      <td>1</td>\n",
       "      <td>0</td>\n",
       "    </tr>\n",
       "    <tr>\n",
       "      <th>1</th>\n",
       "      <td>0</td>\n",
       "      <td>46.0</td>\n",
       "      <td>38000.0</td>\n",
       "      <td>1</td>\n",
       "      <td>1</td>\n",
       "    </tr>\n",
       "    <tr>\n",
       "      <th>2</th>\n",
       "      <td>0</td>\n",
       "      <td>29.0</td>\n",
       "      <td>21000.0</td>\n",
       "      <td>0</td>\n",
       "      <td>0</td>\n",
       "    </tr>\n",
       "    <tr>\n",
       "      <th>3</th>\n",
       "      <td>0</td>\n",
       "      <td>21.0</td>\n",
       "      <td>41700.0</td>\n",
       "      <td>2</td>\n",
       "      <td>0</td>\n",
       "    </tr>\n",
       "    <tr>\n",
       "      <th>4</th>\n",
       "      <td>1</td>\n",
       "      <td>28.0</td>\n",
       "      <td>26100.0</td>\n",
       "      <td>0</td>\n",
       "      <td>0</td>\n",
       "    </tr>\n",
       "  </tbody>\n",
       "</table>\n",
       "</div>"
      ],
      "text/plain": [
       "   gender   age   salary  family_members  insurance_payments\n",
       "0       1  41.0  49600.0               1                   0\n",
       "1       0  46.0  38000.0               1                   1\n",
       "2       0  29.0  21000.0               0                   0\n",
       "3       0  21.0  41700.0               2                   0\n",
       "4       1  28.0  26100.0               0                   0"
      ]
     },
     "execution_count": 8,
     "metadata": {},
     "output_type": "execute_result"
    }
   ],
   "source": [
    "clients_data.head()"
   ]
  },
  {
   "cell_type": "markdown",
   "metadata": {},
   "source": [
    "Данные представлены пятью тысячами объектов, 153 дубля (удалены). \n",
    "\n",
    "Всего 5 признаков, из них:\n",
    "\n",
    "**4 предиктора:** \"Пол\", \"Возраст\", \"Зарплата\", \"Члены семьи\" <code>sex, age, salary, family_members</code>. \n",
    "\n",
    "**1 целевой признак:** \"Страховые выплаты\" <code>insurance_payments</code>\n",
    "\n",
    "Пол - категориальный признак, закодирован OrdinalEncoder. Целевые выплаты - целочисленный количественный признак. Вектор прогноза модели, видимо, нужно округлять до целых чисел."
   ]
  },
  {
   "cell_type": "markdown",
   "metadata": {},
   "source": [
    "<h2 style=\"color:DodgerBlue\">1.2 Оценочный анализ</h2>"
   ]
  },
  {
   "cell_type": "code",
   "execution_count": 9,
   "metadata": {},
   "outputs": [
    {
     "data": {
      "image/png": "[encoded data removed]",
      "text/plain": [
       "<Figure size 900x900 with 20 Axes>"
      ]
     },
     "metadata": {},
     "output_type": "display_data"
    }
   ],
   "source": [
    "g = sns.pairplot(data = clients_data,\n",
    "                 corner=True, \n",
    "                 kind='reg', \n",
    "                 diag_kind='auto',\n",
    "                 plot_kws={'line_kws':line_kws, 'scatter_kws':scatter_kws}, \n",
    "                 diag_kws=dict(bins=20, alpha=0.5)\n",
    "                )\n",
    "\n",
    "g.fig.subplots_adjust(top=.95)\n",
    "g.fig.suptitle('Взаимсовязи и гистограммы распределений признаков в наборе данных', size=14)\n",
    "plt.show()"
   ]
  },
  {
   "cell_type": "code",
   "execution_count": 10,
   "metadata": {},
   "outputs": [
    {
     "data": {
      "image/png": "[encoded data removed]",
      "text/plain": [
       "<Figure size 432x288 with 1 Axes>"
      ]
     },
     "metadata": {},
     "output_type": "display_data"
    }
   ],
   "source": [
    "degree = 5\n",
    "plot_kws={'line_kws':line_kws, 'scatter_kws':scatter_kws}\n",
    "sns.regplot(clients_data['age']**degree, clients_data['insurance_payments'],\n",
    "            **plot_kws)\n",
    "plt.title(f\"Связь страховых выплат с возрастом клиента в степени {degree}\")\n",
    "plt.show()"
   ]
  },
  {
   "cell_type": "code",
   "execution_count": 11,
   "metadata": {},
   "outputs": [
    {
     "name": "stdout",
     "output_type": "stream",
     "text": [
      "Уникальные значения количества страховых выплат:\n"
     ]
    },
    {
     "data": {
      "text/plain": [
       "0    4284\n",
       "1     423\n",
       "2     114\n",
       "3      18\n",
       "4       7\n",
       "5       1\n",
       "Name: insurance_payments, dtype: int64"
      ]
     },
     "execution_count": 11,
     "metadata": {},
     "output_type": "execute_result"
    }
   ],
   "source": [
    "print('Уникальные значения количества страховых выплат:')\n",
    "clients_data['insurance_payments'].value_counts()"
   ]
  },
  {
   "cell_type": "markdown",
   "metadata": {},
   "source": [
    "Явных выбросов и аномалий не наблюдается, кросс-корреляций - тоже. Прослеживается зависимость целевого признака от возраста клиента. Причём она похожа на степенную, т.е. полиномиальная регрессия должна в данной задаче показать себя лучше линейной.\n",
    "\n",
    "Признак \"Пол\" можно попробовать закодировать OneHotEncoder.\n",
    "\n",
    "Признак \"Возраст\" можно попробовать преобразовать таким образом, чтобы зависимость была ближе к линейной (возвести в степень).\n",
    "\n",
    "Дисбалланс выплат довольно большой, можно попробовать upsampling и downsampling (хотя это и не задача классификации, но схожесть есть)"
   ]
  },
  {
   "cell_type": "markdown",
   "metadata": {},
   "source": [
    "<h1 style=\"color:SteelBlue\"> 2. Обучение модели на оригинальных данных</h1>"
   ]
  },
  {
   "cell_type": "markdown",
   "metadata": {},
   "source": [
    "По условию задачи не нужно подбирать лучшую модель и делать feature engineering, однако я попробую вариант с возведением признака <code>age</code> в степень. Варианты кодирования, стандартизацию и проч. пробовать не буду, т.к. нет такой задачи. Сначала обучу модель на оригинальных признаках, затем попробую преобразованный признак <code>'transformed_age'</code>\n",
    "\n",
    "Также нет задачи заниматься upsampling и downsampling, хотя дисбалланс по количеству выплат довольно значительный, можно было бы попробовать (выплаты - признак, конечно, количественный, но уникальных значений всего 6, и наиболее важны, как раз, большие количества выплат)"
   ]
  },
  {
   "cell_type": "code",
   "execution_count": 12,
   "metadata": {},
   "outputs": [
    {
     "name": "stdout",
     "output_type": "stream",
     "text": [
      "Метрика R2, X_test (оригинальные данные, возраст не преобразован) 0.5941402134406082\n"
     ]
    }
   ],
   "source": [
    "X = clients_data.drop(columns=['insurance_payments'])\n",
    "y = clients_data['insurance_payments']\n",
    "X_train, X_test, y_train, y_test = train_test_split(X, y, test_size=0.2, random_state=12345)\n",
    "linreg = LinearRegression()\n",
    "linreg.fit(X_train, y_train)\n",
    "y_predicted = linreg.predict(X_test)\n",
    "y_predicted = y_predicted.round(0)\n",
    "print('Метрика R2, X_test (оригинальные данные, возраст не преобразован)', r2_score(y_test, y_predicted))"
   ]
  },
  {
   "cell_type": "code",
   "execution_count": 13,
   "metadata": {},
   "outputs": [
    {
     "name": "stdout",
     "output_type": "stream",
     "text": [
      "Предсказанные объекты, у которых количество страховых выплат >=3 (array([], dtype=int64),)\n",
      "Объекты, у которых страховые выплаты действительно >=3 (array([190, 274, 601, 948], dtype=int64),)\n"
     ]
    }
   ],
   "source": [
    "print('Предсказанные объекты, у которых количество страховых выплат >=3', np.where(y_predicted >= 3))\n",
    "print('Объекты, у которых страховые выплаты действительно >=3', np.where(y_test >= 3))"
   ]
  },
  {
   "cell_type": "code",
   "execution_count": 14,
   "metadata": {},
   "outputs": [],
   "source": [
    "clients_data.loc[:, 'transformed_age'] = clients_data['age']**5.2"
   ]
  },
  {
   "cell_type": "code",
   "execution_count": 15,
   "metadata": {},
   "outputs": [
    {
     "name": "stdout",
     "output_type": "stream",
     "text": [
      "Метрика R2, X_test (оригинальные данные, возраст возведён в степень): 0.9364315996955169\n"
     ]
    }
   ],
   "source": [
    "X = clients_data.drop(columns=['insurance_payments', 'age'])\n",
    "y = clients_data['insurance_payments']\n",
    "X_train, X_test, y_train, y_test = train_test_split(X, y, test_size=0.2, random_state=12345)\n",
    "linreg.fit(X_train, y_train)\n",
    "y_predicted = linreg.predict(X_test)\n",
    "y_predicted = y_predicted.round(0)\n",
    "print('Метрика R2, X_test (оригинальные данные, возраст возведён в степень):', r2_score(y_test, y_predicted))"
   ]
  },
  {
   "cell_type": "code",
   "execution_count": 16,
   "metadata": {},
   "outputs": [
    {
     "name": "stdout",
     "output_type": "stream",
     "text": [
      "Предсказанные объекты, у которых количество страховых выплат >=3 (array([190, 274, 601, 948], dtype=int64),)\n",
      "Объекты, у которых страховые выплаты действительно >=3 (array([190, 274, 601, 948], dtype=int64),)\n"
     ]
    }
   ],
   "source": [
    "print('Предсказанные объекты, у которых количество страховых выплат >=3', np.where(y_predicted >= 3))\n",
    "print('Объекты, у которых страховые выплаты действительно >=3', np.where(y_test >= 3))"
   ]
  },
  {
   "cell_type": "markdown",
   "metadata": {},
   "source": [
    "После возведения признака \"возраст\" в степень 5.2 наблюдается значительное улучшение метрики r2. И точно предсказаны все объекты тестовой выборки, у которых число страховых выплат больше либо равно 3. Далее буду использовать <code>'transformed_age'</code>"
   ]
  },
  {
   "cell_type": "code",
   "execution_count": 17,
   "metadata": {},
   "outputs": [],
   "source": [
    "columns_names = ['gender', 'salary', 'family_members', 'transformed_age']"
   ]
  },
  {
   "cell_type": "markdown",
   "metadata": {},
   "source": [
    "<h1 style=\"color:SteelBlue\"> 3. Шифрование вектора признаков</h1>"
   ]
  },
  {
   "cell_type": "markdown",
   "metadata": {},
   "source": [
    "Достаточно надежное закрытие информации может обеспечить использование при шифровании некоторых аналитических преобразований. Например, можно использовать методы алгебры матриц. [© Защита информации в компьютерных системах](https://protect.htmlweb.ru/p11.htm)\n",
    "\n",
    "Шифрование текстов на основе матричного преобразования применяется, например, в шифре Хилла, где кодирующая матрица является словом, буквы которого закодированы числами и размещены в столбцах и строках кодирующей матрицы [см. Шифр Хилла](https://ru.wikipedia.org/wiki/%D0%A8%D0%B8%D1%84%D1%80_%D0%A5%D0%B8%D0%BB%D0%BB%D0%B0)"
   ]
  },
  {
   "cell_type": "markdown",
   "metadata": {},
   "source": [
    "<h2 style=\"color:DodgerBlue\">3.1 Алгоритм преобразования данных </h2>"
   ]
  },
  {
   "cell_type": "markdown",
   "metadata": {},
   "source": [
    "Для преобразования данных предлагаю использовать алгоритм на основе линейной алгебры. Каждый признак каждого объекта должен быть представлен как линейная комбинация оригинальных признаков (соответственно, число признаков не должно меняться, чтобы не было потери информации). Это эквивалентно применению матричного преобразования к транспонированной матрице признаков:\n",
    "\n",
    "\n",
    "$$ X\\_encrypted = (encryption\\_matrix \\cdot X^T)^T $$\n",
    "\n",
    "Или, если записать иначе:\n",
    "\n",
    "$$ X\\_encrypted = X \\cdot encryption\\_matrix^T $$\n",
    "\n",
    "Т.е.:\n",
    "\n",
    "$$ X\\_encrypted = X \\cdot encryption\\_key $$\n",
    "\n",
    "\n",
    "- X - матрица значений предикторов\n",
    "- X_encrypted - матрица зашифрованных значений предикторов\n",
    "- encryption_key - кодирующая матрица m x m, m - число предикторов\n",
    "\n",
    "\n",
    "Для расшифровки необходимо, чтобы существовала обратная матрица к <code>encryption_key</code>, т.е. определитель кодирующей матрицы не должен быть равен нулю <code>det(encryption_key) != 0</code>. Также определитель не должен быть слишком большим или маленьким, чтобы преобразование не растягивало и не сжимало пространство за пределы длин целых чисел (иначе, даже при наличии обратной матрицы, данные можно будет восстановить только с большой погрешностью).\n",
    "\n",
    "Качество линейной регрессии не поменяется, т.к. каждый новый признак является линейной комбинацией оригинальных признаков. Покажем это строго в следующем подразделе."
   ]
  },
  {
   "cell_type": "markdown",
   "metadata": {},
   "source": [
    "<h2 style=\"color:DodgerBlue\">3.2 Коэффициенты линейной регрессии до и после шифрования</h2>"
   ]
  },
  {
   "cell_type": "markdown",
   "metadata": {},
   "source": [
    "Если для решения задачи регрессии (нахождения регрессионных коэффициентов) используется метод наименьших квадратов, то функционал квадрата ошибки в матричной записи выглядит как:\n",
    "\n",
    "$$ Q(\\alpha, X^l) = ||F\\cdot\\alpha - y||^2 $$\n",
    "\n",
    "Где:\n",
    "- F - матрица предикторов\n",
    "- $ alpha $ - вектор коэффициентов линейной регрессии\n",
    "- y - вектор целевых признаков\n",
    "\n",
    "Если мы кодируем матрицу предикторов: \n",
    "\n",
    "$$ F\\_encrypted = F \\cdot encryption\\_key $$\n",
    "\n",
    "То прогноз линейной регрессии не ухудшится, если найдётся такой вектор коэффициентов <code>alhpa_enc</code>, что:\n",
    "\n",
    "$$ F\\cdot\\alpha - y = F\\_encrypted\\cdot\\alpha\\_enc - y  = F \\cdot encryption\\_key\\cdot\\alpha\\_enc - y $$\n",
    "\n",
    "Выполним преобразования:\n",
    "\n",
    "$$ F\\cdot\\alpha = F \\cdot encryption\\_key\\cdot\\alpha\\_enc $$\n",
    "\n",
    "$$ F^{-1} \\cdot F \\cdot \\alpha = F^{-1} \\cdot F \\cdot encryption\\_key\\cdot\\alpha\\_enc $$\n",
    "\n",
    "$$ alpha = encryption\\_key\\cdot\\alpha\\_enc $$\n",
    "\n",
    "$$ alpha\\_enc = encryption\\_key^{-1}\\cdot\\alpha $$\n",
    "\n",
    "Т.е. если у кодирующей матрицы есть обратная (детерминант кодирующей матрицы не равен нулю), то существует такой вектор коэффициентов alpha_enc, при котором значение функционала квадрата ошибки не ухудшится относительно оригинальных признаков."
   ]
  },
  {
   "cell_type": "markdown",
   "metadata": {},
   "source": [
    "<h2 style=\"color:DodgerBlue\">3.3 Шифрование вектора признаков (данных пользователей)</h2>"
   ]
  },
  {
   "cell_type": "markdown",
   "metadata": {},
   "source": [
    "Кодирующая матрица должна быть квадратной матрицей размера m x m, где m - количество предикторов. Можно создать такую матрицу из кодового слова, аналогично шифру Хилла. Однако, в данной задаче этого не требуется и я создам кодирующую матрицу при помощи <code>np.random.randint</code> (можно <code>np.random.randn</code>, но целочисленная матрица удобнее при передаче коллегам). Задам большие значения элементов в диапазоне -1000 до 1000, т.к. в оригинальных данных признаки имеют разные порядки (например пол (1, 0) и зарплата (10^3 - 10^4)). Если в кодирующей матрице будут небольшие значения, то признаки будут плохо закодированы (можно было бы, конечно, сначала их стандартизовать и кодировать бинарной матрицей)."
   ]
  },
  {
   "cell_type": "code",
   "execution_count": 18,
   "metadata": {},
   "outputs": [
    {
     "name": "stdout",
     "output_type": "stream",
     "text": [
      "Размер матрицы предикторов: (4847, 4)\n"
     ]
    }
   ],
   "source": [
    "print('Размер матрицы предикторов:', X.shape)"
   ]
  },
  {
   "cell_type": "code",
   "execution_count": 19,
   "metadata": {},
   "outputs": [
    {
     "name": "stdout",
     "output_type": "stream",
     "text": [
      "Матрица предикторов:\n"
     ]
    },
    {
     "data": {
      "text/html": [
       "<div>\n",
       "<style scoped>\n",
       "    .dataframe tbody tr th:only-of-type {\n",
       "        vertical-align: middle;\n",
       "    }\n",
       "\n",
       "    .dataframe tbody tr th {\n",
       "        vertical-align: top;\n",
       "    }\n",
       "\n",
       "    .dataframe thead th {\n",
       "        text-align: right;\n",
       "    }\n",
       "</style>\n",
       "<table border=\"1\" class=\"dataframe\">\n",
       "  <thead>\n",
       "    <tr style=\"text-align: right;\">\n",
       "      <th></th>\n",
       "      <th>gender</th>\n",
       "      <th>salary</th>\n",
       "      <th>family_members</th>\n",
       "      <th>transformed_age</th>\n",
       "    </tr>\n",
       "  </thead>\n",
       "  <tbody>\n",
       "    <tr>\n",
       "      <th>0</th>\n",
       "      <td>1</td>\n",
       "      <td>49600.0</td>\n",
       "      <td>1</td>\n",
       "      <td>2.434872e+08</td>\n",
       "    </tr>\n",
       "    <tr>\n",
       "      <th>1</th>\n",
       "      <td>0</td>\n",
       "      <td>38000.0</td>\n",
       "      <td>1</td>\n",
       "      <td>4.429357e+08</td>\n",
       "    </tr>\n",
       "    <tr>\n",
       "      <th>2</th>\n",
       "      <td>0</td>\n",
       "      <td>21000.0</td>\n",
       "      <td>0</td>\n",
       "      <td>4.022255e+07</td>\n",
       "    </tr>\n",
       "    <tr>\n",
       "      <th>3</th>\n",
       "      <td>0</td>\n",
       "      <td>41700.0</td>\n",
       "      <td>2</td>\n",
       "      <td>7.508278e+06</td>\n",
       "    </tr>\n",
       "    <tr>\n",
       "      <th>4</th>\n",
       "      <td>1</td>\n",
       "      <td>26100.0</td>\n",
       "      <td>0</td>\n",
       "      <td>3.351365e+07</td>\n",
       "    </tr>\n",
       "  </tbody>\n",
       "</table>\n",
       "</div>"
      ],
      "text/plain": [
       "   gender   salary  family_members  transformed_age\n",
       "0       1  49600.0               1     2.434872e+08\n",
       "1       0  38000.0               1     4.429357e+08\n",
       "2       0  21000.0               0     4.022255e+07\n",
       "3       0  41700.0               2     7.508278e+06\n",
       "4       1  26100.0               0     3.351365e+07"
      ]
     },
     "execution_count": 19,
     "metadata": {},
     "output_type": "execute_result"
    }
   ],
   "source": [
    "print('Матрица предикторов:')\n",
    "X.head()"
   ]
  },
  {
   "cell_type": "code",
   "execution_count": 20,
   "metadata": {},
   "outputs": [
    {
     "data": {
      "text/plain": [
       "sys.float_info(max=1.7976931348623157e+308, max_exp=1024, max_10_exp=308, min=2.2250738585072014e-308, min_exp=-1021, min_10_exp=-307, dig=15, mant_dig=53, epsilon=2.220446049250313e-16, radix=2, rounds=1)"
      ]
     },
     "execution_count": 20,
     "metadata": {},
     "output_type": "execute_result"
    }
   ],
   "source": [
    "import sys\n",
    "sys.float_info"
   ]
  },
  {
   "cell_type": "code",
   "execution_count": 21,
   "metadata": {},
   "outputs": [],
   "source": [
    "np.random.seed(271828)\n",
    "encryption_key = np.random.randint(-100, 100, size=(X.shape[1], X.shape[1]), dtype='l') "
   ]
  },
  {
   "cell_type": "code",
   "execution_count": 22,
   "metadata": {},
   "outputs": [
    {
     "name": "stdout",
     "output_type": "stream",
     "text": [
      "Кодирующая матрица:\n",
      "\n",
      "[[ 30 -44  97  92]\n",
      " [ 94   6  19  -4]\n",
      " [-74   1 -92 -82]\n",
      " [ 80  83  -2  13]]\n"
     ]
    }
   ],
   "source": [
    "print('Кодирующая матрица:\\n')\n",
    "print(encryption_key)"
   ]
  },
  {
   "cell_type": "code",
   "execution_count": 23,
   "metadata": {},
   "outputs": [
    {
     "name": "stdout",
     "output_type": "stream",
     "text": [
      "Детерминант кодирующей матрицы:\n",
      "-6340624.000000006\n",
      "Детерминант кодирующей матрицы не равен нулю, обратная матрица существует\n"
     ]
    }
   ],
   "source": [
    "print('Детерминант кодирующей матрицы:')\n",
    "enc_det = np.linalg.det(encryption_key)\n",
    "print(enc_det)\n",
    "if enc_det != 0:\n",
    "    print('Детерминант кодирующей матрицы не равен нулю, обратная матрица существует')\n",
    "else:\n",
    "    print('Детерминант кодирующей матрицы равен нулю. Такая матрица не подойдёт!')"
   ]
  },
  {
   "cell_type": "code",
   "execution_count": 24,
   "metadata": {},
   "outputs": [
    {
     "name": "stdout",
     "output_type": "stream",
     "text": [
      "Матрица, обратная кодирующей:\n",
      "\n",
      "[[ 0.02653635  0.01588566  0.03098654  0.01254577]\n",
      " [-0.04167319 -0.01686427 -0.04724141 -0.00825534]\n",
      " [-0.09971984 -0.01916878 -0.11887978 -0.05004555]\n",
      " [ 0.08742515  0.00696493  0.09264262  0.0447262 ]]\n"
     ]
    }
   ],
   "source": [
    "decryption_key = np.linalg.inv(encryption_key)\n",
    "print('Матрица, обратная кодирующей:\\n')\n",
    "print(decryption_key)"
   ]
  },
  {
   "cell_type": "code",
   "execution_count": 27,
   "metadata": {},
   "outputs": [
    {
     "name": "stdout",
     "output_type": "stream",
     "text": [
      "Закодированная матрица предикторов:\n"
     ]
    },
    {
     "data": {
      "text/html": [
       "<div>\n",
       "<style scoped>\n",
       "    .dataframe tbody tr th:only-of-type {\n",
       "        vertical-align: middle;\n",
       "    }\n",
       "\n",
       "    .dataframe tbody tr th {\n",
       "        vertical-align: top;\n",
       "    }\n",
       "\n",
       "    .dataframe thead th {\n",
       "        text-align: right;\n",
       "    }\n",
       "</style>\n",
       "<table border=\"1\" class=\"dataframe\">\n",
       "  <thead>\n",
       "    <tr style=\"text-align: right;\">\n",
       "      <th></th>\n",
       "      <th>gender</th>\n",
       "      <th>salary</th>\n",
       "      <th>family_members</th>\n",
       "      <th>transformed_age</th>\n",
       "    </tr>\n",
       "  </thead>\n",
       "  <tbody>\n",
       "    <tr>\n",
       "      <th>0</th>\n",
       "      <td>1.948363e+10</td>\n",
       "      <td>2.020973e+10</td>\n",
       "      <td>-4.860319e+08</td>\n",
       "      <td>3.165135e+09</td>\n",
       "    </tr>\n",
       "    <tr>\n",
       "      <th>1</th>\n",
       "      <td>3.543843e+10</td>\n",
       "      <td>3.676389e+10</td>\n",
       "      <td>-8.851496e+08</td>\n",
       "      <td>5.758013e+09</td>\n",
       "    </tr>\n",
       "    <tr>\n",
       "      <th>2</th>\n",
       "      <td>3.219778e+09</td>\n",
       "      <td>3.338598e+09</td>\n",
       "      <td>-8.004610e+07</td>\n",
       "      <td>5.228091e+08</td>\n",
       "    </tr>\n",
       "    <tr>\n",
       "      <th>3</th>\n",
       "      <td>6.045819e+08</td>\n",
       "      <td>6.234373e+08</td>\n",
       "      <td>-1.422444e+07</td>\n",
       "      <td>9.744065e+07</td>\n",
       "    </tr>\n",
       "    <tr>\n",
       "      <th>4</th>\n",
       "      <td>2.683546e+09</td>\n",
       "      <td>2.781790e+09</td>\n",
       "      <td>-6.653131e+07</td>\n",
       "      <td>4.355732e+08</td>\n",
       "    </tr>\n",
       "  </tbody>\n",
       "</table>\n",
       "</div>"
      ],
      "text/plain": [
       "         gender        salary  family_members  transformed_age\n",
       "0  1.948363e+10  2.020973e+10   -4.860319e+08     3.165135e+09\n",
       "1  3.543843e+10  3.676389e+10   -8.851496e+08     5.758013e+09\n",
       "2  3.219778e+09  3.338598e+09   -8.004610e+07     5.228091e+08\n",
       "3  6.045819e+08  6.234373e+08   -1.422444e+07     9.744065e+07\n",
       "4  2.683546e+09  2.781790e+09   -6.653131e+07     4.355732e+08"
      ]
     },
     "metadata": {},
     "output_type": "display_data"
    }
   ],
   "source": [
    "X_encrypted = np.dot(X, encryption_key)\n",
    "print('Закодированная матрица предикторов:')\n",
    "display(pd.DataFrame(X_encrypted, columns = columns_names).head())"
   ]
  },
  {
   "cell_type": "code",
   "execution_count": 30,
   "metadata": {},
   "outputs": [
    {
     "name": "stdout",
     "output_type": "stream",
     "text": [
      "Раскодированная матрица предикторов:\n"
     ]
    },
    {
     "data": {
      "text/html": [
       "<div>\n",
       "<style scoped>\n",
       "    .dataframe tbody tr th:only-of-type {\n",
       "        vertical-align: middle;\n",
       "    }\n",
       "\n",
       "    .dataframe tbody tr th {\n",
       "        vertical-align: top;\n",
       "    }\n",
       "\n",
       "    .dataframe thead th {\n",
       "        text-align: right;\n",
       "    }\n",
       "</style>\n",
       "<table border=\"1\" class=\"dataframe\">\n",
       "  <thead>\n",
       "    <tr style=\"text-align: right;\">\n",
       "      <th></th>\n",
       "      <th>gender</th>\n",
       "      <th>salary</th>\n",
       "      <th>family_members</th>\n",
       "      <th>transformed_age</th>\n",
       "    </tr>\n",
       "  </thead>\n",
       "  <tbody>\n",
       "    <tr>\n",
       "      <th>0</th>\n",
       "      <td>1.0</td>\n",
       "      <td>49600.0</td>\n",
       "      <td>1.0</td>\n",
       "      <td>243487155.0</td>\n",
       "    </tr>\n",
       "    <tr>\n",
       "      <th>1</th>\n",
       "      <td>-0.0</td>\n",
       "      <td>38000.0</td>\n",
       "      <td>1.0</td>\n",
       "      <td>442935740.0</td>\n",
       "    </tr>\n",
       "    <tr>\n",
       "      <th>2</th>\n",
       "      <td>0.0</td>\n",
       "      <td>21000.0</td>\n",
       "      <td>0.0</td>\n",
       "      <td>40222549.0</td>\n",
       "    </tr>\n",
       "    <tr>\n",
       "      <th>3</th>\n",
       "      <td>0.0</td>\n",
       "      <td>41700.0</td>\n",
       "      <td>2.0</td>\n",
       "      <td>7508278.0</td>\n",
       "    </tr>\n",
       "    <tr>\n",
       "      <th>4</th>\n",
       "      <td>1.0</td>\n",
       "      <td>26100.0</td>\n",
       "      <td>0.0</td>\n",
       "      <td>33513653.0</td>\n",
       "    </tr>\n",
       "  </tbody>\n",
       "</table>\n",
       "</div>"
      ],
      "text/plain": [
       "   gender   salary  family_members  transformed_age\n",
       "0     1.0  49600.0             1.0      243487155.0\n",
       "1    -0.0  38000.0             1.0      442935740.0\n",
       "2     0.0  21000.0             0.0       40222549.0\n",
       "3     0.0  41700.0             2.0        7508278.0\n",
       "4     1.0  26100.0             0.0       33513653.0"
      ]
     },
     "metadata": {},
     "output_type": "display_data"
    }
   ],
   "source": [
    "X_decrypted = np.dot(X_encrypted, decryption_key)\n",
    "print('Раскодированная матрица предикторов:')\n",
    "display(pd.DataFrame(X_decrypted, columns = columns_names).round(0).head())"
   ]
  },
  {
   "cell_type": "code",
   "execution_count": 31,
   "metadata": {},
   "outputs": [
    {
     "name": "stdout",
     "output_type": "stream",
     "text": [
      "Суммарные абсолютные различия в оригинальной и раскодированной матрице:\n"
     ]
    },
    {
     "data": {
      "text/plain": [
       "gender             0.0\n",
       "salary             0.0\n",
       "family_members     0.0\n",
       "transformed_age    0.0\n",
       "dtype: float64"
      ]
     },
     "execution_count": 31,
     "metadata": {},
     "output_type": "execute_result"
    }
   ],
   "source": [
    "print('Суммарные абсолютные различия в оригинальной и раскодированной матрице:')\n",
    "(abs(X - X_decrypted)).sum().round(3)"
   ]
  },
  {
   "cell_type": "markdown",
   "metadata": {},
   "source": [
    "Кодирование и раскодирование работают адекватно. С точностью до третьего знака абсолютная сумма отклонений значений признаков раскодированной матрицы от оригинальной равна 0."
   ]
  },
  {
   "cell_type": "markdown",
   "metadata": {},
   "source": [
    "<h1 style=\"color:SteelBlue\"> 4. Обучение модели на зашифрованных данных</h1>"
   ]
  },
  {
   "cell_type": "code",
   "execution_count": 32,
   "metadata": {},
   "outputs": [
    {
     "name": "stdout",
     "output_type": "stream",
     "text": [
      "Метрика R2 (зашифрованные данные, возраст возведён в степень): 0.9364315996955169\n"
     ]
    }
   ],
   "source": [
    "X = clients_data.drop(columns=['insurance_payments', 'age'])\n",
    "y = clients_data['insurance_payments']\n",
    "X_train, X_test, y_train, y_test = train_test_split(X_encrypted, y, test_size=0.2, random_state=12345)\n",
    "linreg.fit(X_train, y_train)\n",
    "y_predicted = linreg.predict(X_test)\n",
    "y_predicted = y_predicted.round(0)\n",
    "print('Метрика R2 (зашифрованные данные, возраст возведён в степень):', r2_score(y_test, y_predicted))"
   ]
  },
  {
   "cell_type": "markdown",
   "metadata": {},
   "source": [
    "Как и предполагалось, матричное шифрование признаков не влияет на качество прогноза линейной регрессии."
   ]
  },
  {
   "cell_type": "markdown",
   "metadata": {},
   "source": [
    "<h1 style=\"color:SteelBlue\"> Общий вывод</h1>"
   ]
  },
  {
   "cell_type": "markdown",
   "metadata": {},
   "source": [
    "В работе требовалось разработать такой метод преобразования данных, чтобы по ним было сложно восстановить персональную информацию. При этом качество прогноза линейной регрессии на зашифрованных данных не должно было ухудшиться. В качестве метрики использовалась r2.\n",
    "\n",
    "Данные представлены пятью тысячами объектов, 153 дубля (удалены). \n",
    "\n",
    "Всего 5 признаков, из них:\n",
    "\n",
    "**4 предиктора:** \"Пол\", \"Возраст\", \"Зарплата\", \"Члены семьи\" <code>sex, age, salary, family_members</code>. \n",
    "\n",
    "**1 целевой признак:** \"Страховые выплаты\" <code>insurance_payments</code>\n",
    "\n",
    "В процессе EDA установлено, что есть нелинейная взаимосвязь \"Возраст\" - \"Страховые выплаты\". Аномалий, выбросов и кросс-корреляционных связей между предикторами не найдено. Проведен feature engineering: вместо признака <code>\"Возраст\"</code> создан признак <code>'transformed_age'</code>. Совместно с округлением предсказанных значений страховых выплат до целых чисел это позволило получить метрику <code>r2 = 0.936</code> на тестовой выборке.\n",
    "\n",
    "Для преобразования данных предложен алгоритм на основе методов линейной алгебры. Каждый признак каждого объекта представлен как линейная комбинация оригинальных признаков, что эквивалентно применению матричного преобразования:\n",
    "\n",
    "$$ X\\_encrypted = X \\cdot encryption\\_key $$\n",
    "\n",
    "- X - матрица значений предикторов\n",
    "- X_encrypted - матрица зашифрованных значений предикторов\n",
    "- encryption_key - кодирующая матрица m x m, m - число предикторов\n",
    "\n",
    "Показано, что качество прогноза линейной регрессии не поменяется, если кодирующая матрица обратима. При этом:\n",
    "\n",
    "$$ alpha\\_enc = encryption\\_key^{-1}\\cdot\\alpha $$\n",
    "\n",
    "- alpha_enc - коэффициенты линейной регрессии после шифрования предикторов\n",
    "- alpha - коэффициенты линейной регрессии для оригинальных значений предикторов\n",
    "- encryption_key - кодирующая матрица m x m, m - число предикторов\n",
    "\n",
    "Кодирующая матрица построена методом np.random.randint. Проверена адекватность работы шифрования: расшифрованная матрица совпадает с оригинальной (с точностью до третьего знака абсолютная сумма отклонений значений признаков расшифрованной матрицы от оригинальной равна 0) \n",
    "\n",
    "Обучены модели линейной регрессии для оригинальной матрицы предикторов и для зашифрованной матрицы. Значение метрики r2 полностью идентичны (r2 = 0.9364315996955169)."
   ]
  }
 ],
 "metadata": {
  "kernelspec": {
   "display_name": "Python 3",
   "language": "python",
   "name": "python3"
  },
  "language_info": {
   "codemirror_mode": {
    "name": "ipython",
    "version": 3
   },
   "file_extension": ".py",
   "mimetype": "text/x-python",
   "name": "python",
   "nbconvert_exporter": "python",
   "pygments_lexer": "ipython3",
   "version": "3.7.7"
  }
 },
 "nbformat": 4,
 "nbformat_minor": 4
}
