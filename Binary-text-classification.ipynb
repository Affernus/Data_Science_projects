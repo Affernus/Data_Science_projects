{
 "cells": [
  {
   "cell_type": "markdown",
   "metadata": {},
   "source": [
    "<h1 style=\"color:SteelBlue; font-size:200%; line-height:1.5\">Определение тональности комментариев</h1>"
   ]
  },
  {
   "cell_type": "markdown",
   "metadata": {},
   "source": [
    "Нужно обучить модель классифицировать комментарии на позитивные и негативные. Целевая метрика - f1. Нужно получить значение на тестовой выборке не ниже 0.75. "
   ]
  },
  {
   "cell_type": "markdown",
   "metadata": {},
   "source": [
    "<h1 style=\"color:SteelBlue; font-size:200%; line-height:1.5\">Введение</h1>"
   ]
  },
  {
   "cell_type": "markdown",
   "metadata": {},
   "source": [
    "В работе опирался на [Ваш первый BERT: иллюстрированное руководство](https://github.com/jalammar/jalammar.github.io/blob/master/notebooks/bert/A_Visual_Notebook_to_Using_BERT_for_the_First_Time.ipynb), [Smart batchin tutorial](https://colab.research.google.com/drive/1Er23iD96x_SzmRG8md1kVggbmz0su_Q5#scrollTo=Sa7tgw2-Pttq), [Lena VoitaNLP course]( https://lena-voita.github.io/nlp_course/text_classification.html), [kaggle mini course Natural Language Processing](https://www.kaggle.com/learn/natural-language-processing), [Подходы лемматизации с примерами на Python](https://webdevblog.ru/podhody-lemmatizacii-s-primerami-v-python/)\n",
    "\n",
    "Попробовал spaCy и BERT (и DistilBERT) от transformers, и можно было ещё попробовать реализации word2vec от spaCy и разные языковые модели. Возможно, можно было как-то улучшить показатели комбинациями vectorizer-pca-gradient boosting. Не стал включать в тетрадку, т.к. предварительные результаты были хуже логистической регрессии, тюнинг бустинга на таком наборе данных очень затратен по времени, а логистическая регрессия вполне справилась с задачей."
   ]
  },
  {
   "cell_type": "markdown",
   "metadata": {},
   "source": [
    "<h1 style=\"color:SteelBlue; font-size:200%; line-height:1.5\">1. Загрузка данных, общая информация</h1>"
   ]
  },
  {
   "cell_type": "code",
   "execution_count": 1,
   "metadata": {},
   "outputs": [],
   "source": [
    "#!conda install -c conda-forge spacy\n",
    "#!python -m spacy download en_core_web_sm\n",
    "#!pip install transformers"
   ]
  },
  {
   "cell_type": "code",
   "execution_count": 1,
   "metadata": {},
   "outputs": [],
   "source": [
    "import pandas as pd\n",
    "import numpy as np\n",
    "import re #регулярные выражения для очистки текста\n",
    "import random\n",
    "import torch #для тензоров BERT\n",
    "import csv #для записи эмбеддингов\n",
    "\n",
    "from tqdm import notebook #для отслеживания прогресса\n",
    "from datetime import datetime #для оценки времени лемматизации\n",
    "\n",
    "#BERT от transformers\n",
    "from transformers import AutoConfig, AutoModel, AutoTokenizer\n",
    "\n",
    "#spaCy\n",
    "import spacy\n",
    "from spacy.pipeline import TextCategorizer\n",
    "from spacy.util import minibatch\n",
    "\n",
    "#natural language toolkit\n",
    "import nltk\n",
    "from nltk.corpus import stopwords as nltk_stopwords\n",
    "from nltk.corpus import wordnet\n",
    "from nltk.stem import WordNetLemmatizer\n",
    "\n",
    "#векторизация, метрики, пайплайн, подготовка данных, модели от sklearn\n",
    "from sklearn.feature_extraction.text import TfidfVectorizer, HashingVectorizer, CountVectorizer\n",
    "from sklearn.metrics import f1_score, confusion_matrix, classification_report, roc_auc_score\n",
    "from sklearn.model_selection import train_test_split, cross_val_score\n",
    "from sklearn.pipeline import Pipeline\n",
    "from sklearn.linear_model import LogisticRegression\n",
    "from sklearn.naive_bayes import ComplementNB\n",
    "from catboost import CatBoostClassifier"
   ]
  },
  {
   "cell_type": "code",
   "execution_count": 3,
   "metadata": {},
   "outputs": [],
   "source": [
    "#nltk.download('wordnet')\n",
    "#nltk.download('averaged_perceptron_tagger')\n",
    "#nltk.download('punkt')"
   ]
  },
  {
   "cell_type": "code",
   "execution_count": 4,
   "metadata": {},
   "outputs": [],
   "source": [
    "#функция для вывода отчёта о прогнозе модели\n",
    "def print_report(true, predicted):\n",
    "    \n",
    "    report = classification_report(true, predicted)\n",
    "    roc_auc = roc_auc_score(true, predicted)\n",
    "\n",
    "    cm = confusion_matrix(true, predicted)\n",
    "    cm_df = pd.DataFrame(data=cm, index=['Actual NO', 'Actual YES'], columns = ['Predicted NO', 'Predicted YES'])\n",
    "    display(cm_df)\n",
    "    print(f'{\"report\":-^60}\\n\\n', report)\n",
    "    print( 'ROC_AUC:', round(roc_auc,2) )"
   ]
  },
  {
   "cell_type": "code",
   "execution_count": 5,
   "metadata": {},
   "outputs": [],
   "source": [
    "#функция для удаления из текста никнеймов и проч.\n",
    "def text_cleaner(raw):\n",
    "    return \" \".join(re.sub(r'[^a-zA-Z\\']', ' ', raw).split())"
   ]
  },
  {
   "cell_type": "code",
   "execution_count": 6,
   "metadata": {},
   "outputs": [],
   "source": [
    "#функция возвращает кортеж с тегом «part-of-speech»\n",
    "#взята с https://webdevblog.ru/podhody-lemmatizacii-s-primerami-v-python/\n",
    "def get_wordnet_pos(word):\n",
    "    \"\"\"Map POS tag to first character lemmatize() accepts\"\"\"\n",
    "    tag = nltk.pos_tag([word])[0][1][0].upper()\n",
    "    tag_dict = {\"J\": wordnet.ADJ,\n",
    "                \"N\": wordnet.NOUN,\n",
    "                \"V\": wordnet.VERB,\n",
    "                \"R\": wordnet.ADV}\n",
    "    return tag_dict.get(tag, wordnet.NOUN)"
   ]
  },
  {
   "cell_type": "code",
   "execution_count": 7,
   "metadata": {},
   "outputs": [],
   "source": [
    "#функция для лемматизации на базе nltk\n",
    "def ntlk_text_lemmatizer(row):\n",
    "    lemmatizer = WordNetLemmatizer()\n",
    "    lemmatized_row = ''\n",
    "    for w in nltk.word_tokenize(row):\n",
    "        lemmatized_row += lemmatizer.lemmatize(w, get_wordnet_pos(w)) + ' '\n",
    "        \n",
    "    return lemmatized_row"
   ]
  },
  {
   "cell_type": "code",
   "execution_count": 8,
   "metadata": {},
   "outputs": [],
   "source": [
    "#функция для лемматизации на базе spacy\n",
    "def spacy_text_lemmatizer(raw):\n",
    "    doc = nlp(raw)\n",
    "    return \" \".join([token.lemma_ for token in doc])"
   ]
  },
  {
   "cell_type": "code",
   "execution_count": 9,
   "metadata": {},
   "outputs": [],
   "source": [
    "#функция для кросс-валидации с векторизацией\n",
    "def cross_val_func(model, vectorizer, features, target):\n",
    "    pipe = \\\n",
    "    Pipeline(steps = [('vectorizer', vectorizer),\n",
    "                      ('model', model)])\n",
    "    cv_score = cross_val_score(pipe, features, target, cv=5, scoring='f1')\n",
    "    print('Cross-validation results, f1', cv_score)\n",
    "    print('Cross-validation mean score, f1', cv_score.mean())"
   ]
  },
  {
   "cell_type": "code",
   "execution_count": 10,
   "metadata": {},
   "outputs": [
    {
     "data": {
      "text/html": [
       "<div>\n",
       "<style scoped>\n",
       "    .dataframe tbody tr th:only-of-type {\n",
       "        vertical-align: middle;\n",
       "    }\n",
       "\n",
       "    .dataframe tbody tr th {\n",
       "        vertical-align: top;\n",
       "    }\n",
       "\n",
       "    .dataframe thead th {\n",
       "        text-align: right;\n",
       "    }\n",
       "</style>\n",
       "<table border=\"1\" class=\"dataframe\">\n",
       "  <thead>\n",
       "    <tr style=\"text-align: right;\">\n",
       "      <th></th>\n",
       "      <th>text</th>\n",
       "      <th>toxic</th>\n",
       "    </tr>\n",
       "  </thead>\n",
       "  <tbody>\n",
       "    <tr>\n",
       "      <th>0</th>\n",
       "      <td>Explanation\\nWhy the edits made under my usern...</td>\n",
       "      <td>0</td>\n",
       "    </tr>\n",
       "    <tr>\n",
       "      <th>1</th>\n",
       "      <td>D'aww! He matches this background colour I'm s...</td>\n",
       "      <td>0</td>\n",
       "    </tr>\n",
       "    <tr>\n",
       "      <th>2</th>\n",
       "      <td>Hey man, I'm really not trying to edit war. It...</td>\n",
       "      <td>0</td>\n",
       "    </tr>\n",
       "    <tr>\n",
       "      <th>3</th>\n",
       "      <td>\"\\nMore\\nI can't make any real suggestions on ...</td>\n",
       "      <td>0</td>\n",
       "    </tr>\n",
       "    <tr>\n",
       "      <th>4</th>\n",
       "      <td>You, sir, are my hero. Any chance you remember...</td>\n",
       "      <td>0</td>\n",
       "    </tr>\n",
       "  </tbody>\n",
       "</table>\n",
       "</div>"
      ],
      "text/plain": [
       "                                                text  toxic\n",
       "0  Explanation\\nWhy the edits made under my usern...      0\n",
       "1  D'aww! He matches this background colour I'm s...      0\n",
       "2  Hey man, I'm really not trying to edit war. It...      0\n",
       "3  \"\\nMore\\nI can't make any real suggestions on ...      0\n",
       "4  You, sir, are my hero. Any chance you remember...      0"
      ]
     },
     "execution_count": 10,
     "metadata": {},
     "output_type": "execute_result"
    }
   ],
   "source": [
    "link='datasets/ML/'\n",
    "df = pd.read_csv(link + 'toxic_comments.csv')\n",
    "df.head()"
   ]
  },
  {
   "cell_type": "code",
   "execution_count": 11,
   "metadata": {},
   "outputs": [
    {
     "name": "stdout",
     "output_type": "stream",
     "text": [
      "<class 'pandas.core.frame.DataFrame'>\n",
      "RangeIndex: 159571 entries, 0 to 159570\n",
      "Data columns (total 2 columns):\n",
      " #   Column  Non-Null Count   Dtype \n",
      "---  ------  --------------   ----- \n",
      " 0   text    159571 non-null  object\n",
      " 1   toxic   159571 non-null  int64 \n",
      "dtypes: int64(1), object(1)\n",
      "memory usage: 2.4+ MB\n"
     ]
    }
   ],
   "source": [
    "df.info()"
   ]
  },
  {
   "cell_type": "code",
   "execution_count": 12,
   "metadata": {},
   "outputs": [
    {
     "data": {
      "text/plain": [
       "0    143346\n",
       "1     16225\n",
       "Name: toxic, dtype: int64"
      ]
     },
     "execution_count": 12,
     "metadata": {},
     "output_type": "execute_result"
    }
   ],
   "source": [
    "df['toxic'].value_counts()"
   ]
  },
  {
   "cell_type": "code",
   "execution_count": 13,
   "metadata": {},
   "outputs": [
    {
     "data": {
      "text/plain": [
       "0"
      ]
     },
     "execution_count": 13,
     "metadata": {},
     "output_type": "execute_result"
    }
   ],
   "source": [
    "df.duplicated().sum()"
   ]
  },
  {
   "cell_type": "markdown",
   "metadata": {},
   "source": [
    "Данные - объёмный (почти 160 тыс. объектов) датасет с сильно разбалансированными классами. Без дублей и пропусков. Требуется очистка текста от спецсимволов и проч."
   ]
  },
  {
   "cell_type": "code",
   "execution_count": 14,
   "metadata": {},
   "outputs": [],
   "source": [
    "df['text'] = df['text'].astype('U')"
   ]
  },
  {
   "cell_type": "code",
   "execution_count": 15,
   "metadata": {},
   "outputs": [],
   "source": [
    "df['text'] = df['text'].apply(text_cleaner)"
   ]
  },
  {
   "cell_type": "markdown",
   "metadata": {},
   "source": [
    "//ремарка:\n",
    "\n",
    "Уже после обучения BERT и spaCy на полном датасете я выяснил, что часть (1243) комментариев содержала только цифры; вероятно, цифры не стоило очищать. Однако для BERT датасет (полный, а не тот, который я привёл в тетрадке) был получен уже без цифр, поэтому не стал переделывать это, чтобы можно было сравнить результаты. В принципе, можно было поработать с текстом, проверить на пустые комментарии, комментарии только с цифрами и т.д. Возможно, стоило оставлять скобки и двоеточия и выделить эмодзи. Варианты для предобработки есть. Если развивать проект, можно экспериментировать."
   ]
  },
  {
   "cell_type": "code",
   "execution_count": 16,
   "metadata": {},
   "outputs": [
    {
     "data": {
      "text/html": [
       "<div>\n",
       "<style scoped>\n",
       "    .dataframe tbody tr th:only-of-type {\n",
       "        vertical-align: middle;\n",
       "    }\n",
       "\n",
       "    .dataframe tbody tr th {\n",
       "        vertical-align: top;\n",
       "    }\n",
       "\n",
       "    .dataframe thead th {\n",
       "        text-align: right;\n",
       "    }\n",
       "</style>\n",
       "<table border=\"1\" class=\"dataframe\">\n",
       "  <thead>\n",
       "    <tr style=\"text-align: right;\">\n",
       "      <th></th>\n",
       "      <th>text</th>\n",
       "      <th>toxic</th>\n",
       "    </tr>\n",
       "  </thead>\n",
       "  <tbody>\n",
       "    <tr>\n",
       "      <th>0</th>\n",
       "      <td>Explanation Why the edits made under my userna...</td>\n",
       "      <td>0</td>\n",
       "    </tr>\n",
       "    <tr>\n",
       "      <th>1</th>\n",
       "      <td>D'aww He matches this background colour I'm se...</td>\n",
       "      <td>0</td>\n",
       "    </tr>\n",
       "    <tr>\n",
       "      <th>2</th>\n",
       "      <td>Hey man I'm really not trying to edit war It's...</td>\n",
       "      <td>0</td>\n",
       "    </tr>\n",
       "    <tr>\n",
       "      <th>3</th>\n",
       "      <td>More I can't make any real suggestions on impr...</td>\n",
       "      <td>0</td>\n",
       "    </tr>\n",
       "    <tr>\n",
       "      <th>4</th>\n",
       "      <td>You sir are my hero Any chance you remember wh...</td>\n",
       "      <td>0</td>\n",
       "    </tr>\n",
       "  </tbody>\n",
       "</table>\n",
       "</div>"
      ],
      "text/plain": [
       "                                                text  toxic\n",
       "0  Explanation Why the edits made under my userna...      0\n",
       "1  D'aww He matches this background colour I'm se...      0\n",
       "2  Hey man I'm really not trying to edit war It's...      0\n",
       "3  More I can't make any real suggestions on impr...      0\n",
       "4  You sir are my hero Any chance you remember wh...      0"
      ]
     },
     "execution_count": 16,
     "metadata": {},
     "output_type": "execute_result"
    }
   ],
   "source": [
    "df.head()"
   ]
  },
  {
   "cell_type": "markdown",
   "metadata": {},
   "source": [
    "<h1 style=\"color:SteelBlue; font-size:200%; line-height:1.5\">2. Классический подход: Naive Bayes Classifier, Logistic Regression</h1>"
   ]
  },
  {
   "cell_type": "markdown",
   "metadata": {},
   "source": [
    "<h2 style=\"color:DodgerBlue\">2.1 Лемматизация</h2>"
   ]
  },
  {
   "cell_type": "markdown",
   "metadata": {},
   "source": [
    "Сравню два варианта лемматизации: на базе Natural Language Toolkit и на базе spaCy. Для spaCy возьму самую лёгкую модель [en_core_web_sm](https://spacy.io/models/en#en_core_web_sm) (English multi-task CNN trained on OntoNotes. Assigns context-specific token vectors, POS tags, dependency parse and named entities). Для nltk - wordnet."
   ]
  },
  {
   "cell_type": "code",
   "execution_count": 17,
   "metadata": {},
   "outputs": [],
   "source": [
    "nlp = spacy.load('en_core_web_sm')"
   ]
  },
  {
   "cell_type": "code",
   "execution_count": 18,
   "metadata": {},
   "outputs": [
    {
     "name": "stdout",
     "output_type": "stream",
     "text": [
      "Исходный текст: Explanation Why the edits made under my username Hardcore Metallica Fan were reverted They weren't vandalisms just closure on some GAs after I voted at New York Dolls FAC And please don't remove the template from the talk page since I'm retired now \n",
      "\n",
      "Лемматизированный текст spacy: explanation why the edit make under -PRON- username Hardcore Metallica Fan be revert -PRON- be not vandalism just closure on some gas after -PRON- vote at New York Dolls FAC and please do not remove the template from the talk page since -PRON- be retire now \n",
      "\n",
      "Лемматизированный текст ntlk: Explanation Why the edits make under my username Hardcore Metallica Fan be revert They be n't vandalism just closure on some GAs after I vote at New York Dolls FAC And please do n't remove the template from the talk page since I 'm retire now  \n",
      "\n",
      "Исходный текст: Fair use rationale for Image Wonju jpg Thanks for uploading Image Wonju jpg I notice the image page specifies that the image is being used under fair use but there is no explanation or rationale as to why its use in Wikipedia articles constitutes fair use In addition to the boilerplate fair use template you must also write out on the image description page a specific explanation or rationale for why using this image in each article is consistent with fair use Please go to the image description page and edit it to include a fair use rationale If you have uploaded other fair use media consider checking that you have specified the fair use rationale on those pages too You can find a list of 'image' pages you have edited by clicking on the my contributions link it is located at the very top of any Wikipedia page when you are logged in and then selecting Image from the dropdown box Note that any fair use images uploaded after May and lacking such an explanation will be deleted one week after they have been uploaded as described on criteria for speedy deletion If you have any questions please ask them at the Media copyright questions page Thank you talk contribs Unspecified source for Image Wonju jpg Thanks for uploading Image Wonju jpg I noticed that the file's description page currently doesn't specify who created the content so the copyright status is unclear If you did not create this file yourself then you will need to specify the owner of the copyright If you obtained it from a website then a link to the website from which it was taken together with a restatement of that website's terms of use of its content is usually sufficient information However if the copyright holder is different from the website's publisher then their copyright should also be acknowledged As well as adding the source please add a proper copyright licensing tag if the file doesn't have one already If you created took the picture audio or video then the tag can be used to release it under the GFDL If you believe the media meets the criteria at Wikipedia Fair use use a tag such as or one of the other tags listed at Wikipedia Image copyright tags Fair use See Wikipedia Image copyright tags for the full list of copyright tags that you can use If you have uploaded other files consider checking that you have specified their source and tagged them too You can find a list of files you have uploaded by following this link Unsourced and untagged images may be deleted one week after they have been tagged as described on criteria for speedy deletion If the image is copyrighted under a non free license per Wikipedia Fair use then the image will be deleted hours after If you have any questions please ask them at the Media copyright questions page Thank you talk contribs \n",
      "\n",
      "Лемматизированный текст spacy: fair use rationale for Image Wonju jpg thank for upload Image Wonju jpg -PRON- notice the image page specify that the image be be use under fair use but there be no explanation or rationale as to why -PRON- use in Wikipedia article constitute fair use in addition to the boilerplate fair use template -PRON- must also write out on the image description page a specific explanation or rationale for why use this image in each article be consistent with fair use please go to the image description page and edit -PRON- to include a fair use rationale if -PRON- have upload other fair use medium consider check that -PRON- have specify the fair use rationale on those page too -PRON- can find a list of ' image ' page -PRON- have edit by click on the -PRON- contribution link -PRON- be locate at the very top of any Wikipedia page when -PRON- be log in and then select image from the dropdown box note that any fair use image upload after May and lack such an explanation will be delete one week after -PRON- have be upload as describe on criterion for speedy deletion if -PRON- have any question please ask -PRON- at the Media copyright question page thank -PRON- talk contribs unspecified source for Image Wonju jpg thank for upload Image Wonju jpg -PRON- notice that the file 's description page currently do not specify who create the content so the copyright status be unclear if -PRON- do not create this file -PRON- then -PRON- will need to specify the owner of the copyright if -PRON- obtain -PRON- from a website then a link to the website from which -PRON- be take together with a restatement of that website 's term of use of -PRON- content be usually sufficient information however if the copyright holder be different from the website 's publisher then -PRON- copyright should also be acknowledge as well as add the source please add a proper copyright licensing tag if the file do not have one already if -PRON- create take the picture audio or video then the tag can be use to release -PRON- under the GFDL if -PRON- believe the medium meet the criterion at Wikipedia Fair use use a tag such as or one of the other tag list at Wikipedia Image copyright tag fair use See Wikipedia Image copyright tag for the full list of copyright tag that -PRON- can use if -PRON- have upload other file consider check that -PRON- have specify -PRON- source and tag -PRON- too -PRON- can find a list of file -PRON- have upload by follow this link unsourced and untagged image may be delete one week after -PRON- have be tag as describe on criterion for speedy deletion if the image be copyright under a non free license per Wikipedia Fair use then the image will be delete hour after if -PRON- have any question please ask -PRON- at the Media copyright question page thank -PRON- talk contribs \n",
      "\n",
      "Лемматизированный текст ntlk: Fair use rationale for Image Wonju jpg Thanks for upload Image Wonju jpg I notice the image page specifies that the image be be use under fair use but there be no explanation or rationale a to why it use in Wikipedia article constitutes fair use In addition to the boilerplate fair use template you must also write out on the image description page a specific explanation or rationale for why use this image in each article be consistent with fair use Please go to the image description page and edit it to include a fair use rationale If you have uploaded other fair use medium consider check that you have specify the fair use rationale on those page too You can find a list of 'image ' page you have edit by click on the my contribution link it be locate at the very top of any Wikipedia page when you be log in and then select Image from the dropdown box Note that any fair use image uploaded after May and lack such an explanation will be delete one week after they have be uploaded a described on criterion for speedy deletion If you have any question please ask them at the Media copyright question page Thank you talk contribs Unspecified source for Image Wonju jpg Thanks for upload Image Wonju jpg I notice that the file 's description page currently do n't specify who create the content so the copyright status be unclear If you do not create this file yourself then you will need to specify the owner of the copyright If you obtain it from a website then a link to the website from which it be take together with a restatement of that website 's term of use of it content be usually sufficient information However if the copyright holder be different from the website 's publisher then their copyright should also be acknowledge As well a add the source please add a proper copyright licensing tag if the file do n't have one already If you create take the picture audio or video then the tag can be use to release it under the GFDL If you believe the medium meet the criterion at Wikipedia Fair use use a tag such a or one of the other tag list at Wikipedia Image copyright tag Fair use See Wikipedia Image copyright tag for the full list of copyright tag that you can use If you have uploaded other file consider check that you have specify their source and tag them too You can find a list of file you have uploaded by follow this link Unsourced and untagged image may be delete one week after they have be tag a described on criterion for speedy deletion If the image be copyright under a non free license per Wikipedia Fair use then the image will be delete hour after If you have any question please ask them at the Media copyright question page Thank you talk contribs  \n",
      "\n",
      "Исходный текст: However the Moonlite edit noted by golden daph was me on optus Wake up wikkis So funny \n",
      "\n",
      "Лемматизированный текст spacy: however the Moonlite edit note by golden daph be -PRON- on optus Wake up wikkis so funny \n",
      "\n",
      "Лемматизированный текст ntlk: However the Moonlite edit note by golden daph be me on optus Wake up wikkis So funny  \n",
      "\n"
     ]
    }
   ],
   "source": [
    "for i in [0, 10, 100]:\n",
    "    print(\"Исходный текст:\", df['text'].values[i], '\\n')\n",
    "    print(\"Лемматизированный текст spacy:\", spacy_text_lemmatizer(df['text'].values[i]), '\\n')\n",
    "    print(\"Лемматизированный текст ntlk:\", ntlk_text_lemmatizer(df['text'].values[i]), '\\n')"
   ]
  },
  {
   "cell_type": "markdown",
   "metadata": {},
   "source": [
    "SpaCy использует -PRON - в качестве леммы для личных местоимений (т.к. нет четкой базовой формы личного местоимения). Можно оставлять оригинальный текст для местоимений, но пока оставлю так. Похоже, лучше обрабатывает варианты с апострофами. Проверю, какой метод быстрее работает"
   ]
  },
  {
   "cell_type": "code",
   "execution_count": 19,
   "metadata": {},
   "outputs": [],
   "source": [
    "def lemm_time_spent(df, lemmatizer):\n",
    "    time_spent = []\n",
    "    for i in range(0,6):\n",
    "        start = datetime.now()\n",
    "        df.loc[0:99, 'text'].apply(lemmatizer)\n",
    "        end = datetime.now()\n",
    "        time_spent.append((end - start).total_seconds())\n",
    "    return time_spent   "
   ]
  },
  {
   "cell_type": "code",
   "execution_count": 20,
   "metadata": {},
   "outputs": [
    {
     "name": "stdout",
     "output_type": "stream",
     "text": [
      "Wall time: 19.8 s\n"
     ]
    }
   ],
   "source": [
    "%%time\n",
    "ntlk_time_spent = lemm_time_spent(df, ntlk_text_lemmatizer)"
   ]
  },
  {
   "cell_type": "code",
   "execution_count": 21,
   "metadata": {},
   "outputs": [
    {
     "name": "stdout",
     "output_type": "stream",
     "text": [
      "Wall time: 7.56 s\n"
     ]
    }
   ],
   "source": [
    "%%time\n",
    "spacy_time_spent = lemm_time_spent(df, spacy_text_lemmatizer)"
   ]
  },
  {
   "cell_type": "code",
   "execution_count": 22,
   "metadata": {},
   "outputs": [
    {
     "name": "stdout",
     "output_type": "stream",
     "text": [
      "ntlk_text_lemmatizer\n",
      "время на обработку первых 100 объектов датасета, секунд:\n",
      "3.305 +/- 0.062\n",
      "\n",
      "spacy_text_lemmatizer\n",
      "время на обработку первых 100 объектов датасета, секунд:\n",
      "1.259 +/- 0.158\n"
     ]
    }
   ],
   "source": [
    "print('ntlk_text_lemmatizer')\n",
    "print('время на обработку первых 100 объектов датасета, секунд:')\n",
    "print(np.mean(ntlk_time_spent).round(3), '+/-', 2*np.std(ntlk_time_spent).round(3))\n",
    "print('\\nspacy_text_lemmatizer')\n",
    "print('время на обработку первых 100 объектов датасета, секунд:')\n",
    "print(np.mean(spacy_time_spent).round(3), '+/-', 2*np.std(spacy_time_spent).round(3))"
   ]
  },
  {
   "cell_type": "markdown",
   "metadata": {},
   "source": [
    "SpaCy в 3 раза быстрее. Применю её. Код лемматизации закомментил, т.к. процесс идёт долго. Полученный результат залил на Яндекс.Диск. "
   ]
  },
  {
   "cell_type": "code",
   "execution_count": 23,
   "metadata": {},
   "outputs": [],
   "source": [
    "# %%time\n",
    "# df.loc[:, 'lemm_text'] = 0\n",
    "\n",
    "# for i in notebook.tqdm( range(0, (len(df) // 100)) ):\n",
    "#     df.loc[i*100:(i+1)*100, 'lemm_text'] = df.loc[i*100:(i+1)*100, 'text'].apply(spacy_text_lemmatizer)\n",
    "    \n",
    "# df.loc[100*(len(df)//100):, 'lemm_text'] = df.loc[100*(len(df)//100):, 'text'].apply(ntlk_text_lemmatizer)\n",
    "# df['lemm_text'].to_csv('lemm_text_spacy.csv')"
   ]
  },
  {
   "cell_type": "code",
   "execution_count": 24,
   "metadata": {},
   "outputs": [],
   "source": [
    "df.loc[:, 'lemm_text'] = pd.read_csv('https://getfile.dokpub.com/yandex/get/https://yadi.sk/d/jsOV_zCK4xfRRA')['lemm_text']"
   ]
  },
  {
   "cell_type": "markdown",
   "metadata": {},
   "source": [
    "После лемматизации появляется 6 nan, связанных с отсутствием оригинального текста. Их заполню пустыми строками, удалять не буду, чтобы не путаться при создании и сравнении моделей"
   ]
  },
  {
   "cell_type": "code",
   "execution_count": 25,
   "metadata": {},
   "outputs": [],
   "source": [
    "df.loc[:, 'lemm_text'] = df.loc[:, 'lemm_text'].fillna('')"
   ]
  },
  {
   "cell_type": "code",
   "execution_count": 26,
   "metadata": {},
   "outputs": [],
   "source": [
    "X = df['lemm_text']\n",
    "y = df['toxic']\n",
    "\n",
    "#убираю, чтобы не занимать память\n",
    "df.drop(columns='lemm_text', inplace=True)"
   ]
  },
  {
   "cell_type": "code",
   "execution_count": 27,
   "metadata": {},
   "outputs": [],
   "source": [
    "X_train, X_test, y_train, y_test = train_test_split(X, y, test_size = 0.15, stratify = y, random_state = 27)  "
   ]
  },
  {
   "cell_type": "code",
   "execution_count": 28,
   "metadata": {},
   "outputs": [
    {
     "data": {
      "text/plain": [
       "((135635,), (23936,))"
      ]
     },
     "execution_count": 28,
     "metadata": {},
     "output_type": "execute_result"
    }
   ],
   "source": [
    "X_train.shape, X_test.shape"
   ]
  },
  {
   "cell_type": "markdown",
   "metadata": {},
   "source": [
    "<h2 style=\"color:DodgerBlue\">2.2 Векторизация признаков и обучение моделей. Выбор модели</h2>"
   ]
  },
  {
   "cell_type": "markdown",
   "metadata": {},
   "source": [
    "Набор стоп-слов получил объединением *spacy_stop и nltk_stop* (на одном spacy_stop код падает с ошибкой). Для векторизации использовал *TfidfVectorizer, CountVectorizer и HashingVectorizer*. Последний самый долгий и у него самое низкое значение метрики. Код с ним закомментил. Выполнил сравнение и выбрал комбинацию модель-векторайзер.\n",
    "\n",
    "Модели взял LogisticRegression() и ComplementNB() (согласно документации, [хорошо подходит](https://scikit-learn.org/stable/modules/naive_bayes.html#complement-naive-bayes) для несбалансированных классов и задач классификации текста) "
   ]
  },
  {
   "cell_type": "markdown",
   "metadata": {},
   "source": [
    "Получение набора стоп-слов:"
   ]
  },
  {
   "cell_type": "code",
   "execution_count": 29,
   "metadata": {},
   "outputs": [],
   "source": [
    "spacy_stop = spacy.lang.en.stop_words.STOP_WORDS\n",
    "nltk_stop = set(nltk_stopwords.words('english'))\n",
    "final_stop = \\\n",
    "spacy_stop | nltk_stop"
   ]
  },
  {
   "cell_type": "markdown",
   "metadata": {},
   "source": [
    "Векторайзеры:"
   ]
  },
  {
   "cell_type": "code",
   "execution_count": 30,
   "metadata": {},
   "outputs": [],
   "source": [
    "tfid_vectorizer = TfidfVectorizer(stop_words=final_stop, ngram_range=(1, 1))\n",
    "count_vectorizer = CountVectorizer(stop_words=final_stop, ngram_range=(1, 1))"
   ]
  },
  {
   "cell_type": "markdown",
   "metadata": {},
   "source": [
    "Модели (гиперпараметры <code>alpha</code> и <code>C</code> пробовал менять, оставил те, что предварительно показались оптимальными; касательно <code>solver</code> и <code>max_iter</code>, опытным путём выяснил, что <code>'sag' и 'saga'</code> достигают достаточной точности примерно после 100 эпох, но не сходятся. <code>'saga'</code> достигает большей точности. <code>'lbfgs'</code> лучше сходится, но на это нужно иногда несколько сотен итераций):"
   ]
  },
  {
   "cell_type": "code",
   "execution_count": 31,
   "metadata": {},
   "outputs": [],
   "source": [
    "bayes_model = ComplementNB(alpha=.3)\n",
    "logreg_model = LogisticRegression(solver='lbfgs', \n",
    "                                  class_weight='balanced', \n",
    "                                  max_iter=10000, C=5, verbose=1)"
   ]
  },
  {
   "cell_type": "markdown",
   "metadata": {},
   "source": [
    "Оценка работы моделей кросс-валидацией с tfid_vectorizer:"
   ]
  },
  {
   "cell_type": "code",
   "execution_count": 32,
   "metadata": {},
   "outputs": [
    {
     "name": "stderr",
     "output_type": "stream",
     "text": [
      "[Parallel(n_jobs=1)]: Using backend SequentialBackend with 1 concurrent workers.\n",
      "[Parallel(n_jobs=1)]: Done   1 out of   1 | elapsed:    6.2s finished\n",
      "[Parallel(n_jobs=1)]: Using backend SequentialBackend with 1 concurrent workers.\n",
      "[Parallel(n_jobs=1)]: Done   1 out of   1 | elapsed:    5.1s finished\n",
      "[Parallel(n_jobs=1)]: Using backend SequentialBackend with 1 concurrent workers.\n",
      "[Parallel(n_jobs=1)]: Done   1 out of   1 | elapsed:    4.5s finished\n",
      "[Parallel(n_jobs=1)]: Using backend SequentialBackend with 1 concurrent workers.\n",
      "[Parallel(n_jobs=1)]: Done   1 out of   1 | elapsed:    6.3s finished\n",
      "[Parallel(n_jobs=1)]: Using backend SequentialBackend with 1 concurrent workers.\n",
      "[Parallel(n_jobs=1)]: Done   1 out of   1 | elapsed:    6.1s finished\n"
     ]
    },
    {
     "name": "stdout",
     "output_type": "stream",
     "text": [
      "Cross-validation results, f1 [0.76153717 0.77290045 0.76984127 0.77732794 0.75514573]\n",
      "Cross-validation mean score, f1 0.7673505099920955\n",
      "Wall time: 59.7 s\n"
     ]
    }
   ],
   "source": [
    "%%time\n",
    "cross_val_func(logreg_model, tfid_vectorizer, X_train, y_train)"
   ]
  },
  {
   "cell_type": "code",
   "execution_count": 33,
   "metadata": {},
   "outputs": [
    {
     "name": "stdout",
     "output_type": "stream",
     "text": [
      "Cross-validation results, f1 [0.66911508 0.68988566 0.69085834 0.67536534 0.67745909]\n",
      "Cross-validation mean score, f1 0.6805367022710268\n",
      "Wall time: 31.2 s\n"
     ]
    }
   ],
   "source": [
    "%%time\n",
    "cross_val_func(bayes_model, tfid_vectorizer, X_train, y_train)"
   ]
  },
  {
   "cell_type": "code",
   "execution_count": 34,
   "metadata": {},
   "outputs": [
    {
     "name": "stderr",
     "output_type": "stream",
     "text": [
      "[Parallel(n_jobs=1)]: Using backend SequentialBackend with 1 concurrent workers.\n",
      "[Parallel(n_jobs=1)]: Done   1 out of   1 | elapsed:   53.3s finished\n",
      "[Parallel(n_jobs=1)]: Using backend SequentialBackend with 1 concurrent workers.\n",
      "[Parallel(n_jobs=1)]: Done   1 out of   1 | elapsed:   47.0s finished\n",
      "[Parallel(n_jobs=1)]: Using backend SequentialBackend with 1 concurrent workers.\n",
      "[Parallel(n_jobs=1)]: Done   1 out of   1 | elapsed:   48.8s finished\n",
      "[Parallel(n_jobs=1)]: Using backend SequentialBackend with 1 concurrent workers.\n",
      "[Parallel(n_jobs=1)]: Done   1 out of   1 | elapsed:   53.3s finished\n",
      "[Parallel(n_jobs=1)]: Using backend SequentialBackend with 1 concurrent workers.\n",
      "[Parallel(n_jobs=1)]: Done   1 out of   1 | elapsed:   47.7s finished\n"
     ]
    },
    {
     "name": "stdout",
     "output_type": "stream",
     "text": [
      "Cross-validation results, f1 [0.74461934 0.75199235 0.7574021  0.75915721 0.74101177]\n",
      "Cross-validation mean score, f1 0.7508365546777567\n",
      "Wall time: 4min 38s\n"
     ]
    }
   ],
   "source": [
    "%%time\n",
    "#с HashingVectorizer хуже сходимость, нужно 350-400 итераций\n",
    "vectorizer = HashingVectorizer(stop_words=final_stop, ngram_range=(1, 1))\n",
    "cross_val_func(logreg_model, vectorizer, X_train, y_train)"
   ]
  },
  {
   "cell_type": "code",
   "execution_count": 35,
   "metadata": {},
   "outputs": [
    {
     "name": "stderr",
     "output_type": "stream",
     "text": [
      "[Parallel(n_jobs=1)]: Using backend SequentialBackend with 1 concurrent workers.\n",
      "[Parallel(n_jobs=1)]: Done   1 out of   1 | elapsed:   44.9s finished\n",
      "[Parallel(n_jobs=1)]: Using backend SequentialBackend with 1 concurrent workers.\n",
      "[Parallel(n_jobs=1)]: Done   1 out of   1 | elapsed:   46.2s finished\n",
      "[Parallel(n_jobs=1)]: Using backend SequentialBackend with 1 concurrent workers.\n",
      "[Parallel(n_jobs=1)]: Done   1 out of   1 | elapsed:   40.7s finished\n",
      "[Parallel(n_jobs=1)]: Using backend SequentialBackend with 1 concurrent workers.\n",
      "[Parallel(n_jobs=1)]: Done   1 out of   1 | elapsed:   41.0s finished\n",
      "[Parallel(n_jobs=1)]: Using backend SequentialBackend with 1 concurrent workers.\n",
      "[Parallel(n_jobs=1)]: Done   1 out of   1 | elapsed:   46.5s finished\n"
     ]
    },
    {
     "name": "stdout",
     "output_type": "stream",
     "text": [
      "Cross-validation results, f1 [0.75034014 0.76464578 0.76645073 0.75953737 0.74800881]\n",
      "Cross-validation mean score, f1 0.7577965660831911\n",
      "Wall time: 4min 10s\n"
     ]
    }
   ],
   "source": [
    "%%time\n",
    "#с count vectorizer сходится за 1500-1700 итераций\n",
    "cross_val_func(logreg_model, count_vectorizer, X_train, y_train)"
   ]
  },
  {
   "cell_type": "code",
   "execution_count": 36,
   "metadata": {},
   "outputs": [
    {
     "name": "stdout",
     "output_type": "stream",
     "text": [
      "Cross-validation results, f1 [0.65053843 0.66188734 0.6616341  0.66408922 0.6518671 ]\n",
      "Cross-validation mean score, f1 0.6580032384619126\n",
      "Wall time: 30.6 s\n"
     ]
    }
   ],
   "source": [
    "%%time\n",
    "cross_val_func(bayes_model, count_vectorizer, X_train, y_train)"
   ]
  },
  {
   "cell_type": "markdown",
   "metadata": {},
   "source": [
    "TfidfVectorizer и LogisticRegression составляют лучшую пару по результату."
   ]
  },
  {
   "cell_type": "markdown",
   "metadata": {},
   "source": [
    "<h2 style=\"color:DodgerBlue\">2.3 Настройка TfidfVectorizer + LogisticRegression</h2>"
   ]
  },
  {
   "cell_type": "markdown",
   "metadata": {},
   "source": [
    "**TfidfVectorizer**"
   ]
  },
  {
   "cell_type": "markdown",
   "metadata": {},
   "source": [
    "Добавлю <code>ngram_range=(1, 2)</code> (сколько раз рассматриваемое слово встречается в контексте другого. диапазон размеров контекстного окна - от 1 до 2 слов)"
   ]
  },
  {
   "cell_type": "code",
   "execution_count": 37,
   "metadata": {},
   "outputs": [
    {
     "name": "stderr",
     "output_type": "stream",
     "text": [
      "[Parallel(n_jobs=1)]: Using backend SequentialBackend with 1 concurrent workers.\n",
      "[Parallel(n_jobs=1)]: Done   1 out of   1 | elapsed:   47.1s finished\n",
      "[Parallel(n_jobs=1)]: Using backend SequentialBackend with 1 concurrent workers.\n",
      "[Parallel(n_jobs=1)]: Done   1 out of   1 | elapsed:   45.4s finished\n",
      "[Parallel(n_jobs=1)]: Using backend SequentialBackend with 1 concurrent workers.\n",
      "[Parallel(n_jobs=1)]: Done   1 out of   1 | elapsed:   35.9s finished\n",
      "[Parallel(n_jobs=1)]: Using backend SequentialBackend with 1 concurrent workers.\n",
      "[Parallel(n_jobs=1)]: Done   1 out of   1 | elapsed:   54.5s finished\n",
      "[Parallel(n_jobs=1)]: Using backend SequentialBackend with 1 concurrent workers.\n",
      "[Parallel(n_jobs=1)]: Done   1 out of   1 | elapsed:   24.6s finished\n"
     ]
    },
    {
     "name": "stdout",
     "output_type": "stream",
     "text": [
      "Cross-validation results, f1 [0.77973799 0.78812088 0.78709677 0.78595259 0.7721059 ]\n",
      "Cross-validation mean score, f1 0.7826028262859853\n",
      "Wall time: 4min 50s\n"
     ]
    }
   ],
   "source": [
    "%%time\n",
    "vectorizer = TfidfVectorizer(stop_words=final_stop, ngram_range=(1, 2))\n",
    "cross_val_func(logreg_model, vectorizer, X_train, y_train)"
   ]
  },
  {
   "cell_type": "markdown",
   "metadata": {},
   "source": [
    "Стало лучше. Пробовал также ngram_range=(2, 2) и ngram_range=(1, 3), с ними хуже. Закомментил."
   ]
  },
  {
   "cell_type": "code",
   "execution_count": 38,
   "metadata": {},
   "outputs": [],
   "source": [
    "# %%time\n",
    "# vectorizer = TfidfVectorizer(stop_words=final_stop, ngram_range=(2, 2))\n",
    "# cross_val_func(logreg_model, vectorizer, X_train, y_train)"
   ]
  },
  {
   "cell_type": "code",
   "execution_count": 39,
   "metadata": {},
   "outputs": [],
   "source": [
    "# %%time\n",
    "# vectorizer = TfidfVectorizer(stop_words=final_stop, ngram_range=(1, 3))\n",
    "# cross_val_func(logreg_model, vectorizer, X_train, y_train)"
   ]
  },
  {
   "cell_type": "markdown",
   "metadata": {},
   "source": [
    "Лучшее значение r1 на <code>ngram_range=(1, 2)</code>"
   ]
  },
  {
   "cell_type": "markdown",
   "metadata": {},
   "source": [
    "**LogisticRegression**"
   ]
  },
  {
   "cell_type": "markdown",
   "metadata": {},
   "source": [
    "Посмотрю расширенный отчёт по прогнозу модели, сделаю валидационную выборку"
   ]
  },
  {
   "cell_type": "code",
   "execution_count": 40,
   "metadata": {},
   "outputs": [],
   "source": [
    "final_vectorizer = TfidfVectorizer(stop_words=final_stop, ngram_range=(1, 2))"
   ]
  },
  {
   "cell_type": "code",
   "execution_count": 41,
   "metadata": {},
   "outputs": [],
   "source": [
    "X_tr, X_val, y_tr, y_val =  train_test_split(X_train, y_train, test_size=0.15, stratify=y_train, random_state = 27)"
   ]
  },
  {
   "cell_type": "code",
   "execution_count": 42,
   "metadata": {},
   "outputs": [],
   "source": [
    "X_tr = final_vectorizer.fit_transform(X_tr)\n",
    "X_val = final_vectorizer.transform(X_val)"
   ]
  },
  {
   "cell_type": "markdown",
   "metadata": {},
   "source": [
    "Настройка регуляризации при автоматической балансировке весов классов. При ослаблении регуляризации <code>saga</code> сходится примерно на 100-120 эпохах, примерно в 3 раза быстрее, чем <code>lbfgs</code>"
   ]
  },
  {
   "cell_type": "code",
   "execution_count": 43,
   "metadata": {},
   "outputs": [
    {
     "name": "stderr",
     "output_type": "stream",
     "text": [
      "[Parallel(n_jobs=1)]: Using backend SequentialBackend with 1 concurrent workers.\n"
     ]
    },
    {
     "name": "stdout",
     "output_type": "stream",
     "text": [
      "convergence after 109 epochs took 30 seconds\n"
     ]
    },
    {
     "name": "stderr",
     "output_type": "stream",
     "text": [
      "[Parallel(n_jobs=1)]: Done   1 out of   1 | elapsed:   30.2s finished\n"
     ]
    },
    {
     "data": {
      "text/html": [
       "<div>\n",
       "<style scoped>\n",
       "    .dataframe tbody tr th:only-of-type {\n",
       "        vertical-align: middle;\n",
       "    }\n",
       "\n",
       "    .dataframe tbody tr th {\n",
       "        vertical-align: top;\n",
       "    }\n",
       "\n",
       "    .dataframe thead th {\n",
       "        text-align: right;\n",
       "    }\n",
       "</style>\n",
       "<table border=\"1\" class=\"dataframe\">\n",
       "  <thead>\n",
       "    <tr style=\"text-align: right;\">\n",
       "      <th></th>\n",
       "      <th>Predicted NO</th>\n",
       "      <th>Predicted YES</th>\n",
       "    </tr>\n",
       "  </thead>\n",
       "  <tbody>\n",
       "    <tr>\n",
       "      <th>Actual NO</th>\n",
       "      <td>17847</td>\n",
       "      <td>430</td>\n",
       "    </tr>\n",
       "    <tr>\n",
       "      <th>Actual YES</th>\n",
       "      <td>439</td>\n",
       "      <td>1630</td>\n",
       "    </tr>\n",
       "  </tbody>\n",
       "</table>\n",
       "</div>"
      ],
      "text/plain": [
       "            Predicted NO  Predicted YES\n",
       "Actual NO          17847            430\n",
       "Actual YES           439           1630"
      ]
     },
     "metadata": {},
     "output_type": "display_data"
    },
    {
     "name": "stdout",
     "output_type": "stream",
     "text": [
      "---------------------------report---------------------------\n",
      "\n",
      "               precision    recall  f1-score   support\n",
      "\n",
      "           0       0.98      0.98      0.98     18277\n",
      "           1       0.79      0.79      0.79      2069\n",
      "\n",
      "    accuracy                           0.96     20346\n",
      "   macro avg       0.88      0.88      0.88     20346\n",
      "weighted avg       0.96      0.96      0.96     20346\n",
      "\n",
      "ROC_AUC: 0.88\n",
      "f1_score 0.7895374182610801\n",
      "Wall time: 30.4 s\n"
     ]
    }
   ],
   "source": [
    "%%time\n",
    "model = LogisticRegression(solver='saga', \n",
    "                                  class_weight='balanced', \n",
    "                                  max_iter=10000, C=20, verbose=1)\n",
    "\n",
    "model.fit(X_tr, y_tr)\n",
    "y_val_predicted = model.predict(X_val)\n",
    "print_report(y_val, y_val_predicted)\n",
    "print('f1_score', f1_score(y_val, y_val_predicted))"
   ]
  },
  {
   "cell_type": "markdown",
   "metadata": {},
   "source": [
    "Попробую ещё ручную балансировку классов. Прошёл от 1:1 до 4:1, выяснил, что по метрике оптимально 3.5:1."
   ]
  },
  {
   "cell_type": "code",
   "execution_count": 44,
   "metadata": {},
   "outputs": [
    {
     "name": "stderr",
     "output_type": "stream",
     "text": [
      "[Parallel(n_jobs=1)]: Using backend SequentialBackend with 1 concurrent workers.\n"
     ]
    },
    {
     "name": "stdout",
     "output_type": "stream",
     "text": [
      "convergence after 103 epochs took 29 seconds\n"
     ]
    },
    {
     "name": "stderr",
     "output_type": "stream",
     "text": [
      "[Parallel(n_jobs=1)]: Done   1 out of   1 | elapsed:   28.8s finished\n"
     ]
    },
    {
     "data": {
      "text/html": [
       "<div>\n",
       "<style scoped>\n",
       "    .dataframe tbody tr th:only-of-type {\n",
       "        vertical-align: middle;\n",
       "    }\n",
       "\n",
       "    .dataframe tbody tr th {\n",
       "        vertical-align: top;\n",
       "    }\n",
       "\n",
       "    .dataframe thead th {\n",
       "        text-align: right;\n",
       "    }\n",
       "</style>\n",
       "<table border=\"1\" class=\"dataframe\">\n",
       "  <thead>\n",
       "    <tr style=\"text-align: right;\">\n",
       "      <th></th>\n",
       "      <th>Predicted NO</th>\n",
       "      <th>Predicted YES</th>\n",
       "    </tr>\n",
       "  </thead>\n",
       "  <tbody>\n",
       "    <tr>\n",
       "      <th>Actual NO</th>\n",
       "      <td>17983</td>\n",
       "      <td>294</td>\n",
       "    </tr>\n",
       "    <tr>\n",
       "      <th>Actual YES</th>\n",
       "      <td>515</td>\n",
       "      <td>1554</td>\n",
       "    </tr>\n",
       "  </tbody>\n",
       "</table>\n",
       "</div>"
      ],
      "text/plain": [
       "            Predicted NO  Predicted YES\n",
       "Actual NO          17983            294\n",
       "Actual YES           515           1554"
      ]
     },
     "metadata": {},
     "output_type": "display_data"
    },
    {
     "name": "stdout",
     "output_type": "stream",
     "text": [
      "---------------------------report---------------------------\n",
      "\n",
      "               precision    recall  f1-score   support\n",
      "\n",
      "           0       0.97      0.98      0.98     18277\n",
      "           1       0.84      0.75      0.79      2069\n",
      "\n",
      "    accuracy                           0.96     20346\n",
      "   macro avg       0.91      0.87      0.89     20346\n",
      "weighted avg       0.96      0.96      0.96     20346\n",
      "\n",
      "ROC_AUC: 0.87\n",
      "f1_score 0.7934643860097014\n",
      "Wall time: 29 s\n"
     ]
    }
   ],
   "source": [
    "%%time\n",
    "model = LogisticRegression(solver='saga', \n",
    "                           max_iter=10000, \n",
    "                           C=20, verbose=1, class_weight = {1:3.5, 0:1})\n",
    "model.fit(X_tr, y_tr)\n",
    "y_val_predicted = model.predict(X_val)\n",
    "print_report(y_val, y_val_predicted)\n",
    "print('f1_score', f1_score(y_val, y_val_predicted))"
   ]
  },
  {
   "cell_type": "markdown",
   "metadata": {},
   "source": [
    "Во втором варианте заданная метрика примерно такая же, но значительно выше точность (почти в два раза меньше ложных срабатываний). При этом число верно обнаруженных токсичных комментариев ниже, примерно на 5%. Не ясно, что именно важно: баланс точности и полноты или метрика. Всё же во втором варианте метрика чуть выше. Прогоню оба варианта на кросс-валидации:"
   ]
  },
  {
   "cell_type": "code",
   "execution_count": 45,
   "metadata": {},
   "outputs": [
    {
     "name": "stdout",
     "output_type": "stream",
     "text": [
      "balanced\n"
     ]
    },
    {
     "name": "stderr",
     "output_type": "stream",
     "text": [
      "[Parallel(n_jobs=1)]: Using backend SequentialBackend with 1 concurrent workers.\n"
     ]
    },
    {
     "name": "stdout",
     "output_type": "stream",
     "text": [
      "convergence after 465 epochs took 120 seconds\n"
     ]
    },
    {
     "name": "stderr",
     "output_type": "stream",
     "text": [
      "[Parallel(n_jobs=1)]: Done   1 out of   1 | elapsed:  2.0min finished\n",
      "[Parallel(n_jobs=1)]: Using backend SequentialBackend with 1 concurrent workers.\n"
     ]
    },
    {
     "name": "stdout",
     "output_type": "stream",
     "text": [
      "convergence after 107 epochs took 28 seconds\n"
     ]
    },
    {
     "name": "stderr",
     "output_type": "stream",
     "text": [
      "[Parallel(n_jobs=1)]: Done   1 out of   1 | elapsed:   27.2s finished\n",
      "[Parallel(n_jobs=1)]: Using backend SequentialBackend with 1 concurrent workers.\n"
     ]
    },
    {
     "name": "stdout",
     "output_type": "stream",
     "text": [
      "convergence after 105 epochs took 27 seconds\n"
     ]
    },
    {
     "name": "stderr",
     "output_type": "stream",
     "text": [
      "[Parallel(n_jobs=1)]: Done   1 out of   1 | elapsed:   27.2s finished\n",
      "[Parallel(n_jobs=1)]: Using backend SequentialBackend with 1 concurrent workers.\n"
     ]
    },
    {
     "name": "stdout",
     "output_type": "stream",
     "text": [
      "convergence after 109 epochs took 28 seconds\n"
     ]
    },
    {
     "name": "stderr",
     "output_type": "stream",
     "text": [
      "[Parallel(n_jobs=1)]: Done   1 out of   1 | elapsed:   28.2s finished\n",
      "[Parallel(n_jobs=1)]: Using backend SequentialBackend with 1 concurrent workers.\n"
     ]
    },
    {
     "name": "stdout",
     "output_type": "stream",
     "text": [
      "convergence after 119 epochs took 31 seconds\n"
     ]
    },
    {
     "name": "stderr",
     "output_type": "stream",
     "text": [
      "[Parallel(n_jobs=1)]: Done   1 out of   1 | elapsed:   30.9s finished\n"
     ]
    },
    {
     "name": "stdout",
     "output_type": "stream",
     "text": [
      "Cross-validation results, f1 [0.78935939 0.79488104 0.79364506 0.79270738 0.78422861]\n",
      "Cross-validation mean score, f1 0.79096429780116\n",
      "{1: 3.5, 0: 1}\n"
     ]
    },
    {
     "name": "stderr",
     "output_type": "stream",
     "text": [
      "[Parallel(n_jobs=1)]: Using backend SequentialBackend with 1 concurrent workers.\n"
     ]
    },
    {
     "name": "stdout",
     "output_type": "stream",
     "text": [
      "convergence after 104 epochs took 27 seconds\n"
     ]
    },
    {
     "name": "stderr",
     "output_type": "stream",
     "text": [
      "[Parallel(n_jobs=1)]: Done   1 out of   1 | elapsed:   26.8s finished\n",
      "[Parallel(n_jobs=1)]: Using backend SequentialBackend with 1 concurrent workers.\n"
     ]
    },
    {
     "name": "stdout",
     "output_type": "stream",
     "text": [
      "convergence after 106 epochs took 28 seconds\n"
     ]
    },
    {
     "name": "stderr",
     "output_type": "stream",
     "text": [
      "[Parallel(n_jobs=1)]: Done   1 out of   1 | elapsed:   27.1s finished\n",
      "[Parallel(n_jobs=1)]: Using backend SequentialBackend with 1 concurrent workers.\n"
     ]
    },
    {
     "name": "stdout",
     "output_type": "stream",
     "text": [
      "convergence after 108 epochs took 28 seconds\n"
     ]
    },
    {
     "name": "stderr",
     "output_type": "stream",
     "text": [
      "[Parallel(n_jobs=1)]: Done   1 out of   1 | elapsed:   28.7s finished\n",
      "[Parallel(n_jobs=1)]: Using backend SequentialBackend with 1 concurrent workers.\n"
     ]
    },
    {
     "name": "stdout",
     "output_type": "stream",
     "text": [
      "convergence after 107 epochs took 27 seconds\n"
     ]
    },
    {
     "name": "stderr",
     "output_type": "stream",
     "text": [
      "[Parallel(n_jobs=1)]: Done   1 out of   1 | elapsed:   26.7s finished\n",
      "[Parallel(n_jobs=1)]: Using backend SequentialBackend with 1 concurrent workers.\n"
     ]
    },
    {
     "name": "stdout",
     "output_type": "stream",
     "text": [
      "convergence after 106 epochs took 26 seconds\n"
     ]
    },
    {
     "name": "stderr",
     "output_type": "stream",
     "text": [
      "[Parallel(n_jobs=1)]: Done   1 out of   1 | elapsed:   26.0s finished\n"
     ]
    },
    {
     "name": "stdout",
     "output_type": "stream",
     "text": [
      "Cross-validation results, f1 [0.79185693 0.79484751 0.79417329 0.79289263 0.78760221]\n",
      "Cross-validation mean score, f1 0.7922745106465395\n"
     ]
    }
   ],
   "source": [
    "for _weight in ['balanced', {1:3.5, 0:1}]:\n",
    "    print(_weight)\n",
    "    model = LogisticRegression(solver='saga', \n",
    "                               max_iter=10000, \n",
    "                               C=20, \n",
    "                               verbose=1, \n",
    "                               class_weight = _weight)\n",
    "    vectorizer = TfidfVectorizer(stop_words=final_stop, ngram_range=(1, 2))\n",
    "    cross_val_func(model, vectorizer, X_train, y_train)"
   ]
  },
  {
   "cell_type": "markdown",
   "metadata": {},
   "source": [
    "Второй вариант <code>class_weight = {1:3.5, 0:1}</code> на кросс-валидации показывает лучший результат и лучше сходится. Возьму его."
   ]
  },
  {
   "cell_type": "code",
   "execution_count": 46,
   "metadata": {},
   "outputs": [],
   "source": [
    "del X_tr, y_tr, X_val, y_val"
   ]
  },
  {
   "cell_type": "markdown",
   "metadata": {},
   "source": [
    "<h2 style=\"color:DodgerBlue\">2.4 Финальный пайплайн и проверка на тестовой выборке</h2>"
   ]
  },
  {
   "cell_type": "code",
   "execution_count": 47,
   "metadata": {},
   "outputs": [],
   "source": [
    "final_model = LogisticRegression(solver='saga', \n",
    "                                 max_iter=10000, \n",
    "                                 C=20, \n",
    "                                 verbose=1, \n",
    "                                 class_weight = {1:3.5, 0:1}\n",
    "                                )\n",
    "\n",
    "final_vectorizer = TfidfVectorizer(stop_words=final_stop, \n",
    "                                   ngram_range=(1, 2))\n",
    "\n",
    "final_pipe = \\\n",
    "Pipeline(steps=[\n",
    "    ('vectorizer', final_vectorizer),\n",
    "    ('model', final_model)\n",
    "])"
   ]
  },
  {
   "cell_type": "code",
   "execution_count": 48,
   "metadata": {},
   "outputs": [
    {
     "name": "stderr",
     "output_type": "stream",
     "text": [
      "[Parallel(n_jobs=1)]: Using backend SequentialBackend with 1 concurrent workers.\n"
     ]
    },
    {
     "name": "stdout",
     "output_type": "stream",
     "text": [
      "convergence after 106 epochs took 35 seconds\n"
     ]
    },
    {
     "name": "stderr",
     "output_type": "stream",
     "text": [
      "[Parallel(n_jobs=1)]: Done   1 out of   1 | elapsed:   34.8s finished\n"
     ]
    },
    {
     "data": {
      "text/html": [
       "<div>\n",
       "<style scoped>\n",
       "    .dataframe tbody tr th:only-of-type {\n",
       "        vertical-align: middle;\n",
       "    }\n",
       "\n",
       "    .dataframe tbody tr th {\n",
       "        vertical-align: top;\n",
       "    }\n",
       "\n",
       "    .dataframe thead th {\n",
       "        text-align: right;\n",
       "    }\n",
       "</style>\n",
       "<table border=\"1\" class=\"dataframe\">\n",
       "  <thead>\n",
       "    <tr style=\"text-align: right;\">\n",
       "      <th></th>\n",
       "      <th>Predicted NO</th>\n",
       "      <th>Predicted YES</th>\n",
       "    </tr>\n",
       "  </thead>\n",
       "  <tbody>\n",
       "    <tr>\n",
       "      <th>Actual NO</th>\n",
       "      <td>21089</td>\n",
       "      <td>413</td>\n",
       "    </tr>\n",
       "    <tr>\n",
       "      <th>Actual YES</th>\n",
       "      <td>607</td>\n",
       "      <td>1827</td>\n",
       "    </tr>\n",
       "  </tbody>\n",
       "</table>\n",
       "</div>"
      ],
      "text/plain": [
       "            Predicted NO  Predicted YES\n",
       "Actual NO          21089            413\n",
       "Actual YES           607           1827"
      ]
     },
     "metadata": {},
     "output_type": "display_data"
    },
    {
     "name": "stdout",
     "output_type": "stream",
     "text": [
      "---------------------------report---------------------------\n",
      "\n",
      "               precision    recall  f1-score   support\n",
      "\n",
      "           0       0.97      0.98      0.98     21502\n",
      "           1       0.82      0.75      0.78      2434\n",
      "\n",
      "    accuracy                           0.96     23936\n",
      "   macro avg       0.89      0.87      0.88     23936\n",
      "weighted avg       0.96      0.96      0.96     23936\n",
      "\n",
      "ROC_AUC: 0.87\n",
      "f1_score 0.7817715019255456\n"
     ]
    }
   ],
   "source": [
    "final_pipe.fit(X_train, y_train)\n",
    "y_test_predicted = final_pipe.predict(X_test)\n",
    "print_report(y_test, y_test_predicted)\n",
    "final_f1 = f1_score(y_test, y_test_predicted)\n",
    "print('f1_score', final_f1)"
   ]
  },
  {
   "cell_type": "markdown",
   "metadata": {},
   "source": [
    "Результат на тесте по целевой метрике чуть хуже чем на кросс-валидации, но не значительно. Целевое значение метрики достигнуто, **r1 = 0.78 > 0.75**"
   ]
  },
  {
   "cell_type": "markdown",
   "metadata": {},
   "source": [
    "<h1 style=\"color:SteelBlue; font-size:200%; line-height:1.5\">3. spaCy TextCategorizer</h1>"
   ]
  },
  {
   "cell_type": "markdown",
   "metadata": {},
   "source": [
    "На базе миникурса kaggle и документации spaCy попробовал использовать spaCy для классификации. Поскольку всё запускал на cpu на локальной машине, обучение идёт очень долго. Здесь приведу процесс обучения и прогноза на маленькой (1%, около 1500 записей) выборке и небольшом количестве эпох. \n",
    "\n",
    "Архитектуру модели взял <code>\"simple_cnn\"</code> (*A neural network model where token vectors are calculated using a CNN. The vectors are mean pooled and used as features in a feed-forward network. This architecture is usually less accurate than the ensemble, but runs faster.*)\n",
    "\n",
    "\n",
    "Модель взял самую простую из основного набора <code>\"en_core_web_sm\"</code> (*English multi-task CNN trained on OntoNotes. Assigns context-specific token vectors, POS tags, dependency parse and named entities.*). В [пайп](https://spacy.io/usage/processing-pipelines) добавил категоризатор"
   ]
  },
  {
   "cell_type": "code",
   "execution_count": 49,
   "metadata": {},
   "outputs": [],
   "source": [
    "#получаю стратифицированную выборку 1% из датасета\n",
    "_, X_scaPy, _, y_scaPy = \\\n",
    "train_test_split( df['text'], df['toxic'], test_size = 0.01, stratify = df['toxic'], random_state = 27 )  "
   ]
  },
  {
   "cell_type": "code",
   "execution_count": 50,
   "metadata": {},
   "outputs": [],
   "source": [
    "X_train_scapy, X_test_scapy, y_train_scapy, y_test_scapy = \\\n",
    "train_test_split( X_scaPy, y_scaPy, test_size = 0.2, stratify = y_scaPy, random_state = 27)"
   ]
  },
  {
   "cell_type": "code",
   "execution_count": 51,
   "metadata": {},
   "outputs": [
    {
     "data": {
      "text/plain": [
       "1"
      ]
     },
     "execution_count": 51,
     "metadata": {},
     "output_type": "execute_result"
    }
   ],
   "source": [
    "#загружаю модель\n",
    "nlp = spacy.load('en_core_web_sm')\n",
    "#создаю пайп-категоризатор\n",
    "textcat = nlp.create_pipe(\"textcat\", config={\"architecture\": \"simple_cnn\"})\n",
    "#и добавляю его в модеь\n",
    "nlp.add_pipe(textcat)\n",
    "#добавляю в категоризатор метки классов\n",
    "textcat.add_label('0')\n",
    "textcat.add_label('1')\n"
   ]
  },
  {
   "cell_type": "code",
   "execution_count": 52,
   "metadata": {},
   "outputs": [
    {
     "data": {
      "text/plain": [
       "[(\"Yes I pretty much agree with you Let's get rid of Experimental treatments and anything re transmission and the intro to the Treatment section as well but keep the Level of care section But even still that will not reduce the article nearly as much as we need to reduce it I am constantly going over all of the info compressing it but IMO if we do much more of that we will lose what the article is all about and devote more and more to the extremely lengthy and bound to grow Response section which other than the international organizations I doubt is not of much interest to most other than what their own country is doing The last time I looked the article was more than three times the recommended length\",\n",
       "  {'cats': {'0': True, '1': False}}),\n",
       " (\"Not a country Good catch I've removed Puerto Rico And I've got no objection to the page being renamed in fact I'm almost certain that somebody will rename it if it survives VfD Thanks for the feedback and I'll try to get your name right next time\",\n",
       "  {'cats': {'0': True, '1': False}}),\n",
       " ('Hey Seth you are a fucking douchebag', {'cats': {'0': False, '1': True}})]"
      ]
     },
     "execution_count": 52,
     "metadata": {},
     "output_type": "execute_result"
    }
   ],
   "source": [
    "#создаю список кортежей для облегчения перемешивания от эпохи к эпохе\n",
    "train_texts = X_train_scapy.values\n",
    "train_labels = [{'cats':{'0': label == 0, '1': label == 1}} for label in y_train_scapy.values]\n",
    "train_data = list(zip(train_texts, train_labels))\n",
    "train_data[:3]"
   ]
  },
  {
   "cell_type": "code",
   "execution_count": 53,
   "metadata": {
    "scrolled": false
   },
   "outputs": [
    {
     "data": {
      "application/vnd.jupyter.widget-view+json": {
       "model_id": "843d368958364d1fa58158e8ed835e54",
       "version_major": 2,
       "version_minor": 0
      },
      "text/plain": [
       "HBox(children=(FloatProgress(value=0.0, max=159.0), HTML(value='')))"
      ]
     },
     "metadata": {},
     "output_type": "display_data"
    },
    {
     "name": "stdout",
     "output_type": "stream",
     "text": [
      "\n",
      "{'parser': 0.0, 'tagger': 965.7055566310883, 'ner': 0.0, 'textcat': 0.47771043042182426}\n"
     ]
    },
    {
     "data": {
      "application/vnd.jupyter.widget-view+json": {
       "model_id": "19b5a26f3ee246159344ef61e82a4a54",
       "version_major": 2,
       "version_minor": 0
      },
      "text/plain": [
       "HBox(children=(FloatProgress(value=0.0, max=159.0), HTML(value='')))"
      ]
     },
     "metadata": {},
     "output_type": "display_data"
    },
    {
     "name": "stdout",
     "output_type": "stream",
     "text": [
      "\n",
      "{'parser': 0.0, 'tagger': 1390.4857531348243, 'ner': 0.0, 'textcat': 0.9147957504171934}\n"
     ]
    },
    {
     "data": {
      "application/vnd.jupyter.widget-view+json": {
       "model_id": "389eb837711640dc9888c11a5f23646b",
       "version_major": 2,
       "version_minor": 0
      },
      "text/plain": [
       "HBox(children=(FloatProgress(value=0.0, max=159.0), HTML(value='')))"
      ]
     },
     "metadata": {},
     "output_type": "display_data"
    },
    {
     "name": "stdout",
     "output_type": "stream",
     "text": [
      "\n",
      "{'parser': 0.0, 'tagger': 1544.0681671695784, 'ner': 0.0, 'textcat': 1.359043264439717}\n"
     ]
    },
    {
     "data": {
      "application/vnd.jupyter.widget-view+json": {
       "model_id": "b74f5e554a654d2c8ca4c4b6f4ba0200",
       "version_major": 2,
       "version_minor": 0
      },
      "text/plain": [
       "HBox(children=(FloatProgress(value=0.0, max=159.0), HTML(value='')))"
      ]
     },
     "metadata": {},
     "output_type": "display_data"
    },
    {
     "name": "stdout",
     "output_type": "stream",
     "text": [
      "\n",
      "{'parser': 0.0, 'tagger': 1671.6116955066682, 'ner': 0.0, 'textcat': 1.768525060608409}\n"
     ]
    },
    {
     "data": {
      "application/vnd.jupyter.widget-view+json": {
       "model_id": "98fa57e110f84e66bc5b8fd6b4f8f24d",
       "version_major": 2,
       "version_minor": 0
      },
      "text/plain": [
       "HBox(children=(FloatProgress(value=0.0, max=159.0), HTML(value='')))"
      ]
     },
     "metadata": {},
     "output_type": "display_data"
    },
    {
     "name": "stdout",
     "output_type": "stream",
     "text": [
      "\n",
      "{'parser': 0.0, 'tagger': 1749.0042165439809, 'ner': 0.0, 'textcat': 2.196045166662777}\n"
     ]
    },
    {
     "data": {
      "application/vnd.jupyter.widget-view+json": {
       "model_id": "1cd99fa461f948ebafcb873984ebc857",
       "version_major": 2,
       "version_minor": 0
      },
      "text/plain": [
       "HBox(children=(FloatProgress(value=0.0, max=159.0), HTML(value='')))"
      ]
     },
     "metadata": {},
     "output_type": "display_data"
    },
    {
     "name": "stdout",
     "output_type": "stream",
     "text": [
      "\n",
      "{'parser': 0.0, 'tagger': 1832.1568360478268, 'ner': 0.0, 'textcat': 2.5717079027639755}\n"
     ]
    },
    {
     "data": {
      "application/vnd.jupyter.widget-view+json": {
       "model_id": "d91a8f6745f443ab8a610b4c9e345f00",
       "version_major": 2,
       "version_minor": 0
      },
      "text/plain": [
       "HBox(children=(FloatProgress(value=0.0, max=159.0), HTML(value='')))"
      ]
     },
     "metadata": {},
     "output_type": "display_data"
    },
    {
     "name": "stdout",
     "output_type": "stream",
     "text": [
      "\n",
      "{'parser': 0.0, 'tagger': 1900.0533651040314, 'ner': 0.0, 'textcat': 2.931857637533127}\n"
     ]
    },
    {
     "data": {
      "application/vnd.jupyter.widget-view+json": {
       "model_id": "74c7acb2e7d141828ba6f045a7ca6ec2",
       "version_major": 2,
       "version_minor": 0
      },
      "text/plain": [
       "HBox(children=(FloatProgress(value=0.0, max=159.0), HTML(value='')))"
      ]
     },
     "metadata": {},
     "output_type": "display_data"
    },
    {
     "name": "stdout",
     "output_type": "stream",
     "text": [
      "\n",
      "{'parser': 0.0, 'tagger': 1969.8723933807341, 'ner': 0.0, 'textcat': 3.2188576189279843}\n"
     ]
    },
    {
     "data": {
      "application/vnd.jupyter.widget-view+json": {
       "model_id": "38db6932fce246339e2c5b1718148e49",
       "version_major": 2,
       "version_minor": 0
      },
      "text/plain": [
       "HBox(children=(FloatProgress(value=0.0, max=159.0), HTML(value='')))"
      ]
     },
     "metadata": {},
     "output_type": "display_data"
    },
    {
     "name": "stdout",
     "output_type": "stream",
     "text": [
      "\n",
      "{'parser': 0.0, 'tagger': 2035.9629731759342, 'ner': 0.0, 'textcat': 3.406117173124341}\n"
     ]
    },
    {
     "data": {
      "application/vnd.jupyter.widget-view+json": {
       "model_id": "76c4502d094c474bb466e8e2f8bcfbd5",
       "version_major": 2,
       "version_minor": 0
      },
      "text/plain": [
       "HBox(children=(FloatProgress(value=0.0, max=159.0), HTML(value='')))"
      ]
     },
     "metadata": {},
     "output_type": "display_data"
    },
    {
     "name": "stdout",
     "output_type": "stream",
     "text": [
      "\n",
      "{'parser': 0.0, 'tagger': 2095.048223697726, 'ner': 0.0, 'textcat': 3.541731536155109}\n",
      "Wall time: 8min 34s\n"
     ]
    }
   ],
   "source": [
    "%%time\n",
    "#подключаю random для обучения по эпохам\n",
    "random.seed(1)\n",
    "spacy.util.fix_random_seed(1)\n",
    "#оптимизатор для обновления модели\n",
    "optimizer = nlp.begin_training()\n",
    "\n",
    "batch_size = 8\n",
    "losses = {}\n",
    "\n",
    "#обучаю эпохами\n",
    "for epoch in range(10):\n",
    "    \n",
    "    #перемешиваю данные\n",
    "    random.shuffle(train_data)\n",
    "    \n",
    "    #функция возвращает генератор минибатчей для обучения\n",
    "    batches_gen = minibatch(train_data, size=batch_size)\n",
    "\n",
    "    #число батчей (для счётчика)\n",
    "    n_batches = len(train_data) // batch_size + 1 - 0**(len(train_data) % batch_size)\n",
    "    \n",
    "    #иду по батчам\n",
    "    for batch, i in zip(batches_gen, notebook.tqdm(range(n_batches-1))):\n",
    "        #разделяем минибатчи на текст и метки\n",
    "        texts, labels = zip(*batch)\n",
    "        #обновляем параметры модели\n",
    "        nlp.update(texts, labels, sgd=optimizer, losses=losses)\n",
    "    print(losses)"
   ]
  },
  {
   "cell_type": "code",
   "execution_count": 54,
   "metadata": {},
   "outputs": [],
   "source": [
    "#здесь была запись готовой модели на диск, но я решил не перегружать проект импортом ещё и моделей\n",
    "#nlp.to_disk(\"/spacy_nlp\")"
   ]
  },
  {
   "cell_type": "code",
   "execution_count": 55,
   "metadata": {},
   "outputs": [
    {
     "data": {
      "text/plain": [
       "112628    Ok thanks '''''' Your GA nomination of Basehea...\n",
       "142604    Go to hell You won't be laughing after I conta...\n",
       "18356     Question Hi I saw you responded to my post abo...\n",
       "75086                                in the areas marked as\n",
       "36038     Amen my sock pupinski brother Hack a long plea...\n",
       "Name: text, dtype: object"
      ]
     },
     "execution_count": 55,
     "metadata": {},
     "output_type": "execute_result"
    }
   ],
   "source": [
    "X_test_scapy[:5]"
   ]
  },
  {
   "cell_type": "markdown",
   "metadata": {},
   "source": [
    "Применяю пайп к тестовому набору. <p style=\"color:IndianRed\"> Вроде бы здесь верно? на [kaggle](https://www.kaggle.com/matleonard/text-classification) применяют только токенизатор, но там пустая модель, без других элементов пайплайна. Или надо отключать textcat перед применением пайпа?</p>"
   ]
  },
  {
   "cell_type": "code",
   "execution_count": 56,
   "metadata": {},
   "outputs": [
    {
     "name": "stdout",
     "output_type": "stream",
     "text": [
      "Wall time: 14.5 s\n"
     ]
    },
    {
     "data": {
      "text/plain": [
       "[Ok thanks '''''' Your GA nomination of Basehead The article Basehead you nominated as a good article has been placed on hold The article is close to meeting the good article criteria but there are some minor changes or clarifications needed to be addressed If these are fixed within seven days the article will pass otherwise it will fail See Talk Basehead for things which need to be addressed,\n",
       " Go to hell You won't be laughing after I contact the sysops to revert your vandalism Have a nice day you transmisogynist fuck CFE FA E C DE C,\n",
       " Question Hi I saw you responded to my post about taking it up with an ANI MY question is what is an ANI Thanks,\n",
       " in the areas marked as,\n",
       " Amen my sock pupinski brother Hack a long please leave my links and quit being a mini dictator ThANKS]"
      ]
     },
     "execution_count": 56,
     "metadata": {},
     "output_type": "execute_result"
    }
   ],
   "source": [
    "%%time\n",
    "#применяю пайп к тестовому набору\n",
    "test_docs = list(nlp.pipe(X_test_scapy))\n",
    "test_docs[:5]"
   ]
  },
  {
   "cell_type": "code",
   "execution_count": 57,
   "metadata": {},
   "outputs": [],
   "source": [
    "# #токенизирую тестовый набор признаков - это если загружена пустая модель nlp = spacy.blank(\"en\")\n",
    "# X_test_tokenized = [nlp.tokenizer(text) for text in X_test_scapy]\n",
    "# X_test_tokenized[:5]"
   ]
  },
  {
   "cell_type": "code",
   "execution_count": 58,
   "metadata": {},
   "outputs": [
    {
     "name": "stdout",
     "output_type": "stream",
     "text": [
      "[[9.9155748e-01 1.4475163e-03]\n",
      " [7.7116221e-02 9.2308694e-01]\n",
      " [9.9860686e-01 1.8904857e-04]\n",
      " [9.9956137e-01 4.5397872e-05]\n",
      " [2.5371355e-03 9.9893397e-01]]\n"
     ]
    }
   ],
   "source": [
    "#вызываю обученный категоризатор из пайпа\n",
    "textcat = nlp.get_pipe('textcat')\n",
    "scores, _ = textcat.predict(test_docs)\n",
    "print(scores[:5])"
   ]
  },
  {
   "cell_type": "code",
   "execution_count": 59,
   "metadata": {},
   "outputs": [
    {
     "name": "stdout",
     "output_type": "stream",
     "text": [
      "[0 1 0 0 1]\n",
      "('0', '1')\n"
     ]
    }
   ],
   "source": [
    "#проверяю, что метки соответствуют своим номерам\n",
    "predicted_labels_num = scores.argmax(axis=1)\n",
    "print(predicted_labels_num[:5])\n",
    "print(textcat.labels)"
   ]
  },
  {
   "cell_type": "code",
   "execution_count": 60,
   "metadata": {},
   "outputs": [
    {
     "data": {
      "text/html": [
       "<div>\n",
       "<style scoped>\n",
       "    .dataframe tbody tr th:only-of-type {\n",
       "        vertical-align: middle;\n",
       "    }\n",
       "\n",
       "    .dataframe tbody tr th {\n",
       "        vertical-align: top;\n",
       "    }\n",
       "\n",
       "    .dataframe thead th {\n",
       "        text-align: right;\n",
       "    }\n",
       "</style>\n",
       "<table border=\"1\" class=\"dataframe\">\n",
       "  <thead>\n",
       "    <tr style=\"text-align: right;\">\n",
       "      <th></th>\n",
       "      <th>Predicted NO</th>\n",
       "      <th>Predicted YES</th>\n",
       "    </tr>\n",
       "  </thead>\n",
       "  <tbody>\n",
       "    <tr>\n",
       "      <th>Actual NO</th>\n",
       "      <td>275</td>\n",
       "      <td>13</td>\n",
       "    </tr>\n",
       "    <tr>\n",
       "      <th>Actual YES</th>\n",
       "      <td>13</td>\n",
       "      <td>19</td>\n",
       "    </tr>\n",
       "  </tbody>\n",
       "</table>\n",
       "</div>"
      ],
      "text/plain": [
       "            Predicted NO  Predicted YES\n",
       "Actual NO            275             13\n",
       "Actual YES            13             19"
      ]
     },
     "metadata": {},
     "output_type": "display_data"
    },
    {
     "name": "stdout",
     "output_type": "stream",
     "text": [
      "---------------------------report---------------------------\n",
      "\n",
      "               precision    recall  f1-score   support\n",
      "\n",
      "           0       0.95      0.95      0.95       288\n",
      "           1       0.59      0.59      0.59        32\n",
      "\n",
      "    accuracy                           0.92       320\n",
      "   macro avg       0.77      0.77      0.77       320\n",
      "weighted avg       0.92      0.92      0.92       320\n",
      "\n",
      "ROC_AUC: 0.77\n"
     ]
    }
   ],
   "source": [
    "print_report(y_test_scapy, predicted_labels_num)"
   ]
  },
  {
   "cell_type": "markdown",
   "metadata": {},
   "source": [
    "<h1 style=\"color:SteelBlue; font-size:200%; line-height:1.5\">4. BERT + LogisticRegression</h1>"
   ]
  },
  {
   "cell_type": "markdown",
   "metadata": {},
   "source": [
    "При работе с BERT на локальной машине получил эмбеддинги для всего набора данных. Но файл с ними в формате *.npy* весил 936 МБ, поэтому их проблематично включить в работу. Поэтому ниже продемонстрирую в коде, как работал с BERT.\n",
    "\n",
    "Важным этапом была оптимизация набора данных согласно [Smart batchin tutorial](https://colab.research.google.com/drive/1Er23iD96x_SzmRG8md1kVggbmz0su_Q5#scrollTo=Sa7tgw2-Pttq). Суть в том, чтобы упорядочить текстовые вектора выборки по возрастанию длины, потом разбить их на батчи и для каждого батча делать свой пэддинг. Это подходит для BERT и позволяет сильно сократить время и объём памяти, т.к. большая часть нашего набора данных - короткие текстовые вектора. Если делать паддинг общий по всему датасету, мы искусственно раздуваем эти вектора в десятки раз.\n",
    "\n",
    "Это действительно работает и позволило получить эмбеддинги для нашего датасета на cpu примерно за 5 часов. Один раз процесс упал из-за недостатка памяти, но я включил в цикл построчную запись векторов из пакетов эмбеддинга в csv-файл, поэтому данные не потерялись (в коде закомментил). Чтобы иметь возможность проверить, что после упорядочивания и последующей склейки эмбеддингов из батчей ничего не перепуталось, я также упорядочивал и склеивал вместе с ними метки и индексы изначального датасета. В итоге это помогло мне после падения ядра при проверке порядка батчей. Оставил это в коде, хотя для маленькой выборки можно часть действий убрать. Также в коде закомментил построчную запись в файл csv.\n",
    "\n",
    "Результат на эмбеддингах для полного датасета получился хуже, чем для комбинации tfidf+logreg (см. изображения в конце раздела)."
   ]
  },
  {
   "cell_type": "code",
   "execution_count": 61,
   "metadata": {},
   "outputs": [],
   "source": [
    "# токенизирует текст\n",
    "def text_tokenizer(tokenizer, corpus):\n",
    "       \n",
    "    tokenized_corpus = []\n",
    "    for i in notebook.tqdm( range(0, len(corpus)) ):  \n",
    "        tokenized_corpus.append(tokenizer.encode(corpus[i], \n",
    "                                                 add_special_tokens=True, \n",
    "                                                 max_length=400, \n",
    "                                                 truncation=True,\n",
    "                                                 padding=False))\n",
    "    return tokenized_corpus"
   ]
  },
  {
   "cell_type": "code",
   "execution_count": 62,
   "metadata": {},
   "outputs": [],
   "source": [
    "#определение максимальной длины вектора текста в токенизированном корпусе/батче\n",
    "def find_max_len(tokenized_corpus):\n",
    "    \n",
    "    max_len = 0\n",
    "    for vector in tokenized_corpus:\n",
    "        if len(vector) > max_len:\n",
    "            max_len = len(vector)\n",
    "    return max_len"
   ]
  },
  {
   "cell_type": "code",
   "execution_count": 63,
   "metadata": {},
   "outputs": [],
   "source": [
    "# padding векторов текста из токенизированного корпуса/батча\n",
    "def vectors_padding(tokenized_corpus):\n",
    "    \n",
    "    max_len = find_max_len(tokenized_corpus)\n",
    "    v = np.array([0 for i in range(0, max_len)])\n",
    "    \n",
    "    \n",
    "    for k in range(0, len(tokenized_corpus)):\n",
    "        tokenized_corpus[k] = np.hstack (( tokenized_corpus[k], v[ len(tokenized_corpus[k]): ] ))\n",
    "       \n",
    "    return np.array(tokenized_corpus)"
   ]
  },
  {
   "cell_type": "code",
   "execution_count": 64,
   "metadata": {},
   "outputs": [],
   "source": [
    "X_dl, _, y_dl, _, ind_dl, _ = \\\n",
    "train_test_split(df['text'].values, \n",
    "                 df['toxic'].values, \n",
    "                 df.index, \n",
    "                 stratify = df['toxic'].values, \n",
    "                 train_size = 0.01, random_state=27)"
   ]
  },
  {
   "cell_type": "code",
   "execution_count": 65,
   "metadata": {},
   "outputs": [
    {
     "name": "stdout",
     "output_type": "stream",
     "text": [
      "Config type: <class 'transformers.tokenization_bert.BertTokenizer'> \n",
      "\n",
      "Config type: <class 'transformers.configuration_bert.BertConfig'> \n",
      "\n",
      "Model type: <class 'transformers.modeling_bert.BertModel'>\n"
     ]
    }
   ],
   "source": [
    "pretrained_weights = 'bert-base-uncased'\n",
    "\n",
    "tokenizer = AutoTokenizer.from_pretrained(pretrained_weights)\n",
    "\n",
    "config = AutoConfig.from_pretrained(pretrained_model_name_or_path=pretrained_weights)\n",
    "\n",
    "config.output_hidden_states=True\n",
    "\n",
    "model = AutoModel.from_pretrained(\n",
    "    pretrained_model_name_or_path='bert-base-uncased',\n",
    "    config=config)\n",
    "\n",
    "print('Config type:', str(type(tokenizer)), '\\n')\n",
    "print('Config type:', str(type(config)), '\\n')\n",
    "print('Model type:', str(type(model)))"
   ]
  },
  {
   "cell_type": "code",
   "execution_count": 66,
   "metadata": {},
   "outputs": [
    {
     "data": {
      "application/vnd.jupyter.widget-view+json": {
       "model_id": "5ad19447742d426b9d7df8405ab8a30f",
       "version_major": 2,
       "version_minor": 0
      },
      "text/plain": [
       "HBox(children=(FloatProgress(value=0.0, max=1595.0), HTML(value='')))"
      ]
     },
     "metadata": {},
     "output_type": "display_data"
    },
    {
     "name": "stdout",
     "output_type": "stream",
     "text": [
      "\n",
      "[101, 1999, 2755, 2023, 3849, 2000, 2022, 1996, 10465, 1998, 2109, 2011, 1996, 3484, 1997, 5470, 4680, 7201, 2062, 2059, 20851, 20056, 2182, 102] \n",
      "\n",
      "[101, 5292, 2232, 2008, 1005, 1055, 3243, 10303, 1045, 6669, 3305, 2589, 2009, 1037, 2261, 2335, 2870, 1005, 1005, 1005, 1005, 1005, 1005, 2831, 2000, 1996, 2192, 102] \n",
      "\n",
      "[101, 4312, 9391, 2157, 2030, 7929, 2003, 1996, 2168, 2004, 2108, 2157, 2049, 1041, 2350, 102] \n",
      "\n"
     ]
    }
   ],
   "source": [
    "tokenized = text_tokenizer(tokenizer, X_dl)\n",
    "for token in tokenized[:3]:\n",
    "    print(token,'\\n')"
   ]
  },
  {
   "cell_type": "code",
   "execution_count": 67,
   "metadata": {},
   "outputs": [
    {
     "name": "stdout",
     "output_type": "stream",
     "text": [
      "[([101, 2089, 102], 0, 177), ([101, 2257, 102], 0, 16312), ([101, 2238, 102], 0, 136419)]\n",
      "Shortest sample: 3\n",
      "Longest sample: 400\n"
     ]
    }
   ],
   "source": [
    "# совместная сортировка списков по длине текста\n",
    "train_samples = sorted(zip(tokenized, y_dl, ind_dl), key=lambda x: len(x[0]))\n",
    "print(train_samples[:3])\n",
    "print('Shortest sample:', len(train_samples[0][0]))\n",
    "print('Longest sample:', len(train_samples[-1][0]))"
   ]
  },
  {
   "cell_type": "code",
   "execution_count": 68,
   "metadata": {},
   "outputs": [
    {
     "data": {
      "image/png": "[encoded data removed]",
      "text/plain": [
       "<Figure size 576x288 with 1 Axes>"
      ]
     },
     "metadata": {},
     "output_type": "display_data"
    }
   ],
   "source": [
    "import matplotlib.pyplot as plt\n",
    "import seaborn as sns\n",
    "sns.set(style='whitegrid', font_scale=1.1)\n",
    "plt.rcParams[\"figure.figsize\"] = (8,4)\n",
    "sorted_lengths = [len(s[0]) for s in train_samples]\n",
    "plt.plot(range(0, len(sorted_lengths)), sorted_lengths)\n",
    "plt.xlabel('номер объекта')\n",
    "plt.ylabel('длина комментария')\n",
    "plt.title('Объекты после сортировки')\n",
    "plt.tight_layout()\n",
    "plt.show()"
   ]
  },
  {
   "cell_type": "markdown",
   "metadata": {},
   "source": [
    "Вот здеь хорошо видно, что большая часть датасета - короткие текстовые вектора"
   ]
  },
  {
   "cell_type": "code",
   "execution_count": 69,
   "metadata": {},
   "outputs": [
    {
     "data": {
      "application/vnd.jupyter.widget-view+json": {
       "model_id": "d36fd953ba184f83a4cc0ec06926d976",
       "version_major": 2,
       "version_minor": 0
      },
      "text/plain": [
       "HBox(children=(FloatProgress(value=0.0), HTML(value='')))"
      ]
     },
     "metadata": {},
     "output_type": "display_data"
    },
    {
     "name": "stdout",
     "output_type": "stream",
     "text": [
      "\n"
     ]
    }
   ],
   "source": [
    "batch_size = 16\n",
    "#кроме текстов я собираю метки и индексы, чтобы сопоставить упорядоченные эмбеддинги изначальному датасету\n",
    "#и это очень пригодилось, когда процесс упал с ошибкой\n",
    "batch_ordered_texts = []\n",
    "batch_ordered_labels = []\n",
    "batch_ordered_indexes = []\n",
    "\n",
    "range_upper_limit = 1 + len(train_samples)//batch_size\n",
    "\n",
    "#иду по части train_samples, размер которой кратен числу пакетов\n",
    "for i in notebook.tqdm( range(0, range_upper_limit) ) :\n",
    "    \n",
    "    #выбираю пакет\n",
    "    batch = train_samples[ i*batch_size : (i+1)*batch_size ]\n",
    "    \n",
    "    #каждый объект в пакете - это кортеж из токенизированного текста, метки и изначального индекса\n",
    "    #разделяю их\n",
    "    batch_ordered_texts.append([s[0] for s in batch])\n",
    "    batch_ordered_labels.append([s[1] for s in batch])\n",
    "    batch_ordered_indexes.append([s[2] for s in batch])\n",
    "\n",
    "#удаляю train samples, чтобы разгрузить память\n",
    "del train_samples"
   ]
  },
  {
   "cell_type": "code",
   "execution_count": 70,
   "metadata": {},
   "outputs": [
    {
     "data": {
      "text/plain": [
       "[[0, 0, 0, 0, 0, 0, 0, 0, 0, 0, 0, 0, 0, 0, 0, 0],\n",
       " [0, 0, 0, 0, 0, 1, 0, 0, 0, 0, 0, 0, 0, 0, 0, 0],\n",
       " [1, 0, 0, 0, 0, 0, 0, 0, 0, 0, 0, 0, 0, 0, 0, 0],\n",
       " [0, 0, 0, 0, 0, 0, 0, 1, 0, 0, 0, 0, 0, 0, 0, 0],\n",
       " [0, 1, 0, 0, 0, 1, 1, 0, 0, 0, 0, 0, 1, 0, 0, 0]]"
      ]
     },
     "execution_count": 70,
     "metadata": {},
     "output_type": "execute_result"
    }
   ],
   "source": [
    "batch_ordered_labels[:5]"
   ]
  },
  {
   "cell_type": "code",
   "execution_count": 71,
   "metadata": {},
   "outputs": [
    {
     "data": {
      "text/plain": [
       "(100, 100, 100)"
      ]
     },
     "execution_count": 71,
     "metadata": {},
     "output_type": "execute_result"
    }
   ],
   "source": [
    "len(batch_ordered_texts), len(batch_ordered_labels), len(batch_ordered_indexes)"
   ]
  },
  {
   "cell_type": "code",
   "execution_count": 72,
   "metadata": {},
   "outputs": [
    {
     "data": {
      "application/vnd.jupyter.widget-view+json": {
       "model_id": "1f7ba15b07b542e0ab20857d6fd1868c",
       "version_major": 2,
       "version_minor": 0
      },
      "text/plain": [
       "HBox(children=(FloatProgress(value=0.0), HTML(value='')))"
      ]
     },
     "metadata": {},
     "output_type": "display_data"
    },
    {
     "name": "stdout",
     "output_type": "stream",
     "text": [
      "\n"
     ]
    }
   ],
   "source": [
    "batch_padded_texts = []\n",
    "batch_attn_masks = []\n",
    "\n",
    "for i in notebook.tqdm( range(0, len(batch_ordered_texts)) ):\n",
    "    batch = batch_ordered_texts[i]\n",
    "    padded = vectors_padding(batch)\n",
    "    attention_mask = np.where(padded != 0, 1, 0)\n",
    "    batch_padded_texts.append(padded)\n",
    "    batch_attn_masks.append(attention_mask)"
   ]
  },
  {
   "cell_type": "code",
   "execution_count": 73,
   "metadata": {},
   "outputs": [
    {
     "data": {
      "text/plain": [
       "array([[  101,  9152,  3215,  2818,  3489,  2023,  2003,  1996,  4957,\n",
       "         2000,  3319,   102,     0],\n",
       "       [  101,  1999,  1998,  2069, 24501, 27082,  2094,  6822,  2008,\n",
       "         5038,  1999,   102,     0],\n",
       "       [  101,  8840,  2140,  1051, 11923,  1045,  3214,  2026, 27571,\n",
       "         2546,  2831,   102,     0],\n",
       "       [  101,  2017,  2031,  2042,  8534,  2005,  2847,  2831,  9530,\n",
       "        18886,  5910,   102,     0],\n",
       "       [  101,  2128, 16009,  3431,  6616,  2125, 10041,  5310,  3147,\n",
       "        12618,  8322,   102,     0],\n",
       "       [  101,  2233, 11396,  2808,  1997,  4623,  2024,  2025,  8152,\n",
       "         8182,  2831,   102,     0],\n",
       "       [  101,  1045,  3305,  2085,  1045,  2097,  3191,  2013,  1996,\n",
       "         2518,  2100,   102,     0],\n",
       "       [  101,  2417,  7442,  6593,  2831,  2358,  7723,  1005,  1055,\n",
       "         2902, 28425,   102,     0],\n",
       "       [  101,  1045,  2031,  3880,  2000,  2115,  5227,  2006,  2115,\n",
       "         2831,  3931,   102,     0],\n",
       "       [  101,  3395,  2073,  2115,  3947,  2097,  2022,  6179,  1998,\n",
       "         2092,  2363,   102,     0],\n",
       "       [  101,  6616,  2125,  6616,  2017,  2017, 15536,  3211,  6904,\n",
       "        13871,  4140,   102,     0],\n",
       "       [  101,  2156,  1996,  1050,  2094,  6302,  3597, 14756,  2094,\n",
       "         3931,  1997,   102,     0],\n",
       "       [  101,  2008,  2001,  4895,  9289,  3709,  2005,  2017,  2031,\n",
       "         2042,  7420,   102,     0],\n",
       "       [  101,  1045,  2031,  2657,  1996,  2744,  2077,  2021,  2049,\n",
       "         8192,  2003,  4678,   102],\n",
       "       [  101,  2079,  2017,  9544,  2000,  2562,  1996,  5762,  1998,\n",
       "        24004, 20200,  3430,   102],\n",
       "       [  101,  2644,  9260,  2061,  2011,  2437,  2023, 10086,  2009,\n",
       "         2097,  2644,  2551,   102]])"
      ]
     },
     "metadata": {},
     "output_type": "display_data"
    },
    {
     "data": {
      "text/plain": [
       "array([[1, 1, 1, 1, 1, 1, 1, 1, 1, 1, 1, 1, 0],\n",
       "       [1, 1, 1, 1, 1, 1, 1, 1, 1, 1, 1, 1, 0],\n",
       "       [1, 1, 1, 1, 1, 1, 1, 1, 1, 1, 1, 1, 0],\n",
       "       [1, 1, 1, 1, 1, 1, 1, 1, 1, 1, 1, 1, 0],\n",
       "       [1, 1, 1, 1, 1, 1, 1, 1, 1, 1, 1, 1, 0],\n",
       "       [1, 1, 1, 1, 1, 1, 1, 1, 1, 1, 1, 1, 0],\n",
       "       [1, 1, 1, 1, 1, 1, 1, 1, 1, 1, 1, 1, 0],\n",
       "       [1, 1, 1, 1, 1, 1, 1, 1, 1, 1, 1, 1, 0],\n",
       "       [1, 1, 1, 1, 1, 1, 1, 1, 1, 1, 1, 1, 0],\n",
       "       [1, 1, 1, 1, 1, 1, 1, 1, 1, 1, 1, 1, 0],\n",
       "       [1, 1, 1, 1, 1, 1, 1, 1, 1, 1, 1, 1, 0],\n",
       "       [1, 1, 1, 1, 1, 1, 1, 1, 1, 1, 1, 1, 0],\n",
       "       [1, 1, 1, 1, 1, 1, 1, 1, 1, 1, 1, 1, 0],\n",
       "       [1, 1, 1, 1, 1, 1, 1, 1, 1, 1, 1, 1, 1],\n",
       "       [1, 1, 1, 1, 1, 1, 1, 1, 1, 1, 1, 1, 1],\n",
       "       [1, 1, 1, 1, 1, 1, 1, 1, 1, 1, 1, 1, 1]])"
      ]
     },
     "metadata": {},
     "output_type": "display_data"
    }
   ],
   "source": [
    "display(batch_padded_texts[10])\n",
    "display(batch_attn_masks[10])"
   ]
  },
  {
   "cell_type": "code",
   "execution_count": 74,
   "metadata": {},
   "outputs": [
    {
     "data": {
      "text/plain": [
       "100"
      ]
     },
     "execution_count": 74,
     "metadata": {},
     "output_type": "execute_result"
    }
   ],
   "source": [
    "len(batch_padded_texts)"
   ]
  },
  {
   "cell_type": "code",
   "execution_count": 75,
   "metadata": {},
   "outputs": [
    {
     "data": {
      "application/vnd.jupyter.widget-view+json": {
       "model_id": "2203cd3f09524df59f04888c2ed66838",
       "version_major": 2,
       "version_minor": 0
      },
      "text/plain": [
       "HBox(children=(FloatProgress(value=0.0), HTML(value='')))"
      ]
     },
     "metadata": {},
     "output_type": "display_data"
    },
    {
     "name": "stdout",
     "output_type": "stream",
     "text": [
      "\n",
      "Wall time: 1min 57s\n"
     ]
    }
   ],
   "source": [
    "%%time\n",
    "embeddings = [] #при записи в файл данная строка не нужна\n",
    "for i in notebook.tqdm( range(0, len(batch_padded_texts)) ):\n",
    "    batch = torch.LongTensor(batch_padded_texts[i]) \n",
    "    mask_batch = torch.LongTensor(batch_attn_masks[i])\n",
    "    \n",
    "    with torch.no_grad():\n",
    "        batch_embeddings = model(batch, attention_mask=mask_batch)\n",
    "\n",
    "    embeddings.append(batch_embeddings[0][:,0,:].numpy()) #при записи в файл данная строка не нужна\n",
    "#     with open('embeddings_light.csv', 'a') as fp:\n",
    "#         for row in batch_embeddings[0][:,0,:].numpy():\n",
    "#             csv.writer(fp, delimiter=\",\").writerow(row)"
   ]
  },
  {
   "cell_type": "code",
   "execution_count": 76,
   "metadata": {},
   "outputs": [
    {
     "data": {
      "text/plain": [
       "(1595, 1595)"
      ]
     },
     "execution_count": 76,
     "metadata": {},
     "output_type": "execute_result"
    }
   ],
   "source": [
    "y_bert = []\n",
    "ind_bert = []\n",
    "for labels in batch_ordered_labels:\n",
    "    y_bert += labels\n",
    "\n",
    "for ind in batch_ordered_indexes:\n",
    "    ind_bert += ind\n",
    "    \n",
    "len(y_bert), len(ind_bert)"
   ]
  },
  {
   "cell_type": "code",
   "execution_count": 77,
   "metadata": {},
   "outputs": [],
   "source": [
    "embeddings_df = pd.DataFrame(np.concatenate(embeddings))#при записи в файл данная строка не нужна\n",
    "#embeddings_df = pd.read_csv('embeddings_light.csv', header = None) #при записи в файл раскомментировать"
   ]
  },
  {
   "cell_type": "code",
   "execution_count": 78,
   "metadata": {},
   "outputs": [
    {
     "data": {
      "text/plain": [
       "1595"
      ]
     },
     "execution_count": 78,
     "metadata": {},
     "output_type": "execute_result"
    }
   ],
   "source": [
    "len(embeddings_df)"
   ]
  },
  {
   "cell_type": "code",
   "execution_count": 79,
   "metadata": {},
   "outputs": [
    {
     "data": {
      "text/html": [
       "<div>\n",
       "<style scoped>\n",
       "    .dataframe tbody tr th:only-of-type {\n",
       "        vertical-align: middle;\n",
       "    }\n",
       "\n",
       "    .dataframe tbody tr th {\n",
       "        vertical-align: top;\n",
       "    }\n",
       "\n",
       "    .dataframe thead th {\n",
       "        text-align: right;\n",
       "    }\n",
       "</style>\n",
       "<table border=\"1\" class=\"dataframe\">\n",
       "  <thead>\n",
       "    <tr style=\"text-align: right;\">\n",
       "      <th></th>\n",
       "      <th>0</th>\n",
       "      <th>1</th>\n",
       "      <th>2</th>\n",
       "      <th>3</th>\n",
       "      <th>4</th>\n",
       "      <th>5</th>\n",
       "      <th>6</th>\n",
       "      <th>7</th>\n",
       "      <th>8</th>\n",
       "      <th>9</th>\n",
       "      <th>...</th>\n",
       "      <th>759</th>\n",
       "      <th>760</th>\n",
       "      <th>761</th>\n",
       "      <th>762</th>\n",
       "      <th>763</th>\n",
       "      <th>764</th>\n",
       "      <th>765</th>\n",
       "      <th>766</th>\n",
       "      <th>767</th>\n",
       "      <th>toxic</th>\n",
       "    </tr>\n",
       "  </thead>\n",
       "  <tbody>\n",
       "    <tr>\n",
       "      <th>126</th>\n",
       "      <td>-0.702640</td>\n",
       "      <td>0.189393</td>\n",
       "      <td>-0.078365</td>\n",
       "      <td>-0.271436</td>\n",
       "      <td>-0.656767</td>\n",
       "      <td>0.253748</td>\n",
       "      <td>0.102763</td>\n",
       "      <td>1.084641</td>\n",
       "      <td>-0.165862</td>\n",
       "      <td>-0.425184</td>\n",
       "      <td>...</td>\n",
       "      <td>-0.354917</td>\n",
       "      <td>0.022897</td>\n",
       "      <td>-0.729087</td>\n",
       "      <td>0.407214</td>\n",
       "      <td>-0.549863</td>\n",
       "      <td>-0.610985</td>\n",
       "      <td>-0.119268</td>\n",
       "      <td>0.443020</td>\n",
       "      <td>0.361566</td>\n",
       "      <td>0</td>\n",
       "    </tr>\n",
       "    <tr>\n",
       "      <th>177</th>\n",
       "      <td>-0.566810</td>\n",
       "      <td>0.109878</td>\n",
       "      <td>0.141035</td>\n",
       "      <td>-0.393483</td>\n",
       "      <td>0.152481</td>\n",
       "      <td>-0.276171</td>\n",
       "      <td>0.212249</td>\n",
       "      <td>0.382914</td>\n",
       "      <td>-0.132682</td>\n",
       "      <td>-0.244495</td>\n",
       "      <td>...</td>\n",
       "      <td>0.031573</td>\n",
       "      <td>0.365090</td>\n",
       "      <td>0.031150</td>\n",
       "      <td>-0.283040</td>\n",
       "      <td>-0.144459</td>\n",
       "      <td>-0.085462</td>\n",
       "      <td>-0.329101</td>\n",
       "      <td>0.473700</td>\n",
       "      <td>0.125089</td>\n",
       "      <td>0</td>\n",
       "    </tr>\n",
       "    <tr>\n",
       "      <th>215</th>\n",
       "      <td>0.098102</td>\n",
       "      <td>0.005101</td>\n",
       "      <td>-0.082653</td>\n",
       "      <td>-0.026029</td>\n",
       "      <td>-0.160023</td>\n",
       "      <td>-0.518725</td>\n",
       "      <td>0.447245</td>\n",
       "      <td>0.497125</td>\n",
       "      <td>0.065516</td>\n",
       "      <td>-0.177982</td>\n",
       "      <td>...</td>\n",
       "      <td>0.242854</td>\n",
       "      <td>0.343632</td>\n",
       "      <td>-0.077081</td>\n",
       "      <td>-0.060330</td>\n",
       "      <td>0.032362</td>\n",
       "      <td>-0.057464</td>\n",
       "      <td>-0.247976</td>\n",
       "      <td>0.429186</td>\n",
       "      <td>0.729174</td>\n",
       "      <td>0</td>\n",
       "    </tr>\n",
       "    <tr>\n",
       "      <th>248</th>\n",
       "      <td>-0.199827</td>\n",
       "      <td>0.572571</td>\n",
       "      <td>-0.321351</td>\n",
       "      <td>0.022956</td>\n",
       "      <td>-0.296194</td>\n",
       "      <td>-0.057194</td>\n",
       "      <td>0.678060</td>\n",
       "      <td>0.589858</td>\n",
       "      <td>-0.523916</td>\n",
       "      <td>-0.498981</td>\n",
       "      <td>...</td>\n",
       "      <td>0.051718</td>\n",
       "      <td>0.006724</td>\n",
       "      <td>0.204458</td>\n",
       "      <td>-0.021316</td>\n",
       "      <td>-0.119137</td>\n",
       "      <td>0.281101</td>\n",
       "      <td>-0.519684</td>\n",
       "      <td>0.526997</td>\n",
       "      <td>0.472728</td>\n",
       "      <td>0</td>\n",
       "    </tr>\n",
       "    <tr>\n",
       "      <th>314</th>\n",
       "      <td>-0.299016</td>\n",
       "      <td>-0.262969</td>\n",
       "      <td>0.241281</td>\n",
       "      <td>-0.127563</td>\n",
       "      <td>-0.224833</td>\n",
       "      <td>-0.182682</td>\n",
       "      <td>0.545353</td>\n",
       "      <td>0.548591</td>\n",
       "      <td>-0.161481</td>\n",
       "      <td>-0.220912</td>\n",
       "      <td>...</td>\n",
       "      <td>-0.120513</td>\n",
       "      <td>0.091539</td>\n",
       "      <td>0.154801</td>\n",
       "      <td>0.271337</td>\n",
       "      <td>-0.151544</td>\n",
       "      <td>-0.104738</td>\n",
       "      <td>-0.543858</td>\n",
       "      <td>0.372585</td>\n",
       "      <td>0.571242</td>\n",
       "      <td>0</td>\n",
       "    </tr>\n",
       "  </tbody>\n",
       "</table>\n",
       "<p>5 rows × 769 columns</p>\n",
       "</div>"
      ],
      "text/plain": [
       "            0         1         2         3         4         5         6  \\\n",
       "126 -0.702640  0.189393 -0.078365 -0.271436 -0.656767  0.253748  0.102763   \n",
       "177 -0.566810  0.109878  0.141035 -0.393483  0.152481 -0.276171  0.212249   \n",
       "215  0.098102  0.005101 -0.082653 -0.026029 -0.160023 -0.518725  0.447245   \n",
       "248 -0.199827  0.572571 -0.321351  0.022956 -0.296194 -0.057194  0.678060   \n",
       "314 -0.299016 -0.262969  0.241281 -0.127563 -0.224833 -0.182682  0.545353   \n",
       "\n",
       "            7         8         9  ...       759       760       761  \\\n",
       "126  1.084641 -0.165862 -0.425184  ... -0.354917  0.022897 -0.729087   \n",
       "177  0.382914 -0.132682 -0.244495  ...  0.031573  0.365090  0.031150   \n",
       "215  0.497125  0.065516 -0.177982  ...  0.242854  0.343632 -0.077081   \n",
       "248  0.589858 -0.523916 -0.498981  ...  0.051718  0.006724  0.204458   \n",
       "314  0.548591 -0.161481 -0.220912  ... -0.120513  0.091539  0.154801   \n",
       "\n",
       "          762       763       764       765       766       767  toxic  \n",
       "126  0.407214 -0.549863 -0.610985 -0.119268  0.443020  0.361566      0  \n",
       "177 -0.283040 -0.144459 -0.085462 -0.329101  0.473700  0.125089      0  \n",
       "215 -0.060330  0.032362 -0.057464 -0.247976  0.429186  0.729174      0  \n",
       "248 -0.021316 -0.119137  0.281101 -0.519684  0.526997  0.472728      0  \n",
       "314  0.271337 -0.151544 -0.104738 -0.543858  0.372585  0.571242      0  \n",
       "\n",
       "[5 rows x 769 columns]"
      ]
     },
     "execution_count": 79,
     "metadata": {},
     "output_type": "execute_result"
    }
   ],
   "source": [
    "#изначально я предполагал сравнивать с предсказаниями других моделей на их тесте,\n",
    "#поэтому собирал датасет и упорядочивал его согласно изначальным индексам\n",
    "#а затем делил на np.array\n",
    "#возможно, не самый оптимальный подход, но помог при падении ядра\n",
    "embeddings_df.loc[:, 'toxic'] = y_bert\n",
    "embeddings_df.index = ind_bert\n",
    "embeddings_df.sort_index(inplace=True)\n",
    "#на полном датасете было около 300 nan, возможно, в связи с падением процесса\n",
    "embeddings_df.fillna(0, inplace = True)\n",
    "embeddings_df.head()"
   ]
  },
  {
   "cell_type": "code",
   "execution_count": 80,
   "metadata": {},
   "outputs": [],
   "source": [
    "X_bert = embeddings_df.drop(columns=['toxic']).values\n",
    "y_bert = embeddings_df['toxic']\n",
    "del embeddings_df"
   ]
  },
  {
   "cell_type": "code",
   "execution_count": 81,
   "metadata": {},
   "outputs": [],
   "source": [
    "X_bert_train, X_bert_test, y_bert_train, y_bert_test = \\\n",
    "train_test_split(X_bert, y_bert, test_size=0.1, stratify = y_bert, random_state = 27)"
   ]
  },
  {
   "cell_type": "code",
   "execution_count": 92,
   "metadata": {
    "scrolled": true
   },
   "outputs": [
    {
     "name": "stderr",
     "output_type": "stream",
     "text": [
      "[Parallel(n_jobs=1)]: Using backend SequentialBackend with 1 concurrent workers.\n"
     ]
    },
    {
     "name": "stdout",
     "output_type": "stream",
     "text": [
      "convergence after 951 epochs took 11 seconds\n"
     ]
    },
    {
     "name": "stderr",
     "output_type": "stream",
     "text": [
      "[Parallel(n_jobs=1)]: Done   1 out of   1 | elapsed:   11.4s finished\n"
     ]
    },
    {
     "data": {
      "text/html": [
       "<div>\n",
       "<style scoped>\n",
       "    .dataframe tbody tr th:only-of-type {\n",
       "        vertical-align: middle;\n",
       "    }\n",
       "\n",
       "    .dataframe tbody tr th {\n",
       "        vertical-align: top;\n",
       "    }\n",
       "\n",
       "    .dataframe thead th {\n",
       "        text-align: right;\n",
       "    }\n",
       "</style>\n",
       "<table border=\"1\" class=\"dataframe\">\n",
       "  <thead>\n",
       "    <tr style=\"text-align: right;\">\n",
       "      <th></th>\n",
       "      <th>Predicted NO</th>\n",
       "      <th>Predicted YES</th>\n",
       "    </tr>\n",
       "  </thead>\n",
       "  <tbody>\n",
       "    <tr>\n",
       "      <th>Actual NO</th>\n",
       "      <td>139</td>\n",
       "      <td>5</td>\n",
       "    </tr>\n",
       "    <tr>\n",
       "      <th>Actual YES</th>\n",
       "      <td>10</td>\n",
       "      <td>6</td>\n",
       "    </tr>\n",
       "  </tbody>\n",
       "</table>\n",
       "</div>"
      ],
      "text/plain": [
       "            Predicted NO  Predicted YES\n",
       "Actual NO            139              5\n",
       "Actual YES            10              6"
      ]
     },
     "metadata": {},
     "output_type": "display_data"
    },
    {
     "name": "stdout",
     "output_type": "stream",
     "text": [
      "---------------------------report---------------------------\n",
      "\n",
      "               precision    recall  f1-score   support\n",
      "\n",
      "           0       0.93      0.97      0.95       144\n",
      "           1       0.55      0.38      0.44        16\n",
      "\n",
      "    accuracy                           0.91       160\n",
      "   macro avg       0.74      0.67      0.70       160\n",
      "weighted avg       0.89      0.91      0.90       160\n",
      "\n",
      "ROC_AUC: 0.67\n",
      "Wall time: 11.5 s\n"
     ]
    }
   ],
   "source": [
    "%%time\n",
    "logreg = LogisticRegression(solver='saga', \n",
    "                            max_iter=10000, \n",
    "                            class_weight={1:2, 0:1}, \n",
    "                            C=5,\n",
    "                            verbose=1)\n",
    "logreg.fit(X_bert_train, y_bert_train)\n",
    "y_bert_test_predicted  = logreg.predict(X_bert_test)\n",
    "print_report(y_bert_test, y_bert_test_predicted)"
   ]
  },
  {
   "cell_type": "markdown",
   "metadata": {},
   "source": [
    "**Данные и результаты BERT на полном наборе данных:**"
   ]
  },
  {
   "cell_type": "markdown",
   "metadata": {},
   "source": [
    "<img src=\"https://getfile.dokpub.com/yandex/get/https://yadi.sk/i/5e1x65QX9nX0mg\">"
   ]
  },
  {
   "cell_type": "markdown",
   "metadata": {},
   "source": [
    "<img src=\"https://getfile.dokpub.com/yandex/get/https://yadi.sk/i/oamREYdN1mNs8Q\">"
   ]
  },
  {
   "cell_type": "markdown",
   "metadata": {},
   "source": [
    "<h1 style=\"color:SteelBlue; font-size:200%; line-height:1.5\">Вывод</h1>"
   ]
  },
  {
   "cell_type": "markdown",
   "metadata": {},
   "source": [
    "Лучше всего себя показала комбинация:"
   ]
  },
  {
   "cell_type": "code",
   "execution_count": 93,
   "metadata": {},
   "outputs": [
    {
     "data": {
      "text/plain": [
       "Pipeline(steps=[('vectorizer',\n",
       "                 TfidfVectorizer(ngram_range=(1, 2),\n",
       "                                 stop_words={\"'d\", \"'ll\", \"'m\", \"'re\", \"'s\",\n",
       "                                             \"'ve\", 'a', 'about', 'above',\n",
       "                                             'across', 'after', 'afterwards',\n",
       "                                             'again', 'against', 'ain', 'all',\n",
       "                                             'almost', 'alone', 'along',\n",
       "                                             'already', 'also', 'although',\n",
       "                                             'always', 'am', 'among', 'amongst',\n",
       "                                             'amount', 'an', 'and', 'another', ...})),\n",
       "                ('model',\n",
       "                 LogisticRegression(C=20, class_weight={0: 1, 1: 3.5},\n",
       "                                    max_iter=10000, solver='saga',\n",
       "                                    verbose=1))])"
      ]
     },
     "execution_count": 93,
     "metadata": {},
     "output_type": "execute_result"
    }
   ],
   "source": [
    "final_pipe"
   ]
  },
  {
   "cell_type": "code",
   "execution_count": 94,
   "metadata": {},
   "outputs": [
    {
     "name": "stdout",
     "output_type": "stream",
     "text": [
      "f1_score 0.7817715019255456\n"
     ]
    }
   ],
   "source": [
    "print('f1_score', final_f1)"
   ]
  },
  {
   "cell_type": "markdown",
   "metadata": {},
   "source": [
    "На данном датасете BERT+LogisticRegression показал результат хуже. Есть большое количество вариантов, что попробовать ещё, но все они (большинство) требуют GPU в colab или чего-то аналогичного. Наверняка можно \"выжать\" больше из BERT. spaCy была только опробована на простой модели на маленькой выборке. Наверняка на полной выборке и более сложной модели результат будет гораздо лучше. Но по скорости + качество вполне достойный бейзлайн - TfidfVectorizer + LogisticRegression."
   ]
  }
 ],
 "metadata": {
  "kernelspec": {
   "display_name": "Python 3",
   "language": "python",
   "name": "python3"
  },
  "language_info": {
   "codemirror_mode": {
    "name": "ipython",
    "version": 3
   },
   "file_extension": ".py",
   "mimetype": "text/x-python",
   "name": "python",
   "nbconvert_exporter": "python",
   "pygments_lexer": "ipython3",
   "version": "3.7.7"
  }
 },
 "nbformat": 4,
 "nbformat_minor": 4
}
