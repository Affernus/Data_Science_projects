{
 "cells": [
  {
   "cell_type": "markdown",
   "metadata": {},
   "source": [
    "<h1 style=\"color:SteelBlue; font-size:200%\">Разработка модели классификации клиентов на лояльных и не лояльных</h1>"
   ]
  },
  {
   "cell_type": "markdown",
   "metadata": {},
   "source": [
    "Нужно разработать модель, которая спрогнозирует уход клиента. Если выяснится, что пользователь планирует уйти, ему будут предложены промокоды и специальные условия."
   ]
  },
  {
   "cell_type": "markdown",
   "metadata": {},
   "source": [
    "**Импорт библиотек, функции для проекта**"
   ]
  },
  {
   "cell_type": "code",
   "execution_count": 1,
   "metadata": {},
   "outputs": [],
   "source": [
    "import pandas as pd\n",
    "import numpy as np\n",
    "import os\n",
    "from collections import namedtuple\n",
    "\n",
    "from category_encoders import OrdinalEncoder, TargetEncoder, CountEncoder\n",
    "from category_encoders.one_hot import OneHotEncoder\n",
    "from sklearn.model_selection import train_test_split, cross_val_score\n",
    "from sklearn.metrics import roc_auc_score, classification_report, confusion_matrix, accuracy_score\n",
    "from sklearn.preprocessing import StandardScaler\n",
    "from sklearn.decomposition import PCA\n",
    "\n",
    "from sklearn.pipeline import Pipeline\n",
    "from sklearn.compose import ColumnTransformer\n",
    "\n",
    "\n",
    "from catboost import CatBoostClassifier\n",
    "from lightgbm import LGBMClassifier\n",
    "from xgboost import XGBClassifier\n",
    "from sklearn.ensemble import RandomForestClassifier\n",
    "from sklearn.ensemble import ExtraTreesClassifier\n",
    "from sklearn.linear_model import LogisticRegression\n",
    "from sklearn.neighbors import KNeighborsClassifier\n",
    "\n",
    "from catboost import Pool, cv\n",
    "\n",
    "from matplotlib import pyplot as plt\n",
    "import seaborn as sns\n",
    "sns.set_style('whitegrid')"
   ]
  },
  {
   "cell_type": "code",
   "execution_count": 2,
   "metadata": {},
   "outputs": [],
   "source": [
    "#функция для перестановочного A/B теста. Написана мной в другом проекте, поэтопу описание на английском\n",
    "def AB_permutation_test(x, y, par='means', iterations=10000):   \n",
    "    \"\"\"\n",
    "    This is a two-sided permutation test for the null hypothesis that \n",
    "    2 samples (x=A and y=B) have identical average values or median values \n",
    "    or variances.\n",
    "\n",
    "    No assumption of the distribution's normality needed\n",
    "    Samples can be of different sizes, independent or dependent.\n",
    "\n",
    "    1. The test can be verified by a t-test for the means difference:\n",
    "    \n",
    "        scipy.stats.ttest_ind(x,y)\n",
    "        pvalues should be approximately the same\n",
    "\n",
    "        Note:\n",
    "            - normal distributions needed for A, B\n",
    "            - statistics are different, because \n",
    "            in t-test statistic = mean(x)-mean(y)/var(x-y) \n",
    "            and in this test statistic = abs(mean(x)-mean(y)) without var(x-y) \n",
    "\n",
    "    2. The test can be verified by a Fisher distribution for the variances \n",
    "    ratio:\n",
    "    \n",
    "        scipy.special.fdtrc(dfn, dfd, f)\n",
    "        dfn = len(x) - 1\n",
    "        dfd = len(y) - 1\n",
    "        f = np.var(x) / np.var(y)\n",
    "        statistics and pvalues should be approximately the same\n",
    "\n",
    "        Notes: \n",
    "            - normal distributions needed for A, B\n",
    "\n",
    "    Parameters\n",
    "    ----------\n",
    "    \n",
    "    x : array_like\n",
    "        A sample.\n",
    "    \n",
    "    y : array_like\n",
    "        B sample.\n",
    "    \n",
    "    par : str, optional\n",
    "        Type of test statistic:\n",
    "        'means': the absolute difference between the means\n",
    "        statistic = abs(mean(x) - mean(y))\n",
    "        \n",
    "        'medians': the absolute difference between the medians\n",
    "        statistic = abs(median(x) - median(y))\n",
    "        \n",
    "        'variances': the ratio of the variances\n",
    "        if var(x) > var(y)\n",
    "        statistic = var(x) / var(y)\n",
    "        if var(x) < var(y)\n",
    "        statistic = var(y) / var(x)\n",
    "        \n",
    "        The default is 'means'.\n",
    "    \n",
    "    iterations : integer, optional\n",
    "        Number of permutations. The default is 1000.\n",
    "\n",
    "    Returns\n",
    "    -------\n",
    "    named tuple (statistic, iterations, pvalue).\n",
    "    \n",
    "    statistic: float\n",
    "        The computed statistic of the test.\n",
    "        \n",
    "        'means_difference' = abs(mean(x) - mean(y))\n",
    "        'medians_difference' = abs(median(x) - median(y))\n",
    "        'variances_ratio' = var(x) / var(y)\n",
    "\n",
    "    itertions: int\n",
    "        Number of permutations  \n",
    "        \n",
    "    pvalue: float\n",
    "        The two-tailed p-value: number of times, when permutations statistics \n",
    "        were larger than the original, divided by the number of iterations\n",
    "   \n",
    "    \"\"\"\n",
    "    k = 0\n",
    "    size_a = len(x)\n",
    "    a=np.asarray(x) \n",
    "    b=np.asarray(y)\n",
    "    alldata = np.concatenate((a, b))\n",
    "    \n",
    "    if par == 'means':\n",
    "        statistic = 'means_difference'\n",
    "        diff = np.mean(a) - np.mean(b)\n",
    "    elif par == 'medians':\n",
    "        statistic = 'medians_difference'\n",
    "        diff = np.median(a) - np.median(b)\n",
    "    elif par == 'variances':\n",
    "        statistic = 'variances_ratio'\n",
    "        var_a = np.var(a, ddof=1)\n",
    "        var_b = np.var(b, ddof=1)\n",
    "        var_1 = max(var_a, var_b)\n",
    "        var_2 = min(var_a, var_b)\n",
    "        diff = var_1 / var_2\n",
    "    else:\n",
    "        return \"ERROR. Incorrect 'par' value. Use par='means' or 'medians' or 'variances'.\"\n",
    "    \n",
    "    abs_diff = abs(diff)\n",
    "  \n",
    "    for i in range (0, iterations):\n",
    "        np.random.shuffle(alldata) #перемешиваю\n",
    "        if par == 'means':\n",
    "            abs_random_diff = abs( np.mean(alldata[:size_a]) - np.mean(alldata[size_a:]) )\n",
    "        elif par == 'medians':\n",
    "            abs_random_diff = abs( np.mean(alldata[:size_a]) - np.mean(alldata[size_a:]) )\n",
    "        elif par == 'variances':\n",
    "            abs_random_diff = np.var(alldata[:size_a], ddof=1) / np.var(alldata[size_a:], ddof=1)\n",
    "        \n",
    "        k += abs_diff < abs_random_diff\n",
    "        \n",
    "    pvalue = k / iterations\n",
    "       \n",
    "    ABPermutationResult = namedtuple('AB_PermutationResult', (statistic, 'iterations', 'pvalue'))\n",
    "    \n",
    "    return ABPermutationResult(diff, iterations, pvalue)"
   ]
  },
  {
   "cell_type": "code",
   "execution_count": 3,
   "metadata": {},
   "outputs": [],
   "source": [
    "def print_report(true, predicted_proba, threshold):\n",
    "    \n",
    "    predicted = (predicted_proba >= threshold)*1\n",
    "    report = classification_report(true, predicted)\n",
    "    roc_auc = roc_auc_score(true, predicted_proba)\n",
    "    acc = accuracy_score(true, predicted)\n",
    "\n",
    "    cm = confusion_matrix(true, predicted)\n",
    "    cm_df = pd.DataFrame(data=cm, index=['Actual NO', 'Actual YES'], columns = ['Predicted NO', 'Predicted YES'])\n",
    "    display(cm_df)\n",
    "    print(f'{\"report\":-^60}\\n\\n', report)\n",
    "    print( 'ROC_AUC:', round(roc_auc,2) )\n",
    "    print( 'ACCURACY:', round(acc,2) )"
   ]
  },
  {
   "cell_type": "code",
   "execution_count": 4,
   "metadata": {},
   "outputs": [],
   "source": [
    "class color:\n",
    "    PURPLE = '\\033[95m'\n",
    "    CYAN = '\\033[96m'\n",
    "    DARKCYAN = '\\033[36m'\n",
    "    BLUE = '\\033[94m'\n",
    "    GREEN = '\\033[92m'\n",
    "    YELLOW = '\\033[93m'\n",
    "    RED = '\\033[91m'\n",
    "    BOLD = '\\033[1m'\n",
    "    UNDERLINE = '\\033[4m'\n",
    "    END = '\\033[0m'"
   ]
  },
  {
   "cell_type": "markdown",
   "metadata": {},
   "source": [
    "<h1 style=\"color:SteelBlue; font-size:200%\">1. Загрузка, анализ и подготовка данных</h1>"
   ]
  },
  {
   "cell_type": "markdown",
   "metadata": {},
   "source": [
    "<h2 style=\"color:DodgerBlue\">1.1 Общая информация, осмотр данных</h2>"
   ]
  },
  {
   "cell_type": "code",
   "execution_count": 5,
   "metadata": {},
   "outputs": [
    {
     "name": "stdout",
     "output_type": "stream",
     "text": [
      "\u001b[1m\u001b[94mcontract\u001b[0m\n"
     ]
    },
    {
     "data": {
      "text/html": [
       "<div>\n",
       "<style scoped>\n",
       "    .dataframe tbody tr th:only-of-type {\n",
       "        vertical-align: middle;\n",
       "    }\n",
       "\n",
       "    .dataframe tbody tr th {\n",
       "        vertical-align: top;\n",
       "    }\n",
       "\n",
       "    .dataframe thead th {\n",
       "        text-align: right;\n",
       "    }\n",
       "</style>\n",
       "<table border=\"1\" class=\"dataframe\">\n",
       "  <thead>\n",
       "    <tr style=\"text-align: right;\">\n",
       "      <th></th>\n",
       "      <th>customerID</th>\n",
       "      <th>BeginDate</th>\n",
       "      <th>EndDate</th>\n",
       "      <th>Type</th>\n",
       "      <th>PaperlessBilling</th>\n",
       "      <th>PaymentMethod</th>\n",
       "      <th>MonthlyCharges</th>\n",
       "      <th>TotalCharges</th>\n",
       "    </tr>\n",
       "  </thead>\n",
       "  <tbody>\n",
       "    <tr>\n",
       "      <th>0</th>\n",
       "      <td>7590-VHVEG</td>\n",
       "      <td>2020-01-01</td>\n",
       "      <td>No</td>\n",
       "      <td>Month-to-month</td>\n",
       "      <td>Yes</td>\n",
       "      <td>Electronic check</td>\n",
       "      <td>29.85</td>\n",
       "      <td>29.85</td>\n",
       "    </tr>\n",
       "    <tr>\n",
       "      <th>1</th>\n",
       "      <td>5575-GNVDE</td>\n",
       "      <td>2017-04-01</td>\n",
       "      <td>No</td>\n",
       "      <td>One year</td>\n",
       "      <td>No</td>\n",
       "      <td>Mailed check</td>\n",
       "      <td>56.95</td>\n",
       "      <td>1889.5</td>\n",
       "    </tr>\n",
       "    <tr>\n",
       "      <th>2</th>\n",
       "      <td>3668-QPYBK</td>\n",
       "      <td>2019-10-01</td>\n",
       "      <td>2019-12-01 00:00:00</td>\n",
       "      <td>Month-to-month</td>\n",
       "      <td>Yes</td>\n",
       "      <td>Mailed check</td>\n",
       "      <td>53.85</td>\n",
       "      <td>108.15</td>\n",
       "    </tr>\n",
       "    <tr>\n",
       "      <th>3</th>\n",
       "      <td>7795-CFOCW</td>\n",
       "      <td>2016-05-01</td>\n",
       "      <td>No</td>\n",
       "      <td>One year</td>\n",
       "      <td>No</td>\n",
       "      <td>Bank transfer (automatic)</td>\n",
       "      <td>42.30</td>\n",
       "      <td>1840.75</td>\n",
       "    </tr>\n",
       "    <tr>\n",
       "      <th>4</th>\n",
       "      <td>9237-HQITU</td>\n",
       "      <td>2019-09-01</td>\n",
       "      <td>2019-11-01 00:00:00</td>\n",
       "      <td>Month-to-month</td>\n",
       "      <td>Yes</td>\n",
       "      <td>Electronic check</td>\n",
       "      <td>70.70</td>\n",
       "      <td>151.65</td>\n",
       "    </tr>\n",
       "  </tbody>\n",
       "</table>\n",
       "</div>"
      ],
      "text/plain": [
       "   customerID  BeginDate              EndDate            Type  \\\n",
       "0  7590-VHVEG 2020-01-01                   No  Month-to-month   \n",
       "1  5575-GNVDE 2017-04-01                   No        One year   \n",
       "2  3668-QPYBK 2019-10-01  2019-12-01 00:00:00  Month-to-month   \n",
       "3  7795-CFOCW 2016-05-01                   No        One year   \n",
       "4  9237-HQITU 2019-09-01  2019-11-01 00:00:00  Month-to-month   \n",
       "\n",
       "  PaperlessBilling              PaymentMethod  MonthlyCharges TotalCharges  \n",
       "0              Yes           Electronic check           29.85        29.85  \n",
       "1               No               Mailed check           56.95       1889.5  \n",
       "2              Yes               Mailed check           53.85       108.15  \n",
       "3               No  Bank transfer (automatic)           42.30      1840.75  \n",
       "4              Yes           Electronic check           70.70       151.65  "
      ]
     },
     "metadata": {},
     "output_type": "display_data"
    },
    {
     "name": "stdout",
     "output_type": "stream",
     "text": [
      "\u001b[1m\u001b[94mpersonal\u001b[0m\n"
     ]
    },
    {
     "data": {
      "text/html": [
       "<div>\n",
       "<style scoped>\n",
       "    .dataframe tbody tr th:only-of-type {\n",
       "        vertical-align: middle;\n",
       "    }\n",
       "\n",
       "    .dataframe tbody tr th {\n",
       "        vertical-align: top;\n",
       "    }\n",
       "\n",
       "    .dataframe thead th {\n",
       "        text-align: right;\n",
       "    }\n",
       "</style>\n",
       "<table border=\"1\" class=\"dataframe\">\n",
       "  <thead>\n",
       "    <tr style=\"text-align: right;\">\n",
       "      <th></th>\n",
       "      <th>customerID</th>\n",
       "      <th>gender</th>\n",
       "      <th>SeniorCitizen</th>\n",
       "      <th>Partner</th>\n",
       "      <th>Dependents</th>\n",
       "    </tr>\n",
       "  </thead>\n",
       "  <tbody>\n",
       "    <tr>\n",
       "      <th>0</th>\n",
       "      <td>7590-VHVEG</td>\n",
       "      <td>Female</td>\n",
       "      <td>0</td>\n",
       "      <td>Yes</td>\n",
       "      <td>No</td>\n",
       "    </tr>\n",
       "    <tr>\n",
       "      <th>1</th>\n",
       "      <td>5575-GNVDE</td>\n",
       "      <td>Male</td>\n",
       "      <td>0</td>\n",
       "      <td>No</td>\n",
       "      <td>No</td>\n",
       "    </tr>\n",
       "    <tr>\n",
       "      <th>2</th>\n",
       "      <td>3668-QPYBK</td>\n",
       "      <td>Male</td>\n",
       "      <td>0</td>\n",
       "      <td>No</td>\n",
       "      <td>No</td>\n",
       "    </tr>\n",
       "    <tr>\n",
       "      <th>3</th>\n",
       "      <td>7795-CFOCW</td>\n",
       "      <td>Male</td>\n",
       "      <td>0</td>\n",
       "      <td>No</td>\n",
       "      <td>No</td>\n",
       "    </tr>\n",
       "    <tr>\n",
       "      <th>4</th>\n",
       "      <td>9237-HQITU</td>\n",
       "      <td>Female</td>\n",
       "      <td>0</td>\n",
       "      <td>No</td>\n",
       "      <td>No</td>\n",
       "    </tr>\n",
       "  </tbody>\n",
       "</table>\n",
       "</div>"
      ],
      "text/plain": [
       "   customerID  gender  SeniorCitizen Partner Dependents\n",
       "0  7590-VHVEG  Female              0     Yes         No\n",
       "1  5575-GNVDE    Male              0      No         No\n",
       "2  3668-QPYBK    Male              0      No         No\n",
       "3  7795-CFOCW    Male              0      No         No\n",
       "4  9237-HQITU  Female              0      No         No"
      ]
     },
     "metadata": {},
     "output_type": "display_data"
    },
    {
     "name": "stdout",
     "output_type": "stream",
     "text": [
      "\u001b[1m\u001b[94mphone\u001b[0m\n"
     ]
    },
    {
     "data": {
      "text/html": [
       "<div>\n",
       "<style scoped>\n",
       "    .dataframe tbody tr th:only-of-type {\n",
       "        vertical-align: middle;\n",
       "    }\n",
       "\n",
       "    .dataframe tbody tr th {\n",
       "        vertical-align: top;\n",
       "    }\n",
       "\n",
       "    .dataframe thead th {\n",
       "        text-align: right;\n",
       "    }\n",
       "</style>\n",
       "<table border=\"1\" class=\"dataframe\">\n",
       "  <thead>\n",
       "    <tr style=\"text-align: right;\">\n",
       "      <th></th>\n",
       "      <th>customerID</th>\n",
       "      <th>MultipleLines</th>\n",
       "    </tr>\n",
       "  </thead>\n",
       "  <tbody>\n",
       "    <tr>\n",
       "      <th>0</th>\n",
       "      <td>5575-GNVDE</td>\n",
       "      <td>No</td>\n",
       "    </tr>\n",
       "    <tr>\n",
       "      <th>1</th>\n",
       "      <td>3668-QPYBK</td>\n",
       "      <td>No</td>\n",
       "    </tr>\n",
       "    <tr>\n",
       "      <th>2</th>\n",
       "      <td>9237-HQITU</td>\n",
       "      <td>No</td>\n",
       "    </tr>\n",
       "    <tr>\n",
       "      <th>3</th>\n",
       "      <td>9305-CDSKC</td>\n",
       "      <td>Yes</td>\n",
       "    </tr>\n",
       "    <tr>\n",
       "      <th>4</th>\n",
       "      <td>1452-KIOVK</td>\n",
       "      <td>Yes</td>\n",
       "    </tr>\n",
       "  </tbody>\n",
       "</table>\n",
       "</div>"
      ],
      "text/plain": [
       "   customerID MultipleLines\n",
       "0  5575-GNVDE            No\n",
       "1  3668-QPYBK            No\n",
       "2  9237-HQITU            No\n",
       "3  9305-CDSKC           Yes\n",
       "4  1452-KIOVK           Yes"
      ]
     },
     "metadata": {},
     "output_type": "display_data"
    },
    {
     "name": "stdout",
     "output_type": "stream",
     "text": [
      "\u001b[1m\u001b[94minternet\u001b[0m\n"
     ]
    },
    {
     "data": {
      "text/html": [
       "<div>\n",
       "<style scoped>\n",
       "    .dataframe tbody tr th:only-of-type {\n",
       "        vertical-align: middle;\n",
       "    }\n",
       "\n",
       "    .dataframe tbody tr th {\n",
       "        vertical-align: top;\n",
       "    }\n",
       "\n",
       "    .dataframe thead th {\n",
       "        text-align: right;\n",
       "    }\n",
       "</style>\n",
       "<table border=\"1\" class=\"dataframe\">\n",
       "  <thead>\n",
       "    <tr style=\"text-align: right;\">\n",
       "      <th></th>\n",
       "      <th>customerID</th>\n",
       "      <th>InternetService</th>\n",
       "      <th>OnlineSecurity</th>\n",
       "      <th>OnlineBackup</th>\n",
       "      <th>DeviceProtection</th>\n",
       "      <th>TechSupport</th>\n",
       "      <th>StreamingTV</th>\n",
       "      <th>StreamingMovies</th>\n",
       "    </tr>\n",
       "  </thead>\n",
       "  <tbody>\n",
       "    <tr>\n",
       "      <th>0</th>\n",
       "      <td>7590-VHVEG</td>\n",
       "      <td>DSL</td>\n",
       "      <td>No</td>\n",
       "      <td>Yes</td>\n",
       "      <td>No</td>\n",
       "      <td>No</td>\n",
       "      <td>No</td>\n",
       "      <td>No</td>\n",
       "    </tr>\n",
       "    <tr>\n",
       "      <th>1</th>\n",
       "      <td>5575-GNVDE</td>\n",
       "      <td>DSL</td>\n",
       "      <td>Yes</td>\n",
       "      <td>No</td>\n",
       "      <td>Yes</td>\n",
       "      <td>No</td>\n",
       "      <td>No</td>\n",
       "      <td>No</td>\n",
       "    </tr>\n",
       "    <tr>\n",
       "      <th>2</th>\n",
       "      <td>3668-QPYBK</td>\n",
       "      <td>DSL</td>\n",
       "      <td>Yes</td>\n",
       "      <td>Yes</td>\n",
       "      <td>No</td>\n",
       "      <td>No</td>\n",
       "      <td>No</td>\n",
       "      <td>No</td>\n",
       "    </tr>\n",
       "    <tr>\n",
       "      <th>3</th>\n",
       "      <td>7795-CFOCW</td>\n",
       "      <td>DSL</td>\n",
       "      <td>Yes</td>\n",
       "      <td>No</td>\n",
       "      <td>Yes</td>\n",
       "      <td>Yes</td>\n",
       "      <td>No</td>\n",
       "      <td>No</td>\n",
       "    </tr>\n",
       "    <tr>\n",
       "      <th>4</th>\n",
       "      <td>9237-HQITU</td>\n",
       "      <td>Fiber optic</td>\n",
       "      <td>No</td>\n",
       "      <td>No</td>\n",
       "      <td>No</td>\n",
       "      <td>No</td>\n",
       "      <td>No</td>\n",
       "      <td>No</td>\n",
       "    </tr>\n",
       "  </tbody>\n",
       "</table>\n",
       "</div>"
      ],
      "text/plain": [
       "   customerID InternetService OnlineSecurity OnlineBackup DeviceProtection  \\\n",
       "0  7590-VHVEG             DSL             No          Yes               No   \n",
       "1  5575-GNVDE             DSL            Yes           No              Yes   \n",
       "2  3668-QPYBK             DSL            Yes          Yes               No   \n",
       "3  7795-CFOCW             DSL            Yes           No              Yes   \n",
       "4  9237-HQITU     Fiber optic             No           No               No   \n",
       "\n",
       "  TechSupport StreamingTV StreamingMovies  \n",
       "0          No          No              No  \n",
       "1          No          No              No  \n",
       "2          No          No              No  \n",
       "3         Yes          No              No  \n",
       "4          No          No              No  "
      ]
     },
     "metadata": {},
     "output_type": "display_data"
    }
   ],
   "source": [
    "link = '/home/jovyan/work/data/telecom/'\n",
    "data = {}\n",
    "name_list = ['contract', 'personal', 'phone', 'internet']\n",
    "\n",
    "for name in name_list:\n",
    "    name_link = os.path.join(link + name + '.csv')\n",
    "    try:\n",
    "        data[name] = pd.read_csv(name_link, parse_dates=['BeginDate', 'EndDate'])\n",
    "    except:\n",
    "        data[name] = pd.read_csv(name_link)\n",
    "    print(color.BOLD + color.BLUE + name + color.END)\n",
    "    display(data[name].head())"
   ]
  },
  {
   "cell_type": "code",
   "execution_count": 6,
   "metadata": {},
   "outputs": [
    {
     "name": "stdout",
     "output_type": "stream",
     "text": [
      "\n",
      "\u001b[1m\u001b[94mcontract\u001b[0m\n",
      "\n",
      "<class 'pandas.core.frame.DataFrame'>\n",
      "RangeIndex: 7043 entries, 0 to 7042\n",
      "Data columns (total 8 columns):\n",
      " #   Column            Non-Null Count  Dtype         \n",
      "---  ------            --------------  -----         \n",
      " 0   customerID        7043 non-null   object        \n",
      " 1   BeginDate         7043 non-null   datetime64[ns]\n",
      " 2   EndDate           7043 non-null   object        \n",
      " 3   Type              7043 non-null   object        \n",
      " 4   PaperlessBilling  7043 non-null   object        \n",
      " 5   PaymentMethod     7043 non-null   object        \n",
      " 6   MonthlyCharges    7043 non-null   float64       \n",
      " 7   TotalCharges      7043 non-null   object        \n",
      "dtypes: datetime64[ns](1), float64(1), object(6)\n",
      "memory usage: 440.3+ KB\n",
      "None\n",
      "\n",
      "\u001b[1m\u001b[94mpersonal\u001b[0m\n",
      "\n",
      "<class 'pandas.core.frame.DataFrame'>\n",
      "RangeIndex: 7043 entries, 0 to 7042\n",
      "Data columns (total 5 columns):\n",
      " #   Column         Non-Null Count  Dtype \n",
      "---  ------         --------------  ----- \n",
      " 0   customerID     7043 non-null   object\n",
      " 1   gender         7043 non-null   object\n",
      " 2   SeniorCitizen  7043 non-null   int64 \n",
      " 3   Partner        7043 non-null   object\n",
      " 4   Dependents     7043 non-null   object\n",
      "dtypes: int64(1), object(4)\n",
      "memory usage: 275.2+ KB\n",
      "None\n",
      "\n",
      "\u001b[1m\u001b[94mphone\u001b[0m\n",
      "\n",
      "<class 'pandas.core.frame.DataFrame'>\n",
      "RangeIndex: 6361 entries, 0 to 6360\n",
      "Data columns (total 2 columns):\n",
      " #   Column         Non-Null Count  Dtype \n",
      "---  ------         --------------  ----- \n",
      " 0   customerID     6361 non-null   object\n",
      " 1   MultipleLines  6361 non-null   object\n",
      "dtypes: object(2)\n",
      "memory usage: 99.5+ KB\n",
      "None\n",
      "\n",
      "\u001b[1m\u001b[94minternet\u001b[0m\n",
      "\n",
      "<class 'pandas.core.frame.DataFrame'>\n",
      "RangeIndex: 5517 entries, 0 to 5516\n",
      "Data columns (total 8 columns):\n",
      " #   Column            Non-Null Count  Dtype \n",
      "---  ------            --------------  ----- \n",
      " 0   customerID        5517 non-null   object\n",
      " 1   InternetService   5517 non-null   object\n",
      " 2   OnlineSecurity    5517 non-null   object\n",
      " 3   OnlineBackup      5517 non-null   object\n",
      " 4   DeviceProtection  5517 non-null   object\n",
      " 5   TechSupport       5517 non-null   object\n",
      " 6   StreamingTV       5517 non-null   object\n",
      " 7   StreamingMovies   5517 non-null   object\n",
      "dtypes: object(8)\n",
      "memory usage: 344.9+ KB\n",
      "None\n"
     ]
    }
   ],
   "source": [
    "for name in name_list:\n",
    "    print('\\n'+ color.BOLD + color.BLUE + name + color.END + '\\n')\n",
    "    print(data[name].info())"
   ]
  },
  {
   "cell_type": "code",
   "execution_count": 7,
   "metadata": {},
   "outputs": [
    {
     "name": "stdout",
     "output_type": "stream",
     "text": [
      "\u001b[1m\u001b[94mDuplicates in whole data:\u001b[0m\n",
      "0 contract\n",
      "0 personal\n",
      "0 phone\n",
      "0 internet\n"
     ]
    }
   ],
   "source": [
    "print(color.BOLD + color.BLUE + 'Duplicates in whole data:' + color.END)\n",
    "for name in name_list:\n",
    "    print(data[name].duplicated().sum(), name)"
   ]
  },
  {
   "cell_type": "code",
   "execution_count": 8,
   "metadata": {},
   "outputs": [
    {
     "name": "stdout",
     "output_type": "stream",
     "text": [
      "\u001b[1m\u001b[94mDuplicates in customerID column:\u001b[0m\n",
      "0 contract\n",
      "0 personal\n",
      "0 phone\n",
      "0 internet\n"
     ]
    }
   ],
   "source": [
    "print(color.BOLD + color.BLUE + 'Duplicates in customerID column:'+ color.END)\n",
    "for name in name_list:\n",
    "    print(data[name]['customerID'].duplicated().sum(), name)"
   ]
  },
  {
   "cell_type": "markdown",
   "metadata": {},
   "source": [
    "Информация о договорах актуальна на 1 февраля 2020, заполню No в таблице 'contract' - 'EndDate' указанной датой"
   ]
  },
  {
   "cell_type": "code",
   "execution_count": 9,
   "metadata": {},
   "outputs": [
    {
     "name": "stdout",
     "output_type": "stream",
     "text": [
      "<class 'pandas.core.frame.DataFrame'>\n",
      "RangeIndex: 7043 entries, 0 to 7042\n",
      "Data columns (total 8 columns):\n",
      " #   Column            Non-Null Count  Dtype         \n",
      "---  ------            --------------  -----         \n",
      " 0   customerID        7043 non-null   object        \n",
      " 1   BeginDate         7043 non-null   datetime64[ns]\n",
      " 2   EndDate           7043 non-null   datetime64[ns]\n",
      " 3   Type              7043 non-null   object        \n",
      " 4   PaperlessBilling  7043 non-null   object        \n",
      " 5   PaymentMethod     7043 non-null   object        \n",
      " 6   MonthlyCharges    7043 non-null   float64       \n",
      " 7   TotalCharges      7043 non-null   object        \n",
      "dtypes: datetime64[ns](2), float64(1), object(5)\n",
      "memory usage: 440.3+ KB\n"
     ]
    }
   ],
   "source": [
    "data['contract']['EndDate'].replace({'No': '2020-02-01 00:00:00'},inplace=True)\n",
    "data['contract']['EndDate'] = pd.to_datetime(data['contract']['EndDate'])\n",
    "data['contract'].info()"
   ]
  },
  {
   "cell_type": "code",
   "execution_count": 10,
   "metadata": {},
   "outputs": [
    {
     "data": {
      "text/html": [
       "<div>\n",
       "<style scoped>\n",
       "    .dataframe tbody tr th:only-of-type {\n",
       "        vertical-align: middle;\n",
       "    }\n",
       "\n",
       "    .dataframe tbody tr th {\n",
       "        vertical-align: top;\n",
       "    }\n",
       "\n",
       "    .dataframe thead th {\n",
       "        text-align: right;\n",
       "    }\n",
       "</style>\n",
       "<table border=\"1\" class=\"dataframe\">\n",
       "  <thead>\n",
       "    <tr style=\"text-align: right;\">\n",
       "      <th></th>\n",
       "      <th>customerID</th>\n",
       "      <th>BeginDate</th>\n",
       "      <th>EndDate</th>\n",
       "      <th>Type</th>\n",
       "      <th>PaperlessBilling</th>\n",
       "      <th>PaymentMethod</th>\n",
       "      <th>MonthlyCharges</th>\n",
       "      <th>TotalCharges</th>\n",
       "    </tr>\n",
       "  </thead>\n",
       "  <tbody>\n",
       "    <tr>\n",
       "      <th>0</th>\n",
       "      <td>7590-VHVEG</td>\n",
       "      <td>2020-01-01</td>\n",
       "      <td>2020-02-01</td>\n",
       "      <td>Month-to-month</td>\n",
       "      <td>Yes</td>\n",
       "      <td>Electronic check</td>\n",
       "      <td>29.85</td>\n",
       "      <td>29.85</td>\n",
       "    </tr>\n",
       "    <tr>\n",
       "      <th>1</th>\n",
       "      <td>5575-GNVDE</td>\n",
       "      <td>2017-04-01</td>\n",
       "      <td>2020-02-01</td>\n",
       "      <td>One year</td>\n",
       "      <td>No</td>\n",
       "      <td>Mailed check</td>\n",
       "      <td>56.95</td>\n",
       "      <td>1889.5</td>\n",
       "    </tr>\n",
       "    <tr>\n",
       "      <th>2</th>\n",
       "      <td>3668-QPYBK</td>\n",
       "      <td>2019-10-01</td>\n",
       "      <td>2019-12-01</td>\n",
       "      <td>Month-to-month</td>\n",
       "      <td>Yes</td>\n",
       "      <td>Mailed check</td>\n",
       "      <td>53.85</td>\n",
       "      <td>108.15</td>\n",
       "    </tr>\n",
       "    <tr>\n",
       "      <th>3</th>\n",
       "      <td>7795-CFOCW</td>\n",
       "      <td>2016-05-01</td>\n",
       "      <td>2020-02-01</td>\n",
       "      <td>One year</td>\n",
       "      <td>No</td>\n",
       "      <td>Bank transfer (automatic)</td>\n",
       "      <td>42.30</td>\n",
       "      <td>1840.75</td>\n",
       "    </tr>\n",
       "    <tr>\n",
       "      <th>4</th>\n",
       "      <td>9237-HQITU</td>\n",
       "      <td>2019-09-01</td>\n",
       "      <td>2019-11-01</td>\n",
       "      <td>Month-to-month</td>\n",
       "      <td>Yes</td>\n",
       "      <td>Electronic check</td>\n",
       "      <td>70.70</td>\n",
       "      <td>151.65</td>\n",
       "    </tr>\n",
       "  </tbody>\n",
       "</table>\n",
       "</div>"
      ],
      "text/plain": [
       "   customerID  BeginDate    EndDate            Type PaperlessBilling  \\\n",
       "0  7590-VHVEG 2020-01-01 2020-02-01  Month-to-month              Yes   \n",
       "1  5575-GNVDE 2017-04-01 2020-02-01        One year               No   \n",
       "2  3668-QPYBK 2019-10-01 2019-12-01  Month-to-month              Yes   \n",
       "3  7795-CFOCW 2016-05-01 2020-02-01        One year               No   \n",
       "4  9237-HQITU 2019-09-01 2019-11-01  Month-to-month              Yes   \n",
       "\n",
       "               PaymentMethod  MonthlyCharges TotalCharges  \n",
       "0           Electronic check           29.85        29.85  \n",
       "1               Mailed check           56.95       1889.5  \n",
       "2               Mailed check           53.85       108.15  \n",
       "3  Bank transfer (automatic)           42.30      1840.75  \n",
       "4           Electronic check           70.70       151.65  "
      ]
     },
     "execution_count": 10,
     "metadata": {},
     "output_type": "execute_result"
    }
   ],
   "source": [
    "data['contract'].head()"
   ]
  },
  {
   "cell_type": "markdown",
   "metadata": {},
   "source": [
    "Данные из состоят из 4 файлов, дублей нет ни в строках, ни в идентификаторах пользователей. Во всех датасетах присутствует признак customerID, по нему их можно объединить для получения полного набора признаков. Примерно для 1500 клиентов нет данных об internet, видимо, они не пользуются. А часть клиентов, похоже, не пользуется телефоном.\n",
    "Пропусков нет, но часть признаков заполнены неоднородными данными (TotalCharges, EndDate), что указывает на потенциальные пропуски."
   ]
  },
  {
   "cell_type": "markdown",
   "metadata": {},
   "source": [
    "<h2 style=\"color:DodgerBlue\">1.2 Создание целевой переменной, разведочный анализ данных договора</h2>"
   ]
  },
  {
   "cell_type": "markdown",
   "metadata": {},
   "source": [
    "Создам целевую переменную. Клиенты, у которых на момент 2020-02-01 контракт завершён - ушли. И рассчитаю время пользования тарифом в месяцах, месяц начала пользования и месяц окончания пользования тарифом. Дата начала и завершения пользоваия тарифом у всех одинаковая - 1 число:"
   ]
  },
  {
   "cell_type": "code",
   "execution_count": 11,
   "metadata": {},
   "outputs": [
    {
     "name": "stdout",
     "output_type": "stream",
     "text": [
      "Числа начала и окончания пользования тарифом:\n",
      "1    7043\n",
      "Name: BeginDate, dtype: int64\n",
      "1    7043\n",
      "Name: EndDate, dtype: int64\n"
     ]
    }
   ],
   "source": [
    "print('Числа начала и окончания пользования тарифом:')\n",
    "print(data['contract']['BeginDate'].dt.day.value_counts())\n",
    "print(data['contract']['EndDate'].dt.day.value_counts())"
   ]
  },
  {
   "cell_type": "code",
   "execution_count": 12,
   "metadata": {},
   "outputs": [],
   "source": [
    "data['contract']['begin_month'] = data['contract']['BeginDate'].dt.month\n",
    "data['contract']['end_month'] = data['contract']['EndDate'].dt.month\n",
    "data['contract']['begin_year'] = data['contract']['BeginDate'].dt.year\n",
    "data['contract']['end_year'] = data['contract']['EndDate'].dt.year\n",
    "data['contract']['usage_time'] = \\\n",
    "((data['contract']['EndDate'] - data['contract']['BeginDate']) / np.timedelta64(1, 'M')).astype('int')\n",
    "data['contract'].loc[:, 'label'] = (data['contract']['EndDate'] != '2020-02-01').astype(int)"
   ]
  },
  {
   "cell_type": "code",
   "execution_count": 13,
   "metadata": {},
   "outputs": [
    {
     "name": "stdout",
     "output_type": "stream",
     "text": [
      "<class 'pandas.core.frame.DataFrame'>\n",
      "RangeIndex: 7043 entries, 0 to 7042\n",
      "Data columns (total 14 columns):\n",
      " #   Column            Non-Null Count  Dtype         \n",
      "---  ------            --------------  -----         \n",
      " 0   customerID        7043 non-null   object        \n",
      " 1   BeginDate         7043 non-null   datetime64[ns]\n",
      " 2   EndDate           7043 non-null   datetime64[ns]\n",
      " 3   Type              7043 non-null   object        \n",
      " 4   PaperlessBilling  7043 non-null   object        \n",
      " 5   PaymentMethod     7043 non-null   object        \n",
      " 6   MonthlyCharges    7043 non-null   float64       \n",
      " 7   TotalCharges      7043 non-null   object        \n",
      " 8   begin_month       7043 non-null   int64         \n",
      " 9   end_month         7043 non-null   int64         \n",
      " 10  begin_year        7043 non-null   int64         \n",
      " 11  end_year          7043 non-null   int64         \n",
      " 12  usage_time        7043 non-null   int64         \n",
      " 13  label             7043 non-null   int64         \n",
      "dtypes: datetime64[ns](2), float64(1), int64(6), object(5)\n",
      "memory usage: 770.5+ KB\n"
     ]
    }
   ],
   "source": [
    "data['contract'].info()"
   ]
  },
  {
   "cell_type": "code",
   "execution_count": 14,
   "metadata": {},
   "outputs": [
    {
     "data": {
      "text/html": [
       "<div>\n",
       "<style scoped>\n",
       "    .dataframe tbody tr th:only-of-type {\n",
       "        vertical-align: middle;\n",
       "    }\n",
       "\n",
       "    .dataframe tbody tr th {\n",
       "        vertical-align: top;\n",
       "    }\n",
       "\n",
       "    .dataframe thead th {\n",
       "        text-align: right;\n",
       "    }\n",
       "</style>\n",
       "<table border=\"1\" class=\"dataframe\">\n",
       "  <thead>\n",
       "    <tr style=\"text-align: right;\">\n",
       "      <th></th>\n",
       "      <th>customerID</th>\n",
       "      <th>BeginDate</th>\n",
       "      <th>EndDate</th>\n",
       "      <th>Type</th>\n",
       "      <th>PaperlessBilling</th>\n",
       "      <th>PaymentMethod</th>\n",
       "      <th>MonthlyCharges</th>\n",
       "      <th>TotalCharges</th>\n",
       "      <th>begin_month</th>\n",
       "      <th>end_month</th>\n",
       "      <th>begin_year</th>\n",
       "      <th>end_year</th>\n",
       "      <th>usage_time</th>\n",
       "      <th>label</th>\n",
       "    </tr>\n",
       "  </thead>\n",
       "  <tbody>\n",
       "    <tr>\n",
       "      <th>0</th>\n",
       "      <td>7590-VHVEG</td>\n",
       "      <td>2020-01-01</td>\n",
       "      <td>2020-02-01</td>\n",
       "      <td>Month-to-month</td>\n",
       "      <td>Yes</td>\n",
       "      <td>Electronic check</td>\n",
       "      <td>29.85</td>\n",
       "      <td>29.85</td>\n",
       "      <td>1</td>\n",
       "      <td>2</td>\n",
       "      <td>2020</td>\n",
       "      <td>2020</td>\n",
       "      <td>1</td>\n",
       "      <td>0</td>\n",
       "    </tr>\n",
       "    <tr>\n",
       "      <th>1</th>\n",
       "      <td>5575-GNVDE</td>\n",
       "      <td>2017-04-01</td>\n",
       "      <td>2020-02-01</td>\n",
       "      <td>One year</td>\n",
       "      <td>No</td>\n",
       "      <td>Mailed check</td>\n",
       "      <td>56.95</td>\n",
       "      <td>1889.5</td>\n",
       "      <td>4</td>\n",
       "      <td>2</td>\n",
       "      <td>2017</td>\n",
       "      <td>2020</td>\n",
       "      <td>34</td>\n",
       "      <td>0</td>\n",
       "    </tr>\n",
       "    <tr>\n",
       "      <th>2</th>\n",
       "      <td>3668-QPYBK</td>\n",
       "      <td>2019-10-01</td>\n",
       "      <td>2019-12-01</td>\n",
       "      <td>Month-to-month</td>\n",
       "      <td>Yes</td>\n",
       "      <td>Mailed check</td>\n",
       "      <td>53.85</td>\n",
       "      <td>108.15</td>\n",
       "      <td>10</td>\n",
       "      <td>12</td>\n",
       "      <td>2019</td>\n",
       "      <td>2019</td>\n",
       "      <td>2</td>\n",
       "      <td>1</td>\n",
       "    </tr>\n",
       "    <tr>\n",
       "      <th>3</th>\n",
       "      <td>7795-CFOCW</td>\n",
       "      <td>2016-05-01</td>\n",
       "      <td>2020-02-01</td>\n",
       "      <td>One year</td>\n",
       "      <td>No</td>\n",
       "      <td>Bank transfer (automatic)</td>\n",
       "      <td>42.30</td>\n",
       "      <td>1840.75</td>\n",
       "      <td>5</td>\n",
       "      <td>2</td>\n",
       "      <td>2016</td>\n",
       "      <td>2020</td>\n",
       "      <td>45</td>\n",
       "      <td>0</td>\n",
       "    </tr>\n",
       "    <tr>\n",
       "      <th>4</th>\n",
       "      <td>9237-HQITU</td>\n",
       "      <td>2019-09-01</td>\n",
       "      <td>2019-11-01</td>\n",
       "      <td>Month-to-month</td>\n",
       "      <td>Yes</td>\n",
       "      <td>Electronic check</td>\n",
       "      <td>70.70</td>\n",
       "      <td>151.65</td>\n",
       "      <td>9</td>\n",
       "      <td>11</td>\n",
       "      <td>2019</td>\n",
       "      <td>2019</td>\n",
       "      <td>2</td>\n",
       "      <td>1</td>\n",
       "    </tr>\n",
       "  </tbody>\n",
       "</table>\n",
       "</div>"
      ],
      "text/plain": [
       "   customerID  BeginDate    EndDate            Type PaperlessBilling  \\\n",
       "0  7590-VHVEG 2020-01-01 2020-02-01  Month-to-month              Yes   \n",
       "1  5575-GNVDE 2017-04-01 2020-02-01        One year               No   \n",
       "2  3668-QPYBK 2019-10-01 2019-12-01  Month-to-month              Yes   \n",
       "3  7795-CFOCW 2016-05-01 2020-02-01        One year               No   \n",
       "4  9237-HQITU 2019-09-01 2019-11-01  Month-to-month              Yes   \n",
       "\n",
       "               PaymentMethod  MonthlyCharges TotalCharges  begin_month  \\\n",
       "0           Electronic check           29.85        29.85            1   \n",
       "1               Mailed check           56.95       1889.5            4   \n",
       "2               Mailed check           53.85       108.15           10   \n",
       "3  Bank transfer (automatic)           42.30      1840.75            5   \n",
       "4           Electronic check           70.70       151.65            9   \n",
       "\n",
       "   end_month  begin_year  end_year  usage_time  label  \n",
       "0          2        2020      2020           1      0  \n",
       "1          2        2017      2020          34      0  \n",
       "2         12        2019      2019           2      1  \n",
       "3          2        2016      2020          45      0  \n",
       "4         11        2019      2019           2      1  "
      ]
     },
     "execution_count": 14,
     "metadata": {},
     "output_type": "execute_result"
    }
   ],
   "source": [
    "data['contract'].head()"
   ]
  },
  {
   "cell_type": "markdown",
   "metadata": {},
   "source": [
    "В TotalCharges, похоже, есть текст, обозначающий отсутствие данных. Преобразую столбец в числовой формат, проверю nan."
   ]
  },
  {
   "cell_type": "code",
   "execution_count": 15,
   "metadata": {},
   "outputs": [],
   "source": [
    "data['contract']['TotalCharges'] = pd.to_numeric(data['contract']['TotalCharges'], errors='coerce')"
   ]
  },
  {
   "cell_type": "code",
   "execution_count": 16,
   "metadata": {},
   "outputs": [
    {
     "data": {
      "text/html": [
       "<div>\n",
       "<style scoped>\n",
       "    .dataframe tbody tr th:only-of-type {\n",
       "        vertical-align: middle;\n",
       "    }\n",
       "\n",
       "    .dataframe tbody tr th {\n",
       "        vertical-align: top;\n",
       "    }\n",
       "\n",
       "    .dataframe thead th {\n",
       "        text-align: right;\n",
       "    }\n",
       "</style>\n",
       "<table border=\"1\" class=\"dataframe\">\n",
       "  <thead>\n",
       "    <tr style=\"text-align: right;\">\n",
       "      <th></th>\n",
       "      <th>customerID</th>\n",
       "      <th>BeginDate</th>\n",
       "      <th>EndDate</th>\n",
       "      <th>Type</th>\n",
       "      <th>PaperlessBilling</th>\n",
       "      <th>PaymentMethod</th>\n",
       "      <th>MonthlyCharges</th>\n",
       "      <th>TotalCharges</th>\n",
       "      <th>begin_month</th>\n",
       "      <th>end_month</th>\n",
       "      <th>begin_year</th>\n",
       "      <th>end_year</th>\n",
       "      <th>usage_time</th>\n",
       "      <th>label</th>\n",
       "    </tr>\n",
       "  </thead>\n",
       "  <tbody>\n",
       "    <tr>\n",
       "      <th>488</th>\n",
       "      <td>4472-LVYGI</td>\n",
       "      <td>2020-02-01</td>\n",
       "      <td>2020-02-01</td>\n",
       "      <td>Two year</td>\n",
       "      <td>Yes</td>\n",
       "      <td>Bank transfer (automatic)</td>\n",
       "      <td>52.55</td>\n",
       "      <td>NaN</td>\n",
       "      <td>2</td>\n",
       "      <td>2</td>\n",
       "      <td>2020</td>\n",
       "      <td>2020</td>\n",
       "      <td>0</td>\n",
       "      <td>0</td>\n",
       "    </tr>\n",
       "    <tr>\n",
       "      <th>753</th>\n",
       "      <td>3115-CZMZD</td>\n",
       "      <td>2020-02-01</td>\n",
       "      <td>2020-02-01</td>\n",
       "      <td>Two year</td>\n",
       "      <td>No</td>\n",
       "      <td>Mailed check</td>\n",
       "      <td>20.25</td>\n",
       "      <td>NaN</td>\n",
       "      <td>2</td>\n",
       "      <td>2</td>\n",
       "      <td>2020</td>\n",
       "      <td>2020</td>\n",
       "      <td>0</td>\n",
       "      <td>0</td>\n",
       "    </tr>\n",
       "    <tr>\n",
       "      <th>936</th>\n",
       "      <td>5709-LVOEQ</td>\n",
       "      <td>2020-02-01</td>\n",
       "      <td>2020-02-01</td>\n",
       "      <td>Two year</td>\n",
       "      <td>No</td>\n",
       "      <td>Mailed check</td>\n",
       "      <td>80.85</td>\n",
       "      <td>NaN</td>\n",
       "      <td>2</td>\n",
       "      <td>2</td>\n",
       "      <td>2020</td>\n",
       "      <td>2020</td>\n",
       "      <td>0</td>\n",
       "      <td>0</td>\n",
       "    </tr>\n",
       "    <tr>\n",
       "      <th>1082</th>\n",
       "      <td>4367-NUYAO</td>\n",
       "      <td>2020-02-01</td>\n",
       "      <td>2020-02-01</td>\n",
       "      <td>Two year</td>\n",
       "      <td>No</td>\n",
       "      <td>Mailed check</td>\n",
       "      <td>25.75</td>\n",
       "      <td>NaN</td>\n",
       "      <td>2</td>\n",
       "      <td>2</td>\n",
       "      <td>2020</td>\n",
       "      <td>2020</td>\n",
       "      <td>0</td>\n",
       "      <td>0</td>\n",
       "    </tr>\n",
       "    <tr>\n",
       "      <th>1340</th>\n",
       "      <td>1371-DWPAZ</td>\n",
       "      <td>2020-02-01</td>\n",
       "      <td>2020-02-01</td>\n",
       "      <td>Two year</td>\n",
       "      <td>No</td>\n",
       "      <td>Credit card (automatic)</td>\n",
       "      <td>56.05</td>\n",
       "      <td>NaN</td>\n",
       "      <td>2</td>\n",
       "      <td>2</td>\n",
       "      <td>2020</td>\n",
       "      <td>2020</td>\n",
       "      <td>0</td>\n",
       "      <td>0</td>\n",
       "    </tr>\n",
       "    <tr>\n",
       "      <th>3331</th>\n",
       "      <td>7644-OMVMY</td>\n",
       "      <td>2020-02-01</td>\n",
       "      <td>2020-02-01</td>\n",
       "      <td>Two year</td>\n",
       "      <td>No</td>\n",
       "      <td>Mailed check</td>\n",
       "      <td>19.85</td>\n",
       "      <td>NaN</td>\n",
       "      <td>2</td>\n",
       "      <td>2</td>\n",
       "      <td>2020</td>\n",
       "      <td>2020</td>\n",
       "      <td>0</td>\n",
       "      <td>0</td>\n",
       "    </tr>\n",
       "    <tr>\n",
       "      <th>3826</th>\n",
       "      <td>3213-VVOLG</td>\n",
       "      <td>2020-02-01</td>\n",
       "      <td>2020-02-01</td>\n",
       "      <td>Two year</td>\n",
       "      <td>No</td>\n",
       "      <td>Mailed check</td>\n",
       "      <td>25.35</td>\n",
       "      <td>NaN</td>\n",
       "      <td>2</td>\n",
       "      <td>2</td>\n",
       "      <td>2020</td>\n",
       "      <td>2020</td>\n",
       "      <td>0</td>\n",
       "      <td>0</td>\n",
       "    </tr>\n",
       "    <tr>\n",
       "      <th>4380</th>\n",
       "      <td>2520-SGTTA</td>\n",
       "      <td>2020-02-01</td>\n",
       "      <td>2020-02-01</td>\n",
       "      <td>Two year</td>\n",
       "      <td>No</td>\n",
       "      <td>Mailed check</td>\n",
       "      <td>20.00</td>\n",
       "      <td>NaN</td>\n",
       "      <td>2</td>\n",
       "      <td>2</td>\n",
       "      <td>2020</td>\n",
       "      <td>2020</td>\n",
       "      <td>0</td>\n",
       "      <td>0</td>\n",
       "    </tr>\n",
       "    <tr>\n",
       "      <th>5218</th>\n",
       "      <td>2923-ARZLG</td>\n",
       "      <td>2020-02-01</td>\n",
       "      <td>2020-02-01</td>\n",
       "      <td>One year</td>\n",
       "      <td>Yes</td>\n",
       "      <td>Mailed check</td>\n",
       "      <td>19.70</td>\n",
       "      <td>NaN</td>\n",
       "      <td>2</td>\n",
       "      <td>2</td>\n",
       "      <td>2020</td>\n",
       "      <td>2020</td>\n",
       "      <td>0</td>\n",
       "      <td>0</td>\n",
       "    </tr>\n",
       "    <tr>\n",
       "      <th>6670</th>\n",
       "      <td>4075-WKNIU</td>\n",
       "      <td>2020-02-01</td>\n",
       "      <td>2020-02-01</td>\n",
       "      <td>Two year</td>\n",
       "      <td>No</td>\n",
       "      <td>Mailed check</td>\n",
       "      <td>73.35</td>\n",
       "      <td>NaN</td>\n",
       "      <td>2</td>\n",
       "      <td>2</td>\n",
       "      <td>2020</td>\n",
       "      <td>2020</td>\n",
       "      <td>0</td>\n",
       "      <td>0</td>\n",
       "    </tr>\n",
       "    <tr>\n",
       "      <th>6754</th>\n",
       "      <td>2775-SEFEE</td>\n",
       "      <td>2020-02-01</td>\n",
       "      <td>2020-02-01</td>\n",
       "      <td>Two year</td>\n",
       "      <td>Yes</td>\n",
       "      <td>Bank transfer (automatic)</td>\n",
       "      <td>61.90</td>\n",
       "      <td>NaN</td>\n",
       "      <td>2</td>\n",
       "      <td>2</td>\n",
       "      <td>2020</td>\n",
       "      <td>2020</td>\n",
       "      <td>0</td>\n",
       "      <td>0</td>\n",
       "    </tr>\n",
       "  </tbody>\n",
       "</table>\n",
       "</div>"
      ],
      "text/plain": [
       "      customerID  BeginDate    EndDate      Type PaperlessBilling  \\\n",
       "488   4472-LVYGI 2020-02-01 2020-02-01  Two year              Yes   \n",
       "753   3115-CZMZD 2020-02-01 2020-02-01  Two year               No   \n",
       "936   5709-LVOEQ 2020-02-01 2020-02-01  Two year               No   \n",
       "1082  4367-NUYAO 2020-02-01 2020-02-01  Two year               No   \n",
       "1340  1371-DWPAZ 2020-02-01 2020-02-01  Two year               No   \n",
       "3331  7644-OMVMY 2020-02-01 2020-02-01  Two year               No   \n",
       "3826  3213-VVOLG 2020-02-01 2020-02-01  Two year               No   \n",
       "4380  2520-SGTTA 2020-02-01 2020-02-01  Two year               No   \n",
       "5218  2923-ARZLG 2020-02-01 2020-02-01  One year              Yes   \n",
       "6670  4075-WKNIU 2020-02-01 2020-02-01  Two year               No   \n",
       "6754  2775-SEFEE 2020-02-01 2020-02-01  Two year              Yes   \n",
       "\n",
       "                  PaymentMethod  MonthlyCharges  TotalCharges  begin_month  \\\n",
       "488   Bank transfer (automatic)           52.55           NaN            2   \n",
       "753                Mailed check           20.25           NaN            2   \n",
       "936                Mailed check           80.85           NaN            2   \n",
       "1082               Mailed check           25.75           NaN            2   \n",
       "1340    Credit card (automatic)           56.05           NaN            2   \n",
       "3331               Mailed check           19.85           NaN            2   \n",
       "3826               Mailed check           25.35           NaN            2   \n",
       "4380               Mailed check           20.00           NaN            2   \n",
       "5218               Mailed check           19.70           NaN            2   \n",
       "6670               Mailed check           73.35           NaN            2   \n",
       "6754  Bank transfer (automatic)           61.90           NaN            2   \n",
       "\n",
       "      end_month  begin_year  end_year  usage_time  label  \n",
       "488           2        2020      2020           0      0  \n",
       "753           2        2020      2020           0      0  \n",
       "936           2        2020      2020           0      0  \n",
       "1082          2        2020      2020           0      0  \n",
       "1340          2        2020      2020           0      0  \n",
       "3331          2        2020      2020           0      0  \n",
       "3826          2        2020      2020           0      0  \n",
       "4380          2        2020      2020           0      0  \n",
       "5218          2        2020      2020           0      0  \n",
       "6670          2        2020      2020           0      0  \n",
       "6754          2        2020      2020           0      0  "
      ]
     },
     "execution_count": 16,
     "metadata": {},
     "output_type": "execute_result"
    }
   ],
   "source": [
    "data['contract'].loc[data['contract']['TotalCharges'].isna(), :]"
   ]
  },
  {
   "cell_type": "markdown",
   "metadata": {},
   "source": [
    "Да, TotalCharges нет у клиентов, которые пользуются услугами менее месяца. Заполню нулями."
   ]
  },
  {
   "cell_type": "code",
   "execution_count": 17,
   "metadata": {},
   "outputs": [],
   "source": [
    "data['contract']['TotalCharges'] = data['contract']['TotalCharges'].fillna(0)"
   ]
  },
  {
   "cell_type": "markdown",
   "metadata": {},
   "source": [
    "Проверю баланс классов:"
   ]
  },
  {
   "cell_type": "code",
   "execution_count": 18,
   "metadata": {},
   "outputs": [
    {
     "name": "stderr",
     "output_type": "stream",
     "text": [
      "/opt/conda/lib/python3.8/site-packages/seaborn/_decorators.py:36: FutureWarning: Pass the following variable as a keyword arg: x. From version 0.12, the only valid positional argument will be `data`, and passing other arguments without an explicit keyword will result in an error or misinterpretation.\n",
      "  warnings.warn(\n"
     ]
    },
    {
     "data": {
      "image/png": "[encoded data removed]",
      "text/plain": [
       "<Figure size 432x288 with 1 Axes>"
      ]
     },
     "metadata": {},
     "output_type": "display_data"
    }
   ],
   "source": [
    "sns.countplot(x=data['contract']['label'], alpha=0.7)\n",
    "plt.title('label balance')\n",
    "plt.show()"
   ]
  },
  {
   "cell_type": "markdown",
   "metadata": {},
   "source": [
    "Классы разбалансированы."
   ]
  },
  {
   "cell_type": "code",
   "execution_count": 19,
   "metadata": {},
   "outputs": [],
   "source": [
    "label = data['contract']['label']"
   ]
  },
  {
   "cell_type": "markdown",
   "metadata": {},
   "source": [
    "Посмотрим, сколько клиенты пользуются тарифом:"
   ]
  },
  {
   "cell_type": "code",
   "execution_count": 20,
   "metadata": {},
   "outputs": [
    {
     "data": {
      "image/png": "[encoded data removed]",
      "text/plain": [
       "<Figure size 576x288 with 1 Axes>"
      ]
     },
     "metadata": {},
     "output_type": "display_data"
    }
   ],
   "source": [
    "plt.figure(figsize=(8,4))\n",
    "n_bins = 24\n",
    "plt.hist(data['contract'].loc[label == 0, 'usage_time'], alpha=0.5, label='0', bins=n_bins, density=True)\n",
    "plt.hist(data['contract'].loc[label == 1, 'usage_time'], alpha=0.5, label='1', bins = n_bins, density=True)\n",
    "plt.legend()\n",
    "plt.xticks(range( 0, 74, 3))\n",
    "plt.title('Usage time')\n",
    "plt.xlabel('months')\n",
    "plt.tight_layout()\n",
    "plt.show()"
   ]
  },
  {
   "cell_type": "code",
   "execution_count": 21,
   "metadata": {},
   "outputs": [
    {
     "data": {
      "image/png": "[encoded data removed]",
      "text/plain": [
       "<Figure size 576x288 with 1 Axes>"
      ]
     },
     "metadata": {},
     "output_type": "display_data"
    }
   ],
   "source": [
    "plt.figure(figsize=(8,4))\n",
    "n_bins = 24\n",
    "plt.hist(data['contract'].loc[label == 0, 'begin_year'], alpha=0.5, label='0', bins=n_bins, density=True)\n",
    "plt.hist(data['contract'].loc[label == 1, 'begin_year'], alpha=0.5, label='1', bins = n_bins, density=True)\n",
    "plt.legend()\n",
    "plt.title('Usage time')\n",
    "plt.xlabel('months')\n",
    "plt.tight_layout()\n",
    "plt.show()"
   ]
  },
  {
   "cell_type": "code",
   "execution_count": 22,
   "metadata": {},
   "outputs": [
    {
     "data": {
      "image/png": "[encoded data removed]",
      "text/plain": [
       "<Figure size 576x288 with 1 Axes>"
      ]
     },
     "metadata": {},
     "output_type": "display_data"
    }
   ],
   "source": [
    "plt.figure(figsize=(8,4))\n",
    "n_bins = 24\n",
    "plt.hist(data['contract'].loc[label == 0, 'begin_month'], alpha=0.5, label='0', bins=n_bins, density=True)\n",
    "plt.hist(data['contract'].loc[label == 1, 'begin_month'], alpha=0.5, label='1', bins = n_bins, density=True)\n",
    "plt.legend()\n",
    "plt.title('Usage time')\n",
    "plt.xlabel('months')\n",
    "plt.tight_layout()\n",
    "plt.show()"
   ]
  },
  {
   "cell_type": "markdown",
   "metadata": {},
   "source": [
    "Видно, что больше всего ушедших клиентов - в последние несколько месяцев. Соответственно, по числу ушедших лидирует 2019 год и его последние месяцы. Эту информацию сразу из модели уберу, т.к. иначе она будет немасштабируемой: через несколько месяцев распределение уходящих клиентов по годам и месяцам изменитcя. Валидный признак здесь - \"время жизни\" клиента. Даты начала и окончания пользования тоже сразу уберу."
   ]
  },
  {
   "cell_type": "code",
   "execution_count": 23,
   "metadata": {},
   "outputs": [],
   "source": [
    "data['contract'] =\\\n",
    "data['contract'].drop(columns = ['BeginDate', 'EndDate', 'begin_month', 'end_month', 'begin_year', 'end_year'])"
   ]
  },
  {
   "cell_type": "code",
   "execution_count": 24,
   "metadata": {},
   "outputs": [
    {
     "data": {
      "text/html": [
       "<div>\n",
       "<style scoped>\n",
       "    .dataframe tbody tr th:only-of-type {\n",
       "        vertical-align: middle;\n",
       "    }\n",
       "\n",
       "    .dataframe tbody tr th {\n",
       "        vertical-align: top;\n",
       "    }\n",
       "\n",
       "    .dataframe thead th {\n",
       "        text-align: right;\n",
       "    }\n",
       "</style>\n",
       "<table border=\"1\" class=\"dataframe\">\n",
       "  <thead>\n",
       "    <tr style=\"text-align: right;\">\n",
       "      <th></th>\n",
       "      <th>customerID</th>\n",
       "      <th>Type</th>\n",
       "      <th>PaperlessBilling</th>\n",
       "      <th>PaymentMethod</th>\n",
       "      <th>MonthlyCharges</th>\n",
       "      <th>TotalCharges</th>\n",
       "      <th>usage_time</th>\n",
       "      <th>label</th>\n",
       "    </tr>\n",
       "  </thead>\n",
       "  <tbody>\n",
       "    <tr>\n",
       "      <th>0</th>\n",
       "      <td>7590-VHVEG</td>\n",
       "      <td>Month-to-month</td>\n",
       "      <td>Yes</td>\n",
       "      <td>Electronic check</td>\n",
       "      <td>29.85</td>\n",
       "      <td>29.85</td>\n",
       "      <td>1</td>\n",
       "      <td>0</td>\n",
       "    </tr>\n",
       "    <tr>\n",
       "      <th>1</th>\n",
       "      <td>5575-GNVDE</td>\n",
       "      <td>One year</td>\n",
       "      <td>No</td>\n",
       "      <td>Mailed check</td>\n",
       "      <td>56.95</td>\n",
       "      <td>1889.50</td>\n",
       "      <td>34</td>\n",
       "      <td>0</td>\n",
       "    </tr>\n",
       "    <tr>\n",
       "      <th>2</th>\n",
       "      <td>3668-QPYBK</td>\n",
       "      <td>Month-to-month</td>\n",
       "      <td>Yes</td>\n",
       "      <td>Mailed check</td>\n",
       "      <td>53.85</td>\n",
       "      <td>108.15</td>\n",
       "      <td>2</td>\n",
       "      <td>1</td>\n",
       "    </tr>\n",
       "    <tr>\n",
       "      <th>3</th>\n",
       "      <td>7795-CFOCW</td>\n",
       "      <td>One year</td>\n",
       "      <td>No</td>\n",
       "      <td>Bank transfer (automatic)</td>\n",
       "      <td>42.30</td>\n",
       "      <td>1840.75</td>\n",
       "      <td>45</td>\n",
       "      <td>0</td>\n",
       "    </tr>\n",
       "    <tr>\n",
       "      <th>4</th>\n",
       "      <td>9237-HQITU</td>\n",
       "      <td>Month-to-month</td>\n",
       "      <td>Yes</td>\n",
       "      <td>Electronic check</td>\n",
       "      <td>70.70</td>\n",
       "      <td>151.65</td>\n",
       "      <td>2</td>\n",
       "      <td>1</td>\n",
       "    </tr>\n",
       "  </tbody>\n",
       "</table>\n",
       "</div>"
      ],
      "text/plain": [
       "   customerID            Type PaperlessBilling              PaymentMethod  \\\n",
       "0  7590-VHVEG  Month-to-month              Yes           Electronic check   \n",
       "1  5575-GNVDE        One year               No               Mailed check   \n",
       "2  3668-QPYBK  Month-to-month              Yes               Mailed check   \n",
       "3  7795-CFOCW        One year               No  Bank transfer (automatic)   \n",
       "4  9237-HQITU  Month-to-month              Yes           Electronic check   \n",
       "\n",
       "   MonthlyCharges  TotalCharges  usage_time  label  \n",
       "0           29.85         29.85           1      0  \n",
       "1           56.95       1889.50          34      0  \n",
       "2           53.85        108.15           2      1  \n",
       "3           42.30       1840.75          45      0  \n",
       "4           70.70        151.65           2      1  "
      ]
     },
     "execution_count": 24,
     "metadata": {},
     "output_type": "execute_result"
    }
   ],
   "source": [
    "data['contract'].head()"
   ]
  },
  {
   "cell_type": "markdown",
   "metadata": {},
   "source": [
    "Проверю, отличаются ли по платежам ушедшие и оставшиеся клиенты:"
   ]
  },
  {
   "cell_type": "code",
   "execution_count": 25,
   "metadata": {},
   "outputs": [
    {
     "data": {
      "image/png": "[encoded data removed]",
      "text/plain": [
       "<Figure size 576x360 with 2 Axes>"
      ]
     },
     "metadata": {},
     "output_type": "display_data"
    }
   ],
   "source": [
    "fig, axs = plt.subplots(1,2,figsize=(8,5))\n",
    "cols = ['MonthlyCharges', 'TotalCharges']\n",
    "for ax, col in zip(axs, cols):\n",
    "    ax.set_title(col)\n",
    "    sns.barplot(data = data['contract'], x='label', y=col, ax=ax, \n",
    "            capsize=.1, errwidth=2, alpha=0.7)\n",
    "\n",
    "plt.tight_layout()\n",
    "plt.show()"
   ]
  },
  {
   "cell_type": "code",
   "execution_count": 26,
   "metadata": {},
   "outputs": [
    {
     "data": {
      "image/png": "[encoded data removed]",
      "text/plain": [
       "<Figure size 576x432 with 1 Axes>"
      ]
     },
     "metadata": {},
     "output_type": "display_data"
    }
   ],
   "source": [
    "plt.figure(figsize=(8,6))\n",
    "sns.scatterplot(data =data['contract'], x='MonthlyCharges', y='TotalCharges', hue = 'label')\n",
    "plt.title('MonthlyCharges vs TotalCharges')\n",
    "plt.show()"
   ]
  },
  {
   "cell_type": "markdown",
   "metadata": {},
   "source": [
    "И по barplot, и по scatterplot видно, что ушедшие клиенты сосредоточены больше в зоне высоких месячных платежей. Проверю статистически значимые различия. Нулевая гипотеза - средние значения месячных и общих платежей у ушедших и лояльных клиентов не различаются. Уровень значимости выберу 0,05."
   ]
  },
  {
   "cell_type": "code",
   "execution_count": 27,
   "metadata": {},
   "outputs": [
    {
     "name": "stdout",
     "output_type": "stream",
     "text": [
      "MonthlyCharges\n",
      "AB_PermutationResult(means_difference=-13.176208567842295, iterations=10000, pvalue=0.0)\n",
      "TotalCharges\n",
      "AB_PermutationResult(means_difference=1018.115347656503, iterations=10000, pvalue=0.0)\n"
     ]
    }
   ],
   "source": [
    "for col in cols:\n",
    "    print(col)\n",
    "    x = data['contract'].loc[ label == 0, col]\n",
    "    y = data['contract'].loc[ label == 1, col]\n",
    "    print(AB_permutation_test(x, y, par='means', iterations=10000))"
   ]
  },
  {
   "cell_type": "markdown",
   "metadata": {},
   "source": [
    "Отвергаем для обоих случаев нулевую гипотезу с p-значением 0 < 0.05 (в перестановочном тесте ни в одном случает из 10000 разность средних не была больше, чем в нашем случае).\n",
    "\n",
    "Т.е. ушедшие и лояльные клиенты отличаются по средним уровням платежей. Месячные платежи в группе лояльных клиентов в среднем ниже, а годовые в среднем - выше (что логично, т.к. уходящие клиенты имеют меньшее \"время жизни\" и не успевают внести достаточно годовых платежей)."
   ]
  },
  {
   "cell_type": "markdown",
   "metadata": {},
   "source": [
    "<h2 style=\"color:DodgerBlue\">1.3 Объединение наборов данных, продолжение анализа</h2>"
   ]
  },
  {
   "cell_type": "markdown",
   "metadata": {},
   "source": [
    "Объединю датасеты:"
   ]
  },
  {
   "cell_type": "code",
   "execution_count": 28,
   "metadata": {},
   "outputs": [],
   "source": [
    "df = data['contract'].merge(data['personal'], on='customerID', how='outer')"
   ]
  },
  {
   "cell_type": "code",
   "execution_count": 29,
   "metadata": {},
   "outputs": [],
   "source": [
    "df = df.merge(data['phone'], on='customerID', how='outer')"
   ]
  },
  {
   "cell_type": "code",
   "execution_count": 30,
   "metadata": {},
   "outputs": [],
   "source": [
    "df = df.merge(data['internet'], on='customerID', how='outer')"
   ]
  },
  {
   "cell_type": "markdown",
   "metadata": {},
   "source": [
    "Индексами назанчу id клиентов"
   ]
  },
  {
   "cell_type": "code",
   "execution_count": 31,
   "metadata": {},
   "outputs": [],
   "source": [
    "df.index = df['customerID']"
   ]
  },
  {
   "cell_type": "code",
   "execution_count": 32,
   "metadata": {},
   "outputs": [],
   "source": [
    "df.drop(columns = ['customerID'], inplace = True)"
   ]
  },
  {
   "cell_type": "code",
   "execution_count": 33,
   "metadata": {},
   "outputs": [
    {
     "name": "stdout",
     "output_type": "stream",
     "text": [
      "<class 'pandas.core.frame.DataFrame'>\n",
      "Index: 7043 entries, 7590-VHVEG to 3186-AJIEK\n",
      "Data columns (total 19 columns):\n",
      " #   Column            Non-Null Count  Dtype  \n",
      "---  ------            --------------  -----  \n",
      " 0   Type              7043 non-null   object \n",
      " 1   PaperlessBilling  7043 non-null   object \n",
      " 2   PaymentMethod     7043 non-null   object \n",
      " 3   MonthlyCharges    7043 non-null   float64\n",
      " 4   TotalCharges      7043 non-null   float64\n",
      " 5   usage_time        7043 non-null   int64  \n",
      " 6   label             7043 non-null   int64  \n",
      " 7   gender            7043 non-null   object \n",
      " 8   SeniorCitizen     7043 non-null   int64  \n",
      " 9   Partner           7043 non-null   object \n",
      " 10  Dependents        7043 non-null   object \n",
      " 11  MultipleLines     6361 non-null   object \n",
      " 12  InternetService   5517 non-null   object \n",
      " 13  OnlineSecurity    5517 non-null   object \n",
      " 14  OnlineBackup      5517 non-null   object \n",
      " 15  DeviceProtection  5517 non-null   object \n",
      " 16  TechSupport       5517 non-null   object \n",
      " 17  StreamingTV       5517 non-null   object \n",
      " 18  StreamingMovies   5517 non-null   object \n",
      "dtypes: float64(2), int64(3), object(14)\n",
      "memory usage: 1.1+ MB\n"
     ]
    }
   ],
   "source": [
    "df.info()"
   ]
  },
  {
   "cell_type": "markdown",
   "metadata": {},
   "source": [
    "У части клиентов нет данных об интеренет услугах, у части - об услугах телефонной связи (подключен ли к нескольким линиям одновременно). Видимо, они не пользуются этими услугами. \n",
    "Посмотрю, что пользуется обоими типами услуг, а кто - только одним из типов."
   ]
  },
  {
   "cell_type": "code",
   "execution_count": 34,
   "metadata": {},
   "outputs": [],
   "source": [
    "phone_inet = \\\n",
    "set(data['phone']['customerID'].values) & set(data['internet']['customerID'].values)\n",
    "phone = set(data['phone']['customerID'].values) - phone_inet\n",
    "inet = set(data['internet']['customerID'].values) - phone_inet"
   ]
  },
  {
   "cell_type": "code",
   "execution_count": 35,
   "metadata": {},
   "outputs": [
    {
     "name": "stdout",
     "output_type": "stream",
     "text": [
      "Пользуются и телефоном и интернетом 4835\n",
      "Пользуются только телефоном 1526\n",
      "Пользуются только интернетом 682\n",
      "Всего пользователей 7043\n"
     ]
    }
   ],
   "source": [
    "print('Пользуются и телефоном и интернетом', len(phone_inet))\n",
    "print('Пользуются только телефоном', len(phone))\n",
    "print('Пользуются только интернетом', len(inet))\n",
    "print('Всего пользователей', len(phone_inet) + len(phone) + len(inet))"
   ]
  },
  {
   "cell_type": "code",
   "execution_count": 36,
   "metadata": {},
   "outputs": [
    {
     "name": "stdout",
     "output_type": "stream",
     "text": [
      "Только телефон, доля ушедших 0.08\n",
      "Только интернет, доля ушедших 0.33\n",
      "Оба типа услуг, доля ушедших 0.49\n",
      "Все клиенты, доля ушедших 0.36\n"
     ]
    }
   ],
   "source": [
    "print('Только телефон, доля ушедших', round(df.loc[phone, 'label'].value_counts()[1] / df.loc[phone, 'label'].value_counts()[0], 2))\n",
    "print('Только интернет, доля ушедших', round(df.loc[inet, 'label'].value_counts()[1] / df.loc[inet, 'label'].value_counts()[0], 2))\n",
    "print('Оба типа услуг, доля ушедших', round(df.loc[phone_inet, 'label'].value_counts()[1] / df.loc[phone_inet, 'label'].value_counts()[0], 2))\n",
    "print('Все клиенты, доля ушедших', round(df['label'].value_counts()[1] / df['label'].value_counts()[0], 2))"
   ]
  },
  {
   "cell_type": "markdown",
   "metadata": {},
   "source": [
    "Меньше всего уходят клиенты, использующие только телефон. Больше всего - использующие обе услуги. Возможно, эти пользователи наиболее активны и требовательны."
   ]
  },
  {
   "cell_type": "markdown",
   "metadata": {},
   "source": [
    "Вообще, есть три группы пользователей, которые, возможно, отличаются предпочтениями, требованиями и поведением. Особенно выделяются те, кто пользуется только стационарным телефоном. Возможно, для каждой группы нужно делать свою модель. Но одельные группы немногочисленны и успех сомнителен."
   ]
  },
  {
   "cell_type": "code",
   "execution_count": 37,
   "metadata": {},
   "outputs": [],
   "source": [
    "categorical_features = []\n",
    "for col in df.columns:\n",
    "    if df[col].dtype == 'O':\n",
    "        categorical_features.append(col)"
   ]
  },
  {
   "cell_type": "code",
   "execution_count": 38,
   "metadata": {},
   "outputs": [
    {
     "data": {
      "text/plain": [
       "['Type',\n",
       " 'PaperlessBilling',\n",
       " 'PaymentMethod',\n",
       " 'gender',\n",
       " 'Partner',\n",
       " 'Dependents',\n",
       " 'MultipleLines',\n",
       " 'InternetService',\n",
       " 'OnlineSecurity',\n",
       " 'OnlineBackup',\n",
       " 'DeviceProtection',\n",
       " 'TechSupport',\n",
       " 'StreamingTV',\n",
       " 'StreamingMovies']"
      ]
     },
     "execution_count": 38,
     "metadata": {},
     "output_type": "execute_result"
    }
   ],
   "source": [
    "categorical_features"
   ]
  },
  {
   "cell_type": "code",
   "execution_count": 39,
   "metadata": {},
   "outputs": [],
   "source": [
    "categorical_features.append('SeniorCitizen')"
   ]
  },
  {
   "cell_type": "code",
   "execution_count": 40,
   "metadata": {},
   "outputs": [
    {
     "data": {
      "text/plain": [
       "0"
      ]
     },
     "execution_count": 40,
     "metadata": {},
     "output_type": "execute_result"
    }
   ],
   "source": [
    "12 % 3"
   ]
  },
  {
   "cell_type": "code",
   "execution_count": 41,
   "metadata": {
    "scrolled": false
   },
   "outputs": [
    {
     "data": {
      "image/png": "[encoded data removed]",
      "text/plain": [
       "<Figure size 720x1008 with 15 Axes>"
      ]
     },
     "metadata": {},
     "output_type": "display_data"
    }
   ],
   "source": [
    "fig, axs = plt.subplots(\n",
    "    (len(categorical_features) // 3) + ((len(categorical_features) % 3) > 0),\n",
    "    3,\n",
    "    figsize = (10,14)\n",
    ")\n",
    "axs.flatten()\n",
    "i = 0\n",
    "for feature in categorical_features:\n",
    "    ax = axs.flatten()[i]\n",
    "    ax.set_title(feature)\n",
    "    sns.countplot(x = df[feature], hue=df['label'], ax=ax)\n",
    "    i += 1\n",
    "plt.tight_layout()\n",
    "plt.show()"
   ]
  },
  {
   "cell_type": "markdown",
   "metadata": {},
   "source": [
    "<h1 style=\"color:SteelBlue; font-size:200%\">Вывод из анализа данных</h1>"
   ]
  },
  {
   "cell_type": "markdown",
   "metadata": {},
   "source": [
    "Данные из состоят из 4 файлов, дублей нет ни в строках, ни в идентификаторах пользователей. Классы разбалансированы (примерно 1 к 3 в пользу 0). \n",
    "\n",
    "Больше всего ушедших клиентов - в последние несколько месяцев, т.е. чаще уходят новые клиенты. Ушедшие клиенты сосредоточены больше в зоне высоких месячных платежей. Средние месячные платежи в группе ушедших клиентов ниже, а средние годовые - выше (p = 0.0 < alpha = 0.05). \n",
    "\n",
    "В выборке есть пользователи только телефона, только интернета и обоих типов услуг. Меньше всего уходят клиенты, использующие только телефон. Больше всего - использующие обе услуги. \n",
    "\n",
    "Похоже, уходящие клиенты - это довольно современные люди, которые пользуются электронными чеками и платят ежемесячно. Среди них большинство подключено по оптоволокну и не пользуется услугами Security, BackUp, Protection, Support. А вот по признакам StreamingTV и StreamingMovies серьёзных отличий не видно. Что интересно, доля ушедших клиентов среди пожилых крайне высока, почти половина."
   ]
  },
  {
   "cell_type": "markdown",
   "metadata": {},
   "source": [
    "<h1 style=\"color:SteelBlue; font-size:200%\">План решения задачи</h1>"
   ]
  },
  {
   "cell_type": "markdown",
   "metadata": {},
   "source": [
    "1. Feature engineering (при необходимости) \n",
    "2. Разбиение выборки на тренировочную и тестовую\n",
    "3. Создание нескольких вариантов pipeline (imputer+encoder+model). \n",
    "Предполагаю начать с бустинга на решающих деревьях (XGBoost, CatBoost, LightGBM). Тогда imputer - самые частые значения, нехарактерные значения или без заполнения. Encoder - какой-то вариант из category_encoders: TargetEncoder, OrdinalEncoder, CountEncoder. Для пользователей только телефона возможна отдельная модель.\n",
    "4. Предварительная настройка гиперпараметров, кросс-валидация pipeline на тренировочной выборке. Подстройка параметров и выбор оптимального pipeline. \n",
    "5. Fine tuning гиперпараметров выбранного pipeline на кросс-валидации.\n",
    "6. Проверка модели на тестовой выборке"
   ]
  },
  {
   "cell_type": "markdown",
   "metadata": {},
   "source": [
    "<h1 style=\"color:SteelBlue; font-size:200%\">2. Машинное обучение</h1>"
   ]
  },
  {
   "cell_type": "markdown",
   "metadata": {},
   "source": [
    "На этапе анализа выяснил, что есть 3 группы пользователей: те, кто пользуется только телефоном, только интеренетом и тем и другим. Добавлю соответствующие метки и подготовлю матрицу признаков и вектор целевой переменной."
   ]
  },
  {
   "cell_type": "code",
   "execution_count": 42,
   "metadata": {},
   "outputs": [],
   "source": [
    "df.loc[:, 'use_services'] = 'phone_inet'\n",
    "df.loc[phone, 'use_services'] = 'phone'\n",
    "df.loc[inet, 'use_services'] = 'inet'"
   ]
  },
  {
   "cell_type": "markdown",
   "metadata": {},
   "source": [
    "Пробовал также категоризовать время жизни пользователя (до 3 мес., 3-12 мес., 12 и более мес.), но это ухудшило метрики. Аналогично - бинаризация payment_method и type. Попытки oversampling с [imbalanced learn](https://imbalanced-learn.readthedocs.io/en/stable/over_sampling.html) также не помогли."
   ]
  },
  {
   "cell_type": "code",
   "execution_count": 43,
   "metadata": {},
   "outputs": [],
   "source": [
    "X,y = df.drop(columns=['label']), df['label']"
   ]
  },
  {
   "cell_type": "code",
   "execution_count": 44,
   "metadata": {},
   "outputs": [
    {
     "data": {
      "text/html": [
       "<div>\n",
       "<style scoped>\n",
       "    .dataframe tbody tr th:only-of-type {\n",
       "        vertical-align: middle;\n",
       "    }\n",
       "\n",
       "    .dataframe tbody tr th {\n",
       "        vertical-align: top;\n",
       "    }\n",
       "\n",
       "    .dataframe thead th {\n",
       "        text-align: right;\n",
       "    }\n",
       "</style>\n",
       "<table border=\"1\" class=\"dataframe\">\n",
       "  <thead>\n",
       "    <tr style=\"text-align: right;\">\n",
       "      <th></th>\n",
       "      <th>Type</th>\n",
       "      <th>PaperlessBilling</th>\n",
       "      <th>PaymentMethod</th>\n",
       "      <th>MonthlyCharges</th>\n",
       "      <th>TotalCharges</th>\n",
       "      <th>usage_time</th>\n",
       "      <th>gender</th>\n",
       "      <th>SeniorCitizen</th>\n",
       "      <th>Partner</th>\n",
       "      <th>Dependents</th>\n",
       "      <th>MultipleLines</th>\n",
       "      <th>InternetService</th>\n",
       "      <th>OnlineSecurity</th>\n",
       "      <th>OnlineBackup</th>\n",
       "      <th>DeviceProtection</th>\n",
       "      <th>TechSupport</th>\n",
       "      <th>StreamingTV</th>\n",
       "      <th>StreamingMovies</th>\n",
       "      <th>use_services</th>\n",
       "    </tr>\n",
       "    <tr>\n",
       "      <th>customerID</th>\n",
       "      <th></th>\n",
       "      <th></th>\n",
       "      <th></th>\n",
       "      <th></th>\n",
       "      <th></th>\n",
       "      <th></th>\n",
       "      <th></th>\n",
       "      <th></th>\n",
       "      <th></th>\n",
       "      <th></th>\n",
       "      <th></th>\n",
       "      <th></th>\n",
       "      <th></th>\n",
       "      <th></th>\n",
       "      <th></th>\n",
       "      <th></th>\n",
       "      <th></th>\n",
       "      <th></th>\n",
       "      <th></th>\n",
       "    </tr>\n",
       "  </thead>\n",
       "  <tbody>\n",
       "    <tr>\n",
       "      <th>7590-VHVEG</th>\n",
       "      <td>Month-to-month</td>\n",
       "      <td>Yes</td>\n",
       "      <td>Electronic check</td>\n",
       "      <td>29.85</td>\n",
       "      <td>29.85</td>\n",
       "      <td>1</td>\n",
       "      <td>Female</td>\n",
       "      <td>0</td>\n",
       "      <td>Yes</td>\n",
       "      <td>No</td>\n",
       "      <td>NaN</td>\n",
       "      <td>DSL</td>\n",
       "      <td>No</td>\n",
       "      <td>Yes</td>\n",
       "      <td>No</td>\n",
       "      <td>No</td>\n",
       "      <td>No</td>\n",
       "      <td>No</td>\n",
       "      <td>inet</td>\n",
       "    </tr>\n",
       "    <tr>\n",
       "      <th>5575-GNVDE</th>\n",
       "      <td>One year</td>\n",
       "      <td>No</td>\n",
       "      <td>Mailed check</td>\n",
       "      <td>56.95</td>\n",
       "      <td>1889.50</td>\n",
       "      <td>34</td>\n",
       "      <td>Male</td>\n",
       "      <td>0</td>\n",
       "      <td>No</td>\n",
       "      <td>No</td>\n",
       "      <td>No</td>\n",
       "      <td>DSL</td>\n",
       "      <td>Yes</td>\n",
       "      <td>No</td>\n",
       "      <td>Yes</td>\n",
       "      <td>No</td>\n",
       "      <td>No</td>\n",
       "      <td>No</td>\n",
       "      <td>phone_inet</td>\n",
       "    </tr>\n",
       "    <tr>\n",
       "      <th>3668-QPYBK</th>\n",
       "      <td>Month-to-month</td>\n",
       "      <td>Yes</td>\n",
       "      <td>Mailed check</td>\n",
       "      <td>53.85</td>\n",
       "      <td>108.15</td>\n",
       "      <td>2</td>\n",
       "      <td>Male</td>\n",
       "      <td>0</td>\n",
       "      <td>No</td>\n",
       "      <td>No</td>\n",
       "      <td>No</td>\n",
       "      <td>DSL</td>\n",
       "      <td>Yes</td>\n",
       "      <td>Yes</td>\n",
       "      <td>No</td>\n",
       "      <td>No</td>\n",
       "      <td>No</td>\n",
       "      <td>No</td>\n",
       "      <td>phone_inet</td>\n",
       "    </tr>\n",
       "    <tr>\n",
       "      <th>7795-CFOCW</th>\n",
       "      <td>One year</td>\n",
       "      <td>No</td>\n",
       "      <td>Bank transfer (automatic)</td>\n",
       "      <td>42.30</td>\n",
       "      <td>1840.75</td>\n",
       "      <td>45</td>\n",
       "      <td>Male</td>\n",
       "      <td>0</td>\n",
       "      <td>No</td>\n",
       "      <td>No</td>\n",
       "      <td>NaN</td>\n",
       "      <td>DSL</td>\n",
       "      <td>Yes</td>\n",
       "      <td>No</td>\n",
       "      <td>Yes</td>\n",
       "      <td>Yes</td>\n",
       "      <td>No</td>\n",
       "      <td>No</td>\n",
       "      <td>inet</td>\n",
       "    </tr>\n",
       "    <tr>\n",
       "      <th>9237-HQITU</th>\n",
       "      <td>Month-to-month</td>\n",
       "      <td>Yes</td>\n",
       "      <td>Electronic check</td>\n",
       "      <td>70.70</td>\n",
       "      <td>151.65</td>\n",
       "      <td>2</td>\n",
       "      <td>Female</td>\n",
       "      <td>0</td>\n",
       "      <td>No</td>\n",
       "      <td>No</td>\n",
       "      <td>No</td>\n",
       "      <td>Fiber optic</td>\n",
       "      <td>No</td>\n",
       "      <td>No</td>\n",
       "      <td>No</td>\n",
       "      <td>No</td>\n",
       "      <td>No</td>\n",
       "      <td>No</td>\n",
       "      <td>phone_inet</td>\n",
       "    </tr>\n",
       "  </tbody>\n",
       "</table>\n",
       "</div>"
      ],
      "text/plain": [
       "                      Type PaperlessBilling              PaymentMethod  \\\n",
       "customerID                                                               \n",
       "7590-VHVEG  Month-to-month              Yes           Electronic check   \n",
       "5575-GNVDE        One year               No               Mailed check   \n",
       "3668-QPYBK  Month-to-month              Yes               Mailed check   \n",
       "7795-CFOCW        One year               No  Bank transfer (automatic)   \n",
       "9237-HQITU  Month-to-month              Yes           Electronic check   \n",
       "\n",
       "            MonthlyCharges  TotalCharges  usage_time  gender  SeniorCitizen  \\\n",
       "customerID                                                                    \n",
       "7590-VHVEG           29.85         29.85           1  Female              0   \n",
       "5575-GNVDE           56.95       1889.50          34    Male              0   \n",
       "3668-QPYBK           53.85        108.15           2    Male              0   \n",
       "7795-CFOCW           42.30       1840.75          45    Male              0   \n",
       "9237-HQITU           70.70        151.65           2  Female              0   \n",
       "\n",
       "           Partner Dependents MultipleLines InternetService OnlineSecurity  \\\n",
       "customerID                                                                   \n",
       "7590-VHVEG     Yes         No           NaN             DSL             No   \n",
       "5575-GNVDE      No         No            No             DSL            Yes   \n",
       "3668-QPYBK      No         No            No             DSL            Yes   \n",
       "7795-CFOCW      No         No           NaN             DSL            Yes   \n",
       "9237-HQITU      No         No            No     Fiber optic             No   \n",
       "\n",
       "           OnlineBackup DeviceProtection TechSupport StreamingTV  \\\n",
       "customerID                                                         \n",
       "7590-VHVEG          Yes               No          No          No   \n",
       "5575-GNVDE           No              Yes          No          No   \n",
       "3668-QPYBK          Yes               No          No          No   \n",
       "7795-CFOCW           No              Yes         Yes          No   \n",
       "9237-HQITU           No               No          No          No   \n",
       "\n",
       "           StreamingMovies use_services  \n",
       "customerID                               \n",
       "7590-VHVEG              No         inet  \n",
       "5575-GNVDE              No   phone_inet  \n",
       "3668-QPYBK              No   phone_inet  \n",
       "7795-CFOCW              No         inet  \n",
       "9237-HQITU              No   phone_inet  "
      ]
     },
     "execution_count": 44,
     "metadata": {},
     "output_type": "execute_result"
    }
   ],
   "source": [
    "X.head()"
   ]
  },
  {
   "cell_type": "markdown",
   "metadata": {},
   "source": [
    "Выделю количественные и категориальные признаки, среди категориальных - бинарные и с большим числом категорий."
   ]
  },
  {
   "cell_type": "code",
   "execution_count": 45,
   "metadata": {},
   "outputs": [
    {
     "name": "stdout",
     "output_type": "stream",
     "text": [
      "Категориальные признаки (бинарные)\n",
      "['PaperlessBilling', 'gender', 'Partner', 'Dependents', 'MultipleLines', 'InternetService', 'OnlineSecurity', 'OnlineBackup', 'DeviceProtection', 'TechSupport', 'StreamingTV', 'StreamingMovies', 'SeniorCitizen'] Всего 13\n"
     ]
    }
   ],
   "source": [
    "binary_features = []\n",
    "for col in X.columns:\n",
    "    if (len(X.loc[~X[col].isna(), col].unique()) == 2) and (X[col].dtype == 'O'):      \n",
    "        binary_features.append(col)\n",
    "binary_features.append('SeniorCitizen')\n",
    "print('Категориальные признаки (бинарные)')\n",
    "print(binary_features, 'Всего', len(binary_features))"
   ]
  },
  {
   "cell_type": "code",
   "execution_count": 46,
   "metadata": {},
   "outputs": [
    {
     "name": "stdout",
     "output_type": "stream",
     "text": [
      "Категориальные признаки (больше 2 категорий):\n",
      "['Type', 'PaymentMethod', 'use_services']\n"
     ]
    }
   ],
   "source": [
    "multicat_features = []\n",
    "for col in X.columns:\n",
    "    if (len(X.loc[~X[col].isna(), col].unique()) > 2) and (X[col].dtype == 'O'):      \n",
    "        multicat_features.append(col)\n",
    "print('Категориальные признаки (больше 2 категорий):')\n",
    "print(multicat_features)"
   ]
  },
  {
   "cell_type": "code",
   "execution_count": 47,
   "metadata": {},
   "outputs": [
    {
     "name": "stdout",
     "output_type": "stream",
     "text": [
      "Количественные признаки:\n",
      "['MonthlyCharges', 'TotalCharges', 'usage_time']\n"
     ]
    }
   ],
   "source": [
    "quantitive_features = []\n",
    "for col in X.columns:\n",
    "    if (len(X.loc[~X[col].isna(), col].unique()) > 2) and (X[col].dtype != 'O'):      \n",
    "        quantitive_features.append(col)\n",
    "print('Количественные признаки:')\n",
    "print(quantitive_features)"
   ]
  },
  {
   "cell_type": "code",
   "execution_count": 48,
   "metadata": {},
   "outputs": [
    {
     "name": "stdout",
     "output_type": "stream",
     "text": [
      "Все категориальные признаки:\n",
      "['PaperlessBilling' 'gender' 'Partner' 'Dependents' 'MultipleLines'\n",
      " 'InternetService' 'OnlineSecurity' 'OnlineBackup' 'DeviceProtection'\n",
      " 'TechSupport' 'StreamingTV' 'StreamingMovies' 'SeniorCitizen' 'Type'\n",
      " 'PaymentMethod' 'use_services'] Всего 16\n"
     ]
    }
   ],
   "source": [
    "cat_features = np.append(binary_features, multicat_features)\n",
    "print('Все категориальные признаки:')\n",
    "print(cat_features, 'Всего', len(cat_features))"
   ]
  },
  {
   "cell_type": "markdown",
   "metadata": {},
   "source": [
    "Пропуски заполню 'missing_value'"
   ]
  },
  {
   "cell_type": "code",
   "execution_count": 49,
   "metadata": {},
   "outputs": [],
   "source": [
    "X = X.fillna('missing_value')"
   ]
  },
  {
   "cell_type": "markdown",
   "metadata": {},
   "source": [
    "Сменю тип категориальных переменных на category."
   ]
  },
  {
   "cell_type": "code",
   "execution_count": 50,
   "metadata": {},
   "outputs": [
    {
     "data": {
      "text/html": [
       "<div>\n",
       "<style scoped>\n",
       "    .dataframe tbody tr th:only-of-type {\n",
       "        vertical-align: middle;\n",
       "    }\n",
       "\n",
       "    .dataframe tbody tr th {\n",
       "        vertical-align: top;\n",
       "    }\n",
       "\n",
       "    .dataframe thead th {\n",
       "        text-align: right;\n",
       "    }\n",
       "</style>\n",
       "<table border=\"1\" class=\"dataframe\">\n",
       "  <thead>\n",
       "    <tr style=\"text-align: right;\">\n",
       "      <th></th>\n",
       "      <th>PaperlessBilling</th>\n",
       "      <th>gender</th>\n",
       "      <th>Partner</th>\n",
       "      <th>Dependents</th>\n",
       "      <th>MultipleLines</th>\n",
       "      <th>InternetService</th>\n",
       "      <th>OnlineSecurity</th>\n",
       "      <th>OnlineBackup</th>\n",
       "      <th>DeviceProtection</th>\n",
       "      <th>TechSupport</th>\n",
       "      <th>StreamingTV</th>\n",
       "      <th>StreamingMovies</th>\n",
       "      <th>SeniorCitizen</th>\n",
       "      <th>Type</th>\n",
       "      <th>PaymentMethod</th>\n",
       "      <th>use_services</th>\n",
       "      <th>MonthlyCharges</th>\n",
       "      <th>TotalCharges</th>\n",
       "      <th>usage_time</th>\n",
       "    </tr>\n",
       "    <tr>\n",
       "      <th>customerID</th>\n",
       "      <th></th>\n",
       "      <th></th>\n",
       "      <th></th>\n",
       "      <th></th>\n",
       "      <th></th>\n",
       "      <th></th>\n",
       "      <th></th>\n",
       "      <th></th>\n",
       "      <th></th>\n",
       "      <th></th>\n",
       "      <th></th>\n",
       "      <th></th>\n",
       "      <th></th>\n",
       "      <th></th>\n",
       "      <th></th>\n",
       "      <th></th>\n",
       "      <th></th>\n",
       "      <th></th>\n",
       "      <th></th>\n",
       "    </tr>\n",
       "  </thead>\n",
       "  <tbody>\n",
       "    <tr>\n",
       "      <th>7590-VHVEG</th>\n",
       "      <td>Yes</td>\n",
       "      <td>Female</td>\n",
       "      <td>Yes</td>\n",
       "      <td>No</td>\n",
       "      <td>missing_value</td>\n",
       "      <td>DSL</td>\n",
       "      <td>No</td>\n",
       "      <td>Yes</td>\n",
       "      <td>No</td>\n",
       "      <td>No</td>\n",
       "      <td>No</td>\n",
       "      <td>No</td>\n",
       "      <td>0</td>\n",
       "      <td>Month-to-month</td>\n",
       "      <td>Electronic check</td>\n",
       "      <td>inet</td>\n",
       "      <td>29.85</td>\n",
       "      <td>29.85</td>\n",
       "      <td>1</td>\n",
       "    </tr>\n",
       "    <tr>\n",
       "      <th>5575-GNVDE</th>\n",
       "      <td>No</td>\n",
       "      <td>Male</td>\n",
       "      <td>No</td>\n",
       "      <td>No</td>\n",
       "      <td>No</td>\n",
       "      <td>DSL</td>\n",
       "      <td>Yes</td>\n",
       "      <td>No</td>\n",
       "      <td>Yes</td>\n",
       "      <td>No</td>\n",
       "      <td>No</td>\n",
       "      <td>No</td>\n",
       "      <td>0</td>\n",
       "      <td>One year</td>\n",
       "      <td>Mailed check</td>\n",
       "      <td>phone_inet</td>\n",
       "      <td>56.95</td>\n",
       "      <td>1889.50</td>\n",
       "      <td>34</td>\n",
       "    </tr>\n",
       "    <tr>\n",
       "      <th>3668-QPYBK</th>\n",
       "      <td>Yes</td>\n",
       "      <td>Male</td>\n",
       "      <td>No</td>\n",
       "      <td>No</td>\n",
       "      <td>No</td>\n",
       "      <td>DSL</td>\n",
       "      <td>Yes</td>\n",
       "      <td>Yes</td>\n",
       "      <td>No</td>\n",
       "      <td>No</td>\n",
       "      <td>No</td>\n",
       "      <td>No</td>\n",
       "      <td>0</td>\n",
       "      <td>Month-to-month</td>\n",
       "      <td>Mailed check</td>\n",
       "      <td>phone_inet</td>\n",
       "      <td>53.85</td>\n",
       "      <td>108.15</td>\n",
       "      <td>2</td>\n",
       "    </tr>\n",
       "    <tr>\n",
       "      <th>7795-CFOCW</th>\n",
       "      <td>No</td>\n",
       "      <td>Male</td>\n",
       "      <td>No</td>\n",
       "      <td>No</td>\n",
       "      <td>missing_value</td>\n",
       "      <td>DSL</td>\n",
       "      <td>Yes</td>\n",
       "      <td>No</td>\n",
       "      <td>Yes</td>\n",
       "      <td>Yes</td>\n",
       "      <td>No</td>\n",
       "      <td>No</td>\n",
       "      <td>0</td>\n",
       "      <td>One year</td>\n",
       "      <td>Bank transfer (automatic)</td>\n",
       "      <td>inet</td>\n",
       "      <td>42.30</td>\n",
       "      <td>1840.75</td>\n",
       "      <td>45</td>\n",
       "    </tr>\n",
       "    <tr>\n",
       "      <th>9237-HQITU</th>\n",
       "      <td>Yes</td>\n",
       "      <td>Female</td>\n",
       "      <td>No</td>\n",
       "      <td>No</td>\n",
       "      <td>No</td>\n",
       "      <td>Fiber optic</td>\n",
       "      <td>No</td>\n",
       "      <td>No</td>\n",
       "      <td>No</td>\n",
       "      <td>No</td>\n",
       "      <td>No</td>\n",
       "      <td>No</td>\n",
       "      <td>0</td>\n",
       "      <td>Month-to-month</td>\n",
       "      <td>Electronic check</td>\n",
       "      <td>phone_inet</td>\n",
       "      <td>70.70</td>\n",
       "      <td>151.65</td>\n",
       "      <td>2</td>\n",
       "    </tr>\n",
       "  </tbody>\n",
       "</table>\n",
       "</div>"
      ],
      "text/plain": [
       "           PaperlessBilling  gender Partner Dependents  MultipleLines  \\\n",
       "customerID                                                              \n",
       "7590-VHVEG              Yes  Female     Yes         No  missing_value   \n",
       "5575-GNVDE               No    Male      No         No             No   \n",
       "3668-QPYBK              Yes    Male      No         No             No   \n",
       "7795-CFOCW               No    Male      No         No  missing_value   \n",
       "9237-HQITU              Yes  Female      No         No             No   \n",
       "\n",
       "           InternetService OnlineSecurity OnlineBackup DeviceProtection  \\\n",
       "customerID                                                                \n",
       "7590-VHVEG             DSL             No          Yes               No   \n",
       "5575-GNVDE             DSL            Yes           No              Yes   \n",
       "3668-QPYBK             DSL            Yes          Yes               No   \n",
       "7795-CFOCW             DSL            Yes           No              Yes   \n",
       "9237-HQITU     Fiber optic             No           No               No   \n",
       "\n",
       "           TechSupport StreamingTV StreamingMovies SeniorCitizen  \\\n",
       "customerID                                                         \n",
       "7590-VHVEG          No          No              No             0   \n",
       "5575-GNVDE          No          No              No             0   \n",
       "3668-QPYBK          No          No              No             0   \n",
       "7795-CFOCW         Yes          No              No             0   \n",
       "9237-HQITU          No          No              No             0   \n",
       "\n",
       "                      Type              PaymentMethod use_services  \\\n",
       "customerID                                                           \n",
       "7590-VHVEG  Month-to-month           Electronic check         inet   \n",
       "5575-GNVDE        One year               Mailed check   phone_inet   \n",
       "3668-QPYBK  Month-to-month               Mailed check   phone_inet   \n",
       "7795-CFOCW        One year  Bank transfer (automatic)         inet   \n",
       "9237-HQITU  Month-to-month           Electronic check   phone_inet   \n",
       "\n",
       "            MonthlyCharges  TotalCharges  usage_time  \n",
       "customerID                                            \n",
       "7590-VHVEG           29.85         29.85           1  \n",
       "5575-GNVDE           56.95       1889.50          34  \n",
       "3668-QPYBK           53.85        108.15           2  \n",
       "7795-CFOCW           42.30       1840.75          45  \n",
       "9237-HQITU           70.70        151.65           2  "
      ]
     },
     "execution_count": 50,
     "metadata": {},
     "output_type": "execute_result"
    }
   ],
   "source": [
    "X = X[cat_features].astype('category').join(X[quantitive_features])\n",
    "X.head()"
   ]
  },
  {
   "cell_type": "code",
   "execution_count": 51,
   "metadata": {},
   "outputs": [],
   "source": [
    "X_train, X_test, y_train, y_test = train_test_split(X, y, test_size = 0.15, stratify=y, random_state=27)"
   ]
  },
  {
   "cell_type": "markdown",
   "metadata": {},
   "source": [
    "Попробую обучить Catboost, LGBM, XGBoost, RandomForest, ExtraTrees, KNN и Logistic Regression. Попробую стек этих моделей."
   ]
  },
  {
   "cell_type": "code",
   "execution_count": 52,
   "metadata": {},
   "outputs": [],
   "source": [
    "cv_params = {'max_depth': 3,\n",
    "             'eta': 0.1,\n",
    "             'n_estimators': 300,\n",
    "             'subsample': .8,\n",
    "             'loss_function': 'Logloss',\n",
    "             'eval_metric': 'AUC',\n",
    "             'random_state': 27,\n",
    "             'auto_class_weights': 'SqrtBalanced',\n",
    "             'verbose':0}\n",
    "\n",
    "cv_dataset = Pool(data=X_train, label=y_train, cat_features = cat_features)\n",
    "\n",
    "# scores = cv(cv_dataset,\n",
    "#             cv_params,\n",
    "#             stratified = True,\n",
    "#             fold_count=5,\n",
    "#             plot=\"True\")"
   ]
  },
  {
   "cell_type": "code",
   "execution_count": 53,
   "metadata": {},
   "outputs": [
    {
     "data": {
      "text/plain": [
       "array([0.85518153, 0.86455091, 0.86692282, 0.86441139, 0.84069938])"
      ]
     },
     "execution_count": 53,
     "metadata": {},
     "output_type": "execute_result"
    }
   ],
   "source": [
    "cb_params = {'max_depth': 3,\n",
    "             'eta': 0.1,\n",
    "             'n_estimators': 300,\n",
    "             'subsample': .8,\n",
    "             'loss_function': 'Logloss',\n",
    "             'eval_metric': 'AUC',\n",
    "             'auto_class_weights': 'SqrtBalanced',\n",
    "             'cat_features': cat_features,\n",
    "             'random_state': 27,\n",
    "             'verbose':0}\n",
    "\n",
    "cb_model = CatBoostClassifier(**cb_params)\n",
    "cross_val_score(cb_model, X_train, y_train, scoring='roc_auc')"
   ]
  },
  {
   "cell_type": "code",
   "execution_count": 54,
   "metadata": {},
   "outputs": [
    {
     "data": {
      "text/plain": [
       "array([0.85504038, 0.86510006, 0.86091435, 0.85481465, 0.83571659])"
      ]
     },
     "execution_count": 54,
     "metadata": {},
     "output_type": "execute_result"
    }
   ],
   "source": [
    "lgbm_params = {'num_leaves': 6,\n",
    "               'n_estimators': 300,\n",
    "               'learning_rate':0.1,\n",
    "               'metric': 'AUC', \n",
    "               'random_state': 27}\n",
    "\n",
    "lgb_model = LGBMClassifier(**lgbm_params)\n",
    "\n",
    "cross_val_score(lgb_model, X_train, y_train, scoring='roc_auc')"
   ]
  },
  {
   "cell_type": "code",
   "execution_count": 55,
   "metadata": {},
   "outputs": [
    {
     "data": {
      "text/plain": [
       "array([0.85395405, 0.86548823, 0.86193216, 0.85930446, 0.83850911])"
      ]
     },
     "execution_count": 55,
     "metadata": {},
     "output_type": "execute_result"
    }
   ],
   "source": [
    "ct_xgb = ColumnTransformer([\n",
    "    (\"bin_encoder\", OrdinalEncoder(), binary_features),\n",
    "    (\"mul_encoder\", OrdinalEncoder(), multicat_features),\n",
    "    (\"scaler\", StandardScaler(), quantitive_features)\n",
    "                       ])\n",
    "\n",
    "w1 = 0.7\n",
    "w_array = np.array([1]*y_train.shape[0])\n",
    "w_array[y_train==1] = w1\n",
    "w_array[y_train==0] = 1- w1\n",
    "\n",
    "xgb_params = {'max_depth': 3,\n",
    "              'eta': 0.05,\n",
    "              'n_estimators': 500,\n",
    "              'subsample': 0.8,\n",
    "              'eval_metric': 'auc',\n",
    "              'random_state': 27,\n",
    "              'use_label_encoder':False\n",
    "             }\n",
    "\n",
    "xgb_model = XGBClassifier(**xgb_params)\n",
    "\n",
    "\n",
    "\n",
    "pipe_xgb = Pipeline(steps = [('transformer', ct_xgb),\n",
    "                             ('model', xgb_model)])\n",
    "\n",
    "cross_val_score(pipe_xgb, X_train, y_train, scoring='roc_auc')"
   ]
  },
  {
   "cell_type": "code",
   "execution_count": 56,
   "metadata": {},
   "outputs": [
    {
     "data": {
      "text/plain": [
       "array([0.85099342, 0.85280944, 0.86270848, 0.86042959, 0.83490644])"
      ]
     },
     "execution_count": 56,
     "metadata": {},
     "output_type": "execute_result"
    }
   ],
   "source": [
    "ct_rf = ColumnTransformer([\n",
    "    (\"bin_encoder\", OrdinalEncoder(), binary_features),\n",
    "    (\"mul_encoder\", OrdinalEncoder(), multicat_features),\n",
    "    (\"scaler\", StandardScaler(), quantitive_features)\n",
    "                       ])\n",
    "\n",
    "rf_model = RandomForestClassifier(class_weight='balanced',\n",
    "                                random_state=27,\n",
    "                                max_depth=6,\n",
    "                                n_estimators=500)\n",
    "\n",
    "pipe_rf = Pipeline(steps = [('transformer', ct_rf),\n",
    "                                ('model', rf_model)])\n",
    "\n",
    "cross_val_score(pipe_rf, X_train, y_train, scoring='roc_auc')"
   ]
  },
  {
   "cell_type": "code",
   "execution_count": 57,
   "metadata": {},
   "outputs": [
    {
     "data": {
      "text/plain": [
       "array([0.84110385, 0.84146686, 0.85620631, 0.8483876 , 0.82539253])"
      ]
     },
     "execution_count": 57,
     "metadata": {},
     "output_type": "execute_result"
    }
   ],
   "source": [
    "ct_et = ColumnTransformer([\n",
    "    (\"bin_encoder\", OrdinalEncoder(), binary_features),\n",
    "    (\"mul_encoder\", OrdinalEncoder(), multicat_features),\n",
    "    (\"scaler\", StandardScaler(), quantitive_features)\n",
    "                       ])\n",
    "\n",
    "et_model = ExtraTreesClassifier(class_weight='balanced',\n",
    "                                random_state=27,\n",
    "                                max_depth=6,\n",
    "                                n_estimators=100)\n",
    "\n",
    "pipe_et = Pipeline(steps = [('transformer', ct_et),\n",
    "                                ('model', et_model)])\n",
    "\n",
    "cross_val_score(pipe_et, X_train, y_train, scoring='roc_auc')"
   ]
  },
  {
   "cell_type": "code",
   "execution_count": 58,
   "metadata": {},
   "outputs": [
    {
     "name": "stderr",
     "output_type": "stream",
     "text": [
      "/opt/conda/lib/python3.8/site-packages/category_encoders/utils.py:21: FutureWarning: is_categorical is deprecated and will be removed in a future version.  Use is_categorical_dtype instead\n",
      "  elif pd.api.types.is_categorical(cols):\n",
      "/opt/conda/lib/python3.8/site-packages/category_encoders/utils.py:21: FutureWarning: is_categorical is deprecated and will be removed in a future version.  Use is_categorical_dtype instead\n",
      "  elif pd.api.types.is_categorical(cols):\n",
      "/opt/conda/lib/python3.8/site-packages/category_encoders/utils.py:21: FutureWarning: is_categorical is deprecated and will be removed in a future version.  Use is_categorical_dtype instead\n",
      "  elif pd.api.types.is_categorical(cols):\n",
      "/opt/conda/lib/python3.8/site-packages/category_encoders/utils.py:21: FutureWarning: is_categorical is deprecated and will be removed in a future version.  Use is_categorical_dtype instead\n",
      "  elif pd.api.types.is_categorical(cols):\n",
      "/opt/conda/lib/python3.8/site-packages/category_encoders/utils.py:21: FutureWarning: is_categorical is deprecated and will be removed in a future version.  Use is_categorical_dtype instead\n",
      "  elif pd.api.types.is_categorical(cols):\n"
     ]
    },
    {
     "data": {
      "text/plain": [
       "array([0.8339444 , 0.83267328, 0.85068975, 0.84740736, 0.8236145 ])"
      ]
     },
     "execution_count": 58,
     "metadata": {},
     "output_type": "execute_result"
    }
   ],
   "source": [
    "ct_knn = ColumnTransformer([\n",
    "    (\"bin_encoder\", OrdinalEncoder(), binary_features),\n",
    "    (\"mul_encoder\", OneHotEncoder(), multicat_features),\n",
    "    (\"scaler\", StandardScaler(), quantitive_features)\n",
    "                       ])\n",
    "\n",
    "knn_model = KNeighborsClassifier(n_neighbors=200, weights='uniform')\n",
    "\n",
    "pipe_knn = Pipeline(steps = [('transformer', ct_knn),\n",
    "                                ('model', knn_model)])\n",
    "\n",
    "cross_val_score(pipe_knn, X_train, y_train, scoring='roc_auc')"
   ]
  },
  {
   "cell_type": "code",
   "execution_count": 59,
   "metadata": {},
   "outputs": [
    {
     "name": "stderr",
     "output_type": "stream",
     "text": [
      "/opt/conda/lib/python3.8/site-packages/category_encoders/utils.py:21: FutureWarning: is_categorical is deprecated and will be removed in a future version.  Use is_categorical_dtype instead\n",
      "  elif pd.api.types.is_categorical(cols):\n",
      "/opt/conda/lib/python3.8/site-packages/category_encoders/utils.py:21: FutureWarning: is_categorical is deprecated and will be removed in a future version.  Use is_categorical_dtype instead\n",
      "  elif pd.api.types.is_categorical(cols):\n",
      "/opt/conda/lib/python3.8/site-packages/category_encoders/utils.py:21: FutureWarning: is_categorical is deprecated and will be removed in a future version.  Use is_categorical_dtype instead\n",
      "  elif pd.api.types.is_categorical(cols):\n",
      "/opt/conda/lib/python3.8/site-packages/category_encoders/utils.py:21: FutureWarning: is_categorical is deprecated and will be removed in a future version.  Use is_categorical_dtype instead\n",
      "  elif pd.api.types.is_categorical(cols):\n",
      "/opt/conda/lib/python3.8/site-packages/category_encoders/utils.py:21: FutureWarning: is_categorical is deprecated and will be removed in a future version.  Use is_categorical_dtype instead\n",
      "  elif pd.api.types.is_categorical(cols):\n"
     ]
    },
    {
     "data": {
      "text/plain": [
       "array([0.84575293, 0.85035167, 0.85390416, 0.85609719, 0.83453721])"
      ]
     },
     "execution_count": 59,
     "metadata": {},
     "output_type": "execute_result"
    }
   ],
   "source": [
    "ct_logreg = ColumnTransformer([\n",
    "    (\"bin_encoder\", OrdinalEncoder(), binary_features),\n",
    "    (\"mul_encoder\", OneHotEncoder(), multicat_features),\n",
    "    (\"scaler\", StandardScaler(), quantitive_features)\n",
    "                       ])\n",
    "logreg = LogisticRegression(solver='liblinear',\n",
    "                                max_iter=10000, \n",
    "                                C=0.7, \n",
    "                                class_weight = 'balanced',\n",
    "                                random_state = 27\n",
    "                               )\n",
    "pipe_logreg = Pipeline(steps = [('transformer', ct_logreg),\n",
    "                                ('model', logreg)])\n",
    "\n",
    "cross_val_score(pipe_logreg, X_train, y_train, scoring='roc_auc')"
   ]
  },
  {
   "cell_type": "markdown",
   "metadata": {},
   "source": [
    "Теперь попробую стек моделей. Обучающую выборку разобью пополам, на первой половине обучу модели и предскажу целевой признак для второй половины. На предсказаниях и целевом признаке второй половины выборки обучу мета-модель. Предскажу целевые переменные для теста и метамоделью сделаю финальный прогноз."
   ]
  },
  {
   "cell_type": "code",
   "execution_count": 60,
   "metadata": {},
   "outputs": [],
   "source": [
    "models_list = [cb_model, lgb_model, pipe_xgb, pipe_rf, pipe_et, pipe_knn, pipe_logreg]"
   ]
  },
  {
   "cell_type": "code",
   "execution_count": 61,
   "metadata": {},
   "outputs": [],
   "source": [
    "X_meta_1, X_meta_2, y_meta_1, y_meta_train = train_test_split(X_train, y_train,\n",
    "                                                       stratify = y_train,\n",
    "                                                       test_size = 0.5,\n",
    "                                                       random_state = 27)"
   ]
  },
  {
   "cell_type": "code",
   "execution_count": 62,
   "metadata": {},
   "outputs": [
    {
     "name": "stderr",
     "output_type": "stream",
     "text": [
      "/opt/conda/lib/python3.8/site-packages/category_encoders/utils.py:21: FutureWarning: is_categorical is deprecated and will be removed in a future version.  Use is_categorical_dtype instead\n",
      "  elif pd.api.types.is_categorical(cols):\n",
      "/opt/conda/lib/python3.8/site-packages/category_encoders/utils.py:21: FutureWarning: is_categorical is deprecated and will be removed in a future version.  Use is_categorical_dtype instead\n",
      "  elif pd.api.types.is_categorical(cols):\n"
     ]
    }
   ],
   "source": [
    "meta_features_train = []\n",
    "for model in models_list:\n",
    "    model.fit(X_meta_1, y_meta_1)\n",
    "    meta_features_train.append(model.predict_proba(X_meta_2)[:, 1])"
   ]
  },
  {
   "cell_type": "code",
   "execution_count": 63,
   "metadata": {},
   "outputs": [
    {
     "data": {
      "text/html": [
       "<div>\n",
       "<style scoped>\n",
       "    .dataframe tbody tr th:only-of-type {\n",
       "        vertical-align: middle;\n",
       "    }\n",
       "\n",
       "    .dataframe tbody tr th {\n",
       "        vertical-align: top;\n",
       "    }\n",
       "\n",
       "    .dataframe thead th {\n",
       "        text-align: right;\n",
       "    }\n",
       "</style>\n",
       "<table border=\"1\" class=\"dataframe\">\n",
       "  <thead>\n",
       "    <tr style=\"text-align: right;\">\n",
       "      <th></th>\n",
       "      <th>0</th>\n",
       "      <th>1</th>\n",
       "      <th>2</th>\n",
       "      <th>3</th>\n",
       "      <th>4</th>\n",
       "      <th>5</th>\n",
       "      <th>6</th>\n",
       "    </tr>\n",
       "  </thead>\n",
       "  <tbody>\n",
       "    <tr>\n",
       "      <th>0</th>\n",
       "      <td>0.766520</td>\n",
       "      <td>0.702699</td>\n",
       "      <td>0.758121</td>\n",
       "      <td>0.712145</td>\n",
       "      <td>0.683821</td>\n",
       "      <td>0.415</td>\n",
       "      <td>0.864413</td>\n",
       "    </tr>\n",
       "    <tr>\n",
       "      <th>1</th>\n",
       "      <td>0.110864</td>\n",
       "      <td>0.091615</td>\n",
       "      <td>0.086879</td>\n",
       "      <td>0.214067</td>\n",
       "      <td>0.256383</td>\n",
       "      <td>0.060</td>\n",
       "      <td>0.091977</td>\n",
       "    </tr>\n",
       "    <tr>\n",
       "      <th>2</th>\n",
       "      <td>0.419738</td>\n",
       "      <td>0.163525</td>\n",
       "      <td>0.276012</td>\n",
       "      <td>0.475963</td>\n",
       "      <td>0.480262</td>\n",
       "      <td>0.245</td>\n",
       "      <td>0.519424</td>\n",
       "    </tr>\n",
       "    <tr>\n",
       "      <th>3</th>\n",
       "      <td>0.514196</td>\n",
       "      <td>0.467874</td>\n",
       "      <td>0.451793</td>\n",
       "      <td>0.572875</td>\n",
       "      <td>0.676939</td>\n",
       "      <td>0.530</td>\n",
       "      <td>0.644206</td>\n",
       "    </tr>\n",
       "    <tr>\n",
       "      <th>4</th>\n",
       "      <td>0.543573</td>\n",
       "      <td>0.433031</td>\n",
       "      <td>0.367107</td>\n",
       "      <td>0.639057</td>\n",
       "      <td>0.687358</td>\n",
       "      <td>0.595</td>\n",
       "      <td>0.733290</td>\n",
       "    </tr>\n",
       "  </tbody>\n",
       "</table>\n",
       "</div>"
      ],
      "text/plain": [
       "          0         1         2         3         4      5         6\n",
       "0  0.766520  0.702699  0.758121  0.712145  0.683821  0.415  0.864413\n",
       "1  0.110864  0.091615  0.086879  0.214067  0.256383  0.060  0.091977\n",
       "2  0.419738  0.163525  0.276012  0.475963  0.480262  0.245  0.519424\n",
       "3  0.514196  0.467874  0.451793  0.572875  0.676939  0.530  0.644206\n",
       "4  0.543573  0.433031  0.367107  0.639057  0.687358  0.595  0.733290"
      ]
     },
     "execution_count": 63,
     "metadata": {},
     "output_type": "execute_result"
    }
   ],
   "source": [
    "X_meta_train = pd.DataFrame(np.array(meta_features_train).T)\n",
    "X_meta_train.head()"
   ]
  },
  {
   "cell_type": "code",
   "execution_count": 64,
   "metadata": {},
   "outputs": [
    {
     "data": {
      "text/plain": [
       "array([0.88372931, 0.85882519, 0.85490772])"
      ]
     },
     "execution_count": 64,
     "metadata": {},
     "output_type": "execute_result"
    }
   ],
   "source": [
    "meta_model = LogisticRegression(solver='liblinear',\n",
    "                                max_iter=10000, \n",
    "                                C=0.01, \n",
    "                                class_weight = {}\n",
    "                               )\n",
    "\n",
    "cross_val_score(meta_model, X_meta_train, y_meta_train, scoring='roc_auc', cv=3)"
   ]
  },
  {
   "cell_type": "markdown",
   "metadata": {},
   "source": [
    "**В итоге мета-модель показывает результат, аналогичный CatBoost. CatBoost также один из лучших бустингов. Возьму CatBoost в качестве финальной модели.**"
   ]
  },
  {
   "cell_type": "code",
   "execution_count": 65,
   "metadata": {},
   "outputs": [
    {
     "data": {
      "text/plain": [
       "array([0.85469733, 0.86217722, 0.86766516, 0.86681013, 0.84192895])"
      ]
     },
     "execution_count": 65,
     "metadata": {},
     "output_type": "execute_result"
    }
   ],
   "source": [
    "#удаляю признаки с наименьшей feature_importance (результат на кросс-валидации чуть более стабилен)\n",
    "to_drop = ['Partner', 'use_services', 'DeviceProtection', 'Dependents']\n",
    "\n",
    "cat_features_cleaned = list(set(cat_features) - set(to_drop))\n",
    "\n",
    "cb_params = {'max_depth': 3,\n",
    "             'eta': 0.1,\n",
    "             'n_estimators': 300,\n",
    "             'subsample': .8,\n",
    "             'loss_function': 'Logloss',\n",
    "             'eval_metric': 'AUC',\n",
    "             'auto_class_weights': 'SqrtBalanced',\n",
    "             'cat_features': cat_features_cleaned,\n",
    "             'random_state': 27,\n",
    "             'verbose':0}\n",
    "\n",
    "X_train_cleaned = X_train.drop(columns = to_drop)\n",
    "cb_model = CatBoostClassifier(**cb_params)\n",
    "cross_val_score(cb_model, X_train_cleaned, y_train, scoring='roc_auc')"
   ]
  },
  {
   "cell_type": "code",
   "execution_count": 66,
   "metadata": {
    "scrolled": false
   },
   "outputs": [
    {
     "data": {
      "image/png": "[encoded data removed]",
      "text/plain": [
       "<Figure size 576x432 with 1 Axes>"
      ]
     },
     "metadata": {},
     "output_type": "display_data"
    }
   ],
   "source": [
    "cb_model.fit(X_train_cleaned, y_train)\n",
    "y_train_proba = cb_model.predict_proba(X_train_cleaned)\n",
    "plt.figure(figsize=(8, 6))\n",
    "plt.hist(y_train_proba[:,1][y_train==1], density=True, alpha=.5, label='1')\n",
    "plt.hist(y_train_proba[:,1][y_train==0], density=True, alpha=.5, label='0')\n",
    "plt.legend()\n",
    "plt.title('Classes probabilities, catboost')\n",
    "plt.show()"
   ]
  },
  {
   "cell_type": "code",
   "execution_count": 67,
   "metadata": {},
   "outputs": [],
   "source": [
    "y_test_proba = cb_model.predict_proba(X_test.drop(columns=to_drop))"
   ]
  },
  {
   "cell_type": "markdown",
   "metadata": {},
   "source": [
    "Порог предсказания установил 0.4, ориентируясь на пересечение плотностей распределения. Поскольку лучше ошибочно принять клиента за уходящего, чем упустить, немного сместил баланс в сторону recall от precision."
   ]
  },
  {
   "cell_type": "code",
   "execution_count": 68,
   "metadata": {},
   "outputs": [
    {
     "data": {
      "text/html": [
       "<div>\n",
       "<style scoped>\n",
       "    .dataframe tbody tr th:only-of-type {\n",
       "        vertical-align: middle;\n",
       "    }\n",
       "\n",
       "    .dataframe tbody tr th {\n",
       "        vertical-align: top;\n",
       "    }\n",
       "\n",
       "    .dataframe thead th {\n",
       "        text-align: right;\n",
       "    }\n",
       "</style>\n",
       "<table border=\"1\" class=\"dataframe\">\n",
       "  <thead>\n",
       "    <tr style=\"text-align: right;\">\n",
       "      <th></th>\n",
       "      <th>Predicted NO</th>\n",
       "      <th>Predicted YES</th>\n",
       "    </tr>\n",
       "  </thead>\n",
       "  <tbody>\n",
       "    <tr>\n",
       "      <th>Actual NO</th>\n",
       "      <td>611</td>\n",
       "      <td>166</td>\n",
       "    </tr>\n",
       "    <tr>\n",
       "      <th>Actual YES</th>\n",
       "      <td>61</td>\n",
       "      <td>219</td>\n",
       "    </tr>\n",
       "  </tbody>\n",
       "</table>\n",
       "</div>"
      ],
      "text/plain": [
       "            Predicted NO  Predicted YES\n",
       "Actual NO            611            166\n",
       "Actual YES            61            219"
      ]
     },
     "metadata": {},
     "output_type": "display_data"
    },
    {
     "name": "stdout",
     "output_type": "stream",
     "text": [
      "---------------------------report---------------------------\n",
      "\n",
      "               precision    recall  f1-score   support\n",
      "\n",
      "           0       0.91      0.79      0.84       777\n",
      "           1       0.57      0.78      0.66       280\n",
      "\n",
      "    accuracy                           0.79      1057\n",
      "   macro avg       0.74      0.78      0.75      1057\n",
      "weighted avg       0.82      0.79      0.79      1057\n",
      "\n",
      "ROC_AUC: 0.87\n",
      "ACCURACY: 0.79\n"
     ]
    }
   ],
   "source": [
    "threshold = 0.4\n",
    "print_report(y_test, y_test_proba[:, 1], threshold)"
   ]
  },
  {
   "cell_type": "markdown",
   "metadata": {},
   "source": [
    "<h1 style=\"color:SteelBlue; font-size:200%\">Результаты машинного обучения</h1>"
   ]
  },
  {
   "cell_type": "markdown",
   "metadata": {},
   "source": [
    "В машинном обучении рассмотрел 7 классификаторов (Catboost, LGBM, XGBoost, RandomForest, ExtraTrees, KNN и Logistic Regression), а также попробовал стек из них и мета-модель логистической регрессии. \n",
    "\n",
    "Для полноценного стека мало данных. Возможно, на большем количестве данных стек показал бы себя лучше (на одной из кросс-валидаций AUC стека была 0.88). Попытки oversampling с [imbalanced learn](https://imbalanced-learn.org/stable/over_sampling.html#smote-variants) (SMOTE) также ничего не дали.\n",
    "\n",
    "На основе результатов кросс-валидаций классификаторов выбрал CatBoost. На тестовой выборке он показал **ROC_AUC: 0.87 и ACCURACY: 0.79** (при попроге предсказания 0.4). Из 280 уходящих клиентов модель пропустила 61 и ложно сработала на 166. Верно определены 219 уходов.\n",
    "\n",
    "Финальная модель:"
   ]
  },
  {
   "cell_type": "code",
   "execution_count": 69,
   "metadata": {},
   "outputs": [
    {
     "name": "stdout",
     "output_type": "stream",
     "text": [
      "Модель: <catboost.core.CatBoostClassifier object at 0x7f71a092cd90>\n",
      "Количество деревьев: 300\n",
      "Learning rate: 0.10000000149011612\n"
     ]
    },
    {
     "data": {
      "text/html": [
       "<div>\n",
       "<style scoped>\n",
       "    .dataframe tbody tr th:only-of-type {\n",
       "        vertical-align: middle;\n",
       "    }\n",
       "\n",
       "    .dataframe tbody tr th {\n",
       "        vertical-align: top;\n",
       "    }\n",
       "\n",
       "    .dataframe thead th {\n",
       "        text-align: right;\n",
       "    }\n",
       "</style>\n",
       "<table border=\"1\" class=\"dataframe\">\n",
       "  <thead>\n",
       "    <tr style=\"text-align: right;\">\n",
       "      <th></th>\n",
       "      <th>importance</th>\n",
       "    </tr>\n",
       "  </thead>\n",
       "  <tbody>\n",
       "    <tr>\n",
       "      <th>usage_time</th>\n",
       "      <td>31.146041</td>\n",
       "    </tr>\n",
       "    <tr>\n",
       "      <th>Type</th>\n",
       "      <td>24.391729</td>\n",
       "    </tr>\n",
       "    <tr>\n",
       "      <th>MonthlyCharges</th>\n",
       "      <td>12.820498</td>\n",
       "    </tr>\n",
       "    <tr>\n",
       "      <th>TotalCharges</th>\n",
       "      <td>9.006542</td>\n",
       "    </tr>\n",
       "    <tr>\n",
       "      <th>OnlineSecurity</th>\n",
       "      <td>4.142118</td>\n",
       "    </tr>\n",
       "    <tr>\n",
       "      <th>TechSupport</th>\n",
       "      <td>4.132668</td>\n",
       "    </tr>\n",
       "    <tr>\n",
       "      <th>PaymentMethod</th>\n",
       "      <td>3.800028</td>\n",
       "    </tr>\n",
       "    <tr>\n",
       "      <th>InternetService</th>\n",
       "      <td>2.657620</td>\n",
       "    </tr>\n",
       "    <tr>\n",
       "      <th>MultipleLines</th>\n",
       "      <td>1.941720</td>\n",
       "    </tr>\n",
       "    <tr>\n",
       "      <th>PaperlessBilling</th>\n",
       "      <td>1.541842</td>\n",
       "    </tr>\n",
       "    <tr>\n",
       "      <th>StreamingTV</th>\n",
       "      <td>1.155559</td>\n",
       "    </tr>\n",
       "    <tr>\n",
       "      <th>OnlineBackup</th>\n",
       "      <td>1.090601</td>\n",
       "    </tr>\n",
       "    <tr>\n",
       "      <th>gender</th>\n",
       "      <td>0.950878</td>\n",
       "    </tr>\n",
       "    <tr>\n",
       "      <th>SeniorCitizen</th>\n",
       "      <td>0.676406</td>\n",
       "    </tr>\n",
       "    <tr>\n",
       "      <th>StreamingMovies</th>\n",
       "      <td>0.545749</td>\n",
       "    </tr>\n",
       "  </tbody>\n",
       "</table>\n",
       "</div>"
      ],
      "text/plain": [
       "                  importance\n",
       "usage_time         31.146041\n",
       "Type               24.391729\n",
       "MonthlyCharges     12.820498\n",
       "TotalCharges        9.006542\n",
       "OnlineSecurity      4.142118\n",
       "TechSupport         4.132668\n",
       "PaymentMethod       3.800028\n",
       "InternetService     2.657620\n",
       "MultipleLines       1.941720\n",
       "PaperlessBilling    1.541842\n",
       "StreamingTV         1.155559\n",
       "OnlineBackup        1.090601\n",
       "gender              0.950878\n",
       "SeniorCitizen       0.676406\n",
       "StreamingMovies     0.545749"
      ]
     },
     "execution_count": 69,
     "metadata": {},
     "output_type": "execute_result"
    }
   ],
   "source": [
    "print('Модель:', cb_model) \n",
    "print('Количество деревьев:', cb_model.tree_count_)\n",
    "print('Learning rate:', cb_model.learning_rate_)\n",
    "pd.DataFrame(cb_model.feature_importances_, \n",
    "             index = cb_model.feature_names_,\n",
    "             columns = ['importance']).sort_values(by='importance', ascending=False)"
   ]
  },
  {
   "cell_type": "markdown",
   "metadata": {},
   "source": [
    "<h1 style=\"color:SteelBlue; font-size:200%\">Отчёт по работе</h1>"
   ]
  },
  {
   "cell_type": "markdown",
   "metadata": {},
   "source": [
    "Работа и её ключевые шаги в целом соответствуют плану. Сделал лёгкий feature engineering (добавил признак `use services`, попробовал категоризовать время жизни пользователя и бинаризовать `payment_method` и `type`). При проверке значимости признаков и их влияния на метрики выяснил, что все эти признаки и модификации не нужны.\n",
    "\n",
    "Заполнил пропуски значениями `unknown_value`, выборку разбил на тренировочную и тестовую. Чтобы построить метапризнаки тренировочную также разбил на две части. Обучил несколько моделей в рамках отдельных pipeline, на их базе построил метапризнаки и на них обучил метамодель.\n",
    "\n",
    "Предварительную настройку гиперпараметров выполнил при кросс-валидации пайплайнов на тренировочной выборке. По результатам кросс-валидаций выбрал оптимальную модель: `CatBoostClassifier (max_depth': 3, 'eta': 0.1, 'n_estimators': 300, 'subsample': .8, 'loss_function': 'Logloss', 'eval_metric': 'AUC', 'auto_class_weights': 'SqrtBalanced')`\n",
    "\n",
    "Проверил feature importances, удалил малозначимые признаки (`'Partner', 'use_services', 'DeviceProtection', 'Dependents'`). Топ 4 признаков по важности: `usage_time, Type, MonthlyCharges, TotalCharges`. Чтобы сбалансировать точность и полноту настроил порог вероятности для классификации пользователей (выбрал порог 0.4). \n",
    "\n",
    "Протестировал модель на отложенной тестовой выборке. Получил **ROC_AUC: 0.87 и ACCURACY: 0.79** (при пороге предсказания 0.4). Из 280 уходящих клиентов модель пропустила 61 и ложно сработала на 166. Верно определены 219 уходов."
   ]
  }
 ],
 "metadata": {
  "kernelspec": {
   "display_name": "Python 3",
   "language": "python",
   "name": "python3"
  },
  "language_info": {
   "codemirror_mode": {
    "name": "ipython",
    "version": 3
   },
   "file_extension": ".py",
   "mimetype": "text/x-python",
   "name": "python",
   "nbconvert_exporter": "python",
   "pygments_lexer": "ipython3",
   "version": "3.8.6"
  }
 },
 "nbformat": 4,
 "nbformat_minor": 4
}
